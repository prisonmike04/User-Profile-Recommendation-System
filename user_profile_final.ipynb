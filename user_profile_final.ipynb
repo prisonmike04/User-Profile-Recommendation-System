{
  "cells": [
    {
      "cell_type": "markdown",
      "source": [
        "*The Colab notebook outlines a project focused on data processing and analytics using Apache Spark and PySpark. Here's a summary of its content:*\n",
        "\n",
        "**Setup and Installation:**\n",
        "\n",
        "Installation of necessary packages, including Java, Apache Spark, and PySpark.\n",
        "Configuration of environment variables and initialization of a Spark session.\n",
        "\n",
        "**Data Loading and Initial Processing:**\n",
        "\n",
        "Loading a dataset from a JSON file using Spark.\n",
        "Displaying the dataset and its schema for initial inspection.\n",
        "\n",
        "**Data Cleaning and Transformation:**\n",
        "\n",
        "Dropping rows with null values and removing duplicates.\n",
        "Checking for the presence of a specific column (pro) and extracting its nested fields if it exists.\n",
        "Further transformations and selections to prepare the data for analysis.\n",
        "\n",
        "**DataFrame Operations:**\n",
        "\n",
        "Various operations on DataFrames, such as selecting specific columns, filtering data, and handling nested JSON structures.\n",
        "The notebook is structured to perform data ingestion, cleaning, and transformation tasks using Spark, setting the foundation for further analysis or modeling.\n",
        "The detailed steps ensure the data is properly prepared for subsequent stages of the data pipeline."
      ],
      "metadata": {
        "id": "MhiHC7kReWde"
      }
    },
    {
      "cell_type": "code",
      "execution_count": null,
      "metadata": {
        "id": "Q8VvtNaEK-Mu"
      },
      "outputs": [],
      "source": [
        "!pip install -q py4j\n"
      ]
    },
    {
      "cell_type": "markdown",
      "source": [
        "This code sets up and initializes an Apache Spark environment in a Jupyter notebook, enabling data processing and analytics using PySpark. The setup includes installing necessary dependencies, configuring the environment, and initializing a Spark session."
      ],
      "metadata": {
        "id": "jTTqBsjvf-Om"
      }
    },
    {
      "cell_type": "code",
      "execution_count": null,
      "metadata": {
        "colab": {
          "base_uri": "https://localhost:8080/"
        },
        "id": "sEKemy2VP1Cw",
        "outputId": "102da8bb-bfc9-4f82-d0b7-4c88c8515327"
      },
      "outputs": [
        {
          "output_type": "stream",
          "name": "stdout",
          "text": [
            "openjdk version \"11.0.23\" 2024-04-16\n",
            "OpenJDK Runtime Environment (build 11.0.23+9-post-Ubuntu-1ubuntu122.04.1)\n",
            "OpenJDK 64-Bit Server VM (build 11.0.23+9-post-Ubuntu-1ubuntu122.04.1, mixed mode, sharing)\n",
            "/usr/lib/jvm/java-8-openjdk-amd64\n",
            "/content/spark-3.4.1-bin-hadoop3\n",
            "+---+\n",
            "| id|\n",
            "+---+\n",
            "|  0|\n",
            "|  1|\n",
            "|  2|\n",
            "|  3|\n",
            "|  4|\n",
            "+---+\n",
            "\n"
          ]
        }
      ],
      "source": [
        "\n",
        "!apt-get install openjdk-8-jdk-headless -qq > /dev/null\n",
        "\n",
        "!wget -q https://archive.apache.org/dist/spark/spark-3.4.1/spark-3.4.1-bin-hadoop3.tgz\n",
        "!tar xf spark-3.4.1-bin-hadoop3.tgz\n",
        "\n",
        "!pip install -q pyspark\n",
        "\n",
        "import os\n",
        "os.environ[\"JAVA_HOME\"] = \"/usr/lib/jvm/java-8-openjdk-amd64\"\n",
        "os.environ[\"SPARK_HOME\"] = \"/content/spark-3.4.1-bin-hadoop3\"\n",
        "os.environ[\"PATH\"] = os.environ[\"SPARK_HOME\"] + \"/bin:\" + os.environ[\"PATH\"]\n",
        "\n",
        "!java -version\n",
        "!echo $JAVA_HOME\n",
        "!echo $SPARK_HOME\n",
        "\n",
        "from pyspark.sql import SparkSession\n",
        "from pyspark import SparkConf\n",
        "\n",
        "conf = SparkConf() \\\n",
        "    .setAppName(\"User_profile\") \\\n",
        "    .setMaster(\"local[*]\") \\\n",
        "    .set(\"spark.driver.memory\", \"2g\") \\\n",
        "    .set(\"spark.executor.memory\", \"2g\") \\\n",
        "    .set(\"spark.sql.shuffle.partitions\", \"200\") \\\n",
        "    .set(\"spark.driver.maxResultSize\", \"1g\") \\\n",
        "    .set(\"spark.jars.packages\", \"org.apache.spark:spark-sql_2.12:3.4.1\")\n",
        "\n",
        "spark = SparkSession.builder.config(conf=conf).getOrCreate()\n",
        "\n",
        "spark.range(5).show()\n"
      ]
    },
    {
      "cell_type": "markdown",
      "source": [
        "This section of code involves reading a data file into a Spark DataFrame, displaying its contents, and printing its schema to understand the structure of the data."
      ],
      "metadata": {
        "id": "OEXvBfjCgZtD"
      }
    },
    {
      "cell_type": "code",
      "execution_count": null,
      "metadata": {
        "colab": {
          "base_uri": "https://localhost:8080/"
        },
        "id": "ggyvtxQsWobV",
        "outputId": "7819f7c2-3d55-4d0c-90e1-3df3858c938b"
      },
      "outputs": [
        {
          "output_type": "stream",
          "name": "stdout",
          "text": [
            "+--------------------+\n",
            "|                   [|\n",
            "+--------------------+\n",
            "|                   {|\n",
            "|        \"akey\": \"...|\n",
            "|        \"avn\": \"6...|\n",
            "|        \"crmid\": ...|\n",
            "|        \"did\": \"e...|\n",
            "|         \"dtpe\": \"S\"|\n",
            "|        \"evtno\": \"1\"|\n",
            "|        \"idamid\":...|\n",
            "|        \"key\": \"m...|\n",
            "|          \"lat\": \"0\"|\n",
            "|          \"lng\": \"0\"|\n",
            "|        \"logno\": ...|\n",
            "|        \"mnu\": \"O...|\n",
            "|         \"nwk\": \"4G\"|\n",
            "|        \"osv\": \"8...|\n",
            "|           \"pf\": \"A\"|\n",
            "|            \"pro\": {|\n",
            "|            \"HARD...|\n",
            "|            \"avr\"...|\n",
            "|            \"bbc\"...|\n",
            "+--------------------+\n",
            "only showing top 20 rows\n",
            "\n",
            "root\n",
            " |-- [: string (nullable = true)\n",
            "\n"
          ]
        }
      ],
      "source": [
        "\n",
        "\n",
        "\n",
        "df = spark.read.csv('/content/drive/MyDrive/sample_random.json', header=True, inferSchema=True)\n",
        "\n",
        "\n",
        "df.show()\n",
        "df.printSchema()\n"
      ]
    },
    {
      "cell_type": "markdown",
      "source": [
        "This process involves setting up a Spark environment, reading and inspecting JSON data, handling potential data integrity issues, and transforming the data into a more usable format."
      ],
      "metadata": {
        "id": "8QvhlHrCjWBW"
      }
    },
    {
      "cell_type": "code",
      "execution_count": null,
      "metadata": {
        "colab": {
          "base_uri": "https://localhost:8080/"
        },
        "id": "Xg55g8e5d6Fg",
        "outputId": "da67f96e-6ec8-4a57-87af-9e89bd2a2046"
      },
      "outputs": [
        {
          "output_type": "stream",
          "name": "stdout",
          "text": [
            "root\n",
            " |-- akey: string (nullable = true)\n",
            " |-- avn: string (nullable = true)\n",
            " |-- crmid: string (nullable = true)\n",
            " |-- dateflink: string (nullable = true)\n",
            " |-- did: string (nullable = true)\n",
            " |-- dtpe: string (nullable = true)\n",
            " |-- evtno: string (nullable = true)\n",
            " |-- idamid: string (nullable = true)\n",
            " |-- key: string (nullable = true)\n",
            " |-- lat: string (nullable = true)\n",
            " |-- lng: string (nullable = true)\n",
            " |-- logno: string (nullable = true)\n",
            " |-- mnu: string (nullable = true)\n",
            " |-- nwk: string (nullable = true)\n",
            " |-- osv: string (nullable = true)\n",
            " |-- pf: string (nullable = true)\n",
            " |-- pro: struct (nullable = true)\n",
            " |    |-- HARD_CODE_DEVICE_ID: string (nullable = true)\n",
            " |    |-- avr: string (nullable = true)\n",
            " |    |-- bbc: string (nullable = true)\n",
            " |    |-- bbd: string (nullable = true)\n",
            " |    |-- bc: string (nullable = true)\n",
            " |    |-- bd: string (nullable = true)\n",
            " |    |-- bdl: string (nullable = true)\n",
            " |    |-- bufferdetails: string (nullable = true)\n",
            " |    |-- cellid: string (nullable = true)\n",
            " |    |-- cg: string (nullable = true)\n",
            " |    |-- ch: string (nullable = true)\n",
            " |    |-- channel_id: string (nullable = true)\n",
            " |    |-- cl: string (nullable = true)\n",
            " |    |-- codec: string (nullable = true)\n",
            " |    |-- d: string (nullable = true)\n",
            " |    |-- dm: string (nullable = true)\n",
            " |    |-- encryption: string (nullable = true)\n",
            " |    |-- ep: string (nullable = true)\n",
            " |    |-- finish: string (nullable = true)\n",
            " |    |-- index: string (nullable = true)\n",
            " |    |-- isottuser: string (nullable = true)\n",
            " |    |-- jio_id: string (nullable = true)\n",
            " |    |-- keywords: string (nullable = true)\n",
            " |    |-- lac: string (nullable = true)\n",
            " |    |-- n: string (nullable = true)\n",
            " |    |-- opr: string (nullable = true)\n",
            " |    |-- pci: string (nullable = true)\n",
            " |    |-- playback_screen: string (nullable = true)\n",
            " |    |-- player: string (nullable = true)\n",
            " |    |-- pn: string (nullable = true)\n",
            " |    |-- prof: string (nullable = true)\n",
            " |    |-- program_date: string (nullable = true)\n",
            " |    |-- program_time: string (nullable = true)\n",
            " |    |-- prow: string (nullable = true)\n",
            " |    |-- rsrp: string (nullable = true)\n",
            " |    |-- rsrq: string (nullable = true)\n",
            " |    |-- rssi: string (nullable = true)\n",
            " |    |-- rtc: string (nullable = true)\n",
            " |    |-- serial_number: string (nullable = true)\n",
            " |    |-- settype: string (nullable = true)\n",
            " |    |-- show_genre: string (nullable = true)\n",
            " |    |-- source: string (nullable = true)\n",
            " |    |-- ss: string (nullable = true)\n",
            " |    |-- start: string (nullable = true)\n",
            " |    |-- startuptime: string (nullable = true)\n",
            " |    |-- t: string (nullable = true)\n",
            " |    |-- tac: string (nullable = true)\n",
            " |    |-- tac_id: string (nullable = true)\n",
            " |    |-- timestamp: string (nullable = true)\n",
            " |    |-- u: string (nullable = true)\n",
            " |    |-- unique_session_id: string (nullable = true)\n",
            " |    |-- unique_session_timestamp: string (nullable = true)\n",
            " |    |-- watch_time_dock: string (nullable = true)\n",
            " |    |-- watch_time_landscape: string (nullable = true)\n",
            " |    |-- watch_time_pip: string (nullable = true)\n",
            " |    |-- watch_time_portrait: string (nullable = true)\n",
            " |-- rtc: string (nullable = true)\n",
            " |-- sid: string (nullable = true)\n",
            " |-- uid: string (nullable = true)\n",
            " |-- x-forwarded-for: string (nullable = true)\n",
            "\n",
            "+---------+-----+----------+-------------------+------------+----+-----+------------------------------------+------------+---+---+-----+-------+---+-----+---+----------------------------------------------------------------------------------------------------------------------------------------------------------------------------------------------------------------------------------------------------------------------------------------------------------------------------------------------------------------------------------------------------------------------------------------------------------------------------------------------------------------------------------------------------------------------------------------------------------+-------------+----------+----------------+---------------+\n",
            "|akey     |avn  |crmid     |dateflink          |did         |dtpe|evtno|idamid                              |key         |lat|lng|logno|mnu    |nwk|osv  |pf |pro                                                                                                                                                                                                                                                                                                                                                                                                                                                                                                                                                                                                       |rtc          |sid       |uid             |x-forwarded-for|\n",
            "+---------+-----+----------+-------------------+------------+----+-----+------------------------------------+------------+---+---+-----+-------+---+-----+---+----------------------------------------------------------------------------------------------------------------------------------------------------------------------------------------------------------------------------------------------------------------------------------------------------------------------------------------------------------------------------------------------------------------------------------------------------------------------------------------------------------------------------------------------------------------------------------------------------------+-------------+----------+----------------+---------------+\n",
            "|109154002|6.0.8|5280814033|2024-06-03 10:34:05|e807560d8bc2|S   |1    |f5e8d80f-425f-ff76-4d7b-a80f308d12ac|media_access|0  |0  |562  |OPPO   |4G |8.1.0|A  |{c2a0f484-1ecd-930c-0000-a76f3bf9, 0, 0, 0, 0, 0, 0, [], -1, News, ZeeKannada, 103, Kannada, 0, 90, vivo vivo 1801, AES, 76, U, 0, false, 3704681993, [\"News\"], 0.0, ZeeKannada : Program2, Jio 4G, -1, device, Exoplayer, Pavitra+Rishta, H1|H2|H3, 2021-06-02T00:00:00+05:30, 14:00:00, 2, -1, -1, -1, 1717391045271, 210602103, live, [\"News\"], EPG_LIST_CHANNEL, -1, 0, 3541, live, -1, null, Mon Jun 03 10:34:05 GMT+05:30 2024, http%3A%2F%2Fjiotv.live.cdn.jio.com%2FZeeKannada%2FZeeKannada.m3u8, c7e95b1c-2511-d1cf-a98a-c989eeaad74e, 1717103577898, 0.0, 0.0, 0.0, 732}                        |1717391045271|1709343619|00llfqkde3hfiweh|199.163.126.130|\n",
            "|109154002|6.0.8|8344862428|2024-06-04 16:47:22|73da236b2dd9|S   |1    |75b66a4c-6315-464e-39dc-ec467a18af66|media_access|0  |0  |4313 |vivo   |4G |10   |A  |{3296995f-6027-7a3a-0000-170e23d9, 0, 0, 0, 0, 0, 0, [], -1, News, ZeeTVHD, 533, Kannada, 0, 107, OPPO RMX1801, AES, 90, U, 0, false, 4687755139, [\"Drama\"], 0.0, ZeeTVHD : Program1, Jio 4G, -1, device, Exoplayer, Mithai+Kottu+Chittemma, H1|H2|H3, 2021-06-02T00:00:00+05:30, 14:00:00, 1, -1, -1, -1, 1717499842793, 210602533, live, [\"Drama\"], EPG_LIST_CHANNEL, -1, 0, 542, live, -1, null, Tue Jun 04 16:47:22 GMT+05:30 2024, http%3A%2F%2Fjiotv.live.cdn.jio.com%2FZeeTVHD%2FZeeTVHD.m3u8, 131f7c2f-73db-aca4-6495-c8dbcee1ce27, 1717543969017, 0.0, 0.0, 0.0, 802}                            |1717499842793|3702154830|q9mz1q83scpuuuvf|102.218.71.61  |\n",
            "|109154002|6.0.8|8756205690|2024-05-31 19:03:27|4b7a02cda337|S   |1    |51576830-7b33-be1e-b12a-42f295ff24d6|media_access|0  |0  |6267 |OPPO   |4G |9    |A  |{05d3e28a-6ac7-9c65-0000-4cc12ce1, 0, 0, 0, 0, 0, 0, [], -1, News, ZeeAnmol, 474, Assamese, 0, 185, OPPO RMX1801, AES, 35, U, 0, false, 5270117470, [\"News\"], 0.0, ZeeAnmol : Program1, Jio 4G, -1, device, Exoplayer, Afternoon+Express, H1|H2|H3, 2021-06-02T00:00:00+05:30, 14:00:00, 2, -1, -1, -1, 1717162407391, 210602474, live, [\"Drama\"], EPG_LIST_CHANNEL, -1, 0, 4226, live, -1, null, Fri May 31 19:03:27 GMT+05:30 2024, http%3A%2F%2Fjiotv.live.cdn.jio.com%2FZeeAnmol%2FZeeAnmol.m3u8, 6c6ab64d-f0f8-7d70-4832-9f9c069e1b38, 1717121866582, 0.0, 0.0, 0.0, 304}                            |1717162407391|5381321863|lc98xucko80l7z8t|80.111.147.133 |\n",
            "|109154002|6.0.8|4836944596|2024-05-30 13:48:40|9ab27606bdd9|S   |1    |5cd53744-afff-0aec-79a2-c4c9613b015d|media_access|0  |0  |8136 |samsung|4G |9    |A  |{2662e440-8b8a-7095-0000-edacab07, 0, 0, 0, 0, 0, 0, [], -1, News, ZeeTelugu, 260, Assamese, 0, 182, vivo vivo 1801, AES, 80, U, 0, false, 5752768763, [\"News\"], 0.0, ZeeTelugu : Program1, Jio 4G, -1, device, Exoplayer, Punar+Vivaah, H1|H2|H3, 2021-06-02T00:00:00+05:30, 14:00:00, 2, -1, -1, -1, 1717057120641, 210602260, live, [\"News\"], EPG_LIST_CHANNEL, -1, 0, 4243, live, -1, null, Thu May 30 13:48:40 GMT+05:30 2024, http%3A%2F%2Fjiotv.live.cdn.jio.com%2FZeeTelugu%2FZeeTelugu.m3u8, ceae6ba6-a945-8a38-1410-820171ee8328, 1717391120515, 0.0, 0.0, 0.0, 821}                            |1717057120641|3216047272|a7jcoulv2gvvj3vu|78.142.20.154  |\n",
            "|109154002|6.0.8|7412863037|2024-06-04 13:34:48|d42e33fb0af8|S   |1    |b262ddb5-b60e-e022-84ef-bbb7d0e20476|media_access|0  |0  |522  |samsung|4G |9    |A  |{1163d0dd-27ed-b32d-0000-35c7849f, 0, 0, 0, 0, 0, 0, [], -1, News, ZeeAnmol, 420, Hindi, 0, 174, HUAWEI LLD-AL20, AES, 76, U, 0, false, 9990623298, [\"News\"], 0.0, ZeeAnmol : Program2, Jio 4G, -1, device, Exoplayer, Mithai+Kottu+Chittemma, H1|H2|H3, 2021-06-02T00:00:00+05:30, 14:00:00, 2, -1, -1, -1, 1717488288714, 210602420, live, [\"Drama\"], EPG_LIST_CHANNEL, -1, 0, 4938, live, -1, null, Tue Jun 04 13:34:48 GMT+05:30 2024, http%3A%2F%2Fjiotv.live.cdn.jio.com%2FZeeAnmol%2FZeeAnmol.m3u8, 711c7c80-22ea-5e85-7646-75e5f5744e4f, 1717401636198, 0.0, 0.0, 0.0, 767}                       |1717488288714|4279373870|xdmeawznl6f61q8n|75.34.250.16   |\n",
            "|109154002|6.0.8|6397330561|2024-05-31 14:59:57|dd1c4701d538|S   |1    |4505d6e8-c1e6-c3fb-91fc-46c38fcd35f8|media_access|0  |0  |6842 |HUAWEI |4G |9    |A  |{697360ac-52ba-53db-0000-a7c24fc3, 0, 0, 0, 0, 0, 0, [], -1, News, ZeeKannada, 550, Telugu, 0, 77, Xiaomi Redmi 7A, AES, 84, U, 0, false, 7492231975, [\"Politics\"], 0.0, ZeeKannada : Program3, Jio 4G, -1, device, Exoplayer, Mithai+Kottu+Chittemma, H1|H2|H3, 2021-06-02T00:00:00+05:30, 14:00:00, 1, -1, -1, -1, 1717147797123, 210602550, live, [\"News\"], EPG_LIST_CHANNEL, -1, 0, 4036, live, -1, null, Fri May 31 14:59:57 GMT+05:30 2024, http%3A%2F%2Fjiotv.live.cdn.jio.com%2FZeeKannada%2FZeeKannada.m3u8, c1b0c31e-4d3e-a0bb-2429-149e5385e597, 1717025046328, 0.0, 0.0, 0.0, 99}             |1717147797123|7938139507|gahhs6z9omzwjd2q|123.15.139.165 |\n",
            "|109154002|6.0.8|6815437274|2024-05-30 08:52:11|d086dd2134b0|S   |1    |66b42a3d-9354-2344-3d4b-46e5eb745660|media_access|0  |0  |5187 |Xiaomi |4G |8.1.0|A  |{1cfc8fe0-0396-9a30-0000-087d8217, 0, 0, 0, 0, 0, 0, [], -1, Entertainment, ZeeKannada, 350, Kannada, 0, 59, samsung SM-M205F, AES, 25, U, 0, false, 5712201654, [\"Politics\"], 0.0, ZeeKannada : Program2, Jio 4G, -1, device, Exoplayer, Punar+Vivaah, H1|H2|H3, 2021-06-02T00:00:00+05:30, 14:00:00, 3, -1, -1, -1, 1717039331203, 210602350, live, [\"News\"], EPG_LIST_CHANNEL, -1, 0, 4092, live, -1, null, Thu May 30 08:52:11 GMT+05:30 2024, http%3A%2F%2Fjiotv.live.cdn.jio.com%2FZeeKannada%2FZeeKannada.m3u8, bcf26723-c940-111f-fce0-b2cfb550da41, 1717198008385, 0.0, 0.0, 0.0, 179}           |1717039331203|4959360635|al3xhyechbsjnnfk|85.187.142.226 |\n",
            "|109154002|6.0.8|5707084375|2024-06-05 00:44:56|5df860fe7445|S   |1    |58055ab6-aeb3-681e-a5c6-a646ed4d503e|media_access|0  |0  |2230 |vivo   |4G |10   |A  |{77d73a3b-321a-6f54-0000-0c8b5ba7, 0, 0, 0, 0, 0, 0, [], -1, Entertainment, ZeeTVHD, 658, Assamese, 0, 162, samsung SM-M205F, AES, 18, U, 0, false, 6262447818, [\"Politics\"], 0.0, ZeeTVHD : Program1, Jio 4G, -1, device, Exoplayer, Trinayani, H1|H2|H3, 2021-06-02T00:00:00+05:30, 14:00:00, 3, -1, -1, -1, 1717528496508, 210602658, live, [\"News\"], EPG_LIST_CHANNEL, -1, 0, 2739, live, -1, null, Wed Jun 05 00:44:56 GMT+05:30 2024, http%3A%2F%2Fjiotv.live.cdn.jio.com%2FZeeTVHD%2FZeeTVHD.m3u8, ba5b70ae-1769-4888-17e7-c7c5aebdc006, 1717389948181, 0.0, 0.0, 0.0, 147}                        |1717528496508|1865523023|qnkclm839qgcfl67|138.88.229.28  |\n",
            "|109154002|6.0.8|7926247692|2024-05-30 22:47:24|b99920de3f52|S   |1    |d9fa1e0d-754b-b116-743d-8f5bf79ac21e|media_access|0  |0  |7702 |samsung|4G |8.1.0|A  |{2d7561b4-c419-28c6-0000-e52e6f41, 0, 0, 0, 0, 0, 0, [], -1, News, ZeeTVHD, 287, Hindi, 0, 128, samsung SM-M205F, AES, 98, U, 0, false, 2210692428, [\"News\"], 0.0, ZeeTVHD : Program3, Jio 4G, -1, device, Exoplayer, Pavitra+Rishta, H1|H2|H3, 2021-06-02T00:00:00+05:30, 14:00:00, 3, -1, -1, -1, 1717089444240, 210602287, live, [\"Drama\"], EPG_LIST_CHANNEL, -1, 0, 3709, live, -1, null, Thu May 30 22:47:24 GMT+05:30 2024, http%3A%2F%2Fjiotv.live.cdn.jio.com%2FZeeTVHD%2FZeeTVHD.m3u8, 9f899425-1e2c-7268-b9f1-eb34d91a6f96, 1717234131294, 0.0, 0.0, 0.0, 678}                                  |1717089444240|2607727740|11gz136ylk30jw7s|230.230.3.89   |\n",
            "|109154002|6.0.8|4154998109|2024-05-31 11:15:55|d907e360039d|S   |1    |01d1c7f0-3788-07a4-2589-fc9a33de9f9e|media_access|0  |0  |9689 |OPPO   |4G |9    |A  |{793cbf2b-7f6e-1a17-0000-e18ebfb5, 0, 0, 0, 0, 0, 0, [], -1, Entertainment, AajTak, 226, Hindi, 0, 148, samsung SM-M205F, AES, 52, U, 0, false, 6941008259, [\"Politics\"], 0.0, AajTak : Program2, Jio 4G, -1, device, Exoplayer, News, H1|H2|H3, 2021-06-02T00:00:00+05:30, 14:00:00, 2, -1, -1, -1, 1717134355907, 210602226, live, [\"News\"], EPG_LIST_CHANNEL, -1, 0, 3808, live, -1, null, Fri May 31 11:15:55 GMT+05:30 2024, http%3A%2F%2Fjiotv.live.cdn.jio.com%2FAajTak%2FAajTak.m3u8, b7aabbfe-9241-0457-0ee5-46b5ae931967, 1717232922793, 0.0, 0.0, 0.0, 837}                                    |1717134355907|6138760143|thg8qusdyret754f|84.211.21.255  |\n",
            "|109154002|6.0.8|9497383869|2024-06-02 09:50:52|10ccb5807b1c|S   |1    |0553f359-02b8-cecd-6aa0-3a9fcebbf71d|media_access|0  |0  |4659 |OPPO   |4G |8.1.0|A  |{0abd5672-05e8-4333-0000-eec6c8d2, 0, 0, 0, 0, 0, 0, [], -1, News, News18Assam, 275, Hindi, 0, 50, HUAWEI LLD-AL20, AES, 99, U, 0, false, 7212083758, [\"News\"], 0.0, News18Assam : Program2, Jio 4G, -1, device, Exoplayer, Afternoon+Express, H1|H2|H3, 2021-06-02T00:00:00+05:30, 14:00:00, 2, -1, -1, -1, 1717302052461, 210602275, live, [\"Drama\"], EPG_LIST_CHANNEL, -1, 0, 701, live, -1, null, Sun Jun 02 09:50:52 GMT+05:30 2024, http%3A%2F%2Fjiotv.live.cdn.jio.com%2FNews18Assam%2FNews18Assam.m3u8, 0728db93-ec9e-cc9a-2b57-39f467875154, 1717591415948, 0.0, 0.0, 0.0, 88}                   |1717302052461|8223968721|bi5z2vp70mbsozau|225.189.244.235|\n",
            "|109154002|6.0.8|7362514332|2024-06-02 23:49:15|77cb653d0264|S   |1    |4186044c-9729-2dcf-22e8-9ed8d1982d27|media_access|0  |0  |6510 |OPPO   |4G |8.1.0|A  |{779dfeff-5d1a-444b-0000-af7a315f, 0, 0, 0, 0, 0, 0, [], -1, Entertainment, AajTak, 213, Assamese, 0, 99, Xiaomi Redmi 7A, AES, 77, U, 0, false, 7197300683, [\"Drama\"], 0.0, AajTak : Program3, Jio 4G, -1, device, Exoplayer, Afternoon+Express, H1|H2|H3, 2021-06-02T00:00:00+05:30, 14:00:00, 3, -1, -1, -1, 1717352355071, 210602213, live, [\"News\"], EPG_LIST_CHANNEL, -1, 0, 1279, live, -1, null, Sun Jun 02 23:49:15 GMT+05:30 2024, http%3A%2F%2Fjiotv.live.cdn.jio.com%2FAajTak%2FAajTak.m3u8, 922f7a45-8693-919b-47a5-1559ccd95b33, 1717164057242, 0.0, 0.0, 0.0, 37}                          |1717352355071|9423347158|j0xjlgtnku1tn493|133.183.28.255 |\n",
            "|109154002|6.0.8|2384690764|2024-05-30 05:24:39|5754d04d22c3|S   |1    |553a9066-d083-5285-9625-53b961b6f2e1|media_access|0  |0  |1101 |vivo   |4G |9    |A  |{bf3566f0-89b9-48f9-0000-baa051d9, 0, 0, 0, 0, 0, 0, [], -1, News, ZeeKannada, 372, Kannada, 0, 146, OPPO RMX1801, AES, 14, U, 0, false, 5339730029, [\"Politics\"], 0.0, ZeeKannada : Program1, Jio 4G, -1, device, Exoplayer, Trinayani, H1|H2|H3, 2021-06-02T00:00:00+05:30, 14:00:00, 1, -1, -1, -1, 1717026879988, 210602372, live, [\"Drama\"], EPG_LIST_CHANNEL, -1, 0, 1731, live, -1, null, Thu May 30 05:24:39 GMT+05:30 2024, http%3A%2F%2Fjiotv.live.cdn.jio.com%2FZeeKannada%2FZeeKannada.m3u8, 1aefccef-ef38-41e4-0724-356dbbc9d915, 1717526812968, 0.0, 0.0, 0.0, 20}                          |1717026879988|4867293011|bfu7w9bj2dfub6n9|106.22.215.131 |\n",
            "|109154002|6.0.8|3191315730|2024-06-05 10:14:27|23201426ce77|S   |1    |157e3a0f-e178-b433-2f83-06e9da2c272c|media_access|0  |0  |4549 |Xiaomi |4G |8.1.0|A  |{488c6a50-a2e4-4fdb-0000-73ed037c, 0, 0, 0, 0, 0, 0, [], -1, Entertainment, News18Assam, 466, Telugu, 0, 159, vivo vivo 1801, AES, 96, U, 0, false, 2948862464, [\"Politics\"], 0.0, News18Assam : Program2, Jio 4G, -1, device, Exoplayer, Mithai+Kottu+Chittemma, H1|H2|H3, 2021-06-02T00:00:00+05:30, 14:00:00, 2, -1, -1, -1, 1717562667423, 210602466, live, [\"News\"], EPG_LIST_CHANNEL, -1, 0, 1302, live, -1, null, Wed Jun 05 10:14:27 GMT+05:30 2024, http%3A%2F%2Fjiotv.live.cdn.jio.com%2FNews18Assam%2FNews18Assam.m3u8, e9b43876-8d7b-aeab-9395-d25a73847e0e, 1717261218593, 0.0, 0.0, 0.0, 40}|1717562667423|5120955843|gqmkphlbnx13h4o1|75.191.223.201 |\n",
            "|109154002|6.0.8|7286994583|2024-06-01 18:57:53|41c089d53627|S   |1    |1222ec1d-373b-6f5d-85a2-796a356a53c3|media_access|0  |0  |2651 |Xiaomi |4G |9    |A  |{f6cc444e-5718-aa4a-0000-e43e0202, 0, 0, 0, 0, 0, 0, [], -1, News, ZeeTVHD, 288, Hindi, 0, 63, OPPO RMX1801, AES, 31, U, 0, false, 6533935488, [\"Politics\"], 0.0, ZeeTVHD : Program1, Jio 4G, -1, device, Exoplayer, Trinayani, H1|H2|H3, 2021-06-02T00:00:00+05:30, 14:00:00, 2, -1, -1, -1, 1717248473522, 210602288, live, [\"Drama\"], EPG_LIST_CHANNEL, -1, 0, 2387, live, -1, null, Sat Jun 01 18:57:53 GMT+05:30 2024, http%3A%2F%2Fjiotv.live.cdn.jio.com%2FZeeTVHD%2FZeeTVHD.m3u8, 66102adb-41e2-9951-5a1c-fd580d8bffce, 1717341376101, 0.0, 0.0, 0.0, 544}                                        |1717248473522|6257171877|9v9at5u9itcr1i0k|20.70.186.131  |\n",
            "|109154002|6.0.8|2872167342|2024-06-05 06:09:41|c1c123665de4|S   |1    |a80e6e78-8e40-f89c-d69d-0e707352da76|media_access|0  |0  |7740 |Xiaomi |4G |8.1.0|A  |{279f4e20-0842-edc1-0000-3776d7a1, 0, 0, 0, 0, 0, 0, [], -1, News, ZeeTelugu, 212, Assamese, 0, 77, vivo vivo 1801, AES, 32, U, 0, false, 5065033613, [\"Drama\"], 0.0, ZeeTelugu : Program3, Jio 4G, -1, device, Exoplayer, Mithai+Kottu+Chittemma, H1|H2|H3, 2021-06-02T00:00:00+05:30, 14:00:00, 1, -1, -1, -1, 1717547981717, 210602212, live, [\"News\"], EPG_LIST_CHANNEL, -1, 0, 2008, live, -1, null, Wed Jun 05 06:09:41 GMT+05:30 2024, http%3A%2F%2Fjiotv.live.cdn.jio.com%2FZeeTelugu%2FZeeTelugu.m3u8, 08b4d6d5-ebee-80b7-e944-901e090727c7, 1717160518585, 0.0, 0.0, 0.0, 480}                  |1717547981717|9312230445|xqumjemadhh5cckq|188.136.235.211|\n",
            "|109154002|6.0.8|4523108202|2024-05-30 05:05:43|d3cfa6e4a56b|S   |1    |ec3f9acc-a27c-34ba-8902-e1df776b4837|media_access|0  |0  |8508 |vivo   |4G |10   |A  |{01523ba7-c73c-ea1a-0000-7ed8a564, 0, 0, 0, 0, 0, 0, [], -1, Entertainment, ZeeTelugu, 566, Hindi, 0, 119, OPPO RMX1801, AES, 3, U, 0, false, 3413461111, [\"Drama\"], 0.0, ZeeTelugu : Program2, Jio 4G, -1, device, Exoplayer, Afternoon+Express, H1|H2|H3, 2021-06-02T00:00:00+05:30, 14:00:00, 2, -1, -1, -1, 1717025743752, 210602566, live, [\"Drama\"], EPG_LIST_CHANNEL, -1, 0, 1447, live, -1, null, Thu May 30 05:05:43 GMT+05:30 2024, http%3A%2F%2Fjiotv.live.cdn.jio.com%2FZeeTelugu%2FZeeTelugu.m3u8, 155014be-6a01-72e8-0bb7-0752616d3b04, 1717183589079, 0.0, 0.0, 0.0, 970}                  |1717025743752|3697608673|f7mwj1r2qxso8kt1|170.2.71.129   |\n",
            "|109154002|6.0.8|4368321043|2024-05-31 07:32:51|028b12e31142|S   |1    |7fc61ffa-4e0a-8f1f-2851-dcd72b5e821a|media_access|0  |0  |7182 |HUAWEI |4G |9    |A  |{2b686c24-929a-121e-0000-886addf6, 0, 0, 0, 0, 0, 0, [], -1, Entertainment, ZeeKannada, 174, Assamese, 0, 70, Xiaomi Redmi 7A, AES, 100, U, 0, false, 5628050176, [\"News\"], 0.0, ZeeKannada : Program1, Jio 4G, -1, device, Exoplayer, News, H1|H2|H3, 2021-06-02T00:00:00+05:30, 14:00:00, 1, -1, -1, -1, 1717120971685, 210602174, live, [\"Drama\"], EPG_LIST_CHANNEL, -1, 0, 2075, live, -1, null, Fri May 31 07:32:51 GMT+05:30 2024, http%3A%2F%2Fjiotv.live.cdn.jio.com%2FZeeKannada%2FZeeKannada.m3u8, 7a4f1d2a-1bd2-9fa8-8c9f-f0b5dfb3094e, 1717199748850, 0.0, 0.0, 0.0, 625}                     |1717120971685|9295706200|qqwh1e8a89mrxkov|75.58.150.12   |\n",
            "|109154002|6.0.8|1904538675|2024-06-04 19:52:32|9d95627b3863|S   |1    |5f2d6d2b-1be4-ac89-4f2c-a05c8e23c7bd|media_access|0  |0  |5377 |vivo   |4G |8.1.0|A  |{f5a0858c-c5b5-2324-0000-937d1690, 0, 0, 0, 0, 0, 0, [], -1, News, ZeeKannada, 204, Kannada, 0, 159, vivo vivo 1801, AES, 95, U, 0, false, 1616133359, [\"Politics\"], 0.0, ZeeKannada : Program1, Jio 4G, -1, device, Exoplayer, News, H1|H2|H3, 2021-06-02T00:00:00+05:30, 14:00:00, 2, -1, -1, -1, 1717510952805, 210602204, live, [\"Drama\"], EPG_LIST_CHANNEL, -1, 0, 1601, live, -1, null, Tue Jun 04 19:52:32 GMT+05:30 2024, http%3A%2F%2Fjiotv.live.cdn.jio.com%2FZeeKannada%2FZeeKannada.m3u8, d20d5084-390b-aec5-9a14-f28f6a3e57cd, 1717605262311, 0.0, 0.0, 0.0, 527}                            |1717510952805|5756913718|bnr691hj223t7uoy|206.94.208.136 |\n",
            "|109154002|6.0.8|7431393489|2024-06-04 03:29:37|71810c8378c8|S   |1    |8122ed68-1ebd-d93d-f525-003d9ced9736|media_access|0  |0  |1984 |Xiaomi |4G |9    |A  |{94ae6e8d-e132-0d9a-0000-ebddb385, 0, 0, 0, 0, 0, 0, [], -1, Entertainment, ZeeTelugu, 417, Kannada, 0, 84, OPPO RMX1801, AES, 64, U, 0, false, 4583664146, [\"News\"], 0.0, ZeeTelugu : Program2, Jio 4G, -1, device, Exoplayer, Pavitra+Rishta, H1|H2|H3, 2021-06-02T00:00:00+05:30, 14:00:00, 2, -1, -1, -1, 1717451977369, 210602417, live, [\"Drama\"], EPG_LIST_CHANNEL, -1, 0, 2401, live, -1, null, Tue Jun 04 03:29:37 GMT+05:30 2024, http%3A%2F%2Fjiotv.live.cdn.jio.com%2FZeeTelugu%2FZeeTelugu.m3u8, 106d3e8f-bd5f-90ad-ee99-eb72a369ffd8, 1717594623897, 0.0, 0.0, 0.0, 39}                     |1717451977369|9815234709|oynmyuvitaur7y0c|162.205.27.224 |\n",
            "+---------+-----+----------+-------------------+------------+----+-----+------------------------------------+------------+---+---+-----+-------+---+-----+---+----------------------------------------------------------------------------------------------------------------------------------------------------------------------------------------------------------------------------------------------------------------------------------------------------------------------------------------------------------------------------------------------------------------------------------------------------------------------------------------------------------------------------------------------------------------------------------------------------------+-------------+----------+----------------+---------------+\n",
            "only showing top 20 rows\n",
            "\n",
            "+---------+-----+----------+------------+----+-----+------------------------------------+------------+--------------------------------+---+---+---+---+---+---+-------------+------+-------------+-----------+----------+--------+-----+---+----------------+----------+---+------+-----+---------+----------+------------+---+----------------------+------+---+---------------+---------+----------------------+--------+------------+------------+----+----+----+----+-------------+-------------+-------+----------+----------------+---+-----+-----------+----+---+------+----------------------------------+--------------------------------------------------------------------+------------------------------------+------------------------+---------------+--------------------+--------------+-------------------+-------------+----------+----------------+---------------+-------------------+------------+\n",
            "|akey     |avn  |crmid     |did         |dtpe|evtno|idamid                              |key         |HARD_CODE_DEVICE_ID             |avr|bbc|bbd|bc |bd |bdl|bufferdetails|cellid|cg           |ch         |channel_id|cl      |codec|d  |dm              |encryption|ep |finish|index|isottuser|jio_id    |keywords    |lac|n                     |opr   |pci|playback_screen|player   |pn                    |prof    |program_date|program_time|prow|rsrp|rsrq|rssi|rtc          |serial_number|settype|show_genre|source          |ss |start|startuptime|t   |tac|tac_id|timestamp                         |u                                                                   |unique_session_id                   |unique_session_timestamp|watch_time_dock|watch_time_landscape|watch_time_pip|watch_time_portrait|rtc          |sid       |uid             |ip_address     |dateflink          |program_hour|\n",
            "+---------+-----+----------+------------+----+-----+------------------------------------+------------+--------------------------------+---+---+---+---+---+---+-------------+------+-------------+-----------+----------+--------+-----+---+----------------+----------+---+------+-----+---------+----------+------------+---+----------------------+------+---+---------------+---------+----------------------+--------+------------+------------+----+----+----+----+-------------+-------------+-------+----------+----------------+---+-----+-----------+----+---+------+----------------------------------+--------------------------------------------------------------------+------------------------------------+------------------------+---------------+--------------------+--------------+-------------------+-------------+----------+----------------+---------------+-------------------+------------+\n",
            "|109154002|6.0.8|5280814033|e807560d8bc2|S   |1    |f5e8d80f-425f-ff76-4d7b-a80f308d12ac|media_access|c2a0f484-1ecd-930c-0000-a76f3bf9|0  |0  |0  |0  |0  |0  |[]           |-1    |News         |ZeeKannada |103       |Kannada |0    |90 |vivo vivo 1801  |AES       |76 |U     |0    |false    |3704681993|[\"News\"]    |0.0|ZeeKannada : Program2 |Jio 4G|-1 |device         |Exoplayer|Pavitra+Rishta        |H1|H2|H3|2021-06-02  |14:00:00    |2   |-1  |-1  |-1  |1717391045271|210602103    |live   |[\"News\"]  |EPG_LIST_CHANNEL|-1 |0    |3541       |live|-1 |null  |Mon Jun 03 10:34:05 GMT+05:30 2024|http%3A%2F%2Fjiotv.live.cdn.jio.com%2FZeeKannada%2FZeeKannada.m3u8  |c7e95b1c-2511-d1cf-a98a-c989eeaad74e|1717103577898           |0.0            |0.0                 |0.0           |732                |1717391045271|1709343619|00llfqkde3hfiweh|199.163.126.130|2024-06-03 10:34:05|14          |\n",
            "|109154002|6.0.8|8344862428|73da236b2dd9|S   |1    |75b66a4c-6315-464e-39dc-ec467a18af66|media_access|3296995f-6027-7a3a-0000-170e23d9|0  |0  |0  |0  |0  |0  |[]           |-1    |News         |ZeeTVHD    |533       |Kannada |0    |107|OPPO RMX1801    |AES       |90 |U     |0    |false    |4687755139|[\"Drama\"]   |0.0|ZeeTVHD : Program1    |Jio 4G|-1 |device         |Exoplayer|Mithai+Kottu+Chittemma|H1|H2|H3|2021-06-02  |14:00:00    |1   |-1  |-1  |-1  |1717499842793|210602533    |live   |[\"Drama\"] |EPG_LIST_CHANNEL|-1 |0    |542        |live|-1 |null  |Tue Jun 04 16:47:22 GMT+05:30 2024|http%3A%2F%2Fjiotv.live.cdn.jio.com%2FZeeTVHD%2FZeeTVHD.m3u8        |131f7c2f-73db-aca4-6495-c8dbcee1ce27|1717543969017           |0.0            |0.0                 |0.0           |802                |1717499842793|3702154830|q9mz1q83scpuuuvf|102.218.71.61  |2024-06-04 16:47:22|14          |\n",
            "|109154002|6.0.8|8756205690|4b7a02cda337|S   |1    |51576830-7b33-be1e-b12a-42f295ff24d6|media_access|05d3e28a-6ac7-9c65-0000-4cc12ce1|0  |0  |0  |0  |0  |0  |[]           |-1    |News         |ZeeAnmol   |474       |Assamese|0    |185|OPPO RMX1801    |AES       |35 |U     |0    |false    |5270117470|[\"News\"]    |0.0|ZeeAnmol : Program1   |Jio 4G|-1 |device         |Exoplayer|Afternoon+Express     |H1|H2|H3|2021-06-02  |14:00:00    |2   |-1  |-1  |-1  |1717162407391|210602474    |live   |[\"Drama\"] |EPG_LIST_CHANNEL|-1 |0    |4226       |live|-1 |null  |Fri May 31 19:03:27 GMT+05:30 2024|http%3A%2F%2Fjiotv.live.cdn.jio.com%2FZeeAnmol%2FZeeAnmol.m3u8      |6c6ab64d-f0f8-7d70-4832-9f9c069e1b38|1717121866582           |0.0            |0.0                 |0.0           |304                |1717162407391|5381321863|lc98xucko80l7z8t|80.111.147.133 |2024-05-31 19:03:27|14          |\n",
            "|109154002|6.0.8|4836944596|9ab27606bdd9|S   |1    |5cd53744-afff-0aec-79a2-c4c9613b015d|media_access|2662e440-8b8a-7095-0000-edacab07|0  |0  |0  |0  |0  |0  |[]           |-1    |News         |ZeeTelugu  |260       |Assamese|0    |182|vivo vivo 1801  |AES       |80 |U     |0    |false    |5752768763|[\"News\"]    |0.0|ZeeTelugu : Program1  |Jio 4G|-1 |device         |Exoplayer|Punar+Vivaah          |H1|H2|H3|2021-06-02  |14:00:00    |2   |-1  |-1  |-1  |1717057120641|210602260    |live   |[\"News\"]  |EPG_LIST_CHANNEL|-1 |0    |4243       |live|-1 |null  |Thu May 30 13:48:40 GMT+05:30 2024|http%3A%2F%2Fjiotv.live.cdn.jio.com%2FZeeTelugu%2FZeeTelugu.m3u8    |ceae6ba6-a945-8a38-1410-820171ee8328|1717391120515           |0.0            |0.0                 |0.0           |821                |1717057120641|3216047272|a7jcoulv2gvvj3vu|78.142.20.154  |2024-05-30 13:48:40|14          |\n",
            "|109154002|6.0.8|7412863037|d42e33fb0af8|S   |1    |b262ddb5-b60e-e022-84ef-bbb7d0e20476|media_access|1163d0dd-27ed-b32d-0000-35c7849f|0  |0  |0  |0  |0  |0  |[]           |-1    |News         |ZeeAnmol   |420       |Hindi   |0    |174|HUAWEI LLD-AL20 |AES       |76 |U     |0    |false    |9990623298|[\"News\"]    |0.0|ZeeAnmol : Program2   |Jio 4G|-1 |device         |Exoplayer|Mithai+Kottu+Chittemma|H1|H2|H3|2021-06-02  |14:00:00    |2   |-1  |-1  |-1  |1717488288714|210602420    |live   |[\"Drama\"] |EPG_LIST_CHANNEL|-1 |0    |4938       |live|-1 |null  |Tue Jun 04 13:34:48 GMT+05:30 2024|http%3A%2F%2Fjiotv.live.cdn.jio.com%2FZeeAnmol%2FZeeAnmol.m3u8      |711c7c80-22ea-5e85-7646-75e5f5744e4f|1717401636198           |0.0            |0.0                 |0.0           |767                |1717488288714|4279373870|xdmeawznl6f61q8n|75.34.250.16   |2024-06-04 13:34:48|14          |\n",
            "|109154002|6.0.8|6397330561|dd1c4701d538|S   |1    |4505d6e8-c1e6-c3fb-91fc-46c38fcd35f8|media_access|697360ac-52ba-53db-0000-a7c24fc3|0  |0  |0  |0  |0  |0  |[]           |-1    |News         |ZeeKannada |550       |Telugu  |0    |77 |Xiaomi Redmi 7A |AES       |84 |U     |0    |false    |7492231975|[\"Politics\"]|0.0|ZeeKannada : Program3 |Jio 4G|-1 |device         |Exoplayer|Mithai+Kottu+Chittemma|H1|H2|H3|2021-06-02  |14:00:00    |1   |-1  |-1  |-1  |1717147797123|210602550    |live   |[\"News\"]  |EPG_LIST_CHANNEL|-1 |0    |4036       |live|-1 |null  |Fri May 31 14:59:57 GMT+05:30 2024|http%3A%2F%2Fjiotv.live.cdn.jio.com%2FZeeKannada%2FZeeKannada.m3u8  |c1b0c31e-4d3e-a0bb-2429-149e5385e597|1717025046328           |0.0            |0.0                 |0.0           |99                 |1717147797123|7938139507|gahhs6z9omzwjd2q|123.15.139.165 |2024-05-31 14:59:57|14          |\n",
            "|109154002|6.0.8|6815437274|d086dd2134b0|S   |1    |66b42a3d-9354-2344-3d4b-46e5eb745660|media_access|1cfc8fe0-0396-9a30-0000-087d8217|0  |0  |0  |0  |0  |0  |[]           |-1    |Entertainment|ZeeKannada |350       |Kannada |0    |59 |samsung SM-M205F|AES       |25 |U     |0    |false    |5712201654|[\"Politics\"]|0.0|ZeeKannada : Program2 |Jio 4G|-1 |device         |Exoplayer|Punar+Vivaah          |H1|H2|H3|2021-06-02  |14:00:00    |3   |-1  |-1  |-1  |1717039331203|210602350    |live   |[\"News\"]  |EPG_LIST_CHANNEL|-1 |0    |4092       |live|-1 |null  |Thu May 30 08:52:11 GMT+05:30 2024|http%3A%2F%2Fjiotv.live.cdn.jio.com%2FZeeKannada%2FZeeKannada.m3u8  |bcf26723-c940-111f-fce0-b2cfb550da41|1717198008385           |0.0            |0.0                 |0.0           |179                |1717039331203|4959360635|al3xhyechbsjnnfk|85.187.142.226 |2024-05-30 08:52:11|14          |\n",
            "|109154002|6.0.8|5707084375|5df860fe7445|S   |1    |58055ab6-aeb3-681e-a5c6-a646ed4d503e|media_access|77d73a3b-321a-6f54-0000-0c8b5ba7|0  |0  |0  |0  |0  |0  |[]           |-1    |Entertainment|ZeeTVHD    |658       |Assamese|0    |162|samsung SM-M205F|AES       |18 |U     |0    |false    |6262447818|[\"Politics\"]|0.0|ZeeTVHD : Program1    |Jio 4G|-1 |device         |Exoplayer|Trinayani             |H1|H2|H3|2021-06-02  |14:00:00    |3   |-1  |-1  |-1  |1717528496508|210602658    |live   |[\"News\"]  |EPG_LIST_CHANNEL|-1 |0    |2739       |live|-1 |null  |Wed Jun 05 00:44:56 GMT+05:30 2024|http%3A%2F%2Fjiotv.live.cdn.jio.com%2FZeeTVHD%2FZeeTVHD.m3u8        |ba5b70ae-1769-4888-17e7-c7c5aebdc006|1717389948181           |0.0            |0.0                 |0.0           |147                |1717528496508|1865523023|qnkclm839qgcfl67|138.88.229.28  |2024-06-05 00:44:56|14          |\n",
            "|109154002|6.0.8|7926247692|b99920de3f52|S   |1    |d9fa1e0d-754b-b116-743d-8f5bf79ac21e|media_access|2d7561b4-c419-28c6-0000-e52e6f41|0  |0  |0  |0  |0  |0  |[]           |-1    |News         |ZeeTVHD    |287       |Hindi   |0    |128|samsung SM-M205F|AES       |98 |U     |0    |false    |2210692428|[\"News\"]    |0.0|ZeeTVHD : Program3    |Jio 4G|-1 |device         |Exoplayer|Pavitra+Rishta        |H1|H2|H3|2021-06-02  |14:00:00    |3   |-1  |-1  |-1  |1717089444240|210602287    |live   |[\"Drama\"] |EPG_LIST_CHANNEL|-1 |0    |3709       |live|-1 |null  |Thu May 30 22:47:24 GMT+05:30 2024|http%3A%2F%2Fjiotv.live.cdn.jio.com%2FZeeTVHD%2FZeeTVHD.m3u8        |9f899425-1e2c-7268-b9f1-eb34d91a6f96|1717234131294           |0.0            |0.0                 |0.0           |678                |1717089444240|2607727740|11gz136ylk30jw7s|230.230.3.89   |2024-05-30 22:47:24|14          |\n",
            "|109154002|6.0.8|4154998109|d907e360039d|S   |1    |01d1c7f0-3788-07a4-2589-fc9a33de9f9e|media_access|793cbf2b-7f6e-1a17-0000-e18ebfb5|0  |0  |0  |0  |0  |0  |[]           |-1    |Entertainment|AajTak     |226       |Hindi   |0    |148|samsung SM-M205F|AES       |52 |U     |0    |false    |6941008259|[\"Politics\"]|0.0|AajTak : Program2     |Jio 4G|-1 |device         |Exoplayer|News                  |H1|H2|H3|2021-06-02  |14:00:00    |2   |-1  |-1  |-1  |1717134355907|210602226    |live   |[\"News\"]  |EPG_LIST_CHANNEL|-1 |0    |3808       |live|-1 |null  |Fri May 31 11:15:55 GMT+05:30 2024|http%3A%2F%2Fjiotv.live.cdn.jio.com%2FAajTak%2FAajTak.m3u8          |b7aabbfe-9241-0457-0ee5-46b5ae931967|1717232922793           |0.0            |0.0                 |0.0           |837                |1717134355907|6138760143|thg8qusdyret754f|84.211.21.255  |2024-05-31 11:15:55|14          |\n",
            "|109154002|6.0.8|9497383869|10ccb5807b1c|S   |1    |0553f359-02b8-cecd-6aa0-3a9fcebbf71d|media_access|0abd5672-05e8-4333-0000-eec6c8d2|0  |0  |0  |0  |0  |0  |[]           |-1    |News         |News18Assam|275       |Hindi   |0    |50 |HUAWEI LLD-AL20 |AES       |99 |U     |0    |false    |7212083758|[\"News\"]    |0.0|News18Assam : Program2|Jio 4G|-1 |device         |Exoplayer|Afternoon+Express     |H1|H2|H3|2021-06-02  |14:00:00    |2   |-1  |-1  |-1  |1717302052461|210602275    |live   |[\"Drama\"] |EPG_LIST_CHANNEL|-1 |0    |701        |live|-1 |null  |Sun Jun 02 09:50:52 GMT+05:30 2024|http%3A%2F%2Fjiotv.live.cdn.jio.com%2FNews18Assam%2FNews18Assam.m3u8|0728db93-ec9e-cc9a-2b57-39f467875154|1717591415948           |0.0            |0.0                 |0.0           |88                 |1717302052461|8223968721|bi5z2vp70mbsozau|225.189.244.235|2024-06-02 09:50:52|14          |\n",
            "|109154002|6.0.8|7362514332|77cb653d0264|S   |1    |4186044c-9729-2dcf-22e8-9ed8d1982d27|media_access|779dfeff-5d1a-444b-0000-af7a315f|0  |0  |0  |0  |0  |0  |[]           |-1    |Entertainment|AajTak     |213       |Assamese|0    |99 |Xiaomi Redmi 7A |AES       |77 |U     |0    |false    |7197300683|[\"Drama\"]   |0.0|AajTak : Program3     |Jio 4G|-1 |device         |Exoplayer|Afternoon+Express     |H1|H2|H3|2021-06-02  |14:00:00    |3   |-1  |-1  |-1  |1717352355071|210602213    |live   |[\"News\"]  |EPG_LIST_CHANNEL|-1 |0    |1279       |live|-1 |null  |Sun Jun 02 23:49:15 GMT+05:30 2024|http%3A%2F%2Fjiotv.live.cdn.jio.com%2FAajTak%2FAajTak.m3u8          |922f7a45-8693-919b-47a5-1559ccd95b33|1717164057242           |0.0            |0.0                 |0.0           |37                 |1717352355071|9423347158|j0xjlgtnku1tn493|133.183.28.255 |2024-06-02 23:49:15|14          |\n",
            "|109154002|6.0.8|2384690764|5754d04d22c3|S   |1    |553a9066-d083-5285-9625-53b961b6f2e1|media_access|bf3566f0-89b9-48f9-0000-baa051d9|0  |0  |0  |0  |0  |0  |[]           |-1    |News         |ZeeKannada |372       |Kannada |0    |146|OPPO RMX1801    |AES       |14 |U     |0    |false    |5339730029|[\"Politics\"]|0.0|ZeeKannada : Program1 |Jio 4G|-1 |device         |Exoplayer|Trinayani             |H1|H2|H3|2021-06-02  |14:00:00    |1   |-1  |-1  |-1  |1717026879988|210602372    |live   |[\"Drama\"] |EPG_LIST_CHANNEL|-1 |0    |1731       |live|-1 |null  |Thu May 30 05:24:39 GMT+05:30 2024|http%3A%2F%2Fjiotv.live.cdn.jio.com%2FZeeKannada%2FZeeKannada.m3u8  |1aefccef-ef38-41e4-0724-356dbbc9d915|1717526812968           |0.0            |0.0                 |0.0           |20                 |1717026879988|4867293011|bfu7w9bj2dfub6n9|106.22.215.131 |2024-05-30 05:24:39|14          |\n",
            "|109154002|6.0.8|3191315730|23201426ce77|S   |1    |157e3a0f-e178-b433-2f83-06e9da2c272c|media_access|488c6a50-a2e4-4fdb-0000-73ed037c|0  |0  |0  |0  |0  |0  |[]           |-1    |Entertainment|News18Assam|466       |Telugu  |0    |159|vivo vivo 1801  |AES       |96 |U     |0    |false    |2948862464|[\"Politics\"]|0.0|News18Assam : Program2|Jio 4G|-1 |device         |Exoplayer|Mithai+Kottu+Chittemma|H1|H2|H3|2021-06-02  |14:00:00    |2   |-1  |-1  |-1  |1717562667423|210602466    |live   |[\"News\"]  |EPG_LIST_CHANNEL|-1 |0    |1302       |live|-1 |null  |Wed Jun 05 10:14:27 GMT+05:30 2024|http%3A%2F%2Fjiotv.live.cdn.jio.com%2FNews18Assam%2FNews18Assam.m3u8|e9b43876-8d7b-aeab-9395-d25a73847e0e|1717261218593           |0.0            |0.0                 |0.0           |40                 |1717562667423|5120955843|gqmkphlbnx13h4o1|75.191.223.201 |2024-06-05 10:14:27|14          |\n",
            "|109154002|6.0.8|7286994583|41c089d53627|S   |1    |1222ec1d-373b-6f5d-85a2-796a356a53c3|media_access|f6cc444e-5718-aa4a-0000-e43e0202|0  |0  |0  |0  |0  |0  |[]           |-1    |News         |ZeeTVHD    |288       |Hindi   |0    |63 |OPPO RMX1801    |AES       |31 |U     |0    |false    |6533935488|[\"Politics\"]|0.0|ZeeTVHD : Program1    |Jio 4G|-1 |device         |Exoplayer|Trinayani             |H1|H2|H3|2021-06-02  |14:00:00    |2   |-1  |-1  |-1  |1717248473522|210602288    |live   |[\"Drama\"] |EPG_LIST_CHANNEL|-1 |0    |2387       |live|-1 |null  |Sat Jun 01 18:57:53 GMT+05:30 2024|http%3A%2F%2Fjiotv.live.cdn.jio.com%2FZeeTVHD%2FZeeTVHD.m3u8        |66102adb-41e2-9951-5a1c-fd580d8bffce|1717341376101           |0.0            |0.0                 |0.0           |544                |1717248473522|6257171877|9v9at5u9itcr1i0k|20.70.186.131  |2024-06-01 18:57:53|14          |\n",
            "|109154002|6.0.8|2872167342|c1c123665de4|S   |1    |a80e6e78-8e40-f89c-d69d-0e707352da76|media_access|279f4e20-0842-edc1-0000-3776d7a1|0  |0  |0  |0  |0  |0  |[]           |-1    |News         |ZeeTelugu  |212       |Assamese|0    |77 |vivo vivo 1801  |AES       |32 |U     |0    |false    |5065033613|[\"Drama\"]   |0.0|ZeeTelugu : Program3  |Jio 4G|-1 |device         |Exoplayer|Mithai+Kottu+Chittemma|H1|H2|H3|2021-06-02  |14:00:00    |1   |-1  |-1  |-1  |1717547981717|210602212    |live   |[\"News\"]  |EPG_LIST_CHANNEL|-1 |0    |2008       |live|-1 |null  |Wed Jun 05 06:09:41 GMT+05:30 2024|http%3A%2F%2Fjiotv.live.cdn.jio.com%2FZeeTelugu%2FZeeTelugu.m3u8    |08b4d6d5-ebee-80b7-e944-901e090727c7|1717160518585           |0.0            |0.0                 |0.0           |480                |1717547981717|9312230445|xqumjemadhh5cckq|188.136.235.211|2024-06-05 06:09:41|14          |\n",
            "|109154002|6.0.8|4523108202|d3cfa6e4a56b|S   |1    |ec3f9acc-a27c-34ba-8902-e1df776b4837|media_access|01523ba7-c73c-ea1a-0000-7ed8a564|0  |0  |0  |0  |0  |0  |[]           |-1    |Entertainment|ZeeTelugu  |566       |Hindi   |0    |119|OPPO RMX1801    |AES       |3  |U     |0    |false    |3413461111|[\"Drama\"]   |0.0|ZeeTelugu : Program2  |Jio 4G|-1 |device         |Exoplayer|Afternoon+Express     |H1|H2|H3|2021-06-02  |14:00:00    |2   |-1  |-1  |-1  |1717025743752|210602566    |live   |[\"Drama\"] |EPG_LIST_CHANNEL|-1 |0    |1447       |live|-1 |null  |Thu May 30 05:05:43 GMT+05:30 2024|http%3A%2F%2Fjiotv.live.cdn.jio.com%2FZeeTelugu%2FZeeTelugu.m3u8    |155014be-6a01-72e8-0bb7-0752616d3b04|1717183589079           |0.0            |0.0                 |0.0           |970                |1717025743752|3697608673|f7mwj1r2qxso8kt1|170.2.71.129   |2024-05-30 05:05:43|14          |\n",
            "|109154002|6.0.8|4368321043|028b12e31142|S   |1    |7fc61ffa-4e0a-8f1f-2851-dcd72b5e821a|media_access|2b686c24-929a-121e-0000-886addf6|0  |0  |0  |0  |0  |0  |[]           |-1    |Entertainment|ZeeKannada |174       |Assamese|0    |70 |Xiaomi Redmi 7A |AES       |100|U     |0    |false    |5628050176|[\"News\"]    |0.0|ZeeKannada : Program1 |Jio 4G|-1 |device         |Exoplayer|News                  |H1|H2|H3|2021-06-02  |14:00:00    |1   |-1  |-1  |-1  |1717120971685|210602174    |live   |[\"Drama\"] |EPG_LIST_CHANNEL|-1 |0    |2075       |live|-1 |null  |Fri May 31 07:32:51 GMT+05:30 2024|http%3A%2F%2Fjiotv.live.cdn.jio.com%2FZeeKannada%2FZeeKannada.m3u8  |7a4f1d2a-1bd2-9fa8-8c9f-f0b5dfb3094e|1717199748850           |0.0            |0.0                 |0.0           |625                |1717120971685|9295706200|qqwh1e8a89mrxkov|75.58.150.12   |2024-05-31 07:32:51|14          |\n",
            "|109154002|6.0.8|1904538675|9d95627b3863|S   |1    |5f2d6d2b-1be4-ac89-4f2c-a05c8e23c7bd|media_access|f5a0858c-c5b5-2324-0000-937d1690|0  |0  |0  |0  |0  |0  |[]           |-1    |News         |ZeeKannada |204       |Kannada |0    |159|vivo vivo 1801  |AES       |95 |U     |0    |false    |1616133359|[\"Politics\"]|0.0|ZeeKannada : Program1 |Jio 4G|-1 |device         |Exoplayer|News                  |H1|H2|H3|2021-06-02  |14:00:00    |2   |-1  |-1  |-1  |1717510952805|210602204    |live   |[\"Drama\"] |EPG_LIST_CHANNEL|-1 |0    |1601       |live|-1 |null  |Tue Jun 04 19:52:32 GMT+05:30 2024|http%3A%2F%2Fjiotv.live.cdn.jio.com%2FZeeKannada%2FZeeKannada.m3u8  |d20d5084-390b-aec5-9a14-f28f6a3e57cd|1717605262311           |0.0            |0.0                 |0.0           |527                |1717510952805|5756913718|bnr691hj223t7uoy|206.94.208.136 |2024-06-04 19:52:32|14          |\n",
            "|109154002|6.0.8|7431393489|71810c8378c8|S   |1    |8122ed68-1ebd-d93d-f525-003d9ced9736|media_access|94ae6e8d-e132-0d9a-0000-ebddb385|0  |0  |0  |0  |0  |0  |[]           |-1    |Entertainment|ZeeTelugu  |417       |Kannada |0    |84 |OPPO RMX1801    |AES       |64 |U     |0    |false    |4583664146|[\"News\"]    |0.0|ZeeTelugu : Program2  |Jio 4G|-1 |device         |Exoplayer|Pavitra+Rishta        |H1|H2|H3|2021-06-02  |14:00:00    |2   |-1  |-1  |-1  |1717451977369|210602417    |live   |[\"Drama\"] |EPG_LIST_CHANNEL|-1 |0    |2401       |live|-1 |null  |Tue Jun 04 03:29:37 GMT+05:30 2024|http%3A%2F%2Fjiotv.live.cdn.jio.com%2FZeeTelugu%2FZeeTelugu.m3u8    |106d3e8f-bd5f-90ad-ee99-eb72a369ffd8|1717594623897           |0.0            |0.0                 |0.0           |39                 |1717451977369|9815234709|oynmyuvitaur7y0c|162.205.27.224 |2024-06-04 03:29:37|14          |\n",
            "+---------+-----+----------+------------+----+-----+------------------------------------+------------+--------------------------------+---+---+---+---+---+---+-------------+------+-------------+-----------+----------+--------+-----+---+----------------+----------+---+------+-----+---------+----------+------------+---+----------------------+------+---+---------------+---------+----------------------+--------+------------+------------+----+----+----+----+-------------+-------------+-------+----------+----------------+---+-----+-----------+----+---+------+----------------------------------+--------------------------------------------------------------------+------------------------------------+------------------------+---------------+--------------------+--------------+-------------------+-------------+----------+----------------+---------------+-------------------+------------+\n",
            "only showing top 20 rows\n",
            "\n"
          ]
        }
      ],
      "source": [
        "from pyspark.sql import SparkSession\n",
        "from pyspark.sql.functions import col, split\n",
        "\n",
        "spark = SparkSession.builder \\\n",
        "    .appName(\"JioAnalyticsProcessing\") \\\n",
        "    .getOrCreate()\n",
        "\n",
        "\n",
        "file_path = \"/content/drive/MyDrive/sample_random.json\"\n",
        "\n",
        "df = spark.read.option(\"multiline\", \"true\").json(file_path)\n",
        "\n",
        "df.printSchema()\n",
        "\n",
        "df.show(truncate=False)\n",
        "\n",
        "if \"_corrupt_record\" in df.columns:\n",
        "    df.filter(col(\"_corrupt_record\").isNotNull()).show(truncate=False)\n",
        "\n",
        "if 'pro' in df.columns:\n",
        "    df = df.select(\n",
        "        col(\"akey\"),\n",
        "        col(\"avn\"),\n",
        "        col(\"crmid\"),\n",
        "        col(\"did\"),\n",
        "        col(\"dtpe\"),\n",
        "        col(\"evtno\"),\n",
        "        col(\"idamid\"),\n",
        "        col(\"key\"),\n",
        "        col(\"pro.*\"),\n",
        "        col(\"rtc\"),\n",
        "        col(\"sid\"),\n",
        "        col(\"uid\"),\n",
        "        col(\"x-forwarded-for\").alias(\"ip_address\"),\n",
        "        col(\"dateflink\")\n",
        "    )\n",
        "\n",
        "\n",
        "    df = df.withColumn(\"program_date\", col(\"program_date\").cast(\"date\"))\n",
        "    df = df.withColumn(\"program_hour\", split(col(\"program_time\"), \":\")[0].cast(\"integer\"))\n",
        "\n",
        "\n",
        "    df.show(truncate=False)\n",
        "\n",
        "\n",
        "\n"
      ]
    },
    {
      "cell_type": "markdown",
      "source": [
        "This line of code effectively reads a multi-line JSON file into a Spark DataFrame, enabling subsequent data processing tasks. By setting the multiline option to true, the code ensures that JSON records spanning multiple lines are correctly parsed, maintaining the integrity of the data."
      ],
      "metadata": {
        "id": "OdqvtzQMkB5y"
      }
    },
    {
      "cell_type": "code",
      "execution_count": null,
      "metadata": {
        "colab": {
          "base_uri": "https://localhost:8080/"
        },
        "id": "l21isKDC8xf_",
        "outputId": "7b4760b0-321d-43cb-8ade-f3be7e7143ba"
      },
      "outputs": [
        {
          "output_type": "stream",
          "name": "stdout",
          "text": [
            "root\n",
            " |-- akey: string (nullable = true)\n",
            " |-- avn: string (nullable = true)\n",
            " |-- crmid: string (nullable = true)\n",
            " |-- dateflink: string (nullable = true)\n",
            " |-- did: string (nullable = true)\n",
            " |-- dtpe: string (nullable = true)\n",
            " |-- evtno: string (nullable = true)\n",
            " |-- idamid: string (nullable = true)\n",
            " |-- key: string (nullable = true)\n",
            " |-- lat: string (nullable = true)\n",
            " |-- lng: string (nullable = true)\n",
            " |-- logno: string (nullable = true)\n",
            " |-- mnu: string (nullable = true)\n",
            " |-- nwk: string (nullable = true)\n",
            " |-- osv: string (nullable = true)\n",
            " |-- pf: string (nullable = true)\n",
            " |-- pro: struct (nullable = true)\n",
            " |    |-- HARD_CODE_DEVICE_ID: string (nullable = true)\n",
            " |    |-- avr: string (nullable = true)\n",
            " |    |-- bbc: string (nullable = true)\n",
            " |    |-- bbd: string (nullable = true)\n",
            " |    |-- bc: string (nullable = true)\n",
            " |    |-- bd: string (nullable = true)\n",
            " |    |-- bdl: string (nullable = true)\n",
            " |    |-- bufferdetails: string (nullable = true)\n",
            " |    |-- cellid: string (nullable = true)\n",
            " |    |-- cg: string (nullable = true)\n",
            " |    |-- ch: string (nullable = true)\n",
            " |    |-- channel_id: string (nullable = true)\n",
            " |    |-- cl: string (nullable = true)\n",
            " |    |-- codec: string (nullable = true)\n",
            " |    |-- d: string (nullable = true)\n",
            " |    |-- dm: string (nullable = true)\n",
            " |    |-- encryption: string (nullable = true)\n",
            " |    |-- ep: string (nullable = true)\n",
            " |    |-- finish: string (nullable = true)\n",
            " |    |-- index: string (nullable = true)\n",
            " |    |-- isottuser: string (nullable = true)\n",
            " |    |-- jio_id: string (nullable = true)\n",
            " |    |-- keywords: string (nullable = true)\n",
            " |    |-- lac: string (nullable = true)\n",
            " |    |-- n: string (nullable = true)\n",
            " |    |-- opr: string (nullable = true)\n",
            " |    |-- pci: string (nullable = true)\n",
            " |    |-- playback_screen: string (nullable = true)\n",
            " |    |-- player: string (nullable = true)\n",
            " |    |-- pn: string (nullable = true)\n",
            " |    |-- prof: string (nullable = true)\n",
            " |    |-- program_date: string (nullable = true)\n",
            " |    |-- program_time: string (nullable = true)\n",
            " |    |-- prow: string (nullable = true)\n",
            " |    |-- rsrp: string (nullable = true)\n",
            " |    |-- rsrq: string (nullable = true)\n",
            " |    |-- rssi: string (nullable = true)\n",
            " |    |-- rtc: string (nullable = true)\n",
            " |    |-- serial_number: string (nullable = true)\n",
            " |    |-- settype: string (nullable = true)\n",
            " |    |-- show_genre: string (nullable = true)\n",
            " |    |-- source: string (nullable = true)\n",
            " |    |-- ss: string (nullable = true)\n",
            " |    |-- start: string (nullable = true)\n",
            " |    |-- startuptime: string (nullable = true)\n",
            " |    |-- t: string (nullable = true)\n",
            " |    |-- tac: string (nullable = true)\n",
            " |    |-- tac_id: string (nullable = true)\n",
            " |    |-- timestamp: string (nullable = true)\n",
            " |    |-- u: string (nullable = true)\n",
            " |    |-- unique_session_id: string (nullable = true)\n",
            " |    |-- unique_session_timestamp: string (nullable = true)\n",
            " |    |-- watch_time_dock: string (nullable = true)\n",
            " |    |-- watch_time_landscape: string (nullable = true)\n",
            " |    |-- watch_time_pip: string (nullable = true)\n",
            " |    |-- watch_time_portrait: string (nullable = true)\n",
            " |-- rtc: string (nullable = true)\n",
            " |-- sid: string (nullable = true)\n",
            " |-- uid: string (nullable = true)\n",
            " |-- x-forwarded-for: string (nullable = true)\n",
            "\n",
            "+---------+-----+----------+-------------------+------------+----+-----+------------------------------------+------------+---+---+-----+-------+---+-----+---+----------------------------------------------------------------------------------------------------------------------------------------------------------------------------------------------------------------------------------------------------------------------------------------------------------------------------------------------------------------------------------------------------------------------------------------------------------------------------------------------------------------------------------------------------------------------------------------------------------+-------------+----------+----------------+---------------+\n",
            "|akey     |avn  |crmid     |dateflink          |did         |dtpe|evtno|idamid                              |key         |lat|lng|logno|mnu    |nwk|osv  |pf |pro                                                                                                                                                                                                                                                                                                                                                                                                                                                                                                                                                                                                       |rtc          |sid       |uid             |x-forwarded-for|\n",
            "+---------+-----+----------+-------------------+------------+----+-----+------------------------------------+------------+---+---+-----+-------+---+-----+---+----------------------------------------------------------------------------------------------------------------------------------------------------------------------------------------------------------------------------------------------------------------------------------------------------------------------------------------------------------------------------------------------------------------------------------------------------------------------------------------------------------------------------------------------------------------------------------------------------------+-------------+----------+----------------+---------------+\n",
            "|109154002|6.0.8|5280814033|2024-06-03 10:34:05|e807560d8bc2|S   |1    |f5e8d80f-425f-ff76-4d7b-a80f308d12ac|media_access|0  |0  |562  |OPPO   |4G |8.1.0|A  |{c2a0f484-1ecd-930c-0000-a76f3bf9, 0, 0, 0, 0, 0, 0, [], -1, News, ZeeKannada, 103, Kannada, 0, 90, vivo vivo 1801, AES, 76, U, 0, false, 3704681993, [\"News\"], 0.0, ZeeKannada : Program2, Jio 4G, -1, device, Exoplayer, Pavitra+Rishta, H1|H2|H3, 2021-06-02T00:00:00+05:30, 14:00:00, 2, -1, -1, -1, 1717391045271, 210602103, live, [\"News\"], EPG_LIST_CHANNEL, -1, 0, 3541, live, -1, null, Mon Jun 03 10:34:05 GMT+05:30 2024, http%3A%2F%2Fjiotv.live.cdn.jio.com%2FZeeKannada%2FZeeKannada.m3u8, c7e95b1c-2511-d1cf-a98a-c989eeaad74e, 1717103577898, 0.0, 0.0, 0.0, 732}                        |1717391045271|1709343619|00llfqkde3hfiweh|199.163.126.130|\n",
            "|109154002|6.0.8|8344862428|2024-06-04 16:47:22|73da236b2dd9|S   |1    |75b66a4c-6315-464e-39dc-ec467a18af66|media_access|0  |0  |4313 |vivo   |4G |10   |A  |{3296995f-6027-7a3a-0000-170e23d9, 0, 0, 0, 0, 0, 0, [], -1, News, ZeeTVHD, 533, Kannada, 0, 107, OPPO RMX1801, AES, 90, U, 0, false, 4687755139, [\"Drama\"], 0.0, ZeeTVHD : Program1, Jio 4G, -1, device, Exoplayer, Mithai+Kottu+Chittemma, H1|H2|H3, 2021-06-02T00:00:00+05:30, 14:00:00, 1, -1, -1, -1, 1717499842793, 210602533, live, [\"Drama\"], EPG_LIST_CHANNEL, -1, 0, 542, live, -1, null, Tue Jun 04 16:47:22 GMT+05:30 2024, http%3A%2F%2Fjiotv.live.cdn.jio.com%2FZeeTVHD%2FZeeTVHD.m3u8, 131f7c2f-73db-aca4-6495-c8dbcee1ce27, 1717543969017, 0.0, 0.0, 0.0, 802}                            |1717499842793|3702154830|q9mz1q83scpuuuvf|102.218.71.61  |\n",
            "|109154002|6.0.8|8756205690|2024-05-31 19:03:27|4b7a02cda337|S   |1    |51576830-7b33-be1e-b12a-42f295ff24d6|media_access|0  |0  |6267 |OPPO   |4G |9    |A  |{05d3e28a-6ac7-9c65-0000-4cc12ce1, 0, 0, 0, 0, 0, 0, [], -1, News, ZeeAnmol, 474, Assamese, 0, 185, OPPO RMX1801, AES, 35, U, 0, false, 5270117470, [\"News\"], 0.0, ZeeAnmol : Program1, Jio 4G, -1, device, Exoplayer, Afternoon+Express, H1|H2|H3, 2021-06-02T00:00:00+05:30, 14:00:00, 2, -1, -1, -1, 1717162407391, 210602474, live, [\"Drama\"], EPG_LIST_CHANNEL, -1, 0, 4226, live, -1, null, Fri May 31 19:03:27 GMT+05:30 2024, http%3A%2F%2Fjiotv.live.cdn.jio.com%2FZeeAnmol%2FZeeAnmol.m3u8, 6c6ab64d-f0f8-7d70-4832-9f9c069e1b38, 1717121866582, 0.0, 0.0, 0.0, 304}                            |1717162407391|5381321863|lc98xucko80l7z8t|80.111.147.133 |\n",
            "|109154002|6.0.8|4836944596|2024-05-30 13:48:40|9ab27606bdd9|S   |1    |5cd53744-afff-0aec-79a2-c4c9613b015d|media_access|0  |0  |8136 |samsung|4G |9    |A  |{2662e440-8b8a-7095-0000-edacab07, 0, 0, 0, 0, 0, 0, [], -1, News, ZeeTelugu, 260, Assamese, 0, 182, vivo vivo 1801, AES, 80, U, 0, false, 5752768763, [\"News\"], 0.0, ZeeTelugu : Program1, Jio 4G, -1, device, Exoplayer, Punar+Vivaah, H1|H2|H3, 2021-06-02T00:00:00+05:30, 14:00:00, 2, -1, -1, -1, 1717057120641, 210602260, live, [\"News\"], EPG_LIST_CHANNEL, -1, 0, 4243, live, -1, null, Thu May 30 13:48:40 GMT+05:30 2024, http%3A%2F%2Fjiotv.live.cdn.jio.com%2FZeeTelugu%2FZeeTelugu.m3u8, ceae6ba6-a945-8a38-1410-820171ee8328, 1717391120515, 0.0, 0.0, 0.0, 821}                            |1717057120641|3216047272|a7jcoulv2gvvj3vu|78.142.20.154  |\n",
            "|109154002|6.0.8|7412863037|2024-06-04 13:34:48|d42e33fb0af8|S   |1    |b262ddb5-b60e-e022-84ef-bbb7d0e20476|media_access|0  |0  |522  |samsung|4G |9    |A  |{1163d0dd-27ed-b32d-0000-35c7849f, 0, 0, 0, 0, 0, 0, [], -1, News, ZeeAnmol, 420, Hindi, 0, 174, HUAWEI LLD-AL20, AES, 76, U, 0, false, 9990623298, [\"News\"], 0.0, ZeeAnmol : Program2, Jio 4G, -1, device, Exoplayer, Mithai+Kottu+Chittemma, H1|H2|H3, 2021-06-02T00:00:00+05:30, 14:00:00, 2, -1, -1, -1, 1717488288714, 210602420, live, [\"Drama\"], EPG_LIST_CHANNEL, -1, 0, 4938, live, -1, null, Tue Jun 04 13:34:48 GMT+05:30 2024, http%3A%2F%2Fjiotv.live.cdn.jio.com%2FZeeAnmol%2FZeeAnmol.m3u8, 711c7c80-22ea-5e85-7646-75e5f5744e4f, 1717401636198, 0.0, 0.0, 0.0, 767}                       |1717488288714|4279373870|xdmeawznl6f61q8n|75.34.250.16   |\n",
            "|109154002|6.0.8|6397330561|2024-05-31 14:59:57|dd1c4701d538|S   |1    |4505d6e8-c1e6-c3fb-91fc-46c38fcd35f8|media_access|0  |0  |6842 |HUAWEI |4G |9    |A  |{697360ac-52ba-53db-0000-a7c24fc3, 0, 0, 0, 0, 0, 0, [], -1, News, ZeeKannada, 550, Telugu, 0, 77, Xiaomi Redmi 7A, AES, 84, U, 0, false, 7492231975, [\"Politics\"], 0.0, ZeeKannada : Program3, Jio 4G, -1, device, Exoplayer, Mithai+Kottu+Chittemma, H1|H2|H3, 2021-06-02T00:00:00+05:30, 14:00:00, 1, -1, -1, -1, 1717147797123, 210602550, live, [\"News\"], EPG_LIST_CHANNEL, -1, 0, 4036, live, -1, null, Fri May 31 14:59:57 GMT+05:30 2024, http%3A%2F%2Fjiotv.live.cdn.jio.com%2FZeeKannada%2FZeeKannada.m3u8, c1b0c31e-4d3e-a0bb-2429-149e5385e597, 1717025046328, 0.0, 0.0, 0.0, 99}             |1717147797123|7938139507|gahhs6z9omzwjd2q|123.15.139.165 |\n",
            "|109154002|6.0.8|6815437274|2024-05-30 08:52:11|d086dd2134b0|S   |1    |66b42a3d-9354-2344-3d4b-46e5eb745660|media_access|0  |0  |5187 |Xiaomi |4G |8.1.0|A  |{1cfc8fe0-0396-9a30-0000-087d8217, 0, 0, 0, 0, 0, 0, [], -1, Entertainment, ZeeKannada, 350, Kannada, 0, 59, samsung SM-M205F, AES, 25, U, 0, false, 5712201654, [\"Politics\"], 0.0, ZeeKannada : Program2, Jio 4G, -1, device, Exoplayer, Punar+Vivaah, H1|H2|H3, 2021-06-02T00:00:00+05:30, 14:00:00, 3, -1, -1, -1, 1717039331203, 210602350, live, [\"News\"], EPG_LIST_CHANNEL, -1, 0, 4092, live, -1, null, Thu May 30 08:52:11 GMT+05:30 2024, http%3A%2F%2Fjiotv.live.cdn.jio.com%2FZeeKannada%2FZeeKannada.m3u8, bcf26723-c940-111f-fce0-b2cfb550da41, 1717198008385, 0.0, 0.0, 0.0, 179}           |1717039331203|4959360635|al3xhyechbsjnnfk|85.187.142.226 |\n",
            "|109154002|6.0.8|5707084375|2024-06-05 00:44:56|5df860fe7445|S   |1    |58055ab6-aeb3-681e-a5c6-a646ed4d503e|media_access|0  |0  |2230 |vivo   |4G |10   |A  |{77d73a3b-321a-6f54-0000-0c8b5ba7, 0, 0, 0, 0, 0, 0, [], -1, Entertainment, ZeeTVHD, 658, Assamese, 0, 162, samsung SM-M205F, AES, 18, U, 0, false, 6262447818, [\"Politics\"], 0.0, ZeeTVHD : Program1, Jio 4G, -1, device, Exoplayer, Trinayani, H1|H2|H3, 2021-06-02T00:00:00+05:30, 14:00:00, 3, -1, -1, -1, 1717528496508, 210602658, live, [\"News\"], EPG_LIST_CHANNEL, -1, 0, 2739, live, -1, null, Wed Jun 05 00:44:56 GMT+05:30 2024, http%3A%2F%2Fjiotv.live.cdn.jio.com%2FZeeTVHD%2FZeeTVHD.m3u8, ba5b70ae-1769-4888-17e7-c7c5aebdc006, 1717389948181, 0.0, 0.0, 0.0, 147}                        |1717528496508|1865523023|qnkclm839qgcfl67|138.88.229.28  |\n",
            "|109154002|6.0.8|7926247692|2024-05-30 22:47:24|b99920de3f52|S   |1    |d9fa1e0d-754b-b116-743d-8f5bf79ac21e|media_access|0  |0  |7702 |samsung|4G |8.1.0|A  |{2d7561b4-c419-28c6-0000-e52e6f41, 0, 0, 0, 0, 0, 0, [], -1, News, ZeeTVHD, 287, Hindi, 0, 128, samsung SM-M205F, AES, 98, U, 0, false, 2210692428, [\"News\"], 0.0, ZeeTVHD : Program3, Jio 4G, -1, device, Exoplayer, Pavitra+Rishta, H1|H2|H3, 2021-06-02T00:00:00+05:30, 14:00:00, 3, -1, -1, -1, 1717089444240, 210602287, live, [\"Drama\"], EPG_LIST_CHANNEL, -1, 0, 3709, live, -1, null, Thu May 30 22:47:24 GMT+05:30 2024, http%3A%2F%2Fjiotv.live.cdn.jio.com%2FZeeTVHD%2FZeeTVHD.m3u8, 9f899425-1e2c-7268-b9f1-eb34d91a6f96, 1717234131294, 0.0, 0.0, 0.0, 678}                                  |1717089444240|2607727740|11gz136ylk30jw7s|230.230.3.89   |\n",
            "|109154002|6.0.8|4154998109|2024-05-31 11:15:55|d907e360039d|S   |1    |01d1c7f0-3788-07a4-2589-fc9a33de9f9e|media_access|0  |0  |9689 |OPPO   |4G |9    |A  |{793cbf2b-7f6e-1a17-0000-e18ebfb5, 0, 0, 0, 0, 0, 0, [], -1, Entertainment, AajTak, 226, Hindi, 0, 148, samsung SM-M205F, AES, 52, U, 0, false, 6941008259, [\"Politics\"], 0.0, AajTak : Program2, Jio 4G, -1, device, Exoplayer, News, H1|H2|H3, 2021-06-02T00:00:00+05:30, 14:00:00, 2, -1, -1, -1, 1717134355907, 210602226, live, [\"News\"], EPG_LIST_CHANNEL, -1, 0, 3808, live, -1, null, Fri May 31 11:15:55 GMT+05:30 2024, http%3A%2F%2Fjiotv.live.cdn.jio.com%2FAajTak%2FAajTak.m3u8, b7aabbfe-9241-0457-0ee5-46b5ae931967, 1717232922793, 0.0, 0.0, 0.0, 837}                                    |1717134355907|6138760143|thg8qusdyret754f|84.211.21.255  |\n",
            "|109154002|6.0.8|9497383869|2024-06-02 09:50:52|10ccb5807b1c|S   |1    |0553f359-02b8-cecd-6aa0-3a9fcebbf71d|media_access|0  |0  |4659 |OPPO   |4G |8.1.0|A  |{0abd5672-05e8-4333-0000-eec6c8d2, 0, 0, 0, 0, 0, 0, [], -1, News, News18Assam, 275, Hindi, 0, 50, HUAWEI LLD-AL20, AES, 99, U, 0, false, 7212083758, [\"News\"], 0.0, News18Assam : Program2, Jio 4G, -1, device, Exoplayer, Afternoon+Express, H1|H2|H3, 2021-06-02T00:00:00+05:30, 14:00:00, 2, -1, -1, -1, 1717302052461, 210602275, live, [\"Drama\"], EPG_LIST_CHANNEL, -1, 0, 701, live, -1, null, Sun Jun 02 09:50:52 GMT+05:30 2024, http%3A%2F%2Fjiotv.live.cdn.jio.com%2FNews18Assam%2FNews18Assam.m3u8, 0728db93-ec9e-cc9a-2b57-39f467875154, 1717591415948, 0.0, 0.0, 0.0, 88}                   |1717302052461|8223968721|bi5z2vp70mbsozau|225.189.244.235|\n",
            "|109154002|6.0.8|7362514332|2024-06-02 23:49:15|77cb653d0264|S   |1    |4186044c-9729-2dcf-22e8-9ed8d1982d27|media_access|0  |0  |6510 |OPPO   |4G |8.1.0|A  |{779dfeff-5d1a-444b-0000-af7a315f, 0, 0, 0, 0, 0, 0, [], -1, Entertainment, AajTak, 213, Assamese, 0, 99, Xiaomi Redmi 7A, AES, 77, U, 0, false, 7197300683, [\"Drama\"], 0.0, AajTak : Program3, Jio 4G, -1, device, Exoplayer, Afternoon+Express, H1|H2|H3, 2021-06-02T00:00:00+05:30, 14:00:00, 3, -1, -1, -1, 1717352355071, 210602213, live, [\"News\"], EPG_LIST_CHANNEL, -1, 0, 1279, live, -1, null, Sun Jun 02 23:49:15 GMT+05:30 2024, http%3A%2F%2Fjiotv.live.cdn.jio.com%2FAajTak%2FAajTak.m3u8, 922f7a45-8693-919b-47a5-1559ccd95b33, 1717164057242, 0.0, 0.0, 0.0, 37}                          |1717352355071|9423347158|j0xjlgtnku1tn493|133.183.28.255 |\n",
            "|109154002|6.0.8|2384690764|2024-05-30 05:24:39|5754d04d22c3|S   |1    |553a9066-d083-5285-9625-53b961b6f2e1|media_access|0  |0  |1101 |vivo   |4G |9    |A  |{bf3566f0-89b9-48f9-0000-baa051d9, 0, 0, 0, 0, 0, 0, [], -1, News, ZeeKannada, 372, Kannada, 0, 146, OPPO RMX1801, AES, 14, U, 0, false, 5339730029, [\"Politics\"], 0.0, ZeeKannada : Program1, Jio 4G, -1, device, Exoplayer, Trinayani, H1|H2|H3, 2021-06-02T00:00:00+05:30, 14:00:00, 1, -1, -1, -1, 1717026879988, 210602372, live, [\"Drama\"], EPG_LIST_CHANNEL, -1, 0, 1731, live, -1, null, Thu May 30 05:24:39 GMT+05:30 2024, http%3A%2F%2Fjiotv.live.cdn.jio.com%2FZeeKannada%2FZeeKannada.m3u8, 1aefccef-ef38-41e4-0724-356dbbc9d915, 1717526812968, 0.0, 0.0, 0.0, 20}                          |1717026879988|4867293011|bfu7w9bj2dfub6n9|106.22.215.131 |\n",
            "|109154002|6.0.8|3191315730|2024-06-05 10:14:27|23201426ce77|S   |1    |157e3a0f-e178-b433-2f83-06e9da2c272c|media_access|0  |0  |4549 |Xiaomi |4G |8.1.0|A  |{488c6a50-a2e4-4fdb-0000-73ed037c, 0, 0, 0, 0, 0, 0, [], -1, Entertainment, News18Assam, 466, Telugu, 0, 159, vivo vivo 1801, AES, 96, U, 0, false, 2948862464, [\"Politics\"], 0.0, News18Assam : Program2, Jio 4G, -1, device, Exoplayer, Mithai+Kottu+Chittemma, H1|H2|H3, 2021-06-02T00:00:00+05:30, 14:00:00, 2, -1, -1, -1, 1717562667423, 210602466, live, [\"News\"], EPG_LIST_CHANNEL, -1, 0, 1302, live, -1, null, Wed Jun 05 10:14:27 GMT+05:30 2024, http%3A%2F%2Fjiotv.live.cdn.jio.com%2FNews18Assam%2FNews18Assam.m3u8, e9b43876-8d7b-aeab-9395-d25a73847e0e, 1717261218593, 0.0, 0.0, 0.0, 40}|1717562667423|5120955843|gqmkphlbnx13h4o1|75.191.223.201 |\n",
            "|109154002|6.0.8|7286994583|2024-06-01 18:57:53|41c089d53627|S   |1    |1222ec1d-373b-6f5d-85a2-796a356a53c3|media_access|0  |0  |2651 |Xiaomi |4G |9    |A  |{f6cc444e-5718-aa4a-0000-e43e0202, 0, 0, 0, 0, 0, 0, [], -1, News, ZeeTVHD, 288, Hindi, 0, 63, OPPO RMX1801, AES, 31, U, 0, false, 6533935488, [\"Politics\"], 0.0, ZeeTVHD : Program1, Jio 4G, -1, device, Exoplayer, Trinayani, H1|H2|H3, 2021-06-02T00:00:00+05:30, 14:00:00, 2, -1, -1, -1, 1717248473522, 210602288, live, [\"Drama\"], EPG_LIST_CHANNEL, -1, 0, 2387, live, -1, null, Sat Jun 01 18:57:53 GMT+05:30 2024, http%3A%2F%2Fjiotv.live.cdn.jio.com%2FZeeTVHD%2FZeeTVHD.m3u8, 66102adb-41e2-9951-5a1c-fd580d8bffce, 1717341376101, 0.0, 0.0, 0.0, 544}                                        |1717248473522|6257171877|9v9at5u9itcr1i0k|20.70.186.131  |\n",
            "|109154002|6.0.8|2872167342|2024-06-05 06:09:41|c1c123665de4|S   |1    |a80e6e78-8e40-f89c-d69d-0e707352da76|media_access|0  |0  |7740 |Xiaomi |4G |8.1.0|A  |{279f4e20-0842-edc1-0000-3776d7a1, 0, 0, 0, 0, 0, 0, [], -1, News, ZeeTelugu, 212, Assamese, 0, 77, vivo vivo 1801, AES, 32, U, 0, false, 5065033613, [\"Drama\"], 0.0, ZeeTelugu : Program3, Jio 4G, -1, device, Exoplayer, Mithai+Kottu+Chittemma, H1|H2|H3, 2021-06-02T00:00:00+05:30, 14:00:00, 1, -1, -1, -1, 1717547981717, 210602212, live, [\"News\"], EPG_LIST_CHANNEL, -1, 0, 2008, live, -1, null, Wed Jun 05 06:09:41 GMT+05:30 2024, http%3A%2F%2Fjiotv.live.cdn.jio.com%2FZeeTelugu%2FZeeTelugu.m3u8, 08b4d6d5-ebee-80b7-e944-901e090727c7, 1717160518585, 0.0, 0.0, 0.0, 480}                  |1717547981717|9312230445|xqumjemadhh5cckq|188.136.235.211|\n",
            "|109154002|6.0.8|4523108202|2024-05-30 05:05:43|d3cfa6e4a56b|S   |1    |ec3f9acc-a27c-34ba-8902-e1df776b4837|media_access|0  |0  |8508 |vivo   |4G |10   |A  |{01523ba7-c73c-ea1a-0000-7ed8a564, 0, 0, 0, 0, 0, 0, [], -1, Entertainment, ZeeTelugu, 566, Hindi, 0, 119, OPPO RMX1801, AES, 3, U, 0, false, 3413461111, [\"Drama\"], 0.0, ZeeTelugu : Program2, Jio 4G, -1, device, Exoplayer, Afternoon+Express, H1|H2|H3, 2021-06-02T00:00:00+05:30, 14:00:00, 2, -1, -1, -1, 1717025743752, 210602566, live, [\"Drama\"], EPG_LIST_CHANNEL, -1, 0, 1447, live, -1, null, Thu May 30 05:05:43 GMT+05:30 2024, http%3A%2F%2Fjiotv.live.cdn.jio.com%2FZeeTelugu%2FZeeTelugu.m3u8, 155014be-6a01-72e8-0bb7-0752616d3b04, 1717183589079, 0.0, 0.0, 0.0, 970}                  |1717025743752|3697608673|f7mwj1r2qxso8kt1|170.2.71.129   |\n",
            "|109154002|6.0.8|4368321043|2024-05-31 07:32:51|028b12e31142|S   |1    |7fc61ffa-4e0a-8f1f-2851-dcd72b5e821a|media_access|0  |0  |7182 |HUAWEI |4G |9    |A  |{2b686c24-929a-121e-0000-886addf6, 0, 0, 0, 0, 0, 0, [], -1, Entertainment, ZeeKannada, 174, Assamese, 0, 70, Xiaomi Redmi 7A, AES, 100, U, 0, false, 5628050176, [\"News\"], 0.0, ZeeKannada : Program1, Jio 4G, -1, device, Exoplayer, News, H1|H2|H3, 2021-06-02T00:00:00+05:30, 14:00:00, 1, -1, -1, -1, 1717120971685, 210602174, live, [\"Drama\"], EPG_LIST_CHANNEL, -1, 0, 2075, live, -1, null, Fri May 31 07:32:51 GMT+05:30 2024, http%3A%2F%2Fjiotv.live.cdn.jio.com%2FZeeKannada%2FZeeKannada.m3u8, 7a4f1d2a-1bd2-9fa8-8c9f-f0b5dfb3094e, 1717199748850, 0.0, 0.0, 0.0, 625}                     |1717120971685|9295706200|qqwh1e8a89mrxkov|75.58.150.12   |\n",
            "|109154002|6.0.8|1904538675|2024-06-04 19:52:32|9d95627b3863|S   |1    |5f2d6d2b-1be4-ac89-4f2c-a05c8e23c7bd|media_access|0  |0  |5377 |vivo   |4G |8.1.0|A  |{f5a0858c-c5b5-2324-0000-937d1690, 0, 0, 0, 0, 0, 0, [], -1, News, ZeeKannada, 204, Kannada, 0, 159, vivo vivo 1801, AES, 95, U, 0, false, 1616133359, [\"Politics\"], 0.0, ZeeKannada : Program1, Jio 4G, -1, device, Exoplayer, News, H1|H2|H3, 2021-06-02T00:00:00+05:30, 14:00:00, 2, -1, -1, -1, 1717510952805, 210602204, live, [\"Drama\"], EPG_LIST_CHANNEL, -1, 0, 1601, live, -1, null, Tue Jun 04 19:52:32 GMT+05:30 2024, http%3A%2F%2Fjiotv.live.cdn.jio.com%2FZeeKannada%2FZeeKannada.m3u8, d20d5084-390b-aec5-9a14-f28f6a3e57cd, 1717605262311, 0.0, 0.0, 0.0, 527}                            |1717510952805|5756913718|bnr691hj223t7uoy|206.94.208.136 |\n",
            "|109154002|6.0.8|7431393489|2024-06-04 03:29:37|71810c8378c8|S   |1    |8122ed68-1ebd-d93d-f525-003d9ced9736|media_access|0  |0  |1984 |Xiaomi |4G |9    |A  |{94ae6e8d-e132-0d9a-0000-ebddb385, 0, 0, 0, 0, 0, 0, [], -1, Entertainment, ZeeTelugu, 417, Kannada, 0, 84, OPPO RMX1801, AES, 64, U, 0, false, 4583664146, [\"News\"], 0.0, ZeeTelugu : Program2, Jio 4G, -1, device, Exoplayer, Pavitra+Rishta, H1|H2|H3, 2021-06-02T00:00:00+05:30, 14:00:00, 2, -1, -1, -1, 1717451977369, 210602417, live, [\"Drama\"], EPG_LIST_CHANNEL, -1, 0, 2401, live, -1, null, Tue Jun 04 03:29:37 GMT+05:30 2024, http%3A%2F%2Fjiotv.live.cdn.jio.com%2FZeeTelugu%2FZeeTelugu.m3u8, 106d3e8f-bd5f-90ad-ee99-eb72a369ffd8, 1717594623897, 0.0, 0.0, 0.0, 39}                     |1717451977369|9815234709|oynmyuvitaur7y0c|162.205.27.224 |\n",
            "+---------+-----+----------+-------------------+------------+----+-----+------------------------------------+------------+---+---+-----+-------+---+-----+---+----------------------------------------------------------------------------------------------------------------------------------------------------------------------------------------------------------------------------------------------------------------------------------------------------------------------------------------------------------------------------------------------------------------------------------------------------------------------------------------------------------------------------------------------------------------------------------------------------------+-------------+----------+----------------+---------------+\n",
            "only showing top 20 rows\n",
            "\n"
          ]
        }
      ],
      "source": [
        "raw_df = spark.read.option(\"multiline\", \"true\").json(file_path)\n",
        "\n",
        "\n",
        "raw_df.printSchema()\n",
        "raw_df.show(truncate=False)\n"
      ]
    },
    {
      "cell_type": "markdown",
      "metadata": {
        "id": "SipUVWnlrsmJ"
      },
      "source": [
        "Exploratory Data Analysis (EDA):"
      ]
    },
    {
      "cell_type": "markdown",
      "source": [
        "Descriptive Statistics: The describe().show() method generates summary statistics for numeric columns, providing insights into the data distribution.\n",
        "\n",
        "Unique Values: The select().distinct().show() method extracts specific columns from a nested structure, removes duplicates, and displays the unique values, offering a clear view of the distinct combinations present in those columns."
      ],
      "metadata": {
        "id": "7C2Ake5ck_Iy"
      }
    },
    {
      "cell_type": "code",
      "execution_count": null,
      "metadata": {
        "colab": {
          "base_uri": "https://localhost:8080/"
        },
        "id": "sI-HeI9nAAd-",
        "outputId": "34abaf4d-c2fc-4960-9aaf-9de238a8ec68"
      },
      "outputs": [
        {
          "output_type": "stream",
          "name": "stdout",
          "text": [
            "root\n",
            " |-- akey: string (nullable = true)\n",
            " |-- avn: string (nullable = true)\n",
            " |-- crmid: string (nullable = true)\n",
            " |-- dateflink: string (nullable = true)\n",
            " |-- did: string (nullable = true)\n",
            " |-- dtpe: string (nullable = true)\n",
            " |-- evtno: string (nullable = true)\n",
            " |-- idamid: string (nullable = true)\n",
            " |-- key: string (nullable = true)\n",
            " |-- lat: string (nullable = true)\n",
            " |-- lng: string (nullable = true)\n",
            " |-- logno: string (nullable = true)\n",
            " |-- mnu: string (nullable = true)\n",
            " |-- nwk: string (nullable = true)\n",
            " |-- osv: string (nullable = true)\n",
            " |-- pf: string (nullable = true)\n",
            " |-- pro: struct (nullable = true)\n",
            " |    |-- HARD_CODE_DEVICE_ID: string (nullable = true)\n",
            " |    |-- avr: string (nullable = true)\n",
            " |    |-- bbc: string (nullable = true)\n",
            " |    |-- bbd: string (nullable = true)\n",
            " |    |-- bc: string (nullable = true)\n",
            " |    |-- bd: string (nullable = true)\n",
            " |    |-- bdl: string (nullable = true)\n",
            " |    |-- bufferdetails: string (nullable = true)\n",
            " |    |-- cellid: string (nullable = true)\n",
            " |    |-- cg: string (nullable = true)\n",
            " |    |-- ch: string (nullable = true)\n",
            " |    |-- channel_id: string (nullable = true)\n",
            " |    |-- cl: string (nullable = true)\n",
            " |    |-- codec: string (nullable = true)\n",
            " |    |-- d: string (nullable = true)\n",
            " |    |-- dm: string (nullable = true)\n",
            " |    |-- encryption: string (nullable = true)\n",
            " |    |-- ep: string (nullable = true)\n",
            " |    |-- finish: string (nullable = true)\n",
            " |    |-- index: string (nullable = true)\n",
            " |    |-- isottuser: string (nullable = true)\n",
            " |    |-- jio_id: string (nullable = true)\n",
            " |    |-- keywords: string (nullable = true)\n",
            " |    |-- lac: string (nullable = true)\n",
            " |    |-- n: string (nullable = true)\n",
            " |    |-- opr: string (nullable = true)\n",
            " |    |-- pci: string (nullable = true)\n",
            " |    |-- playback_screen: string (nullable = true)\n",
            " |    |-- player: string (nullable = true)\n",
            " |    |-- pn: string (nullable = true)\n",
            " |    |-- prof: string (nullable = true)\n",
            " |    |-- program_date: string (nullable = true)\n",
            " |    |-- program_time: string (nullable = true)\n",
            " |    |-- prow: string (nullable = true)\n",
            " |    |-- rsrp: string (nullable = true)\n",
            " |    |-- rsrq: string (nullable = true)\n",
            " |    |-- rssi: string (nullable = true)\n",
            " |    |-- rtc: string (nullable = true)\n",
            " |    |-- serial_number: string (nullable = true)\n",
            " |    |-- settype: string (nullable = true)\n",
            " |    |-- show_genre: string (nullable = true)\n",
            " |    |-- source: string (nullable = true)\n",
            " |    |-- ss: string (nullable = true)\n",
            " |    |-- start: string (nullable = true)\n",
            " |    |-- startuptime: string (nullable = true)\n",
            " |    |-- t: string (nullable = true)\n",
            " |    |-- tac: string (nullable = true)\n",
            " |    |-- tac_id: string (nullable = true)\n",
            " |    |-- timestamp: string (nullable = true)\n",
            " |    |-- u: string (nullable = true)\n",
            " |    |-- unique_session_id: string (nullable = true)\n",
            " |    |-- unique_session_timestamp: string (nullable = true)\n",
            " |    |-- watch_time_dock: string (nullable = true)\n",
            " |    |-- watch_time_landscape: string (nullable = true)\n",
            " |    |-- watch_time_pip: string (nullable = true)\n",
            " |    |-- watch_time_portrait: string (nullable = true)\n",
            " |-- rtc: string (nullable = true)\n",
            " |-- sid: string (nullable = true)\n",
            " |-- uid: string (nullable = true)\n",
            " |-- x-forwarded-for: string (nullable = true)\n",
            "\n",
            "+-------+------------+------+--------------------+-------------------+------------+------+------+--------------------+------------+------+------+-----------------+------+------+------------------+------+--------------------+-------------------+----------------+---------------+\n",
            "|summary|        akey|   avn|               crmid|          dateflink|         did|  dtpe| evtno|              idamid|         key|   lat|   lng|            logno|   mnu|   nwk|               osv|    pf|                 rtc|                sid|             uid|x-forwarded-for|\n",
            "+-------+------------+------+--------------------+-------------------+------------+------+------+--------------------+------------+------+------+-----------------+------+------+------------------+------+--------------------+-------------------+----------------+---------------+\n",
            "|  count|      100000|100000|              100000|             100000|      100000|100000|100000|              100000|      100000|100000|100000|           100000|100000|100000|            100000|100000|              100000|             100000|          100000|         100000|\n",
            "|   mean|1.09154002E8|  null|  5.49573687131574E9|               null|    Infinity|  null|   1.0|                null|        null|   0.0|   0.0|       5004.08896|  null|  null| 9.499355360997841|  null|1.717309386416245E12| 5.51731258596446E9|            null|           null|\n",
            "| stddev|         0.0|  null|2.5949135369885244E9|               null|         NaN|  null|   0.0|                null|        null|   0.0|   0.0|2883.361333130463|  null|  null|0.5000033323805851|  null|1.7524271087172562E8|2.599943889534566E9|            null|           null|\n",
            "|    min|   109154002| 6.0.8|          1000055361|2024-05-30 00:00:05|0000626de940|     S|     1|0000ae4d-fc6b-0b0...|media_access|     0|     0|                1|HUAWEI|    4G|                10|     A|       1717007405431|         1000038643|000wryk5f4qel7a9|     0.1.30.207|\n",
            "|    max|   109154002| 6.0.8|          9999848885|2024-06-05 23:59:59|ffffa29e7e97|     S|     1|fffff6c9-3a05-f84...|media_access|     0|     0|             9999|  vivo|    4G|                 9|     A|       1717612199873|         9999809552|zzzuhg9p1if66pk0|   99.99.52.190|\n",
            "+-------+------------+------+--------------------+-------------------+------------+------+------+--------------------+------------+------+------+-----------------+------+------+------------------+------+--------------------+-------------------+----------------+---------------+\n",
            "\n",
            "+-------------+-----------+----------+\n",
            "|           cg|         ch|show_genre|\n",
            "+-------------+-----------+----------+\n",
            "|Entertainment|News18Assam| [\"Drama\"]|\n",
            "|         News|News18Assam| [\"Drama\"]|\n",
            "|         News|     AajTak|  [\"News\"]|\n",
            "|Entertainment|   ZeeAnmol|  [\"News\"]|\n",
            "|         News|     AajTak| [\"Drama\"]|\n",
            "|Entertainment|   ZeeAnmol| [\"Drama\"]|\n",
            "|         News|    ZeeTVHD|  [\"News\"]|\n",
            "|         News|   ZeeAnmol| [\"Drama\"]|\n",
            "|         News|  ZeeTelugu|  [\"News\"]|\n",
            "|         News| ZeeKannada| [\"Drama\"]|\n",
            "|Entertainment| ZeeKannada|  [\"News\"]|\n",
            "|         News|  ZeeTelugu| [\"Drama\"]|\n",
            "|Entertainment|    ZeeTVHD|  [\"News\"]|\n",
            "|Entertainment|News18Assam|  [\"News\"]|\n",
            "|Entertainment|     AajTak|  [\"News\"]|\n",
            "|Entertainment|  ZeeTelugu| [\"Drama\"]|\n",
            "|         News| ZeeKannada|  [\"News\"]|\n",
            "|         News|News18Assam|  [\"News\"]|\n",
            "|Entertainment|    ZeeTVHD| [\"Drama\"]|\n",
            "|         News|   ZeeAnmol|  [\"News\"]|\n",
            "+-------------+-----------+----------+\n",
            "only showing top 20 rows\n",
            "\n"
          ]
        }
      ],
      "source": [
        "\n",
        "raw_df.printSchema()\n",
        "raw_df.describe().show()\n",
        "raw_df.select(\"pro.cg\", \"pro.ch\", \"pro.show_genre\").distinct().show()\n"
      ]
    },
    {
      "cell_type": "markdown",
      "metadata": {
        "id": "FE7-8JSRrwR1"
      },
      "source": [
        "Data Cleaning:"
      ]
    },
    {
      "cell_type": "markdown",
      "source": [
        "Processing the 'pro' Column\n",
        "\n",
        "\n",
        "Existence Check: Verified if the 'pro' column is present in the dataset.\n",
        "\n",
        "Data Extraction: If the 'pro' column contains data, all nested fields within 'pro' were extracted into a new DataFrame (pro_df).\n",
        "\n",
        "Schema Display: The schema of the extracted pro_df was printed to ensure all necessary fields were included.\n",
        "\n",
        "Column Selection: Created a new DataFrame with selected columns from the original dataset, including nested fields from 'pro', and renamed 'x-forwarded-for' to 'ip_address'.\n",
        "\n",
        "Data Type Casting: Cast specific fields within 'pro' to appropriate data types (e.g., converting watch time fields to DoubleType, program date to date type, and extracting program hour)."
      ],
      "metadata": {
        "id": "zig--uGRnrKC"
      }
    },
    {
      "cell_type": "code",
      "execution_count": null,
      "metadata": {
        "colab": {
          "base_uri": "https://localhost:8080/"
        },
        "id": "a7T5ONHrAAgv",
        "outputId": "6852f771-afbb-4b59-e140-c7673058db74"
      },
      "outputs": [
        {
          "output_type": "stream",
          "name": "stdout",
          "text": [
            "root\n",
            " |-- akey: string (nullable = true)\n",
            " |-- avn: string (nullable = true)\n",
            " |-- crmid: string (nullable = true)\n",
            " |-- dateflink: string (nullable = true)\n",
            " |-- did: string (nullable = true)\n",
            " |-- dtpe: string (nullable = true)\n",
            " |-- evtno: string (nullable = true)\n",
            " |-- idamid: string (nullable = true)\n",
            " |-- key: string (nullable = true)\n",
            " |-- lat: string (nullable = true)\n",
            " |-- lng: string (nullable = true)\n",
            " |-- logno: string (nullable = true)\n",
            " |-- mnu: string (nullable = true)\n",
            " |-- nwk: string (nullable = true)\n",
            " |-- osv: string (nullable = true)\n",
            " |-- pf: string (nullable = true)\n",
            " |-- pro: struct (nullable = true)\n",
            " |    |-- HARD_CODE_DEVICE_ID: string (nullable = true)\n",
            " |    |-- avr: string (nullable = true)\n",
            " |    |-- bbc: string (nullable = true)\n",
            " |    |-- bbd: string (nullable = true)\n",
            " |    |-- bc: string (nullable = true)\n",
            " |    |-- bd: string (nullable = true)\n",
            " |    |-- bdl: string (nullable = true)\n",
            " |    |-- bufferdetails: string (nullable = true)\n",
            " |    |-- cellid: string (nullable = true)\n",
            " |    |-- cg: string (nullable = true)\n",
            " |    |-- ch: string (nullable = true)\n",
            " |    |-- channel_id: string (nullable = true)\n",
            " |    |-- cl: string (nullable = true)\n",
            " |    |-- codec: string (nullable = true)\n",
            " |    |-- d: string (nullable = true)\n",
            " |    |-- dm: string (nullable = true)\n",
            " |    |-- encryption: string (nullable = true)\n",
            " |    |-- ep: string (nullable = true)\n",
            " |    |-- finish: string (nullable = true)\n",
            " |    |-- index: string (nullable = true)\n",
            " |    |-- isottuser: string (nullable = true)\n",
            " |    |-- jio_id: string (nullable = true)\n",
            " |    |-- keywords: string (nullable = true)\n",
            " |    |-- lac: string (nullable = true)\n",
            " |    |-- n: string (nullable = true)\n",
            " |    |-- opr: string (nullable = true)\n",
            " |    |-- pci: string (nullable = true)\n",
            " |    |-- playback_screen: string (nullable = true)\n",
            " |    |-- player: string (nullable = true)\n",
            " |    |-- pn: string (nullable = true)\n",
            " |    |-- prof: string (nullable = true)\n",
            " |    |-- program_date: string (nullable = true)\n",
            " |    |-- program_time: string (nullable = true)\n",
            " |    |-- prow: string (nullable = true)\n",
            " |    |-- rsrp: string (nullable = true)\n",
            " |    |-- rsrq: string (nullable = true)\n",
            " |    |-- rssi: string (nullable = true)\n",
            " |    |-- rtc: string (nullable = true)\n",
            " |    |-- serial_number: string (nullable = true)\n",
            " |    |-- settype: string (nullable = true)\n",
            " |    |-- show_genre: string (nullable = true)\n",
            " |    |-- source: string (nullable = true)\n",
            " |    |-- ss: string (nullable = true)\n",
            " |    |-- start: string (nullable = true)\n",
            " |    |-- startuptime: string (nullable = true)\n",
            " |    |-- t: string (nullable = true)\n",
            " |    |-- tac: string (nullable = true)\n",
            " |    |-- tac_id: string (nullable = true)\n",
            " |    |-- timestamp: string (nullable = true)\n",
            " |    |-- u: string (nullable = true)\n",
            " |    |-- unique_session_id: string (nullable = true)\n",
            " |    |-- unique_session_timestamp: string (nullable = true)\n",
            " |    |-- watch_time_dock: string (nullable = true)\n",
            " |    |-- watch_time_landscape: string (nullable = true)\n",
            " |    |-- watch_time_pip: string (nullable = true)\n",
            " |    |-- watch_time_portrait: string (nullable = true)\n",
            " |-- rtc: string (nullable = true)\n",
            " |-- sid: string (nullable = true)\n",
            " |-- uid: string (nullable = true)\n",
            " |-- x-forwarded-for: string (nullable = true)\n",
            "\n",
            "+---------+-----+----------+-------------------+------------+----+-----+------------------------------------+------------+---+---+-----+-------+---+-----+---+----------------------------------------------------------------------------------------------------------------------------------------------------------------------------------------------------------------------------------------------------------------------------------------------------------------------------------------------------------------------------------------------------------------------------------------------------------------------------------------------------------------------------------------------------------------------------------------------------------+-------------+----------+----------------+---------------+\n",
            "|akey     |avn  |crmid     |dateflink          |did         |dtpe|evtno|idamid                              |key         |lat|lng|logno|mnu    |nwk|osv  |pf |pro                                                                                                                                                                                                                                                                                                                                                                                                                                                                                                                                                                                                       |rtc          |sid       |uid             |x-forwarded-for|\n",
            "+---------+-----+----------+-------------------+------------+----+-----+------------------------------------+------------+---+---+-----+-------+---+-----+---+----------------------------------------------------------------------------------------------------------------------------------------------------------------------------------------------------------------------------------------------------------------------------------------------------------------------------------------------------------------------------------------------------------------------------------------------------------------------------------------------------------------------------------------------------------------------------------------------------------+-------------+----------+----------------+---------------+\n",
            "|109154002|6.0.8|3415106380|2024-06-02 18:30:54|97dcffe59997|S   |1    |14d32fe6-5a84-0c1b-4537-9ad491206ca2|media_access|0  |0  |105  |samsung|4G |8.1.0|A  |{4329372c-4b4d-53e4-0000-d4a9eeb5, 0, 0, 0, 0, 0, 0, [], -1, News, ZeeAnmol, 204, Telugu, 0, 63, OPPO RMX1801, AES, 40, U, 0, false, 1977365246, [\"Drama\"], 0.0, ZeeAnmol : Program1, Jio 4G, -1, device, Exoplayer, Trinayani, H1|H2|H3, 2021-06-02T00:00:00+05:30, 14:00:00, 3, -1, -1, -1, 1717333254406, 210602204, live, [\"Drama\"], EPG_LIST_CHANNEL, -1, 0, 1546, live, -1, null, Sun Jun 02 18:30:54 GMT+05:30 2024, http%3A%2F%2Fjiotv.live.cdn.jio.com%2FZeeAnmol%2FZeeAnmol.m3u8, f9544904-65a5-8832-7dac-cf8f7c0be161, 1717395906421, 0.0, 0.0, 0.0, 372}                                      |1717333254406|3348503611|p4ql6ycde4n51u0k|46.170.220.188 |\n",
            "|109154002|6.0.8|7299846611|2024-06-03 07:51:05|bf7afdcdf149|S   |1    |9ef70cbd-42b4-2506-2142-1ee246e9d7ff|media_access|0  |0  |3642 |Xiaomi |4G |10   |A  |{f52cae8a-abbf-8235-0000-fe20dad9, 0, 0, 0, 0, 0, 0, [], -1, News, ZeeTelugu, 588, Assamese, 0, 82, HUAWEI LLD-AL20, AES, 48, U, 0, false, 8045215853, [\"Politics\"], 0.0, ZeeTelugu : Program3, Jio 4G, -1, device, Exoplayer, Trinayani, H1|H2|H3, 2021-06-02T00:00:00+05:30, 14:00:00, 2, -1, -1, -1, 1717381265140, 210602588, live, [\"News\"], EPG_LIST_CHANNEL, -1, 0, 965, live, -1, null, Mon Jun 03 07:51:05 GMT+05:30 2024, http%3A%2F%2Fjiotv.live.cdn.jio.com%2FZeeTelugu%2FZeeTelugu.m3u8, 08a8006a-e6a2-ad17-815b-f75a515a4c96, 1717240653004, 0.0, 0.0, 0.0, 326}                            |1717381265140|9747847561|zm81k8aggfqj923x|24.144.23.250  |\n",
            "|109154002|6.0.8|4454904068|2024-06-01 04:55:32|35826c46ff94|S   |1    |ab72f4b2-e358-403d-7e99-4e56706b7728|media_access|0  |0  |4733 |OPPO   |4G |9    |A  |{8beed459-aeed-0855-0000-93872bdc, 0, 0, 0, 0, 0, 0, [], -1, Entertainment, AajTak, 148, Telugu, 0, 167, HUAWEI LLD-AL20, AES, 22, U, 0, false, 8635229578, [\"Drama\"], 0.0, AajTak : Program2, Jio 4G, -1, device, Exoplayer, Punar+Vivaah, H1|H2|H3, 2021-06-02T00:00:00+05:30, 14:00:00, 2, -1, -1, -1, 1717197932171, 210602148, live, [\"News\"], EPG_LIST_CHANNEL, -1, 0, 4931, live, -1, null, Sat Jun 01 04:55:32 GMT+05:30 2024, http%3A%2F%2Fjiotv.live.cdn.jio.com%2FAajTak%2FAajTak.m3u8, c38e52f3-c59b-a9fa-39d8-6c62ff6bd709, 1717053771989, 0.0, 0.0, 0.0, 449}                               |1717197932171|6029815267|y92ldsdgzhee6g26|54.143.242.192 |\n",
            "|109154002|6.0.8|2922718294|2024-06-04 02:12:02|cb06b98bbcbd|S   |1    |e3db5848-95f2-35dd-8d1f-e6414545b69e|media_access|0  |0  |8081 |vivo   |4G |10   |A  |{8667f14d-88ad-2818-0000-d1604b5b, 0, 0, 0, 0, 0, 0, [], -1, News, ZeeAnmol, 608, Kannada, 0, 163, Xiaomi Redmi 7A, AES, 84, U, 0, false, 7597739953, [\"News\"], 0.0, ZeeAnmol : Program1, Jio 4G, -1, device, Exoplayer, Pavitra+Rishta, H1|H2|H3, 2021-06-02T00:00:00+05:30, 14:00:00, 3, -1, -1, -1, 1717447322595, 210602608, live, [\"Drama\"], EPG_LIST_CHANNEL, -1, 0, 3635, live, -1, null, Tue Jun 04 02:12:02 GMT+05:30 2024, http%3A%2F%2Fjiotv.live.cdn.jio.com%2FZeeAnmol%2FZeeAnmol.m3u8, 3f6e0f60-e0da-4019-2783-9d7b53b02fed, 1717508668776, 0.0, 0.0, 0.0, 278}                             |1717447322595|7824736735|4k8mi4dnbm7ki3zx|153.37.149.242 |\n",
            "|109154002|6.0.8|3660991280|2024-05-30 12:37:47|1d6ebd1f44ff|S   |1    |fe34dea5-63ca-cfff-8281-ab062bd09d23|media_access|0  |0  |5820 |vivo   |4G |8.1.0|A  |{1d362003-eeac-63c4-0000-9293fffe, 0, 0, 0, 0, 0, 0, [], -1, News, ZeeAnmol, 402, Telugu, 0, 198, OPPO RMX1801, AES, 53, U, 0, false, 7444987206, [\"Politics\"], 0.0, ZeeAnmol : Program3, Jio 4G, -1, device, Exoplayer, Trinayani, H1|H2|H3, 2021-06-02T00:00:00+05:30, 14:00:00, 1, -1, -1, -1, 1717052867742, 210602402, live, [\"Drama\"], EPG_LIST_CHANNEL, -1, 0, 4010, live, -1, null, Thu May 30 12:37:47 GMT+05:30 2024, http%3A%2F%2Fjiotv.live.cdn.jio.com%2FZeeAnmol%2FZeeAnmol.m3u8, e62fe05c-66d6-aee1-91dc-20065ad46b7e, 1717084365449, 0.0, 0.0, 0.0, 248}                                  |1717052867742|9563259696|fktg95znoe6qjkbp|74.51.65.238   |\n",
            "|109154002|6.0.8|3736535712|2024-06-04 18:08:04|8f39f0aa4bf1|S   |1    |b728292d-8df5-ff6e-5f57-fab1a57b8f79|media_access|0  |0  |311  |HUAWEI |4G |8.1.0|A  |{a9f70e2a-a417-c184-0000-9496f7dc, 0, 0, 0, 0, 0, 0, [], -1, News, ZeeTVHD, 585, Assamese, 0, 87, samsung SM-M205F, AES, 62, U, 0, false, 6735194040, [\"Politics\"], 0.0, ZeeTVHD : Program3, Jio 4G, -1, device, Exoplayer, Trinayani, H1|H2|H3, 2021-06-02T00:00:00+05:30, 14:00:00, 3, -1, -1, -1, 1717504684555, 210602585, live, [\"News\"], EPG_LIST_CHANNEL, -1, 0, 339, live, -1, null, Tue Jun 04 18:08:04 GMT+05:30 2024, http%3A%2F%2Fjiotv.live.cdn.jio.com%2FZeeTVHD%2FZeeTVHD.m3u8, f0d0c12d-2c9f-a0d1-0fd1-1652d0cbf285, 1717435293172, 0.0, 0.0, 0.0, 479}                                   |1717504684555|4395961609|ji4owptewlremvsd|1.97.254.212   |\n",
            "|109154002|6.0.8|1297397844|2024-06-01 02:48:57|3de087d04ec7|S   |1    |58676a2a-600c-c88a-cc5b-2ad9302716ea|media_access|0  |0  |3308 |OPPO   |4G |8.1.0|A  |{62d7a26d-3c7d-17a0-0000-6a96149c, 0, 0, 0, 0, 0, 0, [], -1, News, ZeeTelugu, 450, Kannada, 0, 70, OPPO RMX1801, AES, 88, U, 0, false, 7838793406, [\"Drama\"], 0.0, ZeeTelugu : Program2, Jio 4G, -1, device, Exoplayer, Trinayani, H1|H2|H3, 2021-06-02T00:00:00+05:30, 14:00:00, 3, -1, -1, -1, 1717190337556, 210602450, live, [\"News\"], EPG_LIST_CHANNEL, -1, 0, 2009, live, -1, null, Sat Jun 01 02:48:57 GMT+05:30 2024, http%3A%2F%2Fjiotv.live.cdn.jio.com%2FZeeTelugu%2FZeeTelugu.m3u8, 0d9d88fd-b3e0-0c14-b616-1f553b3997e0, 1717544439513, 0.0, 0.0, 0.0, 945}                                  |1717190337556|2062840257|6fw95sa6nxc6py0j|68.104.174.235 |\n",
            "|109154002|6.0.8|8628478804|2024-06-04 05:14:37|df5ec772d5f5|S   |1    |8b81602f-4db3-de06-60e4-cf5e67171b04|media_access|0  |0  |1731 |vivo   |4G |8.1.0|A  |{d2903e34-318c-0644-0000-f62f6fbb, 0, 0, 0, 0, 0, 0, [], -1, Entertainment, ZeeTelugu, 556, Kannada, 0, 113, Xiaomi Redmi 7A, AES, 2, U, 0, false, 9496059441, [\"Politics\"], 0.0, ZeeTelugu : Program2, Jio 4G, -1, device, Exoplayer, Mithai+Kottu+Chittemma, H1|H2|H3, 2021-06-02T00:00:00+05:30, 14:00:00, 1, -1, -1, -1, 1717458277748, 210602556, live, [\"Drama\"], EPG_LIST_CHANNEL, -1, 0, 3024, live, -1, null, Tue Jun 04 05:14:37 GMT+05:30 2024, http%3A%2F%2Fjiotv.live.cdn.jio.com%2FZeeTelugu%2FZeeTelugu.m3u8, 9e24bb64-e762-7a2b-f770-2b397adc9792, 1717205992803, 0.0, 0.0, 0.0, 290}     |1717458277748|7669464119|7wt0m17tz0dabz9p|171.129.199.26 |\n",
            "|109154002|6.0.8|9113847201|2024-06-04 03:20:35|e3617be4ec82|S   |1    |d5ce6986-0cfe-65fb-0fc1-437bc7fd188b|media_access|0  |0  |6609 |samsung|4G |10   |A  |{e73592ab-8602-84c8-0000-cfa05da4, 0, 0, 0, 0, 0, 0, [], -1, Entertainment, ZeeAnmol, 480, Kannada, 0, 68, Xiaomi Redmi 7A, AES, 44, U, 0, false, 1943988476, [\"Politics\"], 0.0, ZeeAnmol : Program2, Jio 4G, -1, device, Exoplayer, Trinayani, H1|H2|H3, 2021-06-02T00:00:00+05:30, 14:00:00, 2, -1, -1, -1, 1717451435020, 210602480, live, [\"News\"], EPG_LIST_CHANNEL, -1, 0, 1460, live, -1, null, Tue Jun 04 03:20:35 GMT+05:30 2024, http%3A%2F%2Fjiotv.live.cdn.jio.com%2FZeeAnmol%2FZeeAnmol.m3u8, 9d85290a-96cf-c1b5-a366-bd73b8bfa906, 1717436923920, 0.0, 0.0, 0.0, 789}                       |1717451435020|4256567237|xj7zr3u223qzd22h|32.121.135.239 |\n",
            "|109154002|6.0.8|1026725232|2024-06-05 22:28:49|0581d969bfc8|S   |1    |b1df8c53-0b4d-368e-1db6-f2e4c8646080|media_access|0  |0  |8867 |Xiaomi |4G |8.1.0|A  |{9b4de3a6-7d74-056f-0000-d3cbab9a, 0, 0, 0, 0, 0, 0, [], -1, News, ZeeTelugu, 326, Hindi, 0, 113, HUAWEI LLD-AL20, AES, 87, U, 0, false, 6060244034, [\"News\"], 0.0, ZeeTelugu : Program1, Jio 4G, -1, device, Exoplayer, Pavitra+Rishta, H1|H2|H3, 2021-06-02T00:00:00+05:30, 14:00:00, 3, -1, -1, -1, 1717606729325, 210602326, live, [\"Drama\"], EPG_LIST_CHANNEL, -1, 0, 4379, live, -1, null, Wed Jun 05 22:28:49 GMT+05:30 2024, http%3A%2F%2Fjiotv.live.cdn.jio.com%2FZeeTelugu%2FZeeTelugu.m3u8, 083d4ed4-ccbf-aaf5-6a03-133af0e7588e, 1717496075585, 0.0, 0.0, 0.0, 644}                           |1717606729325|1837108501|cabhyevpx0a5c3r2|105.42.1.133   |\n",
            "|109154002|6.0.8|2958780469|2024-06-01 07:30:15|bbef574d1e1b|S   |1    |a15844fa-b8dc-9d64-5b29-10c3e985fa1e|media_access|0  |0  |6606 |samsung|4G |8.1.0|A  |{5cc1b5a8-93d9-4cf2-0000-b565420c, 0, 0, 0, 0, 0, 0, [], -1, Entertainment, ZeeKannada, 298, Kannada, 0, 85, Xiaomi Redmi 7A, AES, 43, U, 0, false, 8792030894, [\"Politics\"], 0.0, ZeeKannada : Program3, Jio 4G, -1, device, Exoplayer, News, H1|H2|H3, 2021-06-02T00:00:00+05:30, 14:00:00, 1, -1, -1, -1, 1717207215807, 210602298, live, [\"Drama\"], EPG_LIST_CHANNEL, -1, 0, 2931, live, -1, null, Sat Jun 01 07:30:15 GMT+05:30 2024, http%3A%2F%2Fjiotv.live.cdn.jio.com%2FZeeKannada%2FZeeKannada.m3u8, 9a316ac3-b599-eaa2-7f13-82ac052da713, 1717425016065, 0.0, 0.0, 0.0, 280}                   |1717207215807|7184869862|3sbph5iulxumuq61|18.146.131.203 |\n",
            "|109154002|6.0.8|4959332274|2024-06-04 04:37:46|91b2e423385c|S   |1    |f2acd1c4-d85b-57be-17a7-aa2e718d3978|media_access|0  |0  |5546 |Xiaomi |4G |10   |A  |{595c6885-b09f-00b8-0000-120e04a0, 0, 0, 0, 0, 0, 0, [], -1, Entertainment, ZeeKannada, 511, Kannada, 0, 67, HUAWEI LLD-AL20, AES, 49, U, 0, false, 6207263104, [\"Drama\"], 0.0, ZeeKannada : Program2, Jio 4G, -1, device, Exoplayer, Punar+Vivaah, H1|H2|H3, 2021-06-02T00:00:00+05:30, 14:00:00, 2, -1, -1, -1, 1717456066656, 210602511, live, [\"Drama\"], EPG_LIST_CHANNEL, -1, 0, 275, live, -1, null, Tue Jun 04 04:37:46 GMT+05:30 2024, http%3A%2F%2Fjiotv.live.cdn.jio.com%2FZeeKannada%2FZeeKannada.m3u8, 0f42a99e-c899-b2d3-7ac2-5b8cc792c88e, 1717259332546, 0.0, 0.0, 0.0, 84}                |1717456066656|9433777250|dlpxcgjorgzkgbvs|113.252.46.171 |\n",
            "|109154002|6.0.8|6161350138|2024-06-04 14:51:43|59f1340cbc9e|S   |1    |9aae557d-f2aa-2adc-e025-9ccc9624f95e|media_access|0  |0  |6424 |vivo   |4G |10   |A  |{58ab67a7-2675-1d35-0000-92326787, 0, 0, 0, 0, 0, 0, [], -1, Entertainment, AajTak, 628, Hindi, 0, 58, samsung SM-M205F, AES, 74, U, 0, false, 3311465953, [\"Politics\"], 0.0, AajTak : Program3, Jio 4G, -1, device, Exoplayer, Punar+Vivaah, H1|H2|H3, 2021-06-02T00:00:00+05:30, 14:00:00, 2, -1, -1, -1, 1717492903607, 210602628, live, [\"Drama\"], EPG_LIST_CHANNEL, -1, 0, 403, live, -1, null, Tue Jun 04 14:51:43 GMT+05:30 2024, http%3A%2F%2Fjiotv.live.cdn.jio.com%2FAajTak%2FAajTak.m3u8, 2b45ae20-40ad-3131-98e9-b1a6bfa1da8c, 1717503308046, 0.0, 0.0, 0.0, 331}                             |1717492903607|1180483055|0xg7pdemoln9pnfv|106.218.163.209|\n",
            "|109154002|6.0.8|4779395817|2024-06-04 15:43:09|db7bb716ed1f|S   |1    |e9e10674-7f82-ae58-2a42-48f0650391e2|media_access|0  |0  |9814 |vivo   |4G |9    |A  |{a02afd3a-41dc-5763-0000-4f21b879, 0, 0, 0, 0, 0, 0, [], -1, Entertainment, News18Assam, 345, Assamese, 0, 89, HUAWEI LLD-AL20, AES, 62, U, 0, false, 5875958043, [\"Drama\"], 0.0, News18Assam : Program2, Jio 4G, -1, device, Exoplayer, Trinayani, H1|H2|H3, 2021-06-02T00:00:00+05:30, 14:00:00, 2, -1, -1, -1, 1717495989905, 210602345, live, [\"Drama\"], EPG_LIST_CHANNEL, -1, 0, 4370, live, -1, null, Tue Jun 04 15:43:09 GMT+05:30 2024, http%3A%2F%2Fjiotv.live.cdn.jio.com%2FNews18Assam%2FNews18Assam.m3u8, 524d92d7-2cbc-f501-f97e-63d292fa4ebf, 1717409132231, 0.0, 0.0, 0.0, 685}            |1717495989905|5830648992|819p79iwbgqd3259|170.52.147.169 |\n",
            "|109154002|6.0.8|4431164826|2024-05-31 16:25:42|9ce0691b64d9|S   |1    |3885522f-f5d1-45af-08c6-7fa84f203b99|media_access|0  |0  |6590 |samsung|4G |10   |A  |{10ffdffa-89ff-b517-0000-4452da94, 0, 0, 0, 0, 0, 0, [], -1, News, ZeeKannada, 296, Hindi, 0, 138, Xiaomi Redmi 7A, AES, 49, U, 0, false, 1977618171, [\"News\"], 0.0, ZeeKannada : Program3, Jio 4G, -1, device, Exoplayer, Pavitra+Rishta, H1|H2|H3, 2021-06-02T00:00:00+05:30, 14:00:00, 3, -1, -1, -1, 1717152942333, 210602296, live, [\"Drama\"], EPG_LIST_CHANNEL, -1, 0, 3097, live, -1, null, Fri May 31 16:25:42 GMT+05:30 2024, http%3A%2F%2Fjiotv.live.cdn.jio.com%2FZeeKannada%2FZeeKannada.m3u8, c8da970c-2825-75ab-c018-2702788531da, 1717440329378, 0.0, 0.0, 0.0, 488}                       |1717152942333|7031040096|bm07u2tzhz1judw6|113.185.110.80 |\n",
            "|109154002|6.0.8|2316827504|2024-06-01 11:54:34|32990525e581|S   |1    |8983a237-c4e2-df60-e86c-e1e550043aa6|media_access|0  |0  |716  |OPPO   |4G |10   |A  |{540ca01c-174f-05d5-0000-3a8b81e2, 0, 0, 0, 0, 0, 0, [], -1, News, ZeeTVHD, 138, Assamese, 0, 192, samsung SM-M205F, AES, 41, U, 0, false, 1984337606, [\"Drama\"], 0.0, ZeeTVHD : Program2, Jio 4G, -1, device, Exoplayer, News, H1|H2|H3, 2021-06-02T00:00:00+05:30, 14:00:00, 3, -1, -1, -1, 1717223074610, 210602138, live, [\"News\"], EPG_LIST_CHANNEL, -1, 0, 3645, live, -1, null, Sat Jun 01 11:54:34 GMT+05:30 2024, http%3A%2F%2Fjiotv.live.cdn.jio.com%2FZeeTVHD%2FZeeTVHD.m3u8, 17f7157d-18e2-b7e4-ba88-a2da6f928b28, 1717580966617, 0.0, 0.0, 0.0, 394}                                         |1717223074610|3784911387|zarcqohd3ndprz7g|207.113.110.187|\n",
            "|109154002|6.0.8|4132361165|2024-05-31 16:05:18|be3b3121664b|S   |1    |35fd177f-c0ce-e815-5b94-d40b8c426834|media_access|0  |0  |5801 |samsung|4G |10   |A  |{dae70c63-5309-0362-0000-5e2a53eb, 0, 0, 0, 0, 0, 0, [], -1, News, ZeeKannada, 137, Kannada, 0, 138, vivo vivo 1801, AES, 28, U, 0, false, 9622912724, [\"News\"], 0.0, ZeeKannada : Program3, Jio 4G, -1, device, Exoplayer, Afternoon+Express, H1|H2|H3, 2021-06-02T00:00:00+05:30, 14:00:00, 1, -1, -1, -1, 1717151718169, 210602137, live, [\"News\"], EPG_LIST_CHANNEL, -1, 0, 2268, live, -1, null, Fri May 31 16:05:18 GMT+05:30 2024, http%3A%2F%2Fjiotv.live.cdn.jio.com%2FZeeKannada%2FZeeKannada.m3u8, 5b34bb69-a879-bed0-a67b-d8d5f7f668ff, 1717472706096, 0.0, 0.0, 0.0, 153}                    |1717151718169|9175213933|2fyaoyzt5cjcl8i2|155.16.246.24  |\n",
            "|109154002|6.0.8|3666497781|2024-06-05 21:01:41|74638bf61f38|S   |1    |bcad3c41-1c3e-7d64-13ce-3e3a0da78cc2|media_access|0  |0  |7608 |OPPO   |4G |10   |A  |{bc13b5ae-8a7a-8eff-0000-6485a931, 0, 0, 0, 0, 0, 0, [], -1, Entertainment, ZeeTelugu, 352, Telugu, 0, 159, Xiaomi Redmi 7A, AES, 39, U, 0, false, 3907190375, [\"Politics\"], 0.0, ZeeTelugu : Program1, Jio 4G, -1, device, Exoplayer, Punar+Vivaah, H1|H2|H3, 2021-06-02T00:00:00+05:30, 14:00:00, 1, -1, -1, -1, 1717601501352, 210602352, live, [\"Drama\"], EPG_LIST_CHANNEL, -1, 0, 3324, live, -1, null, Wed Jun 05 21:01:41 GMT+05:30 2024, http%3A%2F%2Fjiotv.live.cdn.jio.com%2FZeeTelugu%2FZeeTelugu.m3u8, 1e93c7c4-0614-6712-6634-ad21c4362528, 1717179627997, 0.0, 0.0, 0.0, 98}                |1717601501352|9219864374|74boui4ncu50kmdc|173.10.29.1    |\n",
            "|109154002|6.0.8|8172206993|2024-06-01 04:57:39|8953e608118b|S   |1    |634fb4ae-1632-d97b-aa5e-8faf1ebf876b|media_access|0  |0  |5869 |samsung|4G |10   |A  |{2d0e89d9-3538-2ebd-0000-42a91bc6, 0, 0, 0, 0, 0, 0, [], -1, Entertainment, ZeeAnmol, 342, Kannada, 0, 195, OPPO RMX1801, AES, 80, U, 0, false, 8992204265, [\"Politics\"], 0.0, ZeeAnmol : Program3, Jio 4G, -1, device, Exoplayer, Punar+Vivaah, H1|H2|H3, 2021-06-02T00:00:00+05:30, 14:00:00, 3, -1, -1, -1, 1717198059176, 210602342, live, [\"News\"], EPG_LIST_CHANNEL, -1, 0, 4778, live, -1, null, Sat Jun 01 04:57:39 GMT+05:30 2024, http%3A%2F%2Fjiotv.live.cdn.jio.com%2FZeeAnmol%2FZeeAnmol.m3u8, 36144b9b-39c9-85d0-1e80-a30462f94a2a, 1717203470483, 0.0, 0.0, 0.0, 594}                      |1717198059176|9028490605|0dekj4rbs9ijuzdj|134.70.196.139 |\n",
            "|109154002|6.0.8|8180434340|2024-05-30 11:17:20|009ecece0169|S   |1    |1e08581c-c861-bf8f-f3e7-6aadd1144fc4|media_access|0  |0  |8912 |OPPO   |4G |8.1.0|A  |{ab1fa2ce-5076-3900-0000-c1733c57, 0, 0, 0, 0, 0, 0, [], -1, Entertainment, News18Assam, 102, Assamese, 0, 127, Xiaomi Redmi 7A, AES, 45, U, 0, false, 4327753962, [\"News\"], 0.0, News18Assam : Program3, Jio 4G, -1, device, Exoplayer, Mithai+Kottu+Chittemma, H1|H2|H3, 2021-06-02T00:00:00+05:30, 14:00:00, 2, -1, -1, -1, 1717048040083, 210602102, live, [\"News\"], EPG_LIST_CHANNEL, -1, 0, 1591, live, -1, null, Thu May 30 11:17:20 GMT+05:30 2024, http%3A%2F%2Fjiotv.live.cdn.jio.com%2FNews18Assam%2FNews18Assam.m3u8, 6f0532a4-4e4f-4b42-cf32-ae006e5e6c18, 1717238451866, 0.0, 0.0, 0.0, 105}|1717048040083|5434004961|t2dhbbqfu9tncjc8|66.89.172.88   |\n",
            "+---------+-----+----------+-------------------+------------+----+-----+------------------------------------+------------+---+---+-----+-------+---+-----+---+----------------------------------------------------------------------------------------------------------------------------------------------------------------------------------------------------------------------------------------------------------------------------------------------------------------------------------------------------------------------------------------------------------------------------------------------------------------------------------------------------------------------------------------------------------------------------------------------------------+-------------+----------+----------------+---------------+\n",
            "only showing top 20 rows\n",
            "\n",
            "+----------------------------------------------------------------------------------------------------------------------------------------------------------------------------------------------------------------------------------------------------------------------------------------------------------------------------------------------------------------------------------------------------------------------------------------------------------------------------------------------------------------------------------------------------------------------------------------------------------+\n",
            "|pro                                                                                                                                                                                                                                                                                                                                                                                                                                                                                                                                                                                                       |\n",
            "+----------------------------------------------------------------------------------------------------------------------------------------------------------------------------------------------------------------------------------------------------------------------------------------------------------------------------------------------------------------------------------------------------------------------------------------------------------------------------------------------------------------------------------------------------------------------------------------------------------+\n",
            "|{4329372c-4b4d-53e4-0000-d4a9eeb5, 0, 0, 0, 0, 0, 0, [], -1, News, ZeeAnmol, 204, Telugu, 0, 63, OPPO RMX1801, AES, 40, U, 0, false, 1977365246, [\"Drama\"], 0.0, ZeeAnmol : Program1, Jio 4G, -1, device, Exoplayer, Trinayani, H1|H2|H3, 2021-06-02T00:00:00+05:30, 14:00:00, 3, -1, -1, -1, 1717333254406, 210602204, live, [\"Drama\"], EPG_LIST_CHANNEL, -1, 0, 1546, live, -1, null, Sun Jun 02 18:30:54 GMT+05:30 2024, http%3A%2F%2Fjiotv.live.cdn.jio.com%2FZeeAnmol%2FZeeAnmol.m3u8, f9544904-65a5-8832-7dac-cf8f7c0be161, 1717395906421, 0.0, 0.0, 0.0, 372}                                      |\n",
            "|{f52cae8a-abbf-8235-0000-fe20dad9, 0, 0, 0, 0, 0, 0, [], -1, News, ZeeTelugu, 588, Assamese, 0, 82, HUAWEI LLD-AL20, AES, 48, U, 0, false, 8045215853, [\"Politics\"], 0.0, ZeeTelugu : Program3, Jio 4G, -1, device, Exoplayer, Trinayani, H1|H2|H3, 2021-06-02T00:00:00+05:30, 14:00:00, 2, -1, -1, -1, 1717381265140, 210602588, live, [\"News\"], EPG_LIST_CHANNEL, -1, 0, 965, live, -1, null, Mon Jun 03 07:51:05 GMT+05:30 2024, http%3A%2F%2Fjiotv.live.cdn.jio.com%2FZeeTelugu%2FZeeTelugu.m3u8, 08a8006a-e6a2-ad17-815b-f75a515a4c96, 1717240653004, 0.0, 0.0, 0.0, 326}                            |\n",
            "|{8beed459-aeed-0855-0000-93872bdc, 0, 0, 0, 0, 0, 0, [], -1, Entertainment, AajTak, 148, Telugu, 0, 167, HUAWEI LLD-AL20, AES, 22, U, 0, false, 8635229578, [\"Drama\"], 0.0, AajTak : Program2, Jio 4G, -1, device, Exoplayer, Punar+Vivaah, H1|H2|H3, 2021-06-02T00:00:00+05:30, 14:00:00, 2, -1, -1, -1, 1717197932171, 210602148, live, [\"News\"], EPG_LIST_CHANNEL, -1, 0, 4931, live, -1, null, Sat Jun 01 04:55:32 GMT+05:30 2024, http%3A%2F%2Fjiotv.live.cdn.jio.com%2FAajTak%2FAajTak.m3u8, c38e52f3-c59b-a9fa-39d8-6c62ff6bd709, 1717053771989, 0.0, 0.0, 0.0, 449}                               |\n",
            "|{8667f14d-88ad-2818-0000-d1604b5b, 0, 0, 0, 0, 0, 0, [], -1, News, ZeeAnmol, 608, Kannada, 0, 163, Xiaomi Redmi 7A, AES, 84, U, 0, false, 7597739953, [\"News\"], 0.0, ZeeAnmol : Program1, Jio 4G, -1, device, Exoplayer, Pavitra+Rishta, H1|H2|H3, 2021-06-02T00:00:00+05:30, 14:00:00, 3, -1, -1, -1, 1717447322595, 210602608, live, [\"Drama\"], EPG_LIST_CHANNEL, -1, 0, 3635, live, -1, null, Tue Jun 04 02:12:02 GMT+05:30 2024, http%3A%2F%2Fjiotv.live.cdn.jio.com%2FZeeAnmol%2FZeeAnmol.m3u8, 3f6e0f60-e0da-4019-2783-9d7b53b02fed, 1717508668776, 0.0, 0.0, 0.0, 278}                             |\n",
            "|{1d362003-eeac-63c4-0000-9293fffe, 0, 0, 0, 0, 0, 0, [], -1, News, ZeeAnmol, 402, Telugu, 0, 198, OPPO RMX1801, AES, 53, U, 0, false, 7444987206, [\"Politics\"], 0.0, ZeeAnmol : Program3, Jio 4G, -1, device, Exoplayer, Trinayani, H1|H2|H3, 2021-06-02T00:00:00+05:30, 14:00:00, 1, -1, -1, -1, 1717052867742, 210602402, live, [\"Drama\"], EPG_LIST_CHANNEL, -1, 0, 4010, live, -1, null, Thu May 30 12:37:47 GMT+05:30 2024, http%3A%2F%2Fjiotv.live.cdn.jio.com%2FZeeAnmol%2FZeeAnmol.m3u8, e62fe05c-66d6-aee1-91dc-20065ad46b7e, 1717084365449, 0.0, 0.0, 0.0, 248}                                  |\n",
            "|{a9f70e2a-a417-c184-0000-9496f7dc, 0, 0, 0, 0, 0, 0, [], -1, News, ZeeTVHD, 585, Assamese, 0, 87, samsung SM-M205F, AES, 62, U, 0, false, 6735194040, [\"Politics\"], 0.0, ZeeTVHD : Program3, Jio 4G, -1, device, Exoplayer, Trinayani, H1|H2|H3, 2021-06-02T00:00:00+05:30, 14:00:00, 3, -1, -1, -1, 1717504684555, 210602585, live, [\"News\"], EPG_LIST_CHANNEL, -1, 0, 339, live, -1, null, Tue Jun 04 18:08:04 GMT+05:30 2024, http%3A%2F%2Fjiotv.live.cdn.jio.com%2FZeeTVHD%2FZeeTVHD.m3u8, f0d0c12d-2c9f-a0d1-0fd1-1652d0cbf285, 1717435293172, 0.0, 0.0, 0.0, 479}                                   |\n",
            "|{62d7a26d-3c7d-17a0-0000-6a96149c, 0, 0, 0, 0, 0, 0, [], -1, News, ZeeTelugu, 450, Kannada, 0, 70, OPPO RMX1801, AES, 88, U, 0, false, 7838793406, [\"Drama\"], 0.0, ZeeTelugu : Program2, Jio 4G, -1, device, Exoplayer, Trinayani, H1|H2|H3, 2021-06-02T00:00:00+05:30, 14:00:00, 3, -1, -1, -1, 1717190337556, 210602450, live, [\"News\"], EPG_LIST_CHANNEL, -1, 0, 2009, live, -1, null, Sat Jun 01 02:48:57 GMT+05:30 2024, http%3A%2F%2Fjiotv.live.cdn.jio.com%2FZeeTelugu%2FZeeTelugu.m3u8, 0d9d88fd-b3e0-0c14-b616-1f553b3997e0, 1717544439513, 0.0, 0.0, 0.0, 945}                                  |\n",
            "|{d2903e34-318c-0644-0000-f62f6fbb, 0, 0, 0, 0, 0, 0, [], -1, Entertainment, ZeeTelugu, 556, Kannada, 0, 113, Xiaomi Redmi 7A, AES, 2, U, 0, false, 9496059441, [\"Politics\"], 0.0, ZeeTelugu : Program2, Jio 4G, -1, device, Exoplayer, Mithai+Kottu+Chittemma, H1|H2|H3, 2021-06-02T00:00:00+05:30, 14:00:00, 1, -1, -1, -1, 1717458277748, 210602556, live, [\"Drama\"], EPG_LIST_CHANNEL, -1, 0, 3024, live, -1, null, Tue Jun 04 05:14:37 GMT+05:30 2024, http%3A%2F%2Fjiotv.live.cdn.jio.com%2FZeeTelugu%2FZeeTelugu.m3u8, 9e24bb64-e762-7a2b-f770-2b397adc9792, 1717205992803, 0.0, 0.0, 0.0, 290}     |\n",
            "|{e73592ab-8602-84c8-0000-cfa05da4, 0, 0, 0, 0, 0, 0, [], -1, Entertainment, ZeeAnmol, 480, Kannada, 0, 68, Xiaomi Redmi 7A, AES, 44, U, 0, false, 1943988476, [\"Politics\"], 0.0, ZeeAnmol : Program2, Jio 4G, -1, device, Exoplayer, Trinayani, H1|H2|H3, 2021-06-02T00:00:00+05:30, 14:00:00, 2, -1, -1, -1, 1717451435020, 210602480, live, [\"News\"], EPG_LIST_CHANNEL, -1, 0, 1460, live, -1, null, Tue Jun 04 03:20:35 GMT+05:30 2024, http%3A%2F%2Fjiotv.live.cdn.jio.com%2FZeeAnmol%2FZeeAnmol.m3u8, 9d85290a-96cf-c1b5-a366-bd73b8bfa906, 1717436923920, 0.0, 0.0, 0.0, 789}                       |\n",
            "|{9b4de3a6-7d74-056f-0000-d3cbab9a, 0, 0, 0, 0, 0, 0, [], -1, News, ZeeTelugu, 326, Hindi, 0, 113, HUAWEI LLD-AL20, AES, 87, U, 0, false, 6060244034, [\"News\"], 0.0, ZeeTelugu : Program1, Jio 4G, -1, device, Exoplayer, Pavitra+Rishta, H1|H2|H3, 2021-06-02T00:00:00+05:30, 14:00:00, 3, -1, -1, -1, 1717606729325, 210602326, live, [\"Drama\"], EPG_LIST_CHANNEL, -1, 0, 4379, live, -1, null, Wed Jun 05 22:28:49 GMT+05:30 2024, http%3A%2F%2Fjiotv.live.cdn.jio.com%2FZeeTelugu%2FZeeTelugu.m3u8, 083d4ed4-ccbf-aaf5-6a03-133af0e7588e, 1717496075585, 0.0, 0.0, 0.0, 644}                           |\n",
            "|{5cc1b5a8-93d9-4cf2-0000-b565420c, 0, 0, 0, 0, 0, 0, [], -1, Entertainment, ZeeKannada, 298, Kannada, 0, 85, Xiaomi Redmi 7A, AES, 43, U, 0, false, 8792030894, [\"Politics\"], 0.0, ZeeKannada : Program3, Jio 4G, -1, device, Exoplayer, News, H1|H2|H3, 2021-06-02T00:00:00+05:30, 14:00:00, 1, -1, -1, -1, 1717207215807, 210602298, live, [\"Drama\"], EPG_LIST_CHANNEL, -1, 0, 2931, live, -1, null, Sat Jun 01 07:30:15 GMT+05:30 2024, http%3A%2F%2Fjiotv.live.cdn.jio.com%2FZeeKannada%2FZeeKannada.m3u8, 9a316ac3-b599-eaa2-7f13-82ac052da713, 1717425016065, 0.0, 0.0, 0.0, 280}                   |\n",
            "|{595c6885-b09f-00b8-0000-120e04a0, 0, 0, 0, 0, 0, 0, [], -1, Entertainment, ZeeKannada, 511, Kannada, 0, 67, HUAWEI LLD-AL20, AES, 49, U, 0, false, 6207263104, [\"Drama\"], 0.0, ZeeKannada : Program2, Jio 4G, -1, device, Exoplayer, Punar+Vivaah, H1|H2|H3, 2021-06-02T00:00:00+05:30, 14:00:00, 2, -1, -1, -1, 1717456066656, 210602511, live, [\"Drama\"], EPG_LIST_CHANNEL, -1, 0, 275, live, -1, null, Tue Jun 04 04:37:46 GMT+05:30 2024, http%3A%2F%2Fjiotv.live.cdn.jio.com%2FZeeKannada%2FZeeKannada.m3u8, 0f42a99e-c899-b2d3-7ac2-5b8cc792c88e, 1717259332546, 0.0, 0.0, 0.0, 84}                |\n",
            "|{58ab67a7-2675-1d35-0000-92326787, 0, 0, 0, 0, 0, 0, [], -1, Entertainment, AajTak, 628, Hindi, 0, 58, samsung SM-M205F, AES, 74, U, 0, false, 3311465953, [\"Politics\"], 0.0, AajTak : Program3, Jio 4G, -1, device, Exoplayer, Punar+Vivaah, H1|H2|H3, 2021-06-02T00:00:00+05:30, 14:00:00, 2, -1, -1, -1, 1717492903607, 210602628, live, [\"Drama\"], EPG_LIST_CHANNEL, -1, 0, 403, live, -1, null, Tue Jun 04 14:51:43 GMT+05:30 2024, http%3A%2F%2Fjiotv.live.cdn.jio.com%2FAajTak%2FAajTak.m3u8, 2b45ae20-40ad-3131-98e9-b1a6bfa1da8c, 1717503308046, 0.0, 0.0, 0.0, 331}                             |\n",
            "|{a02afd3a-41dc-5763-0000-4f21b879, 0, 0, 0, 0, 0, 0, [], -1, Entertainment, News18Assam, 345, Assamese, 0, 89, HUAWEI LLD-AL20, AES, 62, U, 0, false, 5875958043, [\"Drama\"], 0.0, News18Assam : Program2, Jio 4G, -1, device, Exoplayer, Trinayani, H1|H2|H3, 2021-06-02T00:00:00+05:30, 14:00:00, 2, -1, -1, -1, 1717495989905, 210602345, live, [\"Drama\"], EPG_LIST_CHANNEL, -1, 0, 4370, live, -1, null, Tue Jun 04 15:43:09 GMT+05:30 2024, http%3A%2F%2Fjiotv.live.cdn.jio.com%2FNews18Assam%2FNews18Assam.m3u8, 524d92d7-2cbc-f501-f97e-63d292fa4ebf, 1717409132231, 0.0, 0.0, 0.0, 685}            |\n",
            "|{10ffdffa-89ff-b517-0000-4452da94, 0, 0, 0, 0, 0, 0, [], -1, News, ZeeKannada, 296, Hindi, 0, 138, Xiaomi Redmi 7A, AES, 49, U, 0, false, 1977618171, [\"News\"], 0.0, ZeeKannada : Program3, Jio 4G, -1, device, Exoplayer, Pavitra+Rishta, H1|H2|H3, 2021-06-02T00:00:00+05:30, 14:00:00, 3, -1, -1, -1, 1717152942333, 210602296, live, [\"Drama\"], EPG_LIST_CHANNEL, -1, 0, 3097, live, -1, null, Fri May 31 16:25:42 GMT+05:30 2024, http%3A%2F%2Fjiotv.live.cdn.jio.com%2FZeeKannada%2FZeeKannada.m3u8, c8da970c-2825-75ab-c018-2702788531da, 1717440329378, 0.0, 0.0, 0.0, 488}                       |\n",
            "|{540ca01c-174f-05d5-0000-3a8b81e2, 0, 0, 0, 0, 0, 0, [], -1, News, ZeeTVHD, 138, Assamese, 0, 192, samsung SM-M205F, AES, 41, U, 0, false, 1984337606, [\"Drama\"], 0.0, ZeeTVHD : Program2, Jio 4G, -1, device, Exoplayer, News, H1|H2|H3, 2021-06-02T00:00:00+05:30, 14:00:00, 3, -1, -1, -1, 1717223074610, 210602138, live, [\"News\"], EPG_LIST_CHANNEL, -1, 0, 3645, live, -1, null, Sat Jun 01 11:54:34 GMT+05:30 2024, http%3A%2F%2Fjiotv.live.cdn.jio.com%2FZeeTVHD%2FZeeTVHD.m3u8, 17f7157d-18e2-b7e4-ba88-a2da6f928b28, 1717580966617, 0.0, 0.0, 0.0, 394}                                         |\n",
            "|{dae70c63-5309-0362-0000-5e2a53eb, 0, 0, 0, 0, 0, 0, [], -1, News, ZeeKannada, 137, Kannada, 0, 138, vivo vivo 1801, AES, 28, U, 0, false, 9622912724, [\"News\"], 0.0, ZeeKannada : Program3, Jio 4G, -1, device, Exoplayer, Afternoon+Express, H1|H2|H3, 2021-06-02T00:00:00+05:30, 14:00:00, 1, -1, -1, -1, 1717151718169, 210602137, live, [\"News\"], EPG_LIST_CHANNEL, -1, 0, 2268, live, -1, null, Fri May 31 16:05:18 GMT+05:30 2024, http%3A%2F%2Fjiotv.live.cdn.jio.com%2FZeeKannada%2FZeeKannada.m3u8, 5b34bb69-a879-bed0-a67b-d8d5f7f668ff, 1717472706096, 0.0, 0.0, 0.0, 153}                    |\n",
            "|{bc13b5ae-8a7a-8eff-0000-6485a931, 0, 0, 0, 0, 0, 0, [], -1, Entertainment, ZeeTelugu, 352, Telugu, 0, 159, Xiaomi Redmi 7A, AES, 39, U, 0, false, 3907190375, [\"Politics\"], 0.0, ZeeTelugu : Program1, Jio 4G, -1, device, Exoplayer, Punar+Vivaah, H1|H2|H3, 2021-06-02T00:00:00+05:30, 14:00:00, 1, -1, -1, -1, 1717601501352, 210602352, live, [\"Drama\"], EPG_LIST_CHANNEL, -1, 0, 3324, live, -1, null, Wed Jun 05 21:01:41 GMT+05:30 2024, http%3A%2F%2Fjiotv.live.cdn.jio.com%2FZeeTelugu%2FZeeTelugu.m3u8, 1e93c7c4-0614-6712-6634-ad21c4362528, 1717179627997, 0.0, 0.0, 0.0, 98}                |\n",
            "|{2d0e89d9-3538-2ebd-0000-42a91bc6, 0, 0, 0, 0, 0, 0, [], -1, Entertainment, ZeeAnmol, 342, Kannada, 0, 195, OPPO RMX1801, AES, 80, U, 0, false, 8992204265, [\"Politics\"], 0.0, ZeeAnmol : Program3, Jio 4G, -1, device, Exoplayer, Punar+Vivaah, H1|H2|H3, 2021-06-02T00:00:00+05:30, 14:00:00, 3, -1, -1, -1, 1717198059176, 210602342, live, [\"News\"], EPG_LIST_CHANNEL, -1, 0, 4778, live, -1, null, Sat Jun 01 04:57:39 GMT+05:30 2024, http%3A%2F%2Fjiotv.live.cdn.jio.com%2FZeeAnmol%2FZeeAnmol.m3u8, 36144b9b-39c9-85d0-1e80-a30462f94a2a, 1717203470483, 0.0, 0.0, 0.0, 594}                      |\n",
            "|{ab1fa2ce-5076-3900-0000-c1733c57, 0, 0, 0, 0, 0, 0, [], -1, Entertainment, News18Assam, 102, Assamese, 0, 127, Xiaomi Redmi 7A, AES, 45, U, 0, false, 4327753962, [\"News\"], 0.0, News18Assam : Program3, Jio 4G, -1, device, Exoplayer, Mithai+Kottu+Chittemma, H1|H2|H3, 2021-06-02T00:00:00+05:30, 14:00:00, 2, -1, -1, -1, 1717048040083, 210602102, live, [\"News\"], EPG_LIST_CHANNEL, -1, 0, 1591, live, -1, null, Thu May 30 11:17:20 GMT+05:30 2024, http%3A%2F%2Fjiotv.live.cdn.jio.com%2FNews18Assam%2FNews18Assam.m3u8, 6f0532a4-4e4f-4b42-cf32-ae006e5e6c18, 1717238451866, 0.0, 0.0, 0.0, 105}|\n",
            "+----------------------------------------------------------------------------------------------------------------------------------------------------------------------------------------------------------------------------------------------------------------------------------------------------------------------------------------------------------------------------------------------------------------------------------------------------------------------------------------------------------------------------------------------------------------------------------------------------------+\n",
            "only showing top 20 rows\n",
            "\n",
            "root\n",
            " |-- HARD_CODE_DEVICE_ID: string (nullable = true)\n",
            " |-- avr: string (nullable = true)\n",
            " |-- bbc: string (nullable = true)\n",
            " |-- bbd: string (nullable = true)\n",
            " |-- bc: string (nullable = true)\n",
            " |-- bd: string (nullable = true)\n",
            " |-- bdl: string (nullable = true)\n",
            " |-- bufferdetails: string (nullable = true)\n",
            " |-- cellid: string (nullable = true)\n",
            " |-- cg: string (nullable = true)\n",
            " |-- ch: string (nullable = true)\n",
            " |-- channel_id: string (nullable = true)\n",
            " |-- cl: string (nullable = true)\n",
            " |-- codec: string (nullable = true)\n",
            " |-- d: string (nullable = true)\n",
            " |-- dm: string (nullable = true)\n",
            " |-- encryption: string (nullable = true)\n",
            " |-- ep: string (nullable = true)\n",
            " |-- finish: string (nullable = true)\n",
            " |-- index: string (nullable = true)\n",
            " |-- isottuser: string (nullable = true)\n",
            " |-- jio_id: string (nullable = true)\n",
            " |-- keywords: string (nullable = true)\n",
            " |-- lac: string (nullable = true)\n",
            " |-- n: string (nullable = true)\n",
            " |-- opr: string (nullable = true)\n",
            " |-- pci: string (nullable = true)\n",
            " |-- playback_screen: string (nullable = true)\n",
            " |-- player: string (nullable = true)\n",
            " |-- pn: string (nullable = true)\n",
            " |-- prof: string (nullable = true)\n",
            " |-- program_date: string (nullable = true)\n",
            " |-- program_time: string (nullable = true)\n",
            " |-- prow: string (nullable = true)\n",
            " |-- rsrp: string (nullable = true)\n",
            " |-- rsrq: string (nullable = true)\n",
            " |-- rssi: string (nullable = true)\n",
            " |-- rtc: string (nullable = true)\n",
            " |-- serial_number: string (nullable = true)\n",
            " |-- settype: string (nullable = true)\n",
            " |-- show_genre: string (nullable = true)\n",
            " |-- source: string (nullable = true)\n",
            " |-- ss: string (nullable = true)\n",
            " |-- start: string (nullable = true)\n",
            " |-- startuptime: string (nullable = true)\n",
            " |-- t: string (nullable = true)\n",
            " |-- tac: string (nullable = true)\n",
            " |-- tac_id: string (nullable = true)\n",
            " |-- timestamp: string (nullable = true)\n",
            " |-- u: string (nullable = true)\n",
            " |-- unique_session_id: string (nullable = true)\n",
            " |-- unique_session_timestamp: string (nullable = true)\n",
            " |-- watch_time_dock: string (nullable = true)\n",
            " |-- watch_time_landscape: string (nullable = true)\n",
            " |-- watch_time_pip: string (nullable = true)\n",
            " |-- watch_time_portrait: string (nullable = true)\n",
            "\n",
            "+---------+-----+----------+------------+----+-----+------------------------------------+------------+---+---+-----+-------+---+-----+---+-------------+----------+----------------+---------------+-------------------+--------------------------------+---+---+---+---+---+---+-------------+------+-------------+-----------+----------+--------+-----+---+----------------+----------+---+------+-----+---------+----------+------------+---+----------------------+------+---+---------------+---------+----------------------+--------+------------+------------+----+----+----+----+-------------+-------------+-------+----------+----------------+---+-----+-----------+----+---+------+----------------------------------+--------------------------------------------------------------------+------------------------------------+------------------------+---------------+--------------------+--------------+-------------------+------------+----------------+\n",
            "|akey     |avn  |crmid     |did         |dtpe|evtno|idamid                              |key         |lat|lng|logno|mnu    |nwk|osv  |pf |rtc          |sid       |uid             |ip_address     |dateflink          |HARD_CODE_DEVICE_ID             |avr|bbc|bbd|bc |bd |bdl|bufferdetails|cellid|cg           |ch         |channel_id|cl      |codec|d  |dm              |encryption|ep |finish|index|isottuser|jio_id    |keywords    |lac|n                     |opr   |pci|playback_screen|player   |pn                    |prof    |program_date|program_time|prow|rsrp|rsrq|rssi|rtc          |serial_number|settype|show_genre|source          |ss |start|startuptime|t   |tac|tac_id|timestamp                         |u                                                                   |unique_session_id                   |unique_session_timestamp|watch_time_dock|watch_time_landscape|watch_time_pip|watch_time_portrait|program_hour|watch_time_total|\n",
            "+---------+-----+----------+------------+----+-----+------------------------------------+------------+---+---+-----+-------+---+-----+---+-------------+----------+----------------+---------------+-------------------+--------------------------------+---+---+---+---+---+---+-------------+------+-------------+-----------+----------+--------+-----+---+----------------+----------+---+------+-----+---------+----------+------------+---+----------------------+------+---+---------------+---------+----------------------+--------+------------+------------+----+----+----+----+-------------+-------------+-------+----------+----------------+---+-----+-----------+----+---+------+----------------------------------+--------------------------------------------------------------------+------------------------------------+------------------------+---------------+--------------------+--------------+-------------------+------------+----------------+\n",
            "|109154002|6.0.8|3415106380|97dcffe59997|S   |1    |14d32fe6-5a84-0c1b-4537-9ad491206ca2|media_access|0  |0  |105  |samsung|4G |8.1.0|A  |1717333254406|3348503611|p4ql6ycde4n51u0k|46.170.220.188 |2024-06-02 18:30:54|4329372c-4b4d-53e4-0000-d4a9eeb5|0  |0  |0  |0  |0  |0  |[]           |-1    |News         |ZeeAnmol   |204       |Telugu  |0    |63 |OPPO RMX1801    |AES       |40 |U     |0    |false    |1977365246|[\"Drama\"]   |0.0|ZeeAnmol : Program1   |Jio 4G|-1 |device         |Exoplayer|Trinayani             |H1|H2|H3|2021-06-02  |14:00:00    |3   |-1  |-1  |-1  |1717333254406|210602204    |live   |[\"Drama\"] |EPG_LIST_CHANNEL|-1 |0    |1546       |live|-1 |null  |Sun Jun 02 18:30:54 GMT+05:30 2024|http%3A%2F%2Fjiotv.live.cdn.jio.com%2FZeeAnmol%2FZeeAnmol.m3u8      |f9544904-65a5-8832-7dac-cf8f7c0be161|1717395906421           |0.0            |0.0                 |0.0           |372.0              |14          |372.0           |\n",
            "|109154002|6.0.8|7299846611|bf7afdcdf149|S   |1    |9ef70cbd-42b4-2506-2142-1ee246e9d7ff|media_access|0  |0  |3642 |Xiaomi |4G |10   |A  |1717381265140|9747847561|zm81k8aggfqj923x|24.144.23.250  |2024-06-03 07:51:05|f52cae8a-abbf-8235-0000-fe20dad9|0  |0  |0  |0  |0  |0  |[]           |-1    |News         |ZeeTelugu  |588       |Assamese|0    |82 |HUAWEI LLD-AL20 |AES       |48 |U     |0    |false    |8045215853|[\"Politics\"]|0.0|ZeeTelugu : Program3  |Jio 4G|-1 |device         |Exoplayer|Trinayani             |H1|H2|H3|2021-06-02  |14:00:00    |2   |-1  |-1  |-1  |1717381265140|210602588    |live   |[\"News\"]  |EPG_LIST_CHANNEL|-1 |0    |965        |live|-1 |null  |Mon Jun 03 07:51:05 GMT+05:30 2024|http%3A%2F%2Fjiotv.live.cdn.jio.com%2FZeeTelugu%2FZeeTelugu.m3u8    |08a8006a-e6a2-ad17-815b-f75a515a4c96|1717240653004           |0.0            |0.0                 |0.0           |326.0              |14          |326.0           |\n",
            "|109154002|6.0.8|4454904068|35826c46ff94|S   |1    |ab72f4b2-e358-403d-7e99-4e56706b7728|media_access|0  |0  |4733 |OPPO   |4G |9    |A  |1717197932171|6029815267|y92ldsdgzhee6g26|54.143.242.192 |2024-06-01 04:55:32|8beed459-aeed-0855-0000-93872bdc|0  |0  |0  |0  |0  |0  |[]           |-1    |Entertainment|AajTak     |148       |Telugu  |0    |167|HUAWEI LLD-AL20 |AES       |22 |U     |0    |false    |8635229578|[\"Drama\"]   |0.0|AajTak : Program2     |Jio 4G|-1 |device         |Exoplayer|Punar+Vivaah          |H1|H2|H3|2021-06-02  |14:00:00    |2   |-1  |-1  |-1  |1717197932171|210602148    |live   |[\"News\"]  |EPG_LIST_CHANNEL|-1 |0    |4931       |live|-1 |null  |Sat Jun 01 04:55:32 GMT+05:30 2024|http%3A%2F%2Fjiotv.live.cdn.jio.com%2FAajTak%2FAajTak.m3u8          |c38e52f3-c59b-a9fa-39d8-6c62ff6bd709|1717053771989           |0.0            |0.0                 |0.0           |449.0              |14          |449.0           |\n",
            "|109154002|6.0.8|2922718294|cb06b98bbcbd|S   |1    |e3db5848-95f2-35dd-8d1f-e6414545b69e|media_access|0  |0  |8081 |vivo   |4G |10   |A  |1717447322595|7824736735|4k8mi4dnbm7ki3zx|153.37.149.242 |2024-06-04 02:12:02|8667f14d-88ad-2818-0000-d1604b5b|0  |0  |0  |0  |0  |0  |[]           |-1    |News         |ZeeAnmol   |608       |Kannada |0    |163|Xiaomi Redmi 7A |AES       |84 |U     |0    |false    |7597739953|[\"News\"]    |0.0|ZeeAnmol : Program1   |Jio 4G|-1 |device         |Exoplayer|Pavitra+Rishta        |H1|H2|H3|2021-06-02  |14:00:00    |3   |-1  |-1  |-1  |1717447322595|210602608    |live   |[\"Drama\"] |EPG_LIST_CHANNEL|-1 |0    |3635       |live|-1 |null  |Tue Jun 04 02:12:02 GMT+05:30 2024|http%3A%2F%2Fjiotv.live.cdn.jio.com%2FZeeAnmol%2FZeeAnmol.m3u8      |3f6e0f60-e0da-4019-2783-9d7b53b02fed|1717508668776           |0.0            |0.0                 |0.0           |278.0              |14          |278.0           |\n",
            "|109154002|6.0.8|3660991280|1d6ebd1f44ff|S   |1    |fe34dea5-63ca-cfff-8281-ab062bd09d23|media_access|0  |0  |5820 |vivo   |4G |8.1.0|A  |1717052867742|9563259696|fktg95znoe6qjkbp|74.51.65.238   |2024-05-30 12:37:47|1d362003-eeac-63c4-0000-9293fffe|0  |0  |0  |0  |0  |0  |[]           |-1    |News         |ZeeAnmol   |402       |Telugu  |0    |198|OPPO RMX1801    |AES       |53 |U     |0    |false    |7444987206|[\"Politics\"]|0.0|ZeeAnmol : Program3   |Jio 4G|-1 |device         |Exoplayer|Trinayani             |H1|H2|H3|2021-06-02  |14:00:00    |1   |-1  |-1  |-1  |1717052867742|210602402    |live   |[\"Drama\"] |EPG_LIST_CHANNEL|-1 |0    |4010       |live|-1 |null  |Thu May 30 12:37:47 GMT+05:30 2024|http%3A%2F%2Fjiotv.live.cdn.jio.com%2FZeeAnmol%2FZeeAnmol.m3u8      |e62fe05c-66d6-aee1-91dc-20065ad46b7e|1717084365449           |0.0            |0.0                 |0.0           |248.0              |14          |248.0           |\n",
            "|109154002|6.0.8|3736535712|8f39f0aa4bf1|S   |1    |b728292d-8df5-ff6e-5f57-fab1a57b8f79|media_access|0  |0  |311  |HUAWEI |4G |8.1.0|A  |1717504684555|4395961609|ji4owptewlremvsd|1.97.254.212   |2024-06-04 18:08:04|a9f70e2a-a417-c184-0000-9496f7dc|0  |0  |0  |0  |0  |0  |[]           |-1    |News         |ZeeTVHD    |585       |Assamese|0    |87 |samsung SM-M205F|AES       |62 |U     |0    |false    |6735194040|[\"Politics\"]|0.0|ZeeTVHD : Program3    |Jio 4G|-1 |device         |Exoplayer|Trinayani             |H1|H2|H3|2021-06-02  |14:00:00    |3   |-1  |-1  |-1  |1717504684555|210602585    |live   |[\"News\"]  |EPG_LIST_CHANNEL|-1 |0    |339        |live|-1 |null  |Tue Jun 04 18:08:04 GMT+05:30 2024|http%3A%2F%2Fjiotv.live.cdn.jio.com%2FZeeTVHD%2FZeeTVHD.m3u8        |f0d0c12d-2c9f-a0d1-0fd1-1652d0cbf285|1717435293172           |0.0            |0.0                 |0.0           |479.0              |14          |479.0           |\n",
            "|109154002|6.0.8|1297397844|3de087d04ec7|S   |1    |58676a2a-600c-c88a-cc5b-2ad9302716ea|media_access|0  |0  |3308 |OPPO   |4G |8.1.0|A  |1717190337556|2062840257|6fw95sa6nxc6py0j|68.104.174.235 |2024-06-01 02:48:57|62d7a26d-3c7d-17a0-0000-6a96149c|0  |0  |0  |0  |0  |0  |[]           |-1    |News         |ZeeTelugu  |450       |Kannada |0    |70 |OPPO RMX1801    |AES       |88 |U     |0    |false    |7838793406|[\"Drama\"]   |0.0|ZeeTelugu : Program2  |Jio 4G|-1 |device         |Exoplayer|Trinayani             |H1|H2|H3|2021-06-02  |14:00:00    |3   |-1  |-1  |-1  |1717190337556|210602450    |live   |[\"News\"]  |EPG_LIST_CHANNEL|-1 |0    |2009       |live|-1 |null  |Sat Jun 01 02:48:57 GMT+05:30 2024|http%3A%2F%2Fjiotv.live.cdn.jio.com%2FZeeTelugu%2FZeeTelugu.m3u8    |0d9d88fd-b3e0-0c14-b616-1f553b3997e0|1717544439513           |0.0            |0.0                 |0.0           |945.0              |14          |945.0           |\n",
            "|109154002|6.0.8|8628478804|df5ec772d5f5|S   |1    |8b81602f-4db3-de06-60e4-cf5e67171b04|media_access|0  |0  |1731 |vivo   |4G |8.1.0|A  |1717458277748|7669464119|7wt0m17tz0dabz9p|171.129.199.26 |2024-06-04 05:14:37|d2903e34-318c-0644-0000-f62f6fbb|0  |0  |0  |0  |0  |0  |[]           |-1    |Entertainment|ZeeTelugu  |556       |Kannada |0    |113|Xiaomi Redmi 7A |AES       |2  |U     |0    |false    |9496059441|[\"Politics\"]|0.0|ZeeTelugu : Program2  |Jio 4G|-1 |device         |Exoplayer|Mithai+Kottu+Chittemma|H1|H2|H3|2021-06-02  |14:00:00    |1   |-1  |-1  |-1  |1717458277748|210602556    |live   |[\"Drama\"] |EPG_LIST_CHANNEL|-1 |0    |3024       |live|-1 |null  |Tue Jun 04 05:14:37 GMT+05:30 2024|http%3A%2F%2Fjiotv.live.cdn.jio.com%2FZeeTelugu%2FZeeTelugu.m3u8    |9e24bb64-e762-7a2b-f770-2b397adc9792|1717205992803           |0.0            |0.0                 |0.0           |290.0              |14          |290.0           |\n",
            "|109154002|6.0.8|9113847201|e3617be4ec82|S   |1    |d5ce6986-0cfe-65fb-0fc1-437bc7fd188b|media_access|0  |0  |6609 |samsung|4G |10   |A  |1717451435020|4256567237|xj7zr3u223qzd22h|32.121.135.239 |2024-06-04 03:20:35|e73592ab-8602-84c8-0000-cfa05da4|0  |0  |0  |0  |0  |0  |[]           |-1    |Entertainment|ZeeAnmol   |480       |Kannada |0    |68 |Xiaomi Redmi 7A |AES       |44 |U     |0    |false    |1943988476|[\"Politics\"]|0.0|ZeeAnmol : Program2   |Jio 4G|-1 |device         |Exoplayer|Trinayani             |H1|H2|H3|2021-06-02  |14:00:00    |2   |-1  |-1  |-1  |1717451435020|210602480    |live   |[\"News\"]  |EPG_LIST_CHANNEL|-1 |0    |1460       |live|-1 |null  |Tue Jun 04 03:20:35 GMT+05:30 2024|http%3A%2F%2Fjiotv.live.cdn.jio.com%2FZeeAnmol%2FZeeAnmol.m3u8      |9d85290a-96cf-c1b5-a366-bd73b8bfa906|1717436923920           |0.0            |0.0                 |0.0           |789.0              |14          |789.0           |\n",
            "|109154002|6.0.8|1026725232|0581d969bfc8|S   |1    |b1df8c53-0b4d-368e-1db6-f2e4c8646080|media_access|0  |0  |8867 |Xiaomi |4G |8.1.0|A  |1717606729325|1837108501|cabhyevpx0a5c3r2|105.42.1.133   |2024-06-05 22:28:49|9b4de3a6-7d74-056f-0000-d3cbab9a|0  |0  |0  |0  |0  |0  |[]           |-1    |News         |ZeeTelugu  |326       |Hindi   |0    |113|HUAWEI LLD-AL20 |AES       |87 |U     |0    |false    |6060244034|[\"News\"]    |0.0|ZeeTelugu : Program1  |Jio 4G|-1 |device         |Exoplayer|Pavitra+Rishta        |H1|H2|H3|2021-06-02  |14:00:00    |3   |-1  |-1  |-1  |1717606729325|210602326    |live   |[\"Drama\"] |EPG_LIST_CHANNEL|-1 |0    |4379       |live|-1 |null  |Wed Jun 05 22:28:49 GMT+05:30 2024|http%3A%2F%2Fjiotv.live.cdn.jio.com%2FZeeTelugu%2FZeeTelugu.m3u8    |083d4ed4-ccbf-aaf5-6a03-133af0e7588e|1717496075585           |0.0            |0.0                 |0.0           |644.0              |14          |644.0           |\n",
            "|109154002|6.0.8|2958780469|bbef574d1e1b|S   |1    |a15844fa-b8dc-9d64-5b29-10c3e985fa1e|media_access|0  |0  |6606 |samsung|4G |8.1.0|A  |1717207215807|7184869862|3sbph5iulxumuq61|18.146.131.203 |2024-06-01 07:30:15|5cc1b5a8-93d9-4cf2-0000-b565420c|0  |0  |0  |0  |0  |0  |[]           |-1    |Entertainment|ZeeKannada |298       |Kannada |0    |85 |Xiaomi Redmi 7A |AES       |43 |U     |0    |false    |8792030894|[\"Politics\"]|0.0|ZeeKannada : Program3 |Jio 4G|-1 |device         |Exoplayer|News                  |H1|H2|H3|2021-06-02  |14:00:00    |1   |-1  |-1  |-1  |1717207215807|210602298    |live   |[\"Drama\"] |EPG_LIST_CHANNEL|-1 |0    |2931       |live|-1 |null  |Sat Jun 01 07:30:15 GMT+05:30 2024|http%3A%2F%2Fjiotv.live.cdn.jio.com%2FZeeKannada%2FZeeKannada.m3u8  |9a316ac3-b599-eaa2-7f13-82ac052da713|1717425016065           |0.0            |0.0                 |0.0           |280.0              |14          |280.0           |\n",
            "|109154002|6.0.8|4959332274|91b2e423385c|S   |1    |f2acd1c4-d85b-57be-17a7-aa2e718d3978|media_access|0  |0  |5546 |Xiaomi |4G |10   |A  |1717456066656|9433777250|dlpxcgjorgzkgbvs|113.252.46.171 |2024-06-04 04:37:46|595c6885-b09f-00b8-0000-120e04a0|0  |0  |0  |0  |0  |0  |[]           |-1    |Entertainment|ZeeKannada |511       |Kannada |0    |67 |HUAWEI LLD-AL20 |AES       |49 |U     |0    |false    |6207263104|[\"Drama\"]   |0.0|ZeeKannada : Program2 |Jio 4G|-1 |device         |Exoplayer|Punar+Vivaah          |H1|H2|H3|2021-06-02  |14:00:00    |2   |-1  |-1  |-1  |1717456066656|210602511    |live   |[\"Drama\"] |EPG_LIST_CHANNEL|-1 |0    |275        |live|-1 |null  |Tue Jun 04 04:37:46 GMT+05:30 2024|http%3A%2F%2Fjiotv.live.cdn.jio.com%2FZeeKannada%2FZeeKannada.m3u8  |0f42a99e-c899-b2d3-7ac2-5b8cc792c88e|1717259332546           |0.0            |0.0                 |0.0           |84.0               |14          |84.0            |\n",
            "|109154002|6.0.8|6161350138|59f1340cbc9e|S   |1    |9aae557d-f2aa-2adc-e025-9ccc9624f95e|media_access|0  |0  |6424 |vivo   |4G |10   |A  |1717492903607|1180483055|0xg7pdemoln9pnfv|106.218.163.209|2024-06-04 14:51:43|58ab67a7-2675-1d35-0000-92326787|0  |0  |0  |0  |0  |0  |[]           |-1    |Entertainment|AajTak     |628       |Hindi   |0    |58 |samsung SM-M205F|AES       |74 |U     |0    |false    |3311465953|[\"Politics\"]|0.0|AajTak : Program3     |Jio 4G|-1 |device         |Exoplayer|Punar+Vivaah          |H1|H2|H3|2021-06-02  |14:00:00    |2   |-1  |-1  |-1  |1717492903607|210602628    |live   |[\"Drama\"] |EPG_LIST_CHANNEL|-1 |0    |403        |live|-1 |null  |Tue Jun 04 14:51:43 GMT+05:30 2024|http%3A%2F%2Fjiotv.live.cdn.jio.com%2FAajTak%2FAajTak.m3u8          |2b45ae20-40ad-3131-98e9-b1a6bfa1da8c|1717503308046           |0.0            |0.0                 |0.0           |331.0              |14          |331.0           |\n",
            "|109154002|6.0.8|4779395817|db7bb716ed1f|S   |1    |e9e10674-7f82-ae58-2a42-48f0650391e2|media_access|0  |0  |9814 |vivo   |4G |9    |A  |1717495989905|5830648992|819p79iwbgqd3259|170.52.147.169 |2024-06-04 15:43:09|a02afd3a-41dc-5763-0000-4f21b879|0  |0  |0  |0  |0  |0  |[]           |-1    |Entertainment|News18Assam|345       |Assamese|0    |89 |HUAWEI LLD-AL20 |AES       |62 |U     |0    |false    |5875958043|[\"Drama\"]   |0.0|News18Assam : Program2|Jio 4G|-1 |device         |Exoplayer|Trinayani             |H1|H2|H3|2021-06-02  |14:00:00    |2   |-1  |-1  |-1  |1717495989905|210602345    |live   |[\"Drama\"] |EPG_LIST_CHANNEL|-1 |0    |4370       |live|-1 |null  |Tue Jun 04 15:43:09 GMT+05:30 2024|http%3A%2F%2Fjiotv.live.cdn.jio.com%2FNews18Assam%2FNews18Assam.m3u8|524d92d7-2cbc-f501-f97e-63d292fa4ebf|1717409132231           |0.0            |0.0                 |0.0           |685.0              |14          |685.0           |\n",
            "|109154002|6.0.8|4431164826|9ce0691b64d9|S   |1    |3885522f-f5d1-45af-08c6-7fa84f203b99|media_access|0  |0  |6590 |samsung|4G |10   |A  |1717152942333|7031040096|bm07u2tzhz1judw6|113.185.110.80 |2024-05-31 16:25:42|10ffdffa-89ff-b517-0000-4452da94|0  |0  |0  |0  |0  |0  |[]           |-1    |News         |ZeeKannada |296       |Hindi   |0    |138|Xiaomi Redmi 7A |AES       |49 |U     |0    |false    |1977618171|[\"News\"]    |0.0|ZeeKannada : Program3 |Jio 4G|-1 |device         |Exoplayer|Pavitra+Rishta        |H1|H2|H3|2021-06-02  |14:00:00    |3   |-1  |-1  |-1  |1717152942333|210602296    |live   |[\"Drama\"] |EPG_LIST_CHANNEL|-1 |0    |3097       |live|-1 |null  |Fri May 31 16:25:42 GMT+05:30 2024|http%3A%2F%2Fjiotv.live.cdn.jio.com%2FZeeKannada%2FZeeKannada.m3u8  |c8da970c-2825-75ab-c018-2702788531da|1717440329378           |0.0            |0.0                 |0.0           |488.0              |14          |488.0           |\n",
            "|109154002|6.0.8|2316827504|32990525e581|S   |1    |8983a237-c4e2-df60-e86c-e1e550043aa6|media_access|0  |0  |716  |OPPO   |4G |10   |A  |1717223074610|3784911387|zarcqohd3ndprz7g|207.113.110.187|2024-06-01 11:54:34|540ca01c-174f-05d5-0000-3a8b81e2|0  |0  |0  |0  |0  |0  |[]           |-1    |News         |ZeeTVHD    |138       |Assamese|0    |192|samsung SM-M205F|AES       |41 |U     |0    |false    |1984337606|[\"Drama\"]   |0.0|ZeeTVHD : Program2    |Jio 4G|-1 |device         |Exoplayer|News                  |H1|H2|H3|2021-06-02  |14:00:00    |3   |-1  |-1  |-1  |1717223074610|210602138    |live   |[\"News\"]  |EPG_LIST_CHANNEL|-1 |0    |3645       |live|-1 |null  |Sat Jun 01 11:54:34 GMT+05:30 2024|http%3A%2F%2Fjiotv.live.cdn.jio.com%2FZeeTVHD%2FZeeTVHD.m3u8        |17f7157d-18e2-b7e4-ba88-a2da6f928b28|1717580966617           |0.0            |0.0                 |0.0           |394.0              |14          |394.0           |\n",
            "|109154002|6.0.8|4132361165|be3b3121664b|S   |1    |35fd177f-c0ce-e815-5b94-d40b8c426834|media_access|0  |0  |5801 |samsung|4G |10   |A  |1717151718169|9175213933|2fyaoyzt5cjcl8i2|155.16.246.24  |2024-05-31 16:05:18|dae70c63-5309-0362-0000-5e2a53eb|0  |0  |0  |0  |0  |0  |[]           |-1    |News         |ZeeKannada |137       |Kannada |0    |138|vivo vivo 1801  |AES       |28 |U     |0    |false    |9622912724|[\"News\"]    |0.0|ZeeKannada : Program3 |Jio 4G|-1 |device         |Exoplayer|Afternoon+Express     |H1|H2|H3|2021-06-02  |14:00:00    |1   |-1  |-1  |-1  |1717151718169|210602137    |live   |[\"News\"]  |EPG_LIST_CHANNEL|-1 |0    |2268       |live|-1 |null  |Fri May 31 16:05:18 GMT+05:30 2024|http%3A%2F%2Fjiotv.live.cdn.jio.com%2FZeeKannada%2FZeeKannada.m3u8  |5b34bb69-a879-bed0-a67b-d8d5f7f668ff|1717472706096           |0.0            |0.0                 |0.0           |153.0              |14          |153.0           |\n",
            "|109154002|6.0.8|3666497781|74638bf61f38|S   |1    |bcad3c41-1c3e-7d64-13ce-3e3a0da78cc2|media_access|0  |0  |7608 |OPPO   |4G |10   |A  |1717601501352|9219864374|74boui4ncu50kmdc|173.10.29.1    |2024-06-05 21:01:41|bc13b5ae-8a7a-8eff-0000-6485a931|0  |0  |0  |0  |0  |0  |[]           |-1    |Entertainment|ZeeTelugu  |352       |Telugu  |0    |159|Xiaomi Redmi 7A |AES       |39 |U     |0    |false    |3907190375|[\"Politics\"]|0.0|ZeeTelugu : Program1  |Jio 4G|-1 |device         |Exoplayer|Punar+Vivaah          |H1|H2|H3|2021-06-02  |14:00:00    |1   |-1  |-1  |-1  |1717601501352|210602352    |live   |[\"Drama\"] |EPG_LIST_CHANNEL|-1 |0    |3324       |live|-1 |null  |Wed Jun 05 21:01:41 GMT+05:30 2024|http%3A%2F%2Fjiotv.live.cdn.jio.com%2FZeeTelugu%2FZeeTelugu.m3u8    |1e93c7c4-0614-6712-6634-ad21c4362528|1717179627997           |0.0            |0.0                 |0.0           |98.0               |14          |98.0            |\n",
            "|109154002|6.0.8|8172206993|8953e608118b|S   |1    |634fb4ae-1632-d97b-aa5e-8faf1ebf876b|media_access|0  |0  |5869 |samsung|4G |10   |A  |1717198059176|9028490605|0dekj4rbs9ijuzdj|134.70.196.139 |2024-06-01 04:57:39|2d0e89d9-3538-2ebd-0000-42a91bc6|0  |0  |0  |0  |0  |0  |[]           |-1    |Entertainment|ZeeAnmol   |342       |Kannada |0    |195|OPPO RMX1801    |AES       |80 |U     |0    |false    |8992204265|[\"Politics\"]|0.0|ZeeAnmol : Program3   |Jio 4G|-1 |device         |Exoplayer|Punar+Vivaah          |H1|H2|H3|2021-06-02  |14:00:00    |3   |-1  |-1  |-1  |1717198059176|210602342    |live   |[\"News\"]  |EPG_LIST_CHANNEL|-1 |0    |4778       |live|-1 |null  |Sat Jun 01 04:57:39 GMT+05:30 2024|http%3A%2F%2Fjiotv.live.cdn.jio.com%2FZeeAnmol%2FZeeAnmol.m3u8      |36144b9b-39c9-85d0-1e80-a30462f94a2a|1717203470483           |0.0            |0.0                 |0.0           |594.0              |14          |594.0           |\n",
            "|109154002|6.0.8|8180434340|009ecece0169|S   |1    |1e08581c-c861-bf8f-f3e7-6aadd1144fc4|media_access|0  |0  |8912 |OPPO   |4G |8.1.0|A  |1717048040083|5434004961|t2dhbbqfu9tncjc8|66.89.172.88   |2024-05-30 11:17:20|ab1fa2ce-5076-3900-0000-c1733c57|0  |0  |0  |0  |0  |0  |[]           |-1    |Entertainment|News18Assam|102       |Assamese|0    |127|Xiaomi Redmi 7A |AES       |45 |U     |0    |false    |4327753962|[\"News\"]    |0.0|News18Assam : Program3|Jio 4G|-1 |device         |Exoplayer|Mithai+Kottu+Chittemma|H1|H2|H3|2021-06-02  |14:00:00    |2   |-1  |-1  |-1  |1717048040083|210602102    |live   |[\"News\"]  |EPG_LIST_CHANNEL|-1 |0    |1591       |live|-1 |null  |Thu May 30 11:17:20 GMT+05:30 2024|http%3A%2F%2Fjiotv.live.cdn.jio.com%2FNews18Assam%2FNews18Assam.m3u8|6f0532a4-4e4f-4b42-cf32-ae006e5e6c18|1717238451866           |0.0            |0.0                 |0.0           |105.0              |14          |105.0           |\n",
            "+---------+-----+----------+------------+----+-----+------------------------------------+------------+---+---+-----+-------+---+-----+---+-------------+----------+----------------+---------------+-------------------+--------------------------------+---+---+---+---+---+---+-------------+------+-------------+-----------+----------+--------+-----+---+----------------+----------+---+------+-----+---------+----------+------------+---+----------------------+------+---+---------------+---------+----------------------+--------+------------+------------+----+----+----+----+-------------+-------------+-------+----------+----------------+---+-----+-----------+----+---+------+----------------------------------+--------------------------------------------------------------------+------------------------------------+------------------------+---------------+--------------------+--------------+-------------------+------------+----------------+\n",
            "only showing top 20 rows\n",
            "\n",
            "root\n",
            " |-- akey: string (nullable = true)\n",
            " |-- avn: string (nullable = true)\n",
            " |-- crmid: string (nullable = true)\n",
            " |-- did: string (nullable = true)\n",
            " |-- dtpe: string (nullable = true)\n",
            " |-- evtno: string (nullable = true)\n",
            " |-- idamid: string (nullable = true)\n",
            " |-- key: string (nullable = true)\n",
            " |-- lat: string (nullable = true)\n",
            " |-- lng: string (nullable = true)\n",
            " |-- logno: string (nullable = true)\n",
            " |-- mnu: string (nullable = true)\n",
            " |-- nwk: string (nullable = true)\n",
            " |-- osv: string (nullable = true)\n",
            " |-- pf: string (nullable = true)\n",
            " |-- rtc: string (nullable = true)\n",
            " |-- sid: string (nullable = true)\n",
            " |-- uid: string (nullable = true)\n",
            " |-- ip_address: string (nullable = true)\n",
            " |-- dateflink: string (nullable = true)\n",
            " |-- HARD_CODE_DEVICE_ID: string (nullable = true)\n",
            " |-- avr: string (nullable = true)\n",
            " |-- bbc: string (nullable = true)\n",
            " |-- bbd: string (nullable = true)\n",
            " |-- bc: string (nullable = true)\n",
            " |-- bd: string (nullable = true)\n",
            " |-- bdl: string (nullable = true)\n",
            " |-- bufferdetails: string (nullable = true)\n",
            " |-- cellid: string (nullable = true)\n",
            " |-- cg: string (nullable = true)\n",
            " |-- ch: string (nullable = true)\n",
            " |-- channel_id: string (nullable = true)\n",
            " |-- cl: string (nullable = true)\n",
            " |-- codec: string (nullable = true)\n",
            " |-- d: string (nullable = true)\n",
            " |-- dm: string (nullable = true)\n",
            " |-- encryption: string (nullable = true)\n",
            " |-- ep: string (nullable = true)\n",
            " |-- finish: string (nullable = true)\n",
            " |-- index: string (nullable = true)\n",
            " |-- isottuser: string (nullable = true)\n",
            " |-- jio_id: string (nullable = true)\n",
            " |-- keywords: string (nullable = true)\n",
            " |-- lac: string (nullable = true)\n",
            " |-- n: string (nullable = true)\n",
            " |-- opr: string (nullable = true)\n",
            " |-- pci: string (nullable = true)\n",
            " |-- playback_screen: string (nullable = true)\n",
            " |-- player: string (nullable = true)\n",
            " |-- pn: string (nullable = true)\n",
            " |-- prof: string (nullable = true)\n",
            " |-- program_date: date (nullable = true)\n",
            " |-- program_time: string (nullable = true)\n",
            " |-- prow: string (nullable = true)\n",
            " |-- rsrp: string (nullable = true)\n",
            " |-- rsrq: string (nullable = true)\n",
            " |-- rssi: string (nullable = true)\n",
            " |-- rtc: string (nullable = true)\n",
            " |-- serial_number: string (nullable = true)\n",
            " |-- settype: string (nullable = true)\n",
            " |-- show_genre: string (nullable = true)\n",
            " |-- source: string (nullable = true)\n",
            " |-- ss: string (nullable = true)\n",
            " |-- start: string (nullable = true)\n",
            " |-- startuptime: string (nullable = true)\n",
            " |-- t: string (nullable = true)\n",
            " |-- tac: string (nullable = true)\n",
            " |-- tac_id: string (nullable = true)\n",
            " |-- timestamp: string (nullable = true)\n",
            " |-- u: string (nullable = true)\n",
            " |-- unique_session_id: string (nullable = true)\n",
            " |-- unique_session_timestamp: string (nullable = true)\n",
            " |-- watch_time_dock: double (nullable = true)\n",
            " |-- watch_time_landscape: double (nullable = true)\n",
            " |-- watch_time_pip: double (nullable = true)\n",
            " |-- watch_time_portrait: double (nullable = true)\n",
            " |-- program_hour: integer (nullable = true)\n",
            " |-- watch_time_total: double (nullable = true)\n",
            "\n"
          ]
        }
      ],
      "source": [
        "from pyspark.sql import SparkSession\n",
        "from pyspark.sql.functions import col, split\n",
        "from pyspark.sql.types import DoubleType\n",
        "\n",
        "spark = SparkSession.builder \\\n",
        "    .appName(\"JioAnalyticsProcessing\") \\\n",
        "    .getOrCreate()\n",
        "\n",
        "file_path = \"/content/drive/MyDrive/sample_random.json\"\n",
        "\n",
        "raw_df = spark.read.option(\"multiline\", \"true\").json(file_path)\n",
        "\n",
        "raw_df = raw_df.na.drop()\n",
        "\n",
        "\n",
        "raw_df = raw_df.dropDuplicates()\n",
        "\n",
        "\n",
        "raw_df.printSchema()\n",
        "raw_df.show(truncate=False)\n",
        "\n",
        "\n",
        "if 'pro' in raw_df.columns:\n",
        "    raw_df.select(\"pro\").show(truncate=False)\n",
        "\n",
        "\n",
        "    if not raw_df.select(\"pro\").rdd.isEmpty():\n",
        "        pro_df = raw_df.select(\"pro.*\")\n",
        "        pro_df.printSchema()\n",
        "        raw_df = raw_df.select(\n",
        "            col(\"akey\"),\n",
        "            col(\"avn\"),\n",
        "            col(\"crmid\"),\n",
        "            col(\"did\"),\n",
        "            col(\"dtpe\"),\n",
        "            col(\"evtno\"),\n",
        "            col(\"idamid\"),\n",
        "            col(\"key\"),\n",
        "            col(\"lat\"),\n",
        "            col(\"lng\"),\n",
        "            col(\"logno\"),\n",
        "            col(\"mnu\"),\n",
        "            col(\"nwk\"),\n",
        "            col(\"osv\"),\n",
        "            col(\"pf\"),\n",
        "            col(\"rtc\"),\n",
        "            col(\"sid\"),\n",
        "            col(\"uid\"),\n",
        "            col(\"x-forwarded-for\").alias(\"ip_address\"),\n",
        "            col(\"dateflink\"),\n",
        "            col(\"pro.HARD_CODE_DEVICE_ID\"),\n",
        "            col(\"pro.avr\"),\n",
        "            col(\"pro.bbc\"),\n",
        "            col(\"pro.bbd\"),\n",
        "            col(\"pro.bc\"),\n",
        "            col(\"pro.bd\"),\n",
        "            col(\"pro.bdl\"),\n",
        "            col(\"pro.bufferdetails\"),\n",
        "            col(\"pro.cellid\"),\n",
        "            col(\"pro.cg\"),\n",
        "            col(\"pro.ch\"),\n",
        "            col(\"pro.channel_id\"),\n",
        "            col(\"pro.cl\"),\n",
        "            col(\"pro.codec\"),\n",
        "            col(\"pro.d\"),\n",
        "            col(\"pro.dm\"),\n",
        "            col(\"pro.encryption\"),\n",
        "            col(\"pro.ep\"),\n",
        "            col(\"pro.finish\"),\n",
        "            col(\"pro.index\"),\n",
        "            col(\"pro.isottuser\"),\n",
        "            col(\"pro.jio_id\"),\n",
        "            col(\"pro.keywords\"),\n",
        "            col(\"pro.lac\"),\n",
        "            col(\"pro.n\"),\n",
        "            col(\"pro.opr\"),\n",
        "            col(\"pro.pci\"),\n",
        "            col(\"pro.playback_screen\"),\n",
        "            col(\"pro.player\"),\n",
        "            col(\"pro.pn\"),\n",
        "            col(\"pro.prof\"),\n",
        "            col(\"pro.program_date\"),\n",
        "            col(\"pro.program_time\"),\n",
        "            col(\"pro.prow\"),\n",
        "            col(\"pro.rsrp\"),\n",
        "            col(\"pro.rsrq\"),\n",
        "            col(\"pro.rssi\"),\n",
        "            col(\"pro.rtc\"),\n",
        "            col(\"pro.serial_number\"),\n",
        "            col(\"pro.settype\"),\n",
        "            col(\"pro.show_genre\"),\n",
        "            col(\"pro.source\"),\n",
        "            col(\"pro.ss\"),\n",
        "            col(\"pro.start\"),\n",
        "            col(\"pro.startuptime\"),\n",
        "            col(\"pro.t\"),\n",
        "            col(\"pro.tac\"),\n",
        "            col(\"pro.tac_id\"),\n",
        "            col(\"pro.timestamp\"),\n",
        "            col(\"pro.u\"),\n",
        "            col(\"pro.unique_session_id\"),\n",
        "            col(\"pro.unique_session_timestamp\"),\n",
        "            col(\"pro.watch_time_dock\"),\n",
        "            col(\"pro.watch_time_landscape\"),\n",
        "            col(\"pro.watch_time_pip\"),\n",
        "            col(\"pro.watch_time_portrait\")\n",
        "        )\n",
        "\n",
        "\n",
        "        raw_df = raw_df.withColumn(\"watch_time_portrait\", col(\"watch_time_portrait\").cast(DoubleType()))\n",
        "        raw_df = raw_df.withColumn(\"watch_time_landscape\", col(\"watch_time_landscape\").cast(DoubleType()))\n",
        "        raw_df = raw_df.withColumn(\"watch_time_dock\", col(\"watch_time_dock\").cast(DoubleType()))\n",
        "        raw_df = raw_df.withColumn(\"watch_time_pip\", col(\"watch_time_pip\").cast(DoubleType()))\n",
        "        raw_df = raw_df.withColumn(\"program_date\", col(\"program_date\").cast(\"date\"))\n",
        "        raw_df = raw_df.withColumn(\"program_hour\", split(col(\"program_time\"), \":\")[0].cast(\"integer\"))\n",
        "\n",
        "\n",
        "        raw_df = raw_df.withColumn(\"watch_time_total\",\n",
        "            col(\"watch_time_landscape\") + col(\"watch_time_portrait\") + col(\"watch_time_dock\") + col(\"watch_time_pip\"))\n",
        "\n",
        "\n",
        "if 'watch_time_portrait' in raw_df.columns:\n",
        "\n",
        "    raw_df = raw_df.na.drop(subset=[\"watch_time_portrait\"])\n",
        "\n",
        "\n",
        "raw_df.show(truncate=False)\n",
        "\n",
        "\n",
        "raw_df.printSchema()\n",
        "\n"
      ]
    },
    {
      "cell_type": "markdown",
      "metadata": {
        "id": "NwIxA16vsL5p"
      },
      "source": [
        "handling dates\n",
        " Convert Date Columns"
      ]
    },
    {
      "cell_type": "code",
      "execution_count": null,
      "metadata": {
        "id": "uy7gKaJaAAjx"
      },
      "outputs": [],
      "source": [
        "from pyspark.sql import SparkSession\n",
        "from pyspark.sql.functions import col, to_timestamp\n",
        "\n",
        "spark = SparkSession.builder.appName(\"RecommendationModel\").getOrCreate()\n"
      ]
    },
    {
      "cell_type": "markdown",
      "source": [
        "\n",
        "\n",
        "*   Inspecting the schema and data of the DataFrame\n",
        "*   Extracting all fields from 'pro' and include them in the schema\n",
        "*   Cast relevant fields within 'pro'\n",
        "*   Computing watch time\n",
        "\n",
        "\n",
        "\n",
        "\n"
      ],
      "metadata": {
        "id": "JiJp7sU4n9Je"
      }
    },
    {
      "cell_type": "code",
      "execution_count": null,
      "metadata": {
        "colab": {
          "base_uri": "https://localhost:8080/"
        },
        "id": "6zk_1GbqAAmI",
        "outputId": "32db2989-ffc2-49a3-8c8c-91ed131bf7d3"
      },
      "outputs": [
        {
          "output_type": "stream",
          "name": "stdout",
          "text": [
            "Column 'pro_timestamp' does not exist. Please verify the correct column name.\n",
            "+---------+-----+----------+------------+----+-----+------------------------------------+------------+---+---+-----+-------+---+-----+---+-------------+----------+----------------+---------------+-------------------+--------------------------------+---+---+---+---+---+---+-------------+------+-------------+-----------+----------+--------+-----+---+----------------+----------+---+------+-----+---------+----------+------------+---+----------------------+------+---+---------------+---------+----------------------+--------+-------------------+------------+----+----+----+----+-------------+-------------+-------+----------+----------------+---+-----+-----------+----+---+------+----------------------------------+--------------------------------------------------------------------+------------------------------------+------------------------+---------------+--------------------+--------------+-------------------+------------+----------------+\n",
            "|akey     |avn  |crmid     |did         |dtpe|evtno|idamid                              |key         |lat|lng|logno|mnu    |nwk|osv  |pf |rtc          |sid       |uid             |ip_address     |dateflink          |HARD_CODE_DEVICE_ID             |avr|bbc|bbd|bc |bd |bdl|bufferdetails|cellid|cg           |ch         |channel_id|cl      |codec|d  |dm              |encryption|ep |finish|index|isottuser|jio_id    |keywords    |lac|n                     |opr   |pci|playback_screen|player   |pn                    |prof    |program_date       |program_time|prow|rsrp|rsrq|rssi|rtc          |serial_number|settype|show_genre|source          |ss |start|startuptime|t   |tac|tac_id|timestamp                         |u                                                                   |unique_session_id                   |unique_session_timestamp|watch_time_dock|watch_time_landscape|watch_time_pip|watch_time_portrait|program_hour|watch_time_total|\n",
            "+---------+-----+----------+------------+----+-----+------------------------------------+------------+---+---+-----+-------+---+-----+---+-------------+----------+----------------+---------------+-------------------+--------------------------------+---+---+---+---+---+---+-------------+------+-------------+-----------+----------+--------+-----+---+----------------+----------+---+------+-----+---------+----------+------------+---+----------------------+------+---+---------------+---------+----------------------+--------+-------------------+------------+----+----+----+----+-------------+-------------+-------+----------+----------------+---+-----+-----------+----+---+------+----------------------------------+--------------------------------------------------------------------+------------------------------------+------------------------+---------------+--------------------+--------------+-------------------+------------+----------------+\n",
            "|109154002|6.0.8|3415106380|97dcffe59997|S   |1    |14d32fe6-5a84-0c1b-4537-9ad491206ca2|media_access|0  |0  |105  |samsung|4G |8.1.0|A  |1717333254406|3348503611|p4ql6ycde4n51u0k|46.170.220.188 |2024-06-02 18:30:54|4329372c-4b4d-53e4-0000-d4a9eeb5|0  |0  |0  |0  |0  |0  |[]           |-1    |News         |ZeeAnmol   |204       |Telugu  |0    |63 |OPPO RMX1801    |AES       |40 |U     |0    |false    |1977365246|[\"Drama\"]   |0.0|ZeeAnmol : Program1   |Jio 4G|-1 |device         |Exoplayer|Trinayani             |H1|H2|H3|2021-06-02 00:00:00|14:00:00    |3   |-1  |-1  |-1  |1717333254406|210602204    |live   |[\"Drama\"] |EPG_LIST_CHANNEL|-1 |0    |1546       |live|-1 |null  |Sun Jun 02 18:30:54 GMT+05:30 2024|http%3A%2F%2Fjiotv.live.cdn.jio.com%2FZeeAnmol%2FZeeAnmol.m3u8      |f9544904-65a5-8832-7dac-cf8f7c0be161|1717395906421           |0.0            |0.0                 |0.0           |372.0              |14          |372.0           |\n",
            "|109154002|6.0.8|7299846611|bf7afdcdf149|S   |1    |9ef70cbd-42b4-2506-2142-1ee246e9d7ff|media_access|0  |0  |3642 |Xiaomi |4G |10   |A  |1717381265140|9747847561|zm81k8aggfqj923x|24.144.23.250  |2024-06-03 07:51:05|f52cae8a-abbf-8235-0000-fe20dad9|0  |0  |0  |0  |0  |0  |[]           |-1    |News         |ZeeTelugu  |588       |Assamese|0    |82 |HUAWEI LLD-AL20 |AES       |48 |U     |0    |false    |8045215853|[\"Politics\"]|0.0|ZeeTelugu : Program3  |Jio 4G|-1 |device         |Exoplayer|Trinayani             |H1|H2|H3|2021-06-02 00:00:00|14:00:00    |2   |-1  |-1  |-1  |1717381265140|210602588    |live   |[\"News\"]  |EPG_LIST_CHANNEL|-1 |0    |965        |live|-1 |null  |Mon Jun 03 07:51:05 GMT+05:30 2024|http%3A%2F%2Fjiotv.live.cdn.jio.com%2FZeeTelugu%2FZeeTelugu.m3u8    |08a8006a-e6a2-ad17-815b-f75a515a4c96|1717240653004           |0.0            |0.0                 |0.0           |326.0              |14          |326.0           |\n",
            "|109154002|6.0.8|4454904068|35826c46ff94|S   |1    |ab72f4b2-e358-403d-7e99-4e56706b7728|media_access|0  |0  |4733 |OPPO   |4G |9    |A  |1717197932171|6029815267|y92ldsdgzhee6g26|54.143.242.192 |2024-06-01 04:55:32|8beed459-aeed-0855-0000-93872bdc|0  |0  |0  |0  |0  |0  |[]           |-1    |Entertainment|AajTak     |148       |Telugu  |0    |167|HUAWEI LLD-AL20 |AES       |22 |U     |0    |false    |8635229578|[\"Drama\"]   |0.0|AajTak : Program2     |Jio 4G|-1 |device         |Exoplayer|Punar+Vivaah          |H1|H2|H3|2021-06-02 00:00:00|14:00:00    |2   |-1  |-1  |-1  |1717197932171|210602148    |live   |[\"News\"]  |EPG_LIST_CHANNEL|-1 |0    |4931       |live|-1 |null  |Sat Jun 01 04:55:32 GMT+05:30 2024|http%3A%2F%2Fjiotv.live.cdn.jio.com%2FAajTak%2FAajTak.m3u8          |c38e52f3-c59b-a9fa-39d8-6c62ff6bd709|1717053771989           |0.0            |0.0                 |0.0           |449.0              |14          |449.0           |\n",
            "|109154002|6.0.8|2922718294|cb06b98bbcbd|S   |1    |e3db5848-95f2-35dd-8d1f-e6414545b69e|media_access|0  |0  |8081 |vivo   |4G |10   |A  |1717447322595|7824736735|4k8mi4dnbm7ki3zx|153.37.149.242 |2024-06-04 02:12:02|8667f14d-88ad-2818-0000-d1604b5b|0  |0  |0  |0  |0  |0  |[]           |-1    |News         |ZeeAnmol   |608       |Kannada |0    |163|Xiaomi Redmi 7A |AES       |84 |U     |0    |false    |7597739953|[\"News\"]    |0.0|ZeeAnmol : Program1   |Jio 4G|-1 |device         |Exoplayer|Pavitra+Rishta        |H1|H2|H3|2021-06-02 00:00:00|14:00:00    |3   |-1  |-1  |-1  |1717447322595|210602608    |live   |[\"Drama\"] |EPG_LIST_CHANNEL|-1 |0    |3635       |live|-1 |null  |Tue Jun 04 02:12:02 GMT+05:30 2024|http%3A%2F%2Fjiotv.live.cdn.jio.com%2FZeeAnmol%2FZeeAnmol.m3u8      |3f6e0f60-e0da-4019-2783-9d7b53b02fed|1717508668776           |0.0            |0.0                 |0.0           |278.0              |14          |278.0           |\n",
            "|109154002|6.0.8|3660991280|1d6ebd1f44ff|S   |1    |fe34dea5-63ca-cfff-8281-ab062bd09d23|media_access|0  |0  |5820 |vivo   |4G |8.1.0|A  |1717052867742|9563259696|fktg95znoe6qjkbp|74.51.65.238   |2024-05-30 12:37:47|1d362003-eeac-63c4-0000-9293fffe|0  |0  |0  |0  |0  |0  |[]           |-1    |News         |ZeeAnmol   |402       |Telugu  |0    |198|OPPO RMX1801    |AES       |53 |U     |0    |false    |7444987206|[\"Politics\"]|0.0|ZeeAnmol : Program3   |Jio 4G|-1 |device         |Exoplayer|Trinayani             |H1|H2|H3|2021-06-02 00:00:00|14:00:00    |1   |-1  |-1  |-1  |1717052867742|210602402    |live   |[\"Drama\"] |EPG_LIST_CHANNEL|-1 |0    |4010       |live|-1 |null  |Thu May 30 12:37:47 GMT+05:30 2024|http%3A%2F%2Fjiotv.live.cdn.jio.com%2FZeeAnmol%2FZeeAnmol.m3u8      |e62fe05c-66d6-aee1-91dc-20065ad46b7e|1717084365449           |0.0            |0.0                 |0.0           |248.0              |14          |248.0           |\n",
            "|109154002|6.0.8|3736535712|8f39f0aa4bf1|S   |1    |b728292d-8df5-ff6e-5f57-fab1a57b8f79|media_access|0  |0  |311  |HUAWEI |4G |8.1.0|A  |1717504684555|4395961609|ji4owptewlremvsd|1.97.254.212   |2024-06-04 18:08:04|a9f70e2a-a417-c184-0000-9496f7dc|0  |0  |0  |0  |0  |0  |[]           |-1    |News         |ZeeTVHD    |585       |Assamese|0    |87 |samsung SM-M205F|AES       |62 |U     |0    |false    |6735194040|[\"Politics\"]|0.0|ZeeTVHD : Program3    |Jio 4G|-1 |device         |Exoplayer|Trinayani             |H1|H2|H3|2021-06-02 00:00:00|14:00:00    |3   |-1  |-1  |-1  |1717504684555|210602585    |live   |[\"News\"]  |EPG_LIST_CHANNEL|-1 |0    |339        |live|-1 |null  |Tue Jun 04 18:08:04 GMT+05:30 2024|http%3A%2F%2Fjiotv.live.cdn.jio.com%2FZeeTVHD%2FZeeTVHD.m3u8        |f0d0c12d-2c9f-a0d1-0fd1-1652d0cbf285|1717435293172           |0.0            |0.0                 |0.0           |479.0              |14          |479.0           |\n",
            "|109154002|6.0.8|1297397844|3de087d04ec7|S   |1    |58676a2a-600c-c88a-cc5b-2ad9302716ea|media_access|0  |0  |3308 |OPPO   |4G |8.1.0|A  |1717190337556|2062840257|6fw95sa6nxc6py0j|68.104.174.235 |2024-06-01 02:48:57|62d7a26d-3c7d-17a0-0000-6a96149c|0  |0  |0  |0  |0  |0  |[]           |-1    |News         |ZeeTelugu  |450       |Kannada |0    |70 |OPPO RMX1801    |AES       |88 |U     |0    |false    |7838793406|[\"Drama\"]   |0.0|ZeeTelugu : Program2  |Jio 4G|-1 |device         |Exoplayer|Trinayani             |H1|H2|H3|2021-06-02 00:00:00|14:00:00    |3   |-1  |-1  |-1  |1717190337556|210602450    |live   |[\"News\"]  |EPG_LIST_CHANNEL|-1 |0    |2009       |live|-1 |null  |Sat Jun 01 02:48:57 GMT+05:30 2024|http%3A%2F%2Fjiotv.live.cdn.jio.com%2FZeeTelugu%2FZeeTelugu.m3u8    |0d9d88fd-b3e0-0c14-b616-1f553b3997e0|1717544439513           |0.0            |0.0                 |0.0           |945.0              |14          |945.0           |\n",
            "|109154002|6.0.8|8628478804|df5ec772d5f5|S   |1    |8b81602f-4db3-de06-60e4-cf5e67171b04|media_access|0  |0  |1731 |vivo   |4G |8.1.0|A  |1717458277748|7669464119|7wt0m17tz0dabz9p|171.129.199.26 |2024-06-04 05:14:37|d2903e34-318c-0644-0000-f62f6fbb|0  |0  |0  |0  |0  |0  |[]           |-1    |Entertainment|ZeeTelugu  |556       |Kannada |0    |113|Xiaomi Redmi 7A |AES       |2  |U     |0    |false    |9496059441|[\"Politics\"]|0.0|ZeeTelugu : Program2  |Jio 4G|-1 |device         |Exoplayer|Mithai+Kottu+Chittemma|H1|H2|H3|2021-06-02 00:00:00|14:00:00    |1   |-1  |-1  |-1  |1717458277748|210602556    |live   |[\"Drama\"] |EPG_LIST_CHANNEL|-1 |0    |3024       |live|-1 |null  |Tue Jun 04 05:14:37 GMT+05:30 2024|http%3A%2F%2Fjiotv.live.cdn.jio.com%2FZeeTelugu%2FZeeTelugu.m3u8    |9e24bb64-e762-7a2b-f770-2b397adc9792|1717205992803           |0.0            |0.0                 |0.0           |290.0              |14          |290.0           |\n",
            "|109154002|6.0.8|9113847201|e3617be4ec82|S   |1    |d5ce6986-0cfe-65fb-0fc1-437bc7fd188b|media_access|0  |0  |6609 |samsung|4G |10   |A  |1717451435020|4256567237|xj7zr3u223qzd22h|32.121.135.239 |2024-06-04 03:20:35|e73592ab-8602-84c8-0000-cfa05da4|0  |0  |0  |0  |0  |0  |[]           |-1    |Entertainment|ZeeAnmol   |480       |Kannada |0    |68 |Xiaomi Redmi 7A |AES       |44 |U     |0    |false    |1943988476|[\"Politics\"]|0.0|ZeeAnmol : Program2   |Jio 4G|-1 |device         |Exoplayer|Trinayani             |H1|H2|H3|2021-06-02 00:00:00|14:00:00    |2   |-1  |-1  |-1  |1717451435020|210602480    |live   |[\"News\"]  |EPG_LIST_CHANNEL|-1 |0    |1460       |live|-1 |null  |Tue Jun 04 03:20:35 GMT+05:30 2024|http%3A%2F%2Fjiotv.live.cdn.jio.com%2FZeeAnmol%2FZeeAnmol.m3u8      |9d85290a-96cf-c1b5-a366-bd73b8bfa906|1717436923920           |0.0            |0.0                 |0.0           |789.0              |14          |789.0           |\n",
            "|109154002|6.0.8|1026725232|0581d969bfc8|S   |1    |b1df8c53-0b4d-368e-1db6-f2e4c8646080|media_access|0  |0  |8867 |Xiaomi |4G |8.1.0|A  |1717606729325|1837108501|cabhyevpx0a5c3r2|105.42.1.133   |2024-06-05 22:28:49|9b4de3a6-7d74-056f-0000-d3cbab9a|0  |0  |0  |0  |0  |0  |[]           |-1    |News         |ZeeTelugu  |326       |Hindi   |0    |113|HUAWEI LLD-AL20 |AES       |87 |U     |0    |false    |6060244034|[\"News\"]    |0.0|ZeeTelugu : Program1  |Jio 4G|-1 |device         |Exoplayer|Pavitra+Rishta        |H1|H2|H3|2021-06-02 00:00:00|14:00:00    |3   |-1  |-1  |-1  |1717606729325|210602326    |live   |[\"Drama\"] |EPG_LIST_CHANNEL|-1 |0    |4379       |live|-1 |null  |Wed Jun 05 22:28:49 GMT+05:30 2024|http%3A%2F%2Fjiotv.live.cdn.jio.com%2FZeeTelugu%2FZeeTelugu.m3u8    |083d4ed4-ccbf-aaf5-6a03-133af0e7588e|1717496075585           |0.0            |0.0                 |0.0           |644.0              |14          |644.0           |\n",
            "|109154002|6.0.8|2958780469|bbef574d1e1b|S   |1    |a15844fa-b8dc-9d64-5b29-10c3e985fa1e|media_access|0  |0  |6606 |samsung|4G |8.1.0|A  |1717207215807|7184869862|3sbph5iulxumuq61|18.146.131.203 |2024-06-01 07:30:15|5cc1b5a8-93d9-4cf2-0000-b565420c|0  |0  |0  |0  |0  |0  |[]           |-1    |Entertainment|ZeeKannada |298       |Kannada |0    |85 |Xiaomi Redmi 7A |AES       |43 |U     |0    |false    |8792030894|[\"Politics\"]|0.0|ZeeKannada : Program3 |Jio 4G|-1 |device         |Exoplayer|News                  |H1|H2|H3|2021-06-02 00:00:00|14:00:00    |1   |-1  |-1  |-1  |1717207215807|210602298    |live   |[\"Drama\"] |EPG_LIST_CHANNEL|-1 |0    |2931       |live|-1 |null  |Sat Jun 01 07:30:15 GMT+05:30 2024|http%3A%2F%2Fjiotv.live.cdn.jio.com%2FZeeKannada%2FZeeKannada.m3u8  |9a316ac3-b599-eaa2-7f13-82ac052da713|1717425016065           |0.0            |0.0                 |0.0           |280.0              |14          |280.0           |\n",
            "|109154002|6.0.8|4959332274|91b2e423385c|S   |1    |f2acd1c4-d85b-57be-17a7-aa2e718d3978|media_access|0  |0  |5546 |Xiaomi |4G |10   |A  |1717456066656|9433777250|dlpxcgjorgzkgbvs|113.252.46.171 |2024-06-04 04:37:46|595c6885-b09f-00b8-0000-120e04a0|0  |0  |0  |0  |0  |0  |[]           |-1    |Entertainment|ZeeKannada |511       |Kannada |0    |67 |HUAWEI LLD-AL20 |AES       |49 |U     |0    |false    |6207263104|[\"Drama\"]   |0.0|ZeeKannada : Program2 |Jio 4G|-1 |device         |Exoplayer|Punar+Vivaah          |H1|H2|H3|2021-06-02 00:00:00|14:00:00    |2   |-1  |-1  |-1  |1717456066656|210602511    |live   |[\"Drama\"] |EPG_LIST_CHANNEL|-1 |0    |275        |live|-1 |null  |Tue Jun 04 04:37:46 GMT+05:30 2024|http%3A%2F%2Fjiotv.live.cdn.jio.com%2FZeeKannada%2FZeeKannada.m3u8  |0f42a99e-c899-b2d3-7ac2-5b8cc792c88e|1717259332546           |0.0            |0.0                 |0.0           |84.0               |14          |84.0            |\n",
            "|109154002|6.0.8|6161350138|59f1340cbc9e|S   |1    |9aae557d-f2aa-2adc-e025-9ccc9624f95e|media_access|0  |0  |6424 |vivo   |4G |10   |A  |1717492903607|1180483055|0xg7pdemoln9pnfv|106.218.163.209|2024-06-04 14:51:43|58ab67a7-2675-1d35-0000-92326787|0  |0  |0  |0  |0  |0  |[]           |-1    |Entertainment|AajTak     |628       |Hindi   |0    |58 |samsung SM-M205F|AES       |74 |U     |0    |false    |3311465953|[\"Politics\"]|0.0|AajTak : Program3     |Jio 4G|-1 |device         |Exoplayer|Punar+Vivaah          |H1|H2|H3|2021-06-02 00:00:00|14:00:00    |2   |-1  |-1  |-1  |1717492903607|210602628    |live   |[\"Drama\"] |EPG_LIST_CHANNEL|-1 |0    |403        |live|-1 |null  |Tue Jun 04 14:51:43 GMT+05:30 2024|http%3A%2F%2Fjiotv.live.cdn.jio.com%2FAajTak%2FAajTak.m3u8          |2b45ae20-40ad-3131-98e9-b1a6bfa1da8c|1717503308046           |0.0            |0.0                 |0.0           |331.0              |14          |331.0           |\n",
            "|109154002|6.0.8|4779395817|db7bb716ed1f|S   |1    |e9e10674-7f82-ae58-2a42-48f0650391e2|media_access|0  |0  |9814 |vivo   |4G |9    |A  |1717495989905|5830648992|819p79iwbgqd3259|170.52.147.169 |2024-06-04 15:43:09|a02afd3a-41dc-5763-0000-4f21b879|0  |0  |0  |0  |0  |0  |[]           |-1    |Entertainment|News18Assam|345       |Assamese|0    |89 |HUAWEI LLD-AL20 |AES       |62 |U     |0    |false    |5875958043|[\"Drama\"]   |0.0|News18Assam : Program2|Jio 4G|-1 |device         |Exoplayer|Trinayani             |H1|H2|H3|2021-06-02 00:00:00|14:00:00    |2   |-1  |-1  |-1  |1717495989905|210602345    |live   |[\"Drama\"] |EPG_LIST_CHANNEL|-1 |0    |4370       |live|-1 |null  |Tue Jun 04 15:43:09 GMT+05:30 2024|http%3A%2F%2Fjiotv.live.cdn.jio.com%2FNews18Assam%2FNews18Assam.m3u8|524d92d7-2cbc-f501-f97e-63d292fa4ebf|1717409132231           |0.0            |0.0                 |0.0           |685.0              |14          |685.0           |\n",
            "|109154002|6.0.8|4431164826|9ce0691b64d9|S   |1    |3885522f-f5d1-45af-08c6-7fa84f203b99|media_access|0  |0  |6590 |samsung|4G |10   |A  |1717152942333|7031040096|bm07u2tzhz1judw6|113.185.110.80 |2024-05-31 16:25:42|10ffdffa-89ff-b517-0000-4452da94|0  |0  |0  |0  |0  |0  |[]           |-1    |News         |ZeeKannada |296       |Hindi   |0    |138|Xiaomi Redmi 7A |AES       |49 |U     |0    |false    |1977618171|[\"News\"]    |0.0|ZeeKannada : Program3 |Jio 4G|-1 |device         |Exoplayer|Pavitra+Rishta        |H1|H2|H3|2021-06-02 00:00:00|14:00:00    |3   |-1  |-1  |-1  |1717152942333|210602296    |live   |[\"Drama\"] |EPG_LIST_CHANNEL|-1 |0    |3097       |live|-1 |null  |Fri May 31 16:25:42 GMT+05:30 2024|http%3A%2F%2Fjiotv.live.cdn.jio.com%2FZeeKannada%2FZeeKannada.m3u8  |c8da970c-2825-75ab-c018-2702788531da|1717440329378           |0.0            |0.0                 |0.0           |488.0              |14          |488.0           |\n",
            "|109154002|6.0.8|2316827504|32990525e581|S   |1    |8983a237-c4e2-df60-e86c-e1e550043aa6|media_access|0  |0  |716  |OPPO   |4G |10   |A  |1717223074610|3784911387|zarcqohd3ndprz7g|207.113.110.187|2024-06-01 11:54:34|540ca01c-174f-05d5-0000-3a8b81e2|0  |0  |0  |0  |0  |0  |[]           |-1    |News         |ZeeTVHD    |138       |Assamese|0    |192|samsung SM-M205F|AES       |41 |U     |0    |false    |1984337606|[\"Drama\"]   |0.0|ZeeTVHD : Program2    |Jio 4G|-1 |device         |Exoplayer|News                  |H1|H2|H3|2021-06-02 00:00:00|14:00:00    |3   |-1  |-1  |-1  |1717223074610|210602138    |live   |[\"News\"]  |EPG_LIST_CHANNEL|-1 |0    |3645       |live|-1 |null  |Sat Jun 01 11:54:34 GMT+05:30 2024|http%3A%2F%2Fjiotv.live.cdn.jio.com%2FZeeTVHD%2FZeeTVHD.m3u8        |17f7157d-18e2-b7e4-ba88-a2da6f928b28|1717580966617           |0.0            |0.0                 |0.0           |394.0              |14          |394.0           |\n",
            "|109154002|6.0.8|4132361165|be3b3121664b|S   |1    |35fd177f-c0ce-e815-5b94-d40b8c426834|media_access|0  |0  |5801 |samsung|4G |10   |A  |1717151718169|9175213933|2fyaoyzt5cjcl8i2|155.16.246.24  |2024-05-31 16:05:18|dae70c63-5309-0362-0000-5e2a53eb|0  |0  |0  |0  |0  |0  |[]           |-1    |News         |ZeeKannada |137       |Kannada |0    |138|vivo vivo 1801  |AES       |28 |U     |0    |false    |9622912724|[\"News\"]    |0.0|ZeeKannada : Program3 |Jio 4G|-1 |device         |Exoplayer|Afternoon+Express     |H1|H2|H3|2021-06-02 00:00:00|14:00:00    |1   |-1  |-1  |-1  |1717151718169|210602137    |live   |[\"News\"]  |EPG_LIST_CHANNEL|-1 |0    |2268       |live|-1 |null  |Fri May 31 16:05:18 GMT+05:30 2024|http%3A%2F%2Fjiotv.live.cdn.jio.com%2FZeeKannada%2FZeeKannada.m3u8  |5b34bb69-a879-bed0-a67b-d8d5f7f668ff|1717472706096           |0.0            |0.0                 |0.0           |153.0              |14          |153.0           |\n",
            "|109154002|6.0.8|3666497781|74638bf61f38|S   |1    |bcad3c41-1c3e-7d64-13ce-3e3a0da78cc2|media_access|0  |0  |7608 |OPPO   |4G |10   |A  |1717601501352|9219864374|74boui4ncu50kmdc|173.10.29.1    |2024-06-05 21:01:41|bc13b5ae-8a7a-8eff-0000-6485a931|0  |0  |0  |0  |0  |0  |[]           |-1    |Entertainment|ZeeTelugu  |352       |Telugu  |0    |159|Xiaomi Redmi 7A |AES       |39 |U     |0    |false    |3907190375|[\"Politics\"]|0.0|ZeeTelugu : Program1  |Jio 4G|-1 |device         |Exoplayer|Punar+Vivaah          |H1|H2|H3|2021-06-02 00:00:00|14:00:00    |1   |-1  |-1  |-1  |1717601501352|210602352    |live   |[\"Drama\"] |EPG_LIST_CHANNEL|-1 |0    |3324       |live|-1 |null  |Wed Jun 05 21:01:41 GMT+05:30 2024|http%3A%2F%2Fjiotv.live.cdn.jio.com%2FZeeTelugu%2FZeeTelugu.m3u8    |1e93c7c4-0614-6712-6634-ad21c4362528|1717179627997           |0.0            |0.0                 |0.0           |98.0               |14          |98.0            |\n",
            "|109154002|6.0.8|8172206993|8953e608118b|S   |1    |634fb4ae-1632-d97b-aa5e-8faf1ebf876b|media_access|0  |0  |5869 |samsung|4G |10   |A  |1717198059176|9028490605|0dekj4rbs9ijuzdj|134.70.196.139 |2024-06-01 04:57:39|2d0e89d9-3538-2ebd-0000-42a91bc6|0  |0  |0  |0  |0  |0  |[]           |-1    |Entertainment|ZeeAnmol   |342       |Kannada |0    |195|OPPO RMX1801    |AES       |80 |U     |0    |false    |8992204265|[\"Politics\"]|0.0|ZeeAnmol : Program3   |Jio 4G|-1 |device         |Exoplayer|Punar+Vivaah          |H1|H2|H3|2021-06-02 00:00:00|14:00:00    |3   |-1  |-1  |-1  |1717198059176|210602342    |live   |[\"News\"]  |EPG_LIST_CHANNEL|-1 |0    |4778       |live|-1 |null  |Sat Jun 01 04:57:39 GMT+05:30 2024|http%3A%2F%2Fjiotv.live.cdn.jio.com%2FZeeAnmol%2FZeeAnmol.m3u8      |36144b9b-39c9-85d0-1e80-a30462f94a2a|1717203470483           |0.0            |0.0                 |0.0           |594.0              |14          |594.0           |\n",
            "|109154002|6.0.8|8180434340|009ecece0169|S   |1    |1e08581c-c861-bf8f-f3e7-6aadd1144fc4|media_access|0  |0  |8912 |OPPO   |4G |8.1.0|A  |1717048040083|5434004961|t2dhbbqfu9tncjc8|66.89.172.88   |2024-05-30 11:17:20|ab1fa2ce-5076-3900-0000-c1733c57|0  |0  |0  |0  |0  |0  |[]           |-1    |Entertainment|News18Assam|102       |Assamese|0    |127|Xiaomi Redmi 7A |AES       |45 |U     |0    |false    |4327753962|[\"News\"]    |0.0|News18Assam : Program3|Jio 4G|-1 |device         |Exoplayer|Mithai+Kottu+Chittemma|H1|H2|H3|2021-06-02 00:00:00|14:00:00    |2   |-1  |-1  |-1  |1717048040083|210602102    |live   |[\"News\"]  |EPG_LIST_CHANNEL|-1 |0    |1591       |live|-1 |null  |Thu May 30 11:17:20 GMT+05:30 2024|http%3A%2F%2Fjiotv.live.cdn.jio.com%2FNews18Assam%2FNews18Assam.m3u8|6f0532a4-4e4f-4b42-cf32-ae006e5e6c18|1717238451866           |0.0            |0.0                 |0.0           |105.0              |14          |105.0           |\n",
            "+---------+-----+----------+------------+----+-----+------------------------------------+------------+---+---+-----+-------+---+-----+---+-------------+----------+----------------+---------------+-------------------+--------------------------------+---+---+---+---+---+---+-------------+------+-------------+-----------+----------+--------+-----+---+----------------+----------+---+------+-----+---------+----------+------------+---+----------------------+------+---+---------------+---------+----------------------+--------+-------------------+------------+----+----+----+----+-------------+-------------+-------+----------+----------------+---+-----+-----------+----+---+------+----------------------------------+--------------------------------------------------------------------+------------------------------------+------------------------+---------------+--------------------+--------------+-------------------+------------+----------------+\n",
            "only showing top 20 rows\n",
            "\n",
            "root\n",
            " |-- akey: string (nullable = true)\n",
            " |-- avn: string (nullable = true)\n",
            " |-- crmid: string (nullable = true)\n",
            " |-- did: string (nullable = true)\n",
            " |-- dtpe: string (nullable = true)\n",
            " |-- evtno: string (nullable = true)\n",
            " |-- idamid: string (nullable = true)\n",
            " |-- key: string (nullable = true)\n",
            " |-- lat: string (nullable = true)\n",
            " |-- lng: string (nullable = true)\n",
            " |-- logno: string (nullable = true)\n",
            " |-- mnu: string (nullable = true)\n",
            " |-- nwk: string (nullable = true)\n",
            " |-- osv: string (nullable = true)\n",
            " |-- pf: string (nullable = true)\n",
            " |-- rtc: string (nullable = true)\n",
            " |-- sid: string (nullable = true)\n",
            " |-- uid: string (nullable = true)\n",
            " |-- ip_address: string (nullable = true)\n",
            " |-- dateflink: string (nullable = true)\n",
            " |-- HARD_CODE_DEVICE_ID: string (nullable = true)\n",
            " |-- avr: string (nullable = true)\n",
            " |-- bbc: string (nullable = true)\n",
            " |-- bbd: string (nullable = true)\n",
            " |-- bc: string (nullable = true)\n",
            " |-- bd: string (nullable = true)\n",
            " |-- bdl: string (nullable = true)\n",
            " |-- bufferdetails: string (nullable = true)\n",
            " |-- cellid: string (nullable = true)\n",
            " |-- cg: string (nullable = true)\n",
            " |-- ch: string (nullable = true)\n",
            " |-- channel_id: string (nullable = true)\n",
            " |-- cl: string (nullable = true)\n",
            " |-- codec: string (nullable = true)\n",
            " |-- d: string (nullable = true)\n",
            " |-- dm: string (nullable = true)\n",
            " |-- encryption: string (nullable = true)\n",
            " |-- ep: string (nullable = true)\n",
            " |-- finish: string (nullable = true)\n",
            " |-- index: string (nullable = true)\n",
            " |-- isottuser: string (nullable = true)\n",
            " |-- jio_id: string (nullable = true)\n",
            " |-- keywords: string (nullable = true)\n",
            " |-- lac: string (nullable = true)\n",
            " |-- n: string (nullable = true)\n",
            " |-- opr: string (nullable = true)\n",
            " |-- pci: string (nullable = true)\n",
            " |-- playback_screen: string (nullable = true)\n",
            " |-- player: string (nullable = true)\n",
            " |-- pn: string (nullable = true)\n",
            " |-- prof: string (nullable = true)\n",
            " |-- program_date: timestamp (nullable = true)\n",
            " |-- program_time: string (nullable = true)\n",
            " |-- prow: string (nullable = true)\n",
            " |-- rsrp: string (nullable = true)\n",
            " |-- rsrq: string (nullable = true)\n",
            " |-- rssi: string (nullable = true)\n",
            " |-- rtc: string (nullable = true)\n",
            " |-- serial_number: string (nullable = true)\n",
            " |-- settype: string (nullable = true)\n",
            " |-- show_genre: string (nullable = true)\n",
            " |-- source: string (nullable = true)\n",
            " |-- ss: string (nullable = true)\n",
            " |-- start: string (nullable = true)\n",
            " |-- startuptime: string (nullable = true)\n",
            " |-- t: string (nullable = true)\n",
            " |-- tac: string (nullable = true)\n",
            " |-- tac_id: string (nullable = true)\n",
            " |-- timestamp: string (nullable = true)\n",
            " |-- u: string (nullable = true)\n",
            " |-- unique_session_id: string (nullable = true)\n",
            " |-- unique_session_timestamp: string (nullable = true)\n",
            " |-- watch_time_dock: double (nullable = true)\n",
            " |-- watch_time_landscape: double (nullable = true)\n",
            " |-- watch_time_pip: double (nullable = true)\n",
            " |-- watch_time_portrait: double (nullable = true)\n",
            " |-- program_hour: integer (nullable = true)\n",
            " |-- watch_time_total: double (nullable = true)\n",
            "\n"
          ]
        }
      ],
      "source": [
        "\n",
        "\n",
        "if 'pro' in raw_df.columns:\n",
        "    raw_df.select(\"pro\").show(truncate=False)\n",
        "\n",
        "\n",
        "    if not raw_df.select(\"pro\").rdd.isEmpty():\n",
        "        raw_df = raw_df.select(\n",
        "            col(\"akey\"),\n",
        "            col(\"avn\"),\n",
        "            col(\"crmid\"),\n",
        "            col(\"did\"),\n",
        "            col(\"dtpe\"),\n",
        "            col(\"evtno\"),\n",
        "            col(\"idamid\"),\n",
        "            col(\"key\"),\n",
        "            col(\"lat\"),\n",
        "            col(\"lng\"),\n",
        "            col(\"logno\"),\n",
        "            col(\"mnu\"),\n",
        "            col(\"nwk\"),\n",
        "            col(\"osv\"),\n",
        "            col(\"pf\"),\n",
        "            col(\"rtc\").alias(\"rtc_main\"),\n",
        "            col(\"sid\"),\n",
        "            col(\"uid\"),\n",
        "            col(\"x-forwarded-for\").alias(\"ip_address\"),\n",
        "            col(\"dateflink\"),\n",
        "            col(\"pro.HARD_CODE_DEVICE_ID\").alias(\"HARD_CODE_DEVICE_ID\"),\n",
        "            col(\"pro.avr\").alias(\"avr\"),\n",
        "            col(\"pro.bbc\").alias(\"bbc\"),\n",
        "            col(\"pro.bbd\").alias(\"bbd\"),\n",
        "            col(\"pro.bc\").alias(\"bc\"),\n",
        "            col(\"pro.bd\").alias(\"bd\"),\n",
        "            col(\"pro.bdl\").alias(\"bdl\"),\n",
        "            col(\"pro.bufferdetails\").alias(\"bufferdetails\"),\n",
        "            col(\"pro.cellid\").alias(\"cellid\"),\n",
        "            col(\"pro.cg\").alias(\"cg\"),\n",
        "            col(\"pro.ch\").alias(\"ch\"),\n",
        "            col(\"pro.channel_id\").alias(\"channel_id\"),\n",
        "            col(\"pro.cl\").alias(\"cl\"),\n",
        "            col(\"pro.codec\").alias(\"codec\"),\n",
        "            col(\"pro.d\").alias(\"d\"),\n",
        "            col(\"pro.dm\").alias(\"dm\"),\n",
        "            col(\"pro.encryption\").alias(\"encryption\"),\n",
        "            col(\"pro.ep\").alias(\"ep\"),\n",
        "            col(\"pro.finish\").alias(\"finish\"),\n",
        "            col(\"pro.index\").alias(\"index\"),\n",
        "            col(\"pro.isottuser\").alias(\"isottuser\"),\n",
        "            col(\"pro.jio_id\").alias(\"jio_id\"),\n",
        "            col(\"pro.keywords\").alias(\"keywords\"),\n",
        "            col(\"pro.lac\").alias(\"lac\"),\n",
        "            col(\"pro.n\").alias(\"n\"),\n",
        "            col(\"pro.opr\").alias(\"opr\"),\n",
        "            col(\"pro.pci\").alias(\"pci\"),\n",
        "            col(\"pro.playback_screen\").alias(\"playback_screen\"),\n",
        "            col(\"pro.player\").alias(\"player\"),\n",
        "            col(\"pro.pn\").alias(\"pn\"),\n",
        "            col(\"pro.prof\").alias(\"prof\"),\n",
        "            col(\"pro.program_date\").alias(\"program_date\"),\n",
        "            col(\"pro.program_time\").alias(\"program_time\"),\n",
        "            col(\"pro.prow\").alias(\"prow\"),\n",
        "            col(\"pro.rsrp\").alias(\"rsrp\"),\n",
        "            col(\"pro.rsrq\").alias(\"rsrq\"),\n",
        "            col(\"pro.rssi\").alias(\"rssi\"),\n",
        "            col(\"pro.rtc\").alias(\"pro_rtc\"),\n",
        "            col(\"pro.serial_number\").alias(\"serial_number\"),\n",
        "            col(\"pro.settype\").alias(\"settype\"),\n",
        "            col(\"pro.show_genre\").alias(\"show_genre\"),\n",
        "            col(\"pro.source\").alias(\"source\"),\n",
        "            col(\"pro.ss\").alias(\"ss\"),\n",
        "            col(\"pro.start\").alias(\"start\"),\n",
        "            col(\"pro.startuptime\").alias(\"startuptime\"),\n",
        "            col(\"pro.t\").alias(\"t\"),\n",
        "            col(\"pro.tac\").alias(\"tac\"),\n",
        "            col(\"pro.tac_id\").alias(\"tac_id\"),\n",
        "            col(\"pro.timestamp\").alias(\"pro_timestamp\"),\n",
        "            col(\"pro.u\").alias(\"u\"),\n",
        "            col(\"pro.unique_session_id\").alias(\"unique_session_id\"),\n",
        "            col(\"pro.unique_session_timestamp\").alias(\"unique_session_timestamp\"),\n",
        "            col(\"pro.watch_time_dock\").alias(\"watch_time_dock\"),\n",
        "            col(\"pro.watch_time_landscape\").alias(\"watch_time_landscape\"),\n",
        "            col(\"pro.watch_time_pip\").alias(\"watch_time_pip\"),\n",
        "            col(\"pro.watch_time_portrait\").alias(\"watch_time_portrait\")\n",
        "        )\n",
        "\n",
        "\n",
        "        raw_df = raw_df.withColumn(\"watch_time_portrait\", col(\"watch_time_portrait\").cast(DoubleType()))\n",
        "        raw_df = raw_df.withColumn(\"watch_time_landscape\", col(\"watch_time_landscape\").cast(DoubleType()))\n",
        "        raw_df = raw_df.withColumn(\"watch_time_dock\", col(\"watch_time_dock\").cast(DoubleType()))\n",
        "        raw_df = raw_df.withColumn(\"watch_time_pip\", col(\"watch_time_pip\").cast(DoubleType()))\n",
        "        raw_df = raw_df.withColumn(\"program_date\", to_timestamp(col(\"program_date\"), \"EEE MMM dd HH:mm:ss z yyyy\"))\n",
        "        raw_df = raw_df.withColumn(\"program_hour\", split(col(\"program_time\"), \":\")[0].cast(\"integer\"))\n",
        "\n",
        "\n",
        "        raw_df = raw_df.withColumn(\"watch_time_total\",\n",
        "            col(\"watch_time_landscape\") + col(\"watch_time_portrait\") + col(\"watch_time_dock\") + col(\"watch_time_pip\"))\n",
        "\n",
        "\n",
        "if 'watch_time_portrait' in raw_df.columns:\n",
        "\n",
        "    raw_df = raw_df.na.drop(subset=[\"watch_time_portrait\"])\n",
        "\n",
        "if 'pro_timestamp' in raw_df.columns:\n",
        "    raw_df.select(\"program_date\", \"pro_timestamp\").show(truncate=False)\n",
        "else:\n",
        "    print(\"Column 'pro_timestamp' does not exist. Please verify the correct column name.\")\n",
        "\n",
        "\n",
        "\n",
        "raw_df.show(truncate=False)\n",
        "\n",
        "raw_df.printSchema()"
      ]
    },
    {
      "cell_type": "markdown",
      "source": [
        "\n",
        "\n",
        "Converting program_date to timestamp\n",
        "\n",
        "\n"
      ],
      "metadata": {
        "id": "XNFo3-GwpH8I"
      }
    },
    {
      "cell_type": "code",
      "source": [
        "from pyspark.sql.functions import to_timestamp, col\n",
        "\n",
        "raw_df = raw_df.withColumn(\"timestamp\", to_timestamp(col(\"timestamp\"), \"EEE MMM dd HH:mm:ss z yyyy\"))\n",
        "\n",
        "raw_df.select(\"program_date\", \"timestamp\").show(truncate=False)\n"
      ],
      "metadata": {
        "colab": {
          "base_uri": "https://localhost:8080/"
        },
        "id": "teLoXnz-xu6B",
        "outputId": "665ce9cc-c61c-4c31-eee3-928c91fb9632"
      },
      "execution_count": null,
      "outputs": [
        {
          "output_type": "stream",
          "name": "stdout",
          "text": [
            "+-------------------+-------------------+\n",
            "|program_date       |timestamp          |\n",
            "+-------------------+-------------------+\n",
            "|2021-06-02 00:00:00|2024-06-02 13:00:54|\n",
            "|2021-06-02 00:00:00|2024-06-03 02:21:05|\n",
            "|2021-06-02 00:00:00|2024-05-31 23:25:32|\n",
            "|2021-06-02 00:00:00|2024-06-03 20:42:02|\n",
            "|2021-06-02 00:00:00|2024-05-30 07:07:47|\n",
            "|2021-06-02 00:00:00|2024-06-04 12:38:04|\n",
            "|2021-06-02 00:00:00|2024-05-31 21:18:57|\n",
            "|2021-06-02 00:00:00|2024-06-03 23:44:37|\n",
            "|2021-06-02 00:00:00|2024-06-03 21:50:35|\n",
            "|2021-06-02 00:00:00|2024-06-05 16:58:49|\n",
            "|2021-06-02 00:00:00|2024-06-01 02:00:15|\n",
            "|2021-06-02 00:00:00|2024-06-03 23:07:46|\n",
            "|2021-06-02 00:00:00|2024-06-04 09:21:43|\n",
            "|2021-06-02 00:00:00|2024-06-04 10:13:09|\n",
            "|2021-06-02 00:00:00|2024-05-31 10:55:42|\n",
            "|2021-06-02 00:00:00|2024-06-01 06:24:34|\n",
            "|2021-06-02 00:00:00|2024-05-31 10:35:18|\n",
            "|2021-06-02 00:00:00|2024-06-05 15:31:41|\n",
            "|2021-06-02 00:00:00|2024-05-31 23:27:39|\n",
            "|2021-06-02 00:00:00|2024-05-30 05:47:20|\n",
            "+-------------------+-------------------+\n",
            "only showing top 20 rows\n",
            "\n"
          ]
        }
      ]
    },
    {
      "cell_type": "markdown",
      "metadata": {
        "id": "OGTWTz24tAE_"
      },
      "source": [
        "Additional Data Cleaning and Feature Engineering"
      ]
    },
    {
      "cell_type": "markdown",
      "metadata": {
        "id": "iRURroo2tA-5"
      },
      "source": [
        "Handle Null Values and Duplicates:"
      ]
    },
    {
      "cell_type": "markdown",
      "metadata": {
        "id": "ehxIuV8ftJjt"
      },
      "source": [
        "Convert Columns to Appropriate Data Types:"
      ]
    },
    {
      "cell_type": "code",
      "execution_count": null,
      "metadata": {
        "colab": {
          "base_uri": "https://localhost:8080/"
        },
        "id": "iXL02KrwuIf4",
        "outputId": "d2099884-0ef7-4c84-f6ab-75b86100d7fc"
      },
      "outputs": [
        {
          "output_type": "stream",
          "name": "stdout",
          "text": [
            "+---------+-----+----------+------------+----+-----+------------------------------------+------------+---+---+-----+-------+---+-----+---+-------------+----------+----------------+---------------+-------------------+--------------------------------+---+---+---+---+---+---+-------------+------+-------------+-----------+----------+--------+-----+---+----------------+----------+---+------+-----+---------+----------+------------+---+----------------------+------+---+---------------+---------+----------------------+--------+-------------------+------------+----+----+----+----+-------------+-------------+-------+----------+----------------+---+-----+-----------+----+---+------+-------------------+--------------------------------------------------------------------+------------------------------------+------------------------+---------------+--------------------+--------------+-------------------+------------+----------------+\n",
            "|akey     |avn  |crmid     |did         |dtpe|evtno|idamid                              |key         |lat|lng|logno|mnu    |nwk|osv  |pf |rtc          |sid       |uid             |ip_address     |dateflink          |HARD_CODE_DEVICE_ID             |avr|bbc|bbd|bc |bd |bdl|bufferdetails|cellid|cg           |ch         |channel_id|cl      |codec|d  |dm              |encryption|ep |finish|index|isottuser|jio_id    |keywords    |lac|n                     |opr   |pci|playback_screen|player   |pn                    |prof    |program_date       |program_time|prow|rsrp|rsrq|rssi|rtc          |serial_number|settype|show_genre|source          |ss |start|startuptime|t   |tac|tac_id|timestamp          |u                                                                   |unique_session_id                   |unique_session_timestamp|watch_time_dock|watch_time_landscape|watch_time_pip|watch_time_portrait|program_hour|watch_time_total|\n",
            "+---------+-----+----------+------------+----+-----+------------------------------------+------------+---+---+-----+-------+---+-----+---+-------------+----------+----------------+---------------+-------------------+--------------------------------+---+---+---+---+---+---+-------------+------+-------------+-----------+----------+--------+-----+---+----------------+----------+---+------+-----+---------+----------+------------+---+----------------------+------+---+---------------+---------+----------------------+--------+-------------------+------------+----+----+----+----+-------------+-------------+-------+----------+----------------+---+-----+-----------+----+---+------+-------------------+--------------------------------------------------------------------+------------------------------------+------------------------+---------------+--------------------+--------------+-------------------+------------+----------------+\n",
            "|109154002|6.0.8|3415106380|97dcffe59997|S   |1    |14d32fe6-5a84-0c1b-4537-9ad491206ca2|media_access|0  |0  |105  |samsung|4G |8.1.0|A  |1717333254406|3348503611|p4ql6ycde4n51u0k|46.170.220.188 |2024-06-02 18:30:54|4329372c-4b4d-53e4-0000-d4a9eeb5|0  |0  |0  |0  |0  |0  |[]           |-1    |News         |ZeeAnmol   |204       |Telugu  |0    |63 |OPPO RMX1801    |AES       |40 |U     |0    |false    |1977365246|[\"Drama\"]   |0.0|ZeeAnmol : Program1   |Jio 4G|-1 |device         |Exoplayer|Trinayani             |H1|H2|H3|2021-06-02 00:00:00|14:00:00    |3   |-1  |-1  |-1  |1717333254406|210602204    |live   |[\"Drama\"] |EPG_LIST_CHANNEL|-1 |0    |1546       |live|-1 |null  |2024-06-02 13:00:54|http%3A%2F%2Fjiotv.live.cdn.jio.com%2FZeeAnmol%2FZeeAnmol.m3u8      |f9544904-65a5-8832-7dac-cf8f7c0be161|1717395906421           |0.0            |0.0                 |0.0           |372.0              |14          |372.0           |\n",
            "|109154002|6.0.8|7299846611|bf7afdcdf149|S   |1    |9ef70cbd-42b4-2506-2142-1ee246e9d7ff|media_access|0  |0  |3642 |Xiaomi |4G |10   |A  |1717381265140|9747847561|zm81k8aggfqj923x|24.144.23.250  |2024-06-03 07:51:05|f52cae8a-abbf-8235-0000-fe20dad9|0  |0  |0  |0  |0  |0  |[]           |-1    |News         |ZeeTelugu  |588       |Assamese|0    |82 |HUAWEI LLD-AL20 |AES       |48 |U     |0    |false    |8045215853|[\"Politics\"]|0.0|ZeeTelugu : Program3  |Jio 4G|-1 |device         |Exoplayer|Trinayani             |H1|H2|H3|2021-06-02 00:00:00|14:00:00    |2   |-1  |-1  |-1  |1717381265140|210602588    |live   |[\"News\"]  |EPG_LIST_CHANNEL|-1 |0    |965        |live|-1 |null  |2024-06-03 02:21:05|http%3A%2F%2Fjiotv.live.cdn.jio.com%2FZeeTelugu%2FZeeTelugu.m3u8    |08a8006a-e6a2-ad17-815b-f75a515a4c96|1717240653004           |0.0            |0.0                 |0.0           |326.0              |14          |326.0           |\n",
            "|109154002|6.0.8|4454904068|35826c46ff94|S   |1    |ab72f4b2-e358-403d-7e99-4e56706b7728|media_access|0  |0  |4733 |OPPO   |4G |9    |A  |1717197932171|6029815267|y92ldsdgzhee6g26|54.143.242.192 |2024-06-01 04:55:32|8beed459-aeed-0855-0000-93872bdc|0  |0  |0  |0  |0  |0  |[]           |-1    |Entertainment|AajTak     |148       |Telugu  |0    |167|HUAWEI LLD-AL20 |AES       |22 |U     |0    |false    |8635229578|[\"Drama\"]   |0.0|AajTak : Program2     |Jio 4G|-1 |device         |Exoplayer|Punar+Vivaah          |H1|H2|H3|2021-06-02 00:00:00|14:00:00    |2   |-1  |-1  |-1  |1717197932171|210602148    |live   |[\"News\"]  |EPG_LIST_CHANNEL|-1 |0    |4931       |live|-1 |null  |2024-05-31 23:25:32|http%3A%2F%2Fjiotv.live.cdn.jio.com%2FAajTak%2FAajTak.m3u8          |c38e52f3-c59b-a9fa-39d8-6c62ff6bd709|1717053771989           |0.0            |0.0                 |0.0           |449.0              |14          |449.0           |\n",
            "|109154002|6.0.8|2922718294|cb06b98bbcbd|S   |1    |e3db5848-95f2-35dd-8d1f-e6414545b69e|media_access|0  |0  |8081 |vivo   |4G |10   |A  |1717447322595|7824736735|4k8mi4dnbm7ki3zx|153.37.149.242 |2024-06-04 02:12:02|8667f14d-88ad-2818-0000-d1604b5b|0  |0  |0  |0  |0  |0  |[]           |-1    |News         |ZeeAnmol   |608       |Kannada |0    |163|Xiaomi Redmi 7A |AES       |84 |U     |0    |false    |7597739953|[\"News\"]    |0.0|ZeeAnmol : Program1   |Jio 4G|-1 |device         |Exoplayer|Pavitra+Rishta        |H1|H2|H3|2021-06-02 00:00:00|14:00:00    |3   |-1  |-1  |-1  |1717447322595|210602608    |live   |[\"Drama\"] |EPG_LIST_CHANNEL|-1 |0    |3635       |live|-1 |null  |2024-06-03 20:42:02|http%3A%2F%2Fjiotv.live.cdn.jio.com%2FZeeAnmol%2FZeeAnmol.m3u8      |3f6e0f60-e0da-4019-2783-9d7b53b02fed|1717508668776           |0.0            |0.0                 |0.0           |278.0              |14          |278.0           |\n",
            "|109154002|6.0.8|3660991280|1d6ebd1f44ff|S   |1    |fe34dea5-63ca-cfff-8281-ab062bd09d23|media_access|0  |0  |5820 |vivo   |4G |8.1.0|A  |1717052867742|9563259696|fktg95znoe6qjkbp|74.51.65.238   |2024-05-30 12:37:47|1d362003-eeac-63c4-0000-9293fffe|0  |0  |0  |0  |0  |0  |[]           |-1    |News         |ZeeAnmol   |402       |Telugu  |0    |198|OPPO RMX1801    |AES       |53 |U     |0    |false    |7444987206|[\"Politics\"]|0.0|ZeeAnmol : Program3   |Jio 4G|-1 |device         |Exoplayer|Trinayani             |H1|H2|H3|2021-06-02 00:00:00|14:00:00    |1   |-1  |-1  |-1  |1717052867742|210602402    |live   |[\"Drama\"] |EPG_LIST_CHANNEL|-1 |0    |4010       |live|-1 |null  |2024-05-30 07:07:47|http%3A%2F%2Fjiotv.live.cdn.jio.com%2FZeeAnmol%2FZeeAnmol.m3u8      |e62fe05c-66d6-aee1-91dc-20065ad46b7e|1717084365449           |0.0            |0.0                 |0.0           |248.0              |14          |248.0           |\n",
            "|109154002|6.0.8|3736535712|8f39f0aa4bf1|S   |1    |b728292d-8df5-ff6e-5f57-fab1a57b8f79|media_access|0  |0  |311  |HUAWEI |4G |8.1.0|A  |1717504684555|4395961609|ji4owptewlremvsd|1.97.254.212   |2024-06-04 18:08:04|a9f70e2a-a417-c184-0000-9496f7dc|0  |0  |0  |0  |0  |0  |[]           |-1    |News         |ZeeTVHD    |585       |Assamese|0    |87 |samsung SM-M205F|AES       |62 |U     |0    |false    |6735194040|[\"Politics\"]|0.0|ZeeTVHD : Program3    |Jio 4G|-1 |device         |Exoplayer|Trinayani             |H1|H2|H3|2021-06-02 00:00:00|14:00:00    |3   |-1  |-1  |-1  |1717504684555|210602585    |live   |[\"News\"]  |EPG_LIST_CHANNEL|-1 |0    |339        |live|-1 |null  |2024-06-04 12:38:04|http%3A%2F%2Fjiotv.live.cdn.jio.com%2FZeeTVHD%2FZeeTVHD.m3u8        |f0d0c12d-2c9f-a0d1-0fd1-1652d0cbf285|1717435293172           |0.0            |0.0                 |0.0           |479.0              |14          |479.0           |\n",
            "|109154002|6.0.8|1297397844|3de087d04ec7|S   |1    |58676a2a-600c-c88a-cc5b-2ad9302716ea|media_access|0  |0  |3308 |OPPO   |4G |8.1.0|A  |1717190337556|2062840257|6fw95sa6nxc6py0j|68.104.174.235 |2024-06-01 02:48:57|62d7a26d-3c7d-17a0-0000-6a96149c|0  |0  |0  |0  |0  |0  |[]           |-1    |News         |ZeeTelugu  |450       |Kannada |0    |70 |OPPO RMX1801    |AES       |88 |U     |0    |false    |7838793406|[\"Drama\"]   |0.0|ZeeTelugu : Program2  |Jio 4G|-1 |device         |Exoplayer|Trinayani             |H1|H2|H3|2021-06-02 00:00:00|14:00:00    |3   |-1  |-1  |-1  |1717190337556|210602450    |live   |[\"News\"]  |EPG_LIST_CHANNEL|-1 |0    |2009       |live|-1 |null  |2024-05-31 21:18:57|http%3A%2F%2Fjiotv.live.cdn.jio.com%2FZeeTelugu%2FZeeTelugu.m3u8    |0d9d88fd-b3e0-0c14-b616-1f553b3997e0|1717544439513           |0.0            |0.0                 |0.0           |945.0              |14          |945.0           |\n",
            "|109154002|6.0.8|8628478804|df5ec772d5f5|S   |1    |8b81602f-4db3-de06-60e4-cf5e67171b04|media_access|0  |0  |1731 |vivo   |4G |8.1.0|A  |1717458277748|7669464119|7wt0m17tz0dabz9p|171.129.199.26 |2024-06-04 05:14:37|d2903e34-318c-0644-0000-f62f6fbb|0  |0  |0  |0  |0  |0  |[]           |-1    |Entertainment|ZeeTelugu  |556       |Kannada |0    |113|Xiaomi Redmi 7A |AES       |2  |U     |0    |false    |9496059441|[\"Politics\"]|0.0|ZeeTelugu : Program2  |Jio 4G|-1 |device         |Exoplayer|Mithai+Kottu+Chittemma|H1|H2|H3|2021-06-02 00:00:00|14:00:00    |1   |-1  |-1  |-1  |1717458277748|210602556    |live   |[\"Drama\"] |EPG_LIST_CHANNEL|-1 |0    |3024       |live|-1 |null  |2024-06-03 23:44:37|http%3A%2F%2Fjiotv.live.cdn.jio.com%2FZeeTelugu%2FZeeTelugu.m3u8    |9e24bb64-e762-7a2b-f770-2b397adc9792|1717205992803           |0.0            |0.0                 |0.0           |290.0              |14          |290.0           |\n",
            "|109154002|6.0.8|9113847201|e3617be4ec82|S   |1    |d5ce6986-0cfe-65fb-0fc1-437bc7fd188b|media_access|0  |0  |6609 |samsung|4G |10   |A  |1717451435020|4256567237|xj7zr3u223qzd22h|32.121.135.239 |2024-06-04 03:20:35|e73592ab-8602-84c8-0000-cfa05da4|0  |0  |0  |0  |0  |0  |[]           |-1    |Entertainment|ZeeAnmol   |480       |Kannada |0    |68 |Xiaomi Redmi 7A |AES       |44 |U     |0    |false    |1943988476|[\"Politics\"]|0.0|ZeeAnmol : Program2   |Jio 4G|-1 |device         |Exoplayer|Trinayani             |H1|H2|H3|2021-06-02 00:00:00|14:00:00    |2   |-1  |-1  |-1  |1717451435020|210602480    |live   |[\"News\"]  |EPG_LIST_CHANNEL|-1 |0    |1460       |live|-1 |null  |2024-06-03 21:50:35|http%3A%2F%2Fjiotv.live.cdn.jio.com%2FZeeAnmol%2FZeeAnmol.m3u8      |9d85290a-96cf-c1b5-a366-bd73b8bfa906|1717436923920           |0.0            |0.0                 |0.0           |789.0              |14          |789.0           |\n",
            "|109154002|6.0.8|1026725232|0581d969bfc8|S   |1    |b1df8c53-0b4d-368e-1db6-f2e4c8646080|media_access|0  |0  |8867 |Xiaomi |4G |8.1.0|A  |1717606729325|1837108501|cabhyevpx0a5c3r2|105.42.1.133   |2024-06-05 22:28:49|9b4de3a6-7d74-056f-0000-d3cbab9a|0  |0  |0  |0  |0  |0  |[]           |-1    |News         |ZeeTelugu  |326       |Hindi   |0    |113|HUAWEI LLD-AL20 |AES       |87 |U     |0    |false    |6060244034|[\"News\"]    |0.0|ZeeTelugu : Program1  |Jio 4G|-1 |device         |Exoplayer|Pavitra+Rishta        |H1|H2|H3|2021-06-02 00:00:00|14:00:00    |3   |-1  |-1  |-1  |1717606729325|210602326    |live   |[\"Drama\"] |EPG_LIST_CHANNEL|-1 |0    |4379       |live|-1 |null  |2024-06-05 16:58:49|http%3A%2F%2Fjiotv.live.cdn.jio.com%2FZeeTelugu%2FZeeTelugu.m3u8    |083d4ed4-ccbf-aaf5-6a03-133af0e7588e|1717496075585           |0.0            |0.0                 |0.0           |644.0              |14          |644.0           |\n",
            "|109154002|6.0.8|2958780469|bbef574d1e1b|S   |1    |a15844fa-b8dc-9d64-5b29-10c3e985fa1e|media_access|0  |0  |6606 |samsung|4G |8.1.0|A  |1717207215807|7184869862|3sbph5iulxumuq61|18.146.131.203 |2024-06-01 07:30:15|5cc1b5a8-93d9-4cf2-0000-b565420c|0  |0  |0  |0  |0  |0  |[]           |-1    |Entertainment|ZeeKannada |298       |Kannada |0    |85 |Xiaomi Redmi 7A |AES       |43 |U     |0    |false    |8792030894|[\"Politics\"]|0.0|ZeeKannada : Program3 |Jio 4G|-1 |device         |Exoplayer|News                  |H1|H2|H3|2021-06-02 00:00:00|14:00:00    |1   |-1  |-1  |-1  |1717207215807|210602298    |live   |[\"Drama\"] |EPG_LIST_CHANNEL|-1 |0    |2931       |live|-1 |null  |2024-06-01 02:00:15|http%3A%2F%2Fjiotv.live.cdn.jio.com%2FZeeKannada%2FZeeKannada.m3u8  |9a316ac3-b599-eaa2-7f13-82ac052da713|1717425016065           |0.0            |0.0                 |0.0           |280.0              |14          |280.0           |\n",
            "|109154002|6.0.8|4959332274|91b2e423385c|S   |1    |f2acd1c4-d85b-57be-17a7-aa2e718d3978|media_access|0  |0  |5546 |Xiaomi |4G |10   |A  |1717456066656|9433777250|dlpxcgjorgzkgbvs|113.252.46.171 |2024-06-04 04:37:46|595c6885-b09f-00b8-0000-120e04a0|0  |0  |0  |0  |0  |0  |[]           |-1    |Entertainment|ZeeKannada |511       |Kannada |0    |67 |HUAWEI LLD-AL20 |AES       |49 |U     |0    |false    |6207263104|[\"Drama\"]   |0.0|ZeeKannada : Program2 |Jio 4G|-1 |device         |Exoplayer|Punar+Vivaah          |H1|H2|H3|2021-06-02 00:00:00|14:00:00    |2   |-1  |-1  |-1  |1717456066656|210602511    |live   |[\"Drama\"] |EPG_LIST_CHANNEL|-1 |0    |275        |live|-1 |null  |2024-06-03 23:07:46|http%3A%2F%2Fjiotv.live.cdn.jio.com%2FZeeKannada%2FZeeKannada.m3u8  |0f42a99e-c899-b2d3-7ac2-5b8cc792c88e|1717259332546           |0.0            |0.0                 |0.0           |84.0               |14          |84.0            |\n",
            "|109154002|6.0.8|6161350138|59f1340cbc9e|S   |1    |9aae557d-f2aa-2adc-e025-9ccc9624f95e|media_access|0  |0  |6424 |vivo   |4G |10   |A  |1717492903607|1180483055|0xg7pdemoln9pnfv|106.218.163.209|2024-06-04 14:51:43|58ab67a7-2675-1d35-0000-92326787|0  |0  |0  |0  |0  |0  |[]           |-1    |Entertainment|AajTak     |628       |Hindi   |0    |58 |samsung SM-M205F|AES       |74 |U     |0    |false    |3311465953|[\"Politics\"]|0.0|AajTak : Program3     |Jio 4G|-1 |device         |Exoplayer|Punar+Vivaah          |H1|H2|H3|2021-06-02 00:00:00|14:00:00    |2   |-1  |-1  |-1  |1717492903607|210602628    |live   |[\"Drama\"] |EPG_LIST_CHANNEL|-1 |0    |403        |live|-1 |null  |2024-06-04 09:21:43|http%3A%2F%2Fjiotv.live.cdn.jio.com%2FAajTak%2FAajTak.m3u8          |2b45ae20-40ad-3131-98e9-b1a6bfa1da8c|1717503308046           |0.0            |0.0                 |0.0           |331.0              |14          |331.0           |\n",
            "|109154002|6.0.8|4779395817|db7bb716ed1f|S   |1    |e9e10674-7f82-ae58-2a42-48f0650391e2|media_access|0  |0  |9814 |vivo   |4G |9    |A  |1717495989905|5830648992|819p79iwbgqd3259|170.52.147.169 |2024-06-04 15:43:09|a02afd3a-41dc-5763-0000-4f21b879|0  |0  |0  |0  |0  |0  |[]           |-1    |Entertainment|News18Assam|345       |Assamese|0    |89 |HUAWEI LLD-AL20 |AES       |62 |U     |0    |false    |5875958043|[\"Drama\"]   |0.0|News18Assam : Program2|Jio 4G|-1 |device         |Exoplayer|Trinayani             |H1|H2|H3|2021-06-02 00:00:00|14:00:00    |2   |-1  |-1  |-1  |1717495989905|210602345    |live   |[\"Drama\"] |EPG_LIST_CHANNEL|-1 |0    |4370       |live|-1 |null  |2024-06-04 10:13:09|http%3A%2F%2Fjiotv.live.cdn.jio.com%2FNews18Assam%2FNews18Assam.m3u8|524d92d7-2cbc-f501-f97e-63d292fa4ebf|1717409132231           |0.0            |0.0                 |0.0           |685.0              |14          |685.0           |\n",
            "|109154002|6.0.8|4431164826|9ce0691b64d9|S   |1    |3885522f-f5d1-45af-08c6-7fa84f203b99|media_access|0  |0  |6590 |samsung|4G |10   |A  |1717152942333|7031040096|bm07u2tzhz1judw6|113.185.110.80 |2024-05-31 16:25:42|10ffdffa-89ff-b517-0000-4452da94|0  |0  |0  |0  |0  |0  |[]           |-1    |News         |ZeeKannada |296       |Hindi   |0    |138|Xiaomi Redmi 7A |AES       |49 |U     |0    |false    |1977618171|[\"News\"]    |0.0|ZeeKannada : Program3 |Jio 4G|-1 |device         |Exoplayer|Pavitra+Rishta        |H1|H2|H3|2021-06-02 00:00:00|14:00:00    |3   |-1  |-1  |-1  |1717152942333|210602296    |live   |[\"Drama\"] |EPG_LIST_CHANNEL|-1 |0    |3097       |live|-1 |null  |2024-05-31 10:55:42|http%3A%2F%2Fjiotv.live.cdn.jio.com%2FZeeKannada%2FZeeKannada.m3u8  |c8da970c-2825-75ab-c018-2702788531da|1717440329378           |0.0            |0.0                 |0.0           |488.0              |14          |488.0           |\n",
            "|109154002|6.0.8|2316827504|32990525e581|S   |1    |8983a237-c4e2-df60-e86c-e1e550043aa6|media_access|0  |0  |716  |OPPO   |4G |10   |A  |1717223074610|3784911387|zarcqohd3ndprz7g|207.113.110.187|2024-06-01 11:54:34|540ca01c-174f-05d5-0000-3a8b81e2|0  |0  |0  |0  |0  |0  |[]           |-1    |News         |ZeeTVHD    |138       |Assamese|0    |192|samsung SM-M205F|AES       |41 |U     |0    |false    |1984337606|[\"Drama\"]   |0.0|ZeeTVHD : Program2    |Jio 4G|-1 |device         |Exoplayer|News                  |H1|H2|H3|2021-06-02 00:00:00|14:00:00    |3   |-1  |-1  |-1  |1717223074610|210602138    |live   |[\"News\"]  |EPG_LIST_CHANNEL|-1 |0    |3645       |live|-1 |null  |2024-06-01 06:24:34|http%3A%2F%2Fjiotv.live.cdn.jio.com%2FZeeTVHD%2FZeeTVHD.m3u8        |17f7157d-18e2-b7e4-ba88-a2da6f928b28|1717580966617           |0.0            |0.0                 |0.0           |394.0              |14          |394.0           |\n",
            "|109154002|6.0.8|4132361165|be3b3121664b|S   |1    |35fd177f-c0ce-e815-5b94-d40b8c426834|media_access|0  |0  |5801 |samsung|4G |10   |A  |1717151718169|9175213933|2fyaoyzt5cjcl8i2|155.16.246.24  |2024-05-31 16:05:18|dae70c63-5309-0362-0000-5e2a53eb|0  |0  |0  |0  |0  |0  |[]           |-1    |News         |ZeeKannada |137       |Kannada |0    |138|vivo vivo 1801  |AES       |28 |U     |0    |false    |9622912724|[\"News\"]    |0.0|ZeeKannada : Program3 |Jio 4G|-1 |device         |Exoplayer|Afternoon+Express     |H1|H2|H3|2021-06-02 00:00:00|14:00:00    |1   |-1  |-1  |-1  |1717151718169|210602137    |live   |[\"News\"]  |EPG_LIST_CHANNEL|-1 |0    |2268       |live|-1 |null  |2024-05-31 10:35:18|http%3A%2F%2Fjiotv.live.cdn.jio.com%2FZeeKannada%2FZeeKannada.m3u8  |5b34bb69-a879-bed0-a67b-d8d5f7f668ff|1717472706096           |0.0            |0.0                 |0.0           |153.0              |14          |153.0           |\n",
            "|109154002|6.0.8|3666497781|74638bf61f38|S   |1    |bcad3c41-1c3e-7d64-13ce-3e3a0da78cc2|media_access|0  |0  |7608 |OPPO   |4G |10   |A  |1717601501352|9219864374|74boui4ncu50kmdc|173.10.29.1    |2024-06-05 21:01:41|bc13b5ae-8a7a-8eff-0000-6485a931|0  |0  |0  |0  |0  |0  |[]           |-1    |Entertainment|ZeeTelugu  |352       |Telugu  |0    |159|Xiaomi Redmi 7A |AES       |39 |U     |0    |false    |3907190375|[\"Politics\"]|0.0|ZeeTelugu : Program1  |Jio 4G|-1 |device         |Exoplayer|Punar+Vivaah          |H1|H2|H3|2021-06-02 00:00:00|14:00:00    |1   |-1  |-1  |-1  |1717601501352|210602352    |live   |[\"Drama\"] |EPG_LIST_CHANNEL|-1 |0    |3324       |live|-1 |null  |2024-06-05 15:31:41|http%3A%2F%2Fjiotv.live.cdn.jio.com%2FZeeTelugu%2FZeeTelugu.m3u8    |1e93c7c4-0614-6712-6634-ad21c4362528|1717179627997           |0.0            |0.0                 |0.0           |98.0               |14          |98.0            |\n",
            "|109154002|6.0.8|8172206993|8953e608118b|S   |1    |634fb4ae-1632-d97b-aa5e-8faf1ebf876b|media_access|0  |0  |5869 |samsung|4G |10   |A  |1717198059176|9028490605|0dekj4rbs9ijuzdj|134.70.196.139 |2024-06-01 04:57:39|2d0e89d9-3538-2ebd-0000-42a91bc6|0  |0  |0  |0  |0  |0  |[]           |-1    |Entertainment|ZeeAnmol   |342       |Kannada |0    |195|OPPO RMX1801    |AES       |80 |U     |0    |false    |8992204265|[\"Politics\"]|0.0|ZeeAnmol : Program3   |Jio 4G|-1 |device         |Exoplayer|Punar+Vivaah          |H1|H2|H3|2021-06-02 00:00:00|14:00:00    |3   |-1  |-1  |-1  |1717198059176|210602342    |live   |[\"News\"]  |EPG_LIST_CHANNEL|-1 |0    |4778       |live|-1 |null  |2024-05-31 23:27:39|http%3A%2F%2Fjiotv.live.cdn.jio.com%2FZeeAnmol%2FZeeAnmol.m3u8      |36144b9b-39c9-85d0-1e80-a30462f94a2a|1717203470483           |0.0            |0.0                 |0.0           |594.0              |14          |594.0           |\n",
            "|109154002|6.0.8|8180434340|009ecece0169|S   |1    |1e08581c-c861-bf8f-f3e7-6aadd1144fc4|media_access|0  |0  |8912 |OPPO   |4G |8.1.0|A  |1717048040083|5434004961|t2dhbbqfu9tncjc8|66.89.172.88   |2024-05-30 11:17:20|ab1fa2ce-5076-3900-0000-c1733c57|0  |0  |0  |0  |0  |0  |[]           |-1    |Entertainment|News18Assam|102       |Assamese|0    |127|Xiaomi Redmi 7A |AES       |45 |U     |0    |false    |4327753962|[\"News\"]    |0.0|News18Assam : Program3|Jio 4G|-1 |device         |Exoplayer|Mithai+Kottu+Chittemma|H1|H2|H3|2021-06-02 00:00:00|14:00:00    |2   |-1  |-1  |-1  |1717048040083|210602102    |live   |[\"News\"]  |EPG_LIST_CHANNEL|-1 |0    |1591       |live|-1 |null  |2024-05-30 05:47:20|http%3A%2F%2Fjiotv.live.cdn.jio.com%2FNews18Assam%2FNews18Assam.m3u8|6f0532a4-4e4f-4b42-cf32-ae006e5e6c18|1717238451866           |0.0            |0.0                 |0.0           |105.0              |14          |105.0           |\n",
            "+---------+-----+----------+------------+----+-----+------------------------------------+------------+---+---+-----+-------+---+-----+---+-------------+----------+----------------+---------------+-------------------+--------------------------------+---+---+---+---+---+---+-------------+------+-------------+-----------+----------+--------+-----+---+----------------+----------+---+------+-----+---------+----------+------------+---+----------------------+------+---+---------------+---------+----------------------+--------+-------------------+------------+----+----+----+----+-------------+-------------+-------+----------+----------------+---+-----+-----------+----+---+------+-------------------+--------------------------------------------------------------------+------------------------------------+------------------------+---------------+--------------------+--------------+-------------------+------------+----------------+\n",
            "only showing top 20 rows\n",
            "\n"
          ]
        }
      ],
      "source": [
        "\n",
        "raw_df.show(truncate=False)\n",
        "\n"
      ]
    },
    {
      "cell_type": "code",
      "execution_count": null,
      "metadata": {
        "colab": {
          "base_uri": "https://localhost:8080/"
        },
        "id": "XSol8cjwv-1x",
        "outputId": "a6151eef-5b32-41a4-c047-791e34056754"
      },
      "outputs": [
        {
          "output_type": "stream",
          "name": "stdout",
          "text": [
            "root\n",
            " |-- akey: string (nullable = true)\n",
            " |-- avn: string (nullable = true)\n",
            " |-- crmid: string (nullable = true)\n",
            " |-- did: string (nullable = true)\n",
            " |-- dtpe: string (nullable = true)\n",
            " |-- evtno: string (nullable = true)\n",
            " |-- idamid: string (nullable = true)\n",
            " |-- key: string (nullable = true)\n",
            " |-- lat: string (nullable = true)\n",
            " |-- lng: string (nullable = true)\n",
            " |-- logno: string (nullable = true)\n",
            " |-- mnu: string (nullable = true)\n",
            " |-- nwk: string (nullable = true)\n",
            " |-- osv: string (nullable = true)\n",
            " |-- pf: string (nullable = true)\n",
            " |-- rtc: string (nullable = true)\n",
            " |-- sid: string (nullable = true)\n",
            " |-- uid: string (nullable = true)\n",
            " |-- ip_address: string (nullable = true)\n",
            " |-- dateflink: string (nullable = true)\n",
            " |-- HARD_CODE_DEVICE_ID: string (nullable = true)\n",
            " |-- avr: string (nullable = true)\n",
            " |-- bbc: string (nullable = true)\n",
            " |-- bbd: string (nullable = true)\n",
            " |-- bc: string (nullable = true)\n",
            " |-- bd: string (nullable = true)\n",
            " |-- bdl: string (nullable = true)\n",
            " |-- bufferdetails: string (nullable = true)\n",
            " |-- cellid: string (nullable = true)\n",
            " |-- cg: string (nullable = true)\n",
            " |-- ch: string (nullable = true)\n",
            " |-- channel_id: string (nullable = true)\n",
            " |-- cl: string (nullable = true)\n",
            " |-- codec: string (nullable = true)\n",
            " |-- d: string (nullable = true)\n",
            " |-- dm: string (nullable = true)\n",
            " |-- encryption: string (nullable = true)\n",
            " |-- ep: string (nullable = true)\n",
            " |-- finish: string (nullable = true)\n",
            " |-- index: string (nullable = true)\n",
            " |-- isottuser: string (nullable = true)\n",
            " |-- jio_id: string (nullable = true)\n",
            " |-- keywords: string (nullable = true)\n",
            " |-- lac: string (nullable = true)\n",
            " |-- n: string (nullable = true)\n",
            " |-- opr: string (nullable = true)\n",
            " |-- pci: string (nullable = true)\n",
            " |-- playback_screen: string (nullable = true)\n",
            " |-- player: string (nullable = true)\n",
            " |-- pn: string (nullable = true)\n",
            " |-- prof: string (nullable = true)\n",
            " |-- program_date: timestamp (nullable = true)\n",
            " |-- program_time: string (nullable = true)\n",
            " |-- prow: string (nullable = true)\n",
            " |-- rsrp: string (nullable = true)\n",
            " |-- rsrq: string (nullable = true)\n",
            " |-- rssi: string (nullable = true)\n",
            " |-- rtc: string (nullable = true)\n",
            " |-- serial_number: string (nullable = true)\n",
            " |-- settype: string (nullable = true)\n",
            " |-- show_genre: string (nullable = true)\n",
            " |-- source: string (nullable = true)\n",
            " |-- ss: string (nullable = true)\n",
            " |-- start: string (nullable = true)\n",
            " |-- startuptime: string (nullable = true)\n",
            " |-- t: string (nullable = true)\n",
            " |-- tac: string (nullable = true)\n",
            " |-- tac_id: string (nullable = true)\n",
            " |-- timestamp: timestamp (nullable = true)\n",
            " |-- u: string (nullable = true)\n",
            " |-- unique_session_id: string (nullable = true)\n",
            " |-- unique_session_timestamp: string (nullable = true)\n",
            " |-- watch_time_dock: double (nullable = true)\n",
            " |-- watch_time_landscape: double (nullable = true)\n",
            " |-- watch_time_pip: double (nullable = true)\n",
            " |-- watch_time_portrait: double (nullable = true)\n",
            " |-- program_hour: integer (nullable = true)\n",
            " |-- watch_time_total: double (nullable = true)\n",
            "\n"
          ]
        }
      ],
      "source": [
        "raw_df.printSchema()"
      ]
    },
    {
      "cell_type": "code",
      "execution_count": null,
      "metadata": {
        "colab": {
          "base_uri": "https://localhost:8080/"
        },
        "id": "wvIANjhZQX6W",
        "outputId": "419b6cc1-8ac2-42e9-ffd7-a5935384803f"
      },
      "outputs": [
        {
          "output_type": "stream",
          "name": "stdout",
          "text": [
            "+-------------------+----------+\n",
            "|watch_time_portrait|channel_id|\n",
            "+-------------------+----------+\n",
            "|372.0              |204       |\n",
            "|326.0              |588       |\n",
            "|449.0              |148       |\n",
            "|278.0              |608       |\n",
            "|248.0              |402       |\n",
            "|479.0              |585       |\n",
            "|945.0              |450       |\n",
            "|290.0              |556       |\n",
            "|789.0              |480       |\n",
            "|644.0              |326       |\n",
            "|280.0              |298       |\n",
            "|84.0               |511       |\n",
            "|331.0              |628       |\n",
            "|685.0              |345       |\n",
            "|488.0              |296       |\n",
            "|394.0              |138       |\n",
            "|153.0              |137       |\n",
            "|98.0               |352       |\n",
            "|594.0              |342       |\n",
            "|105.0              |102       |\n",
            "+-------------------+----------+\n",
            "only showing top 20 rows\n",
            "\n"
          ]
        }
      ],
      "source": [
        "\n",
        "raw_df.select(\"watch_time_portrait\", \"channel_id\").show(20, truncate=False)\n"
      ]
    },
    {
      "cell_type": "code",
      "execution_count": null,
      "metadata": {
        "colab": {
          "base_uri": "https://localhost:8080/"
        },
        "id": "5Xf_jDSHQcJQ",
        "outputId": "4416bda9-8f35-4a8e-b15b-22b87b78280f"
      },
      "outputs": [
        {
          "output_type": "stream",
          "name": "stdout",
          "text": [
            "root\n",
            " |-- HARD_CODE_DEVICE_ID: string (nullable = true)\n",
            " |-- avr: string (nullable = true)\n",
            " |-- bbc: string (nullable = true)\n",
            " |-- bbd: string (nullable = true)\n",
            " |-- bc: string (nullable = true)\n",
            " |-- bd: string (nullable = true)\n",
            " |-- bdl: string (nullable = true)\n",
            " |-- bufferdetails: string (nullable = true)\n",
            " |-- cellid: string (nullable = true)\n",
            " |-- cg: string (nullable = true)\n",
            " |-- ch: string (nullable = true)\n",
            " |-- channel_id: string (nullable = true)\n",
            " |-- cl: string (nullable = true)\n",
            " |-- codec: string (nullable = true)\n",
            " |-- d: string (nullable = true)\n",
            " |-- dm: string (nullable = true)\n",
            " |-- encryption: string (nullable = true)\n",
            " |-- ep: string (nullable = true)\n",
            " |-- finish: string (nullable = true)\n",
            " |-- index: string (nullable = true)\n",
            " |-- isottuser: string (nullable = true)\n",
            " |-- jio_id: string (nullable = true)\n",
            " |-- keywords: string (nullable = true)\n",
            " |-- lac: string (nullable = true)\n",
            " |-- n: string (nullable = true)\n",
            " |-- opr: string (nullable = true)\n",
            " |-- pci: string (nullable = true)\n",
            " |-- playback_screen: string (nullable = true)\n",
            " |-- player: string (nullable = true)\n",
            " |-- pn: string (nullable = true)\n",
            " |-- prof: string (nullable = true)\n",
            " |-- program_date: string (nullable = true)\n",
            " |-- program_time: string (nullable = true)\n",
            " |-- prow: string (nullable = true)\n",
            " |-- rsrp: string (nullable = true)\n",
            " |-- rsrq: string (nullable = true)\n",
            " |-- rssi: string (nullable = true)\n",
            " |-- rtc: string (nullable = true)\n",
            " |-- serial_number: string (nullable = true)\n",
            " |-- settype: string (nullable = true)\n",
            " |-- show_genre: string (nullable = true)\n",
            " |-- source: string (nullable = true)\n",
            " |-- ss: string (nullable = true)\n",
            " |-- start: string (nullable = true)\n",
            " |-- startuptime: string (nullable = true)\n",
            " |-- t: string (nullable = true)\n",
            " |-- tac: string (nullable = true)\n",
            " |-- tac_id: string (nullable = true)\n",
            " |-- timestamp: string (nullable = true)\n",
            " |-- u: string (nullable = true)\n",
            " |-- unique_session_id: string (nullable = true)\n",
            " |-- unique_session_timestamp: string (nullable = true)\n",
            " |-- watch_time_dock: string (nullable = true)\n",
            " |-- watch_time_landscape: string (nullable = true)\n",
            " |-- watch_time_pip: string (nullable = true)\n",
            " |-- watch_time_portrait: string (nullable = true)\n",
            "\n"
          ]
        }
      ],
      "source": [
        "\n",
        "raw_df.select(\"pro.*\").printSchema()\n"
      ]
    },
    {
      "cell_type": "code",
      "execution_count": null,
      "metadata": {
        "colab": {
          "base_uri": "https://localhost:8080/"
        },
        "id": "ktAo05k9Qhq3",
        "outputId": "a015af44-b11d-4652-9df8-7e9ff04a7b3b"
      },
      "outputs": [
        {
          "output_type": "stream",
          "name": "stdout",
          "text": [
            "Number of rows in the DataFrame: 100000\n"
          ]
        }
      ],
      "source": [
        "\n",
        "print(\"Number of rows in the DataFrame:\", raw_df.count())\n",
        "\n",
        "\n",
        "\n"
      ]
    },
    {
      "cell_type": "code",
      "execution_count": null,
      "metadata": {
        "colab": {
          "base_uri": "https://localhost:8080/"
        },
        "id": "MniZw2x2RYf7",
        "outputId": "3b6bf97c-6302-476e-fa31-9e52b1e4044b"
      },
      "outputs": [
        {
          "output_type": "stream",
          "name": "stdout",
          "text": [
            "+-------------------+\n",
            "|watch_time_portrait|\n",
            "+-------------------+\n",
            "|372.0              |\n",
            "|326.0              |\n",
            "|449.0              |\n",
            "|278.0              |\n",
            "|248.0              |\n",
            "+-------------------+\n",
            "only showing top 5 rows\n",
            "\n",
            "+----------+\n",
            "|channel_id|\n",
            "+----------+\n",
            "|204       |\n",
            "|588       |\n",
            "|148       |\n",
            "|608       |\n",
            "|402       |\n",
            "+----------+\n",
            "only showing top 5 rows\n",
            "\n"
          ]
        }
      ],
      "source": [
        "\n",
        "raw_df.select(\"watch_time_portrait\").show(5, truncate=False)\n",
        "raw_df.select(\"channel_id\").show(5, truncate=False)\n"
      ]
    },
    {
      "cell_type": "code",
      "execution_count": null,
      "metadata": {
        "colab": {
          "base_uri": "https://localhost:8080/"
        },
        "id": "c-_LsQ-UyIwW",
        "outputId": "4af5c277-9854-436d-cfe4-391e5f7a9133"
      },
      "outputs": [
        {
          "output_type": "stream",
          "name": "stdout",
          "text": [
            "+---------+-----+----------+------------+----+-----+------------------------------------+------------+---+---+-----+-------+---+-----+---+-------------+----------+----------------+---------------+-------------------+-----------------------------------------------------------------------------------------------------------------------------------------------------------------------------------------------------------------------------------------------------------------------------------------------------------------------------------------------------------------------------------------------------------------------------------------------------------------------------------------------------------------------------------------------------------------------------------+--------------------------------+---+---+---+---+---+---+-------------+------+----+----------+----------+--------+-----+---+---------------+----------+---+------+-----+---------+----------+---------+---+---------------------+------+---+---------------+---------+----------------------+--------+------------+------------+----+----+----+----+-------------+-------------+-------+----------+----------------+---+-----+-----------+----+---+------+----------------------------------+------------------------------------------------------------------+------------------------------------+------------------------+---------------+--------------------+--------------+-------------------+------------+----------------+\n",
            "|akey     |avn  |crmid     |did         |dtpe|evtno|idamid                              |key         |lat|lng|logno|mnu    |nwk|osv  |pf |rtc_main     |sid       |uid             |ip_address     |dateflink          |pro                                                                                                                                                                                                                                                                                                                                                                                                                                                                                                                                                                                |HARD_CODE_DEVICE_ID             |avr|bbc|bbd|bc |bd |bdl|bufferdetails|cellid|cg  |ch        |channel_id|cl      |codec|d  |dm             |encryption|ep |finish|index|isottuser|jio_id    |keywords |lac|n                    |opr   |pci|playback_screen|player   |pn                    |prof    |program_date|program_time|prow|rsrp|rsrq|rssi|pro_rtc      |serial_number|settype|show_genre|source          |ss |start|startuptime|t   |tac|tac_id|pro_timestamp                     |u                                                                 |unique_session_id                   |unique_session_timestamp|watch_time_dock|watch_time_landscape|watch_time_pip|watch_time_portrait|program_hour|watch_time_total|\n",
            "+---------+-----+----------+------------+----+-----+------------------------------------+------------+---+---+-----+-------+---+-----+---+-------------+----------+----------------+---------------+-------------------+-----------------------------------------------------------------------------------------------------------------------------------------------------------------------------------------------------------------------------------------------------------------------------------------------------------------------------------------------------------------------------------------------------------------------------------------------------------------------------------------------------------------------------------------------------------------------------------+--------------------------------+---+---+---+---+---+---+-------------+------+----+----------+----------+--------+-----+---+---------------+----------+---+------+-----+---------+----------+---------+---+---------------------+------+---+---------------+---------+----------------------+--------+------------+------------+----+----+----+----+-------------+-------------+-------+----------+----------------+---+-----+-----------+----+---+------+----------------------------------+------------------------------------------------------------------+------------------------------------+------------------------+---------------+--------------------+--------------+-------------------+------------+----------------+\n",
            "|109154002|6.0.8|5280814033|e807560d8bc2|S   |1    |f5e8d80f-425f-ff76-4d7b-a80f308d12ac|media_access|0  |0  |562  |OPPO   |4G |8.1.0|A  |1717391045271|1709343619|00llfqkde3hfiweh|199.163.126.130|2024-06-03 10:34:05|{c2a0f484-1ecd-930c-0000-a76f3bf9, 0, 0, 0, 0, 0, 0, [], -1, News, ZeeKannada, 103, Kannada, 0, 90, vivo vivo 1801, AES, 76, U, 0, false, 3704681993, [\"News\"], 0.0, ZeeKannada : Program2, Jio 4G, -1, device, Exoplayer, Pavitra+Rishta, H1|H2|H3, 2021-06-02T00:00:00+05:30, 14:00:00, 2, -1, -1, -1, 1717391045271, 210602103, live, [\"News\"], EPG_LIST_CHANNEL, -1, 0, 3541, live, -1, null, Mon Jun 03 10:34:05 GMT+05:30 2024, http%3A%2F%2Fjiotv.live.cdn.jio.com%2FZeeKannada%2FZeeKannada.m3u8, c7e95b1c-2511-d1cf-a98a-c989eeaad74e, 1717103577898, 0.0, 0.0, 0.0, 732} |c2a0f484-1ecd-930c-0000-a76f3bf9|0  |0  |0  |0  |0  |0  |[]           |-1    |News|ZeeKannada|103       |Kannada |0    |90 |vivo vivo 1801 |AES       |76 |U     |0    |false    |3704681993|[\"News\"] |0.0|ZeeKannada : Program2|Jio 4G|-1 |device         |Exoplayer|Pavitra+Rishta        |H1|H2|H3|null        |14:00:00    |2   |-1  |-1  |-1  |1717391045271|210602103    |live   |[\"News\"]  |EPG_LIST_CHANNEL|-1 |0    |3541       |live|-1 |null  |Mon Jun 03 10:34:05 GMT+05:30 2024|http%3A%2F%2Fjiotv.live.cdn.jio.com%2FZeeKannada%2FZeeKannada.m3u8|c7e95b1c-2511-d1cf-a98a-c989eeaad74e|1717103577898           |0.0            |0.0                 |0.0           |732.0              |14          |732.0           |\n",
            "|109154002|6.0.8|8344862428|73da236b2dd9|S   |1    |75b66a4c-6315-464e-39dc-ec467a18af66|media_access|0  |0  |4313 |vivo   |4G |10   |A  |1717499842793|3702154830|q9mz1q83scpuuuvf|102.218.71.61  |2024-06-04 16:47:22|{3296995f-6027-7a3a-0000-170e23d9, 0, 0, 0, 0, 0, 0, [], -1, News, ZeeTVHD, 533, Kannada, 0, 107, OPPO RMX1801, AES, 90, U, 0, false, 4687755139, [\"Drama\"], 0.0, ZeeTVHD : Program1, Jio 4G, -1, device, Exoplayer, Mithai+Kottu+Chittemma, H1|H2|H3, 2021-06-02T00:00:00+05:30, 14:00:00, 1, -1, -1, -1, 1717499842793, 210602533, live, [\"Drama\"], EPG_LIST_CHANNEL, -1, 0, 542, live, -1, null, Tue Jun 04 16:47:22 GMT+05:30 2024, http%3A%2F%2Fjiotv.live.cdn.jio.com%2FZeeTVHD%2FZeeTVHD.m3u8, 131f7c2f-73db-aca4-6495-c8dbcee1ce27, 1717543969017, 0.0, 0.0, 0.0, 802}     |3296995f-6027-7a3a-0000-170e23d9|0  |0  |0  |0  |0  |0  |[]           |-1    |News|ZeeTVHD   |533       |Kannada |0    |107|OPPO RMX1801   |AES       |90 |U     |0    |false    |4687755139|[\"Drama\"]|0.0|ZeeTVHD : Program1   |Jio 4G|-1 |device         |Exoplayer|Mithai+Kottu+Chittemma|H1|H2|H3|null        |14:00:00    |1   |-1  |-1  |-1  |1717499842793|210602533    |live   |[\"Drama\"] |EPG_LIST_CHANNEL|-1 |0    |542        |live|-1 |null  |Tue Jun 04 16:47:22 GMT+05:30 2024|http%3A%2F%2Fjiotv.live.cdn.jio.com%2FZeeTVHD%2FZeeTVHD.m3u8      |131f7c2f-73db-aca4-6495-c8dbcee1ce27|1717543969017           |0.0            |0.0                 |0.0           |802.0              |14          |802.0           |\n",
            "|109154002|6.0.8|8756205690|4b7a02cda337|S   |1    |51576830-7b33-be1e-b12a-42f295ff24d6|media_access|0  |0  |6267 |OPPO   |4G |9    |A  |1717162407391|5381321863|lc98xucko80l7z8t|80.111.147.133 |2024-05-31 19:03:27|{05d3e28a-6ac7-9c65-0000-4cc12ce1, 0, 0, 0, 0, 0, 0, [], -1, News, ZeeAnmol, 474, Assamese, 0, 185, OPPO RMX1801, AES, 35, U, 0, false, 5270117470, [\"News\"], 0.0, ZeeAnmol : Program1, Jio 4G, -1, device, Exoplayer, Afternoon+Express, H1|H2|H3, 2021-06-02T00:00:00+05:30, 14:00:00, 2, -1, -1, -1, 1717162407391, 210602474, live, [\"Drama\"], EPG_LIST_CHANNEL, -1, 0, 4226, live, -1, null, Fri May 31 19:03:27 GMT+05:30 2024, http%3A%2F%2Fjiotv.live.cdn.jio.com%2FZeeAnmol%2FZeeAnmol.m3u8, 6c6ab64d-f0f8-7d70-4832-9f9c069e1b38, 1717121866582, 0.0, 0.0, 0.0, 304}     |05d3e28a-6ac7-9c65-0000-4cc12ce1|0  |0  |0  |0  |0  |0  |[]           |-1    |News|ZeeAnmol  |474       |Assamese|0    |185|OPPO RMX1801   |AES       |35 |U     |0    |false    |5270117470|[\"News\"] |0.0|ZeeAnmol : Program1  |Jio 4G|-1 |device         |Exoplayer|Afternoon+Express     |H1|H2|H3|null        |14:00:00    |2   |-1  |-1  |-1  |1717162407391|210602474    |live   |[\"Drama\"] |EPG_LIST_CHANNEL|-1 |0    |4226       |live|-1 |null  |Fri May 31 19:03:27 GMT+05:30 2024|http%3A%2F%2Fjiotv.live.cdn.jio.com%2FZeeAnmol%2FZeeAnmol.m3u8    |6c6ab64d-f0f8-7d70-4832-9f9c069e1b38|1717121866582           |0.0            |0.0                 |0.0           |304.0              |14          |304.0           |\n",
            "|109154002|6.0.8|4836944596|9ab27606bdd9|S   |1    |5cd53744-afff-0aec-79a2-c4c9613b015d|media_access|0  |0  |8136 |samsung|4G |9    |A  |1717057120641|3216047272|a7jcoulv2gvvj3vu|78.142.20.154  |2024-05-30 13:48:40|{2662e440-8b8a-7095-0000-edacab07, 0, 0, 0, 0, 0, 0, [], -1, News, ZeeTelugu, 260, Assamese, 0, 182, vivo vivo 1801, AES, 80, U, 0, false, 5752768763, [\"News\"], 0.0, ZeeTelugu : Program1, Jio 4G, -1, device, Exoplayer, Punar+Vivaah, H1|H2|H3, 2021-06-02T00:00:00+05:30, 14:00:00, 2, -1, -1, -1, 1717057120641, 210602260, live, [\"News\"], EPG_LIST_CHANNEL, -1, 0, 4243, live, -1, null, Thu May 30 13:48:40 GMT+05:30 2024, http%3A%2F%2Fjiotv.live.cdn.jio.com%2FZeeTelugu%2FZeeTelugu.m3u8, ceae6ba6-a945-8a38-1410-820171ee8328, 1717391120515, 0.0, 0.0, 0.0, 821}     |2662e440-8b8a-7095-0000-edacab07|0  |0  |0  |0  |0  |0  |[]           |-1    |News|ZeeTelugu |260       |Assamese|0    |182|vivo vivo 1801 |AES       |80 |U     |0    |false    |5752768763|[\"News\"] |0.0|ZeeTelugu : Program1 |Jio 4G|-1 |device         |Exoplayer|Punar+Vivaah          |H1|H2|H3|null        |14:00:00    |2   |-1  |-1  |-1  |1717057120641|210602260    |live   |[\"News\"]  |EPG_LIST_CHANNEL|-1 |0    |4243       |live|-1 |null  |Thu May 30 13:48:40 GMT+05:30 2024|http%3A%2F%2Fjiotv.live.cdn.jio.com%2FZeeTelugu%2FZeeTelugu.m3u8  |ceae6ba6-a945-8a38-1410-820171ee8328|1717391120515           |0.0            |0.0                 |0.0           |821.0              |14          |821.0           |\n",
            "|109154002|6.0.8|7412863037|d42e33fb0af8|S   |1    |b262ddb5-b60e-e022-84ef-bbb7d0e20476|media_access|0  |0  |522  |samsung|4G |9    |A  |1717488288714|4279373870|xdmeawznl6f61q8n|75.34.250.16   |2024-06-04 13:34:48|{1163d0dd-27ed-b32d-0000-35c7849f, 0, 0, 0, 0, 0, 0, [], -1, News, ZeeAnmol, 420, Hindi, 0, 174, HUAWEI LLD-AL20, AES, 76, U, 0, false, 9990623298, [\"News\"], 0.0, ZeeAnmol : Program2, Jio 4G, -1, device, Exoplayer, Mithai+Kottu+Chittemma, H1|H2|H3, 2021-06-02T00:00:00+05:30, 14:00:00, 2, -1, -1, -1, 1717488288714, 210602420, live, [\"Drama\"], EPG_LIST_CHANNEL, -1, 0, 4938, live, -1, null, Tue Jun 04 13:34:48 GMT+05:30 2024, http%3A%2F%2Fjiotv.live.cdn.jio.com%2FZeeAnmol%2FZeeAnmol.m3u8, 711c7c80-22ea-5e85-7646-75e5f5744e4f, 1717401636198, 0.0, 0.0, 0.0, 767}|1163d0dd-27ed-b32d-0000-35c7849f|0  |0  |0  |0  |0  |0  |[]           |-1    |News|ZeeAnmol  |420       |Hindi   |0    |174|HUAWEI LLD-AL20|AES       |76 |U     |0    |false    |9990623298|[\"News\"] |0.0|ZeeAnmol : Program2  |Jio 4G|-1 |device         |Exoplayer|Mithai+Kottu+Chittemma|H1|H2|H3|null        |14:00:00    |2   |-1  |-1  |-1  |1717488288714|210602420    |live   |[\"Drama\"] |EPG_LIST_CHANNEL|-1 |0    |4938       |live|-1 |null  |Tue Jun 04 13:34:48 GMT+05:30 2024|http%3A%2F%2Fjiotv.live.cdn.jio.com%2FZeeAnmol%2FZeeAnmol.m3u8    |711c7c80-22ea-5e85-7646-75e5f5744e4f|1717401636198           |0.0            |0.0                 |0.0           |767.0              |14          |767.0           |\n",
            "+---------+-----+----------+------------+----+-----+------------------------------------+------------+---+---+-----+-------+---+-----+---+-------------+----------+----------------+---------------+-------------------+-----------------------------------------------------------------------------------------------------------------------------------------------------------------------------------------------------------------------------------------------------------------------------------------------------------------------------------------------------------------------------------------------------------------------------------------------------------------------------------------------------------------------------------------------------------------------------------+--------------------------------+---+---+---+---+---+---+-------------+------+----+----------+----------+--------+-----+---+---------------+----------+---+------+-----+---------+----------+---------+---+---------------------+------+---+---------------+---------+----------------------+--------+------------+------------+----+----+----+----+-------------+-------------+-------+----------+----------------+---+-----+-----------+----+---+------+----------------------------------+------------------------------------------------------------------+------------------------------------+------------------------+---------------+--------------------+--------------+-------------------+------------+----------------+\n",
            "only showing top 5 rows\n",
            "\n"
          ]
        }
      ],
      "source": [
        "raw_df.show(5, truncate=False)\n"
      ]
    },
    {
      "cell_type": "code",
      "execution_count": null,
      "metadata": {
        "colab": {
          "base_uri": "https://localhost:8080/"
        },
        "id": "GxRfZg38tEs8",
        "outputId": "2d7d4ab4-4d55-45e8-b5b9-13aa94d38f3f"
      },
      "outputs": [
        {
          "output_type": "stream",
          "name": "stdout",
          "text": [
            "+-------------------+\n",
            "|watch_time_portrait|\n",
            "+-------------------+\n",
            "|372.0              |\n",
            "|326.0              |\n",
            "|449.0              |\n",
            "|278.0              |\n",
            "|248.0              |\n",
            "+-------------------+\n",
            "only showing top 5 rows\n",
            "\n"
          ]
        }
      ],
      "source": [
        "\n",
        "from pyspark.sql.functions import col\n",
        "from pyspark.sql.types import DoubleType\n",
        "\n",
        "raw_df.select(\"watch_time_portrait\").show(5, truncate=False)\n",
        "\n"
      ]
    },
    {
      "cell_type": "markdown",
      "metadata": {
        "id": "u2-S2eNvtR9k"
      },
      "source": [
        "Extract and Process Nested Fields:"
      ]
    },
    {
      "cell_type": "code",
      "execution_count": null,
      "metadata": {
        "colab": {
          "base_uri": "https://localhost:8080/"
        },
        "id": "6tB_GljDtLXC",
        "outputId": "03e544db-c5df-4d8c-eca8-db650705930c"
      },
      "outputs": [
        {
          "output_type": "stream",
          "name": "stdout",
          "text": [
            "+----------------+----------+-----------+----------------------+--------+---+-------------+------+----------------------+------------+---------+-------------------+-------------------------+----------------------------------+-------------------+\n",
            "|uid             |crmid     |ch         |n                     |cl      |ep |cg           |opr   |pn                    |keywords    |genres   |watch_time_portrait|program_date             |timestamp                         |dateflink          |\n",
            "+----------------+----------+-----------+----------------------+--------+---+-------------+------+----------------------+------------+---------+-------------------+-------------------------+----------------------------------+-------------------+\n",
            "|00llfqkde3hfiweh|5280814033|ZeeKannada |ZeeKannada : Program2 |Kannada |76 |News         |Jio 4G|Pavitra+Rishta        |[\"News\"]    |[\"News\"] |732                |2021-06-02T00:00:00+05:30|Mon Jun 03 10:34:05 GMT+05:30 2024|2024-06-03 10:34:05|\n",
            "|q9mz1q83scpuuuvf|8344862428|ZeeTVHD    |ZeeTVHD : Program1    |Kannada |90 |News         |Jio 4G|Mithai+Kottu+Chittemma|[\"Drama\"]   |[\"Drama\"]|802                |2021-06-02T00:00:00+05:30|Tue Jun 04 16:47:22 GMT+05:30 2024|2024-06-04 16:47:22|\n",
            "|lc98xucko80l7z8t|8756205690|ZeeAnmol   |ZeeAnmol : Program1   |Assamese|35 |News         |Jio 4G|Afternoon+Express     |[\"News\"]    |[\"Drama\"]|304                |2021-06-02T00:00:00+05:30|Fri May 31 19:03:27 GMT+05:30 2024|2024-05-31 19:03:27|\n",
            "|a7jcoulv2gvvj3vu|4836944596|ZeeTelugu  |ZeeTelugu : Program1  |Assamese|80 |News         |Jio 4G|Punar+Vivaah          |[\"News\"]    |[\"News\"] |821                |2021-06-02T00:00:00+05:30|Thu May 30 13:48:40 GMT+05:30 2024|2024-05-30 13:48:40|\n",
            "|xdmeawznl6f61q8n|7412863037|ZeeAnmol   |ZeeAnmol : Program2   |Hindi   |76 |News         |Jio 4G|Mithai+Kottu+Chittemma|[\"News\"]    |[\"Drama\"]|767                |2021-06-02T00:00:00+05:30|Tue Jun 04 13:34:48 GMT+05:30 2024|2024-06-04 13:34:48|\n",
            "|gahhs6z9omzwjd2q|6397330561|ZeeKannada |ZeeKannada : Program3 |Telugu  |84 |News         |Jio 4G|Mithai+Kottu+Chittemma|[\"Politics\"]|[\"News\"] |99                 |2021-06-02T00:00:00+05:30|Fri May 31 14:59:57 GMT+05:30 2024|2024-05-31 14:59:57|\n",
            "|al3xhyechbsjnnfk|6815437274|ZeeKannada |ZeeKannada : Program2 |Kannada |25 |Entertainment|Jio 4G|Punar+Vivaah          |[\"Politics\"]|[\"News\"] |179                |2021-06-02T00:00:00+05:30|Thu May 30 08:52:11 GMT+05:30 2024|2024-05-30 08:52:11|\n",
            "|qnkclm839qgcfl67|5707084375|ZeeTVHD    |ZeeTVHD : Program1    |Assamese|18 |Entertainment|Jio 4G|Trinayani             |[\"Politics\"]|[\"News\"] |147                |2021-06-02T00:00:00+05:30|Wed Jun 05 00:44:56 GMT+05:30 2024|2024-06-05 00:44:56|\n",
            "|11gz136ylk30jw7s|7926247692|ZeeTVHD    |ZeeTVHD : Program3    |Hindi   |98 |News         |Jio 4G|Pavitra+Rishta        |[\"News\"]    |[\"Drama\"]|678                |2021-06-02T00:00:00+05:30|Thu May 30 22:47:24 GMT+05:30 2024|2024-05-30 22:47:24|\n",
            "|thg8qusdyret754f|4154998109|AajTak     |AajTak : Program2     |Hindi   |52 |Entertainment|Jio 4G|News                  |[\"Politics\"]|[\"News\"] |837                |2021-06-02T00:00:00+05:30|Fri May 31 11:15:55 GMT+05:30 2024|2024-05-31 11:15:55|\n",
            "|bi5z2vp70mbsozau|9497383869|News18Assam|News18Assam : Program2|Hindi   |99 |News         |Jio 4G|Afternoon+Express     |[\"News\"]    |[\"Drama\"]|88                 |2021-06-02T00:00:00+05:30|Sun Jun 02 09:50:52 GMT+05:30 2024|2024-06-02 09:50:52|\n",
            "|j0xjlgtnku1tn493|7362514332|AajTak     |AajTak : Program3     |Assamese|77 |Entertainment|Jio 4G|Afternoon+Express     |[\"Drama\"]   |[\"News\"] |37                 |2021-06-02T00:00:00+05:30|Sun Jun 02 23:49:15 GMT+05:30 2024|2024-06-02 23:49:15|\n",
            "|bfu7w9bj2dfub6n9|2384690764|ZeeKannada |ZeeKannada : Program1 |Kannada |14 |News         |Jio 4G|Trinayani             |[\"Politics\"]|[\"Drama\"]|20                 |2021-06-02T00:00:00+05:30|Thu May 30 05:24:39 GMT+05:30 2024|2024-05-30 05:24:39|\n",
            "|gqmkphlbnx13h4o1|3191315730|News18Assam|News18Assam : Program2|Telugu  |96 |Entertainment|Jio 4G|Mithai+Kottu+Chittemma|[\"Politics\"]|[\"News\"] |40                 |2021-06-02T00:00:00+05:30|Wed Jun 05 10:14:27 GMT+05:30 2024|2024-06-05 10:14:27|\n",
            "|9v9at5u9itcr1i0k|7286994583|ZeeTVHD    |ZeeTVHD : Program1    |Hindi   |31 |News         |Jio 4G|Trinayani             |[\"Politics\"]|[\"Drama\"]|544                |2021-06-02T00:00:00+05:30|Sat Jun 01 18:57:53 GMT+05:30 2024|2024-06-01 18:57:53|\n",
            "|xqumjemadhh5cckq|2872167342|ZeeTelugu  |ZeeTelugu : Program3  |Assamese|32 |News         |Jio 4G|Mithai+Kottu+Chittemma|[\"Drama\"]   |[\"News\"] |480                |2021-06-02T00:00:00+05:30|Wed Jun 05 06:09:41 GMT+05:30 2024|2024-06-05 06:09:41|\n",
            "|f7mwj1r2qxso8kt1|4523108202|ZeeTelugu  |ZeeTelugu : Program2  |Hindi   |3  |Entertainment|Jio 4G|Afternoon+Express     |[\"Drama\"]   |[\"Drama\"]|970                |2021-06-02T00:00:00+05:30|Thu May 30 05:05:43 GMT+05:30 2024|2024-05-30 05:05:43|\n",
            "|qqwh1e8a89mrxkov|4368321043|ZeeKannada |ZeeKannada : Program1 |Assamese|100|Entertainment|Jio 4G|News                  |[\"News\"]    |[\"Drama\"]|625                |2021-06-02T00:00:00+05:30|Fri May 31 07:32:51 GMT+05:30 2024|2024-05-31 07:32:51|\n",
            "|bnr691hj223t7uoy|1904538675|ZeeKannada |ZeeKannada : Program1 |Kannada |95 |News         |Jio 4G|News                  |[\"Politics\"]|[\"Drama\"]|527                |2021-06-02T00:00:00+05:30|Tue Jun 04 19:52:32 GMT+05:30 2024|2024-06-04 19:52:32|\n",
            "|oynmyuvitaur7y0c|7431393489|ZeeTelugu  |ZeeTelugu : Program2  |Kannada |64 |Entertainment|Jio 4G|Pavitra+Rishta        |[\"News\"]    |[\"Drama\"]|39                 |2021-06-02T00:00:00+05:30|Tue Jun 04 03:29:37 GMT+05:30 2024|2024-06-04 03:29:37|\n",
            "+----------------+----------+-----------+----------------------+--------+---+-------------+------+----------------------+------------+---------+-------------------+-------------------------+----------------------------------+-------------------+\n",
            "only showing top 20 rows\n",
            "\n"
          ]
        }
      ],
      "source": [
        "from pyspark.sql.functions import explode, split, col\n",
        "\n",
        "raw_df = raw_df.withColumn(\"genres\", explode(split(col(\"pro.show_genre\"), \",\")))\n",
        "\n",
        "df_features = raw_df.select(\"uid\",\"crmid\",\"pro.ch\", \"pro.n\",\"pro.cl\",\"pro.ep\",\"pro.cg\",\"pro.opr\",\"pro.pn\", \"pro.keywords\", \"genres\", \"watch_time_portrait\", \"pro.program_date\", \"pro.timestamp\",\"dateflink\")\n",
        "\n",
        "\n",
        "df_features.show(truncate=False)\n"
      ]
    },
    {
      "cell_type": "code",
      "execution_count": null,
      "metadata": {
        "colab": {
          "base_uri": "https://localhost:8080/"
        },
        "id": "fivIGtPTpe7S",
        "outputId": "83d7680d-8e0e-4522-ce84-d02125e2adfb"
      },
      "outputs": [
        {
          "output_type": "stream",
          "name": "stdout",
          "text": [
            "Unique genres: ['[\"Drama\"]', '[\"News\"]']\n",
            "Unique keywords: ['[\"Politics\"]', '[\"Drama\"]', '[\"News\"]']\n",
            "Unique channels: ['ZeeKannada', 'ZeeAnmol', 'ZeeTelugu', 'ZeeTVHD', 'AajTak', 'News18Assam']\n",
            "Unique serials: ['Punar+Vivaah', 'Mithai+Kottu+Chittemma', 'Trinayani', 'Pavitra+Rishta', 'Afternoon+Express', 'News']\n"
          ]
        }
      ],
      "source": [
        "df_exploded = raw_df \\\n",
        "    .withColumn(\"genre\", explode(split(raw_df[\"pro.show_genre\"], \",\"))) \\\n",
        "    .withColumn(\"keyword\", explode(split(raw_df[\"pro.keywords\"], \",\"))) \\\n",
        "    .withColumn(\"channel\", col(\"pro.ch\")) \\\n",
        "    .withColumn(\"serial\", col(\"pro.pn\"))\n",
        "\n",
        "distinct_genres = df_exploded.select(\"genre\").distinct()\n",
        "distinct_keywords = df_exploded.select(\"keyword\").distinct()\n",
        "distinct_channels = df_exploded.select(\"channel\").distinct()\n",
        "distinct_serials = df_exploded.select(\"serial\").distinct()\n",
        "\n",
        "unique_genres = [row[\"genre\"] for row in distinct_genres.collect()]\n",
        "unique_keywords = [row[\"keyword\"] for row in distinct_keywords.collect()]\n",
        "unique_channels = [row[\"channel\"] for row in distinct_channels.collect()]\n",
        "unique_serials = [row[\"serial\"] for row in distinct_serials.collect()]\n",
        "\n",
        "print(\"Unique genres:\", unique_genres)\n",
        "print(\"Unique keywords:\", unique_keywords)\n",
        "print(\"Unique channels:\", unique_channels)\n",
        "print(\"Unique serials:\", unique_serials)\n"
      ]
    },
    {
      "cell_type": "code",
      "execution_count": null,
      "metadata": {
        "colab": {
          "base_uri": "https://localhost:8080/"
        },
        "id": "JnUnaB9_SEfu",
        "outputId": "6a2e7ebc-2987-40f5-f5e1-fcc26295c64b"
      },
      "outputs": [
        {
          "output_type": "stream",
          "name": "stdout",
          "text": [
            "Unique genres: ['[\"Drama\"]', '[\"News\"]']\n"
          ]
        }
      ],
      "source": [
        "\n",
        "df_genres = raw_df.withColumn(\"genre\", explode(split(raw_df[\"pro.show_genre\"], \",\")))\n",
        "\n",
        "distinct_genres = df_genres.select(\"genre\").distinct()\n",
        "\n",
        "unique_genres = distinct_genres.collect()\n",
        "\n",
        "\n",
        "genres_list = [row[\"genre\"] for row in unique_genres]\n",
        "\n",
        "print(\"Unique genres:\", genres_list)"
      ]
    },
    {
      "cell_type": "markdown",
      "metadata": {
        "id": "Hbt7W86Ot1Eq"
      },
      "source": [
        "Visualizations for Data Understanding"
      ]
    },
    {
      "cell_type": "markdown",
      "metadata": {
        "id": "2XdxIO8Qt54k"
      },
      "source": [
        "Sample data for visualization"
      ]
    },
    {
      "cell_type": "code",
      "execution_count": null,
      "metadata": {
        "colab": {
          "base_uri": "https://localhost:8080/"
        },
        "id": "IcxJY2X1tjlk",
        "outputId": "22b08403-7179-477a-d2a1-4decc71e3805"
      },
      "outputs": [
        {
          "output_type": "stream",
          "name": "stdout",
          "text": [
            "                uid       crmid          ch                      n        cl  \\\n",
            "0  00llfqkde3hfiweh  5280814033  ZeeKannada  ZeeKannada : Program2   Kannada   \n",
            "1  q9mz1q83scpuuuvf  8344862428     ZeeTVHD     ZeeTVHD : Program1   Kannada   \n",
            "2  lc98xucko80l7z8t  8756205690    ZeeAnmol    ZeeAnmol : Program1  Assamese   \n",
            "3  a7jcoulv2gvvj3vu  4836944596   ZeeTelugu   ZeeTelugu : Program1  Assamese   \n",
            "4  xdmeawznl6f61q8n  7412863037    ZeeAnmol    ZeeAnmol : Program2     Hindi   \n",
            "\n",
            "   ep    cg     opr                      pn   keywords     genres  \\\n",
            "0  76  News  Jio 4G          Pavitra+Rishta   [\"News\"]   [\"News\"]   \n",
            "1  90  News  Jio 4G  Mithai+Kottu+Chittemma  [\"Drama\"]  [\"Drama\"]   \n",
            "2  35  News  Jio 4G       Afternoon+Express   [\"News\"]  [\"Drama\"]   \n",
            "3  80  News  Jio 4G            Punar+Vivaah   [\"News\"]   [\"News\"]   \n",
            "4  76  News  Jio 4G  Mithai+Kottu+Chittemma   [\"News\"]  [\"Drama\"]   \n",
            "\n",
            "  watch_time_portrait               program_date  \\\n",
            "0                 732  2021-06-02T00:00:00+05:30   \n",
            "1                 802  2021-06-02T00:00:00+05:30   \n",
            "2                 304  2021-06-02T00:00:00+05:30   \n",
            "3                 821  2021-06-02T00:00:00+05:30   \n",
            "4                 767  2021-06-02T00:00:00+05:30   \n",
            "\n",
            "                            timestamp            dateflink  \n",
            "0  Mon Jun 03 10:34:05 GMT+05:30 2024  2024-06-03 10:34:05  \n",
            "1  Tue Jun 04 16:47:22 GMT+05:30 2024  2024-06-04 16:47:22  \n",
            "2  Fri May 31 19:03:27 GMT+05:30 2024  2024-05-31 19:03:27  \n",
            "3  Thu May 30 13:48:40 GMT+05:30 2024  2024-05-30 13:48:40  \n",
            "4  Tue Jun 04 13:34:48 GMT+05:30 2024  2024-06-04 13:34:48  \n"
          ]
        }
      ],
      "source": [
        "import pandas as pd\n",
        "\n",
        "rows = df_features.collect()\n",
        "\n",
        "pandas_df = pd.DataFrame(rows, columns=df_features.columns)\n",
        "\n",
        "print(pandas_df.head())\n",
        "\n"
      ]
    },
    {
      "cell_type": "markdown",
      "metadata": {
        "id": "GFmedom0uPqR"
      },
      "source": [
        "Plot Distributions and Detect Imbalance\n",
        "\n",
        "Distribution of Watch Time:"
      ]
    },
    {
      "cell_type": "code",
      "execution_count": null,
      "metadata": {
        "colab": {
          "base_uri": "https://localhost:8080/",
          "height": 564
        },
        "id": "PAC5u_YCt84r",
        "outputId": "c576bda5-faa1-41e4-f3b2-1d9bcdc0cc89"
      },
      "outputs": [
        {
          "output_type": "display_data",
          "data": {
            "text/plain": [
              "<Figure size 1000x600 with 1 Axes>"
            ],
            "image/png": "[encoded data removed]"
          },
          "metadata": {}
        }
      ],
      "source": [
        "import matplotlib.pyplot as plt\n",
        "import seaborn as sns\n",
        "\n",
        "plt.figure(figsize=(10, 6))\n",
        "sns.histplot(pandas_df['watch_time_portrait'], bins=50, kde=True)\n",
        "plt.title('Distribution of Watch Time (Portrait)')\n",
        "plt.xlabel('Watch Time (Portrait)')\n",
        "plt.ylabel('Frequency')\n",
        "plt.show()"
      ]
    },
    {
      "cell_type": "code",
      "execution_count": null,
      "metadata": {
        "colab": {
          "base_uri": "https://localhost:8080/",
          "height": 621
        },
        "id": "2XR7s_jmuV1-",
        "outputId": "db63dfff-9cd1-42cc-99dd-40a84254aadc"
      },
      "outputs": [
        {
          "output_type": "display_data",
          "data": {
            "text/plain": [
              "<Figure size 1000x600 with 1 Axes>"
            ],
            "image/png": "[encoded data removed]"
          },
          "metadata": {}
        }
      ],
      "source": [
        "plt.figure(figsize=(10, 6))\n",
        "sns.countplot(data=pandas_df, x='genres', order=pandas_df['genres'].value_counts().index)\n",
        "plt.xticks(rotation=90)\n",
        "plt.title('Distribution of Genres')\n",
        "plt.xlabel('Genres')\n",
        "plt.ylabel('Frequency')\n",
        "plt.show()"
      ]
    },
    {
      "cell_type": "markdown",
      "metadata": {
        "id": "15f97IUuusqe"
      },
      "source": [
        "Identify Outliers in Watch Time:"
      ]
    },
    {
      "cell_type": "code",
      "execution_count": null,
      "metadata": {
        "colab": {
          "base_uri": "https://localhost:8080/",
          "height": 564
        },
        "id": "WLX6FeN_uhlD",
        "outputId": "2d6fc528-0970-4e1d-d133-66cb175e3eac"
      },
      "outputs": [
        {
          "output_type": "display_data",
          "data": {
            "text/plain": [
              "<Figure size 1000x600 with 1 Axes>"
            ],
            "image/png": "[encoded data removed]"
          },
          "metadata": {}
        }
      ],
      "source": [
        "plt.figure(figsize=(10, 6))\n",
        "sns.boxplot(data=pandas_df, x='watch_time_portrait')\n",
        "plt.title('Boxplot of Watch Time (Portrait)')\n",
        "plt.xlabel('Watch Time (Portrait)')\n",
        "plt.show()"
      ]
    },
    {
      "cell_type": "markdown",
      "metadata": {
        "id": "Grbt31Truv_0"
      },
      "source": [
        "Detect Imbalance in User and Channel IDs:"
      ]
    },
    {
      "cell_type": "code",
      "execution_count": null,
      "metadata": {
        "colab": {
          "base_uri": "https://localhost:8080/"
        },
        "id": "VvAfpoixvJCy",
        "outputId": "aa42f5e7-5538-4c9f-cf1f-08224ce88933"
      },
      "outputs": [
        {
          "output_type": "stream",
          "name": "stdout",
          "text": [
            "Index(['uid', 'crmid', 'ch', 'n', 'cl', 'ep', 'cg', 'opr', 'pn', 'keywords',\n",
            "       'genres', 'watch_time_portrait', 'program_date', 'timestamp',\n",
            "       'dateflink'],\n",
            "      dtype='object')\n"
          ]
        }
      ],
      "source": [
        "print(pandas_df.columns)\n"
      ]
    },
    {
      "cell_type": "code",
      "execution_count": null,
      "metadata": {
        "colab": {
          "base_uri": "https://localhost:8080/"
        },
        "id": "K-y3mujceybt",
        "outputId": "552703c2-0895-4d6b-f746-70bc00bdcc7b"
      },
      "outputs": [
        {
          "output_type": "stream",
          "name": "stdout",
          "text": [
            "+----------------+----------+-----------+----------------------+--------+---+-------------+------+----------------------+------------+---------+-------------------+-------------------------+----------------------------------+-------------------+\n",
            "|uid             |crmid     |ch         |n                     |cl      |ep |cg           |opr   |pn                    |keywords    |genres   |watch_time_portrait|program_date             |timestamp                         |dateflink          |\n",
            "+----------------+----------+-----------+----------------------+--------+---+-------------+------+----------------------+------------+---------+-------------------+-------------------------+----------------------------------+-------------------+\n",
            "|00llfqkde3hfiweh|5280814033|ZeeKannada |ZeeKannada : Program2 |Kannada |76 |News         |Jio 4G|Pavitra+Rishta        |[\"News\"]    |[\"News\"] |732                |2021-06-02T00:00:00+05:30|Mon Jun 03 10:34:05 GMT+05:30 2024|2024-06-03 10:34:05|\n",
            "|q9mz1q83scpuuuvf|8344862428|ZeeTVHD    |ZeeTVHD : Program1    |Kannada |90 |News         |Jio 4G|Mithai+Kottu+Chittemma|[\"Drama\"]   |[\"Drama\"]|802                |2021-06-02T00:00:00+05:30|Tue Jun 04 16:47:22 GMT+05:30 2024|2024-06-04 16:47:22|\n",
            "|lc98xucko80l7z8t|8756205690|ZeeAnmol   |ZeeAnmol : Program1   |Assamese|35 |News         |Jio 4G|Afternoon+Express     |[\"News\"]    |[\"Drama\"]|304                |2021-06-02T00:00:00+05:30|Fri May 31 19:03:27 GMT+05:30 2024|2024-05-31 19:03:27|\n",
            "|a7jcoulv2gvvj3vu|4836944596|ZeeTelugu  |ZeeTelugu : Program1  |Assamese|80 |News         |Jio 4G|Punar+Vivaah          |[\"News\"]    |[\"News\"] |821                |2021-06-02T00:00:00+05:30|Thu May 30 13:48:40 GMT+05:30 2024|2024-05-30 13:48:40|\n",
            "|xdmeawznl6f61q8n|7412863037|ZeeAnmol   |ZeeAnmol : Program2   |Hindi   |76 |News         |Jio 4G|Mithai+Kottu+Chittemma|[\"News\"]    |[\"Drama\"]|767                |2021-06-02T00:00:00+05:30|Tue Jun 04 13:34:48 GMT+05:30 2024|2024-06-04 13:34:48|\n",
            "|gahhs6z9omzwjd2q|6397330561|ZeeKannada |ZeeKannada : Program3 |Telugu  |84 |News         |Jio 4G|Mithai+Kottu+Chittemma|[\"Politics\"]|[\"News\"] |99                 |2021-06-02T00:00:00+05:30|Fri May 31 14:59:57 GMT+05:30 2024|2024-05-31 14:59:57|\n",
            "|al3xhyechbsjnnfk|6815437274|ZeeKannada |ZeeKannada : Program2 |Kannada |25 |Entertainment|Jio 4G|Punar+Vivaah          |[\"Politics\"]|[\"News\"] |179                |2021-06-02T00:00:00+05:30|Thu May 30 08:52:11 GMT+05:30 2024|2024-05-30 08:52:11|\n",
            "|qnkclm839qgcfl67|5707084375|ZeeTVHD    |ZeeTVHD : Program1    |Assamese|18 |Entertainment|Jio 4G|Trinayani             |[\"Politics\"]|[\"News\"] |147                |2021-06-02T00:00:00+05:30|Wed Jun 05 00:44:56 GMT+05:30 2024|2024-06-05 00:44:56|\n",
            "|11gz136ylk30jw7s|7926247692|ZeeTVHD    |ZeeTVHD : Program3    |Hindi   |98 |News         |Jio 4G|Pavitra+Rishta        |[\"News\"]    |[\"Drama\"]|678                |2021-06-02T00:00:00+05:30|Thu May 30 22:47:24 GMT+05:30 2024|2024-05-30 22:47:24|\n",
            "|thg8qusdyret754f|4154998109|AajTak     |AajTak : Program2     |Hindi   |52 |Entertainment|Jio 4G|News                  |[\"Politics\"]|[\"News\"] |837                |2021-06-02T00:00:00+05:30|Fri May 31 11:15:55 GMT+05:30 2024|2024-05-31 11:15:55|\n",
            "|bi5z2vp70mbsozau|9497383869|News18Assam|News18Assam : Program2|Hindi   |99 |News         |Jio 4G|Afternoon+Express     |[\"News\"]    |[\"Drama\"]|88                 |2021-06-02T00:00:00+05:30|Sun Jun 02 09:50:52 GMT+05:30 2024|2024-06-02 09:50:52|\n",
            "|j0xjlgtnku1tn493|7362514332|AajTak     |AajTak : Program3     |Assamese|77 |Entertainment|Jio 4G|Afternoon+Express     |[\"Drama\"]   |[\"News\"] |37                 |2021-06-02T00:00:00+05:30|Sun Jun 02 23:49:15 GMT+05:30 2024|2024-06-02 23:49:15|\n",
            "|bfu7w9bj2dfub6n9|2384690764|ZeeKannada |ZeeKannada : Program1 |Kannada |14 |News         |Jio 4G|Trinayani             |[\"Politics\"]|[\"Drama\"]|20                 |2021-06-02T00:00:00+05:30|Thu May 30 05:24:39 GMT+05:30 2024|2024-05-30 05:24:39|\n",
            "|gqmkphlbnx13h4o1|3191315730|News18Assam|News18Assam : Program2|Telugu  |96 |Entertainment|Jio 4G|Mithai+Kottu+Chittemma|[\"Politics\"]|[\"News\"] |40                 |2021-06-02T00:00:00+05:30|Wed Jun 05 10:14:27 GMT+05:30 2024|2024-06-05 10:14:27|\n",
            "|9v9at5u9itcr1i0k|7286994583|ZeeTVHD    |ZeeTVHD : Program1    |Hindi   |31 |News         |Jio 4G|Trinayani             |[\"Politics\"]|[\"Drama\"]|544                |2021-06-02T00:00:00+05:30|Sat Jun 01 18:57:53 GMT+05:30 2024|2024-06-01 18:57:53|\n",
            "|xqumjemadhh5cckq|2872167342|ZeeTelugu  |ZeeTelugu : Program3  |Assamese|32 |News         |Jio 4G|Mithai+Kottu+Chittemma|[\"Drama\"]   |[\"News\"] |480                |2021-06-02T00:00:00+05:30|Wed Jun 05 06:09:41 GMT+05:30 2024|2024-06-05 06:09:41|\n",
            "|f7mwj1r2qxso8kt1|4523108202|ZeeTelugu  |ZeeTelugu : Program2  |Hindi   |3  |Entertainment|Jio 4G|Afternoon+Express     |[\"Drama\"]   |[\"Drama\"]|970                |2021-06-02T00:00:00+05:30|Thu May 30 05:05:43 GMT+05:30 2024|2024-05-30 05:05:43|\n",
            "|qqwh1e8a89mrxkov|4368321043|ZeeKannada |ZeeKannada : Program1 |Assamese|100|Entertainment|Jio 4G|News                  |[\"News\"]    |[\"Drama\"]|625                |2021-06-02T00:00:00+05:30|Fri May 31 07:32:51 GMT+05:30 2024|2024-05-31 07:32:51|\n",
            "|bnr691hj223t7uoy|1904538675|ZeeKannada |ZeeKannada : Program1 |Kannada |95 |News         |Jio 4G|News                  |[\"Politics\"]|[\"Drama\"]|527                |2021-06-02T00:00:00+05:30|Tue Jun 04 19:52:32 GMT+05:30 2024|2024-06-04 19:52:32|\n",
            "|oynmyuvitaur7y0c|7431393489|ZeeTelugu  |ZeeTelugu : Program2  |Kannada |64 |Entertainment|Jio 4G|Pavitra+Rishta        |[\"News\"]    |[\"Drama\"]|39                 |2021-06-02T00:00:00+05:30|Tue Jun 04 03:29:37 GMT+05:30 2024|2024-06-04 03:29:37|\n",
            "+----------------+----------+-----------+----------------------+--------+---+-------------+------+----------------------+------------+---------+-------------------+-------------------------+----------------------------------+-------------------+\n",
            "only showing top 20 rows\n",
            "\n"
          ]
        }
      ],
      "source": [
        "df_features.show(truncate=False)"
      ]
    },
    {
      "cell_type": "code",
      "execution_count": null,
      "metadata": {
        "colab": {
          "base_uri": "https://localhost:8080/"
        },
        "id": "xvJiCqGhhsq6",
        "outputId": "1a6e8c3b-b6e8-4f38-8dba-b9ffdc1c4f66"
      },
      "outputs": [
        {
          "output_type": "stream",
          "name": "stdout",
          "text": [
            "root\n",
            " |-- uid: string (nullable = true)\n",
            " |-- crmid: string (nullable = true)\n",
            " |-- ch: string (nullable = true)\n",
            " |-- n: string (nullable = true)\n",
            " |-- cl: string (nullable = true)\n",
            " |-- ep: string (nullable = true)\n",
            " |-- cg: string (nullable = true)\n",
            " |-- opr: string (nullable = true)\n",
            " |-- pn: string (nullable = true)\n",
            " |-- keywords: string (nullable = true)\n",
            " |-- genres: string (nullable = false)\n",
            " |-- watch_time_portrait: string (nullable = true)\n",
            " |-- program_date: string (nullable = true)\n",
            " |-- timestamp: string (nullable = true)\n",
            " |-- dateflink: string (nullable = true)\n",
            "\n"
          ]
        }
      ],
      "source": [
        "df_features.printSchema()"
      ]
    },
    {
      "cell_type": "code",
      "execution_count": null,
      "metadata": {
        "colab": {
          "base_uri": "https://localhost:8080/"
        },
        "id": "Xaa8MWZ0Etdy",
        "outputId": "daff28f6-6794-479c-d6dc-716bef384384"
      },
      "outputs": [
        {
          "output_type": "stream",
          "name": "stdout",
          "text": [
            "Requirement already satisfied: pyspark in /usr/local/lib/python3.10/dist-packages (3.5.1)\n",
            "Requirement already satisfied: pandas in /usr/local/lib/python3.10/dist-packages (2.0.3)\n",
            "Collecting pandas\n",
            "  Downloading pandas-2.2.2-cp310-cp310-manylinux_2_17_x86_64.manylinux2014_x86_64.whl.metadata (19 kB)\n",
            "Requirement already satisfied: py4j==0.10.9.7 in /usr/local/lib/python3.10/dist-packages (from pyspark) (0.10.9.7)\n",
            "Requirement already satisfied: numpy>=1.22.4 in /usr/local/lib/python3.10/dist-packages (from pandas) (1.25.2)\n",
            "Requirement already satisfied: python-dateutil>=2.8.2 in /usr/local/lib/python3.10/dist-packages (from pandas) (2.8.2)\n",
            "Requirement already satisfied: pytz>=2020.1 in /usr/local/lib/python3.10/dist-packages (from pandas) (2023.4)\n",
            "Requirement already satisfied: tzdata>=2022.7 in /usr/local/lib/python3.10/dist-packages (from pandas) (2024.1)\n",
            "Requirement already satisfied: six>=1.5 in /usr/local/lib/python3.10/dist-packages (from python-dateutil>=2.8.2->pandas) (1.16.0)\n",
            "Downloading pandas-2.2.2-cp310-cp310-manylinux_2_17_x86_64.manylinux2014_x86_64.whl (13.0 MB)\n",
            "\u001b[2K   \u001b[90m━━━━━━━━━━━━━━━━━━━━━━━━━━━━━━━━━━━━━━━━\u001b[0m \u001b[32m13.0/13.0 MB\u001b[0m \u001b[31m62.5 MB/s\u001b[0m eta \u001b[36m0:00:00\u001b[0m\n",
            "\u001b[?25hInstalling collected packages: pandas\n",
            "  Attempting uninstall: pandas\n",
            "    Found existing installation: pandas 2.0.3\n",
            "    Uninstalling pandas-2.0.3:\n",
            "      Successfully uninstalled pandas-2.0.3\n",
            "\u001b[31mERROR: pip's dependency resolver does not currently take into account all the packages that are installed. This behaviour is the source of the following dependency conflicts.\n",
            "cudf-cu12 24.4.1 requires pandas<2.2.2dev0,>=2.0, but you have pandas 2.2.2 which is incompatible.\n",
            "google-colab 1.0.0 requires pandas==2.0.3, but you have pandas 2.2.2 which is incompatible.\u001b[0m\u001b[31m\n",
            "\u001b[0mSuccessfully installed pandas-2.2.2\n"
          ]
        }
      ],
      "source": [
        "pip install --upgrade pyspark pandas\n"
      ]
    },
    {
      "cell_type": "code",
      "execution_count": null,
      "metadata": {
        "id": "6yhFvZ32Ewu8"
      },
      "outputs": [],
      "source": [
        "spark.conf.set(\"spark.sql.execution.arrow.pyspark.enabled\", \"true\")\n"
      ]
    },
    {
      "cell_type": "code",
      "execution_count": null,
      "metadata": {
        "colab": {
          "base_uri": "https://localhost:8080/"
        },
        "id": "8eLwJx1CE0Ei",
        "outputId": "fdbf6bee-9297-461f-8707-c7866640a822"
      },
      "outputs": [
        {
          "output_type": "stream",
          "name": "stdout",
          "text": [
            "                uid       crmid          ch                      n        cl  \\\n",
            "0  00llfqkde3hfiweh  5280814033  ZeeKannada  ZeeKannada : Program2   Kannada   \n",
            "1  q9mz1q83scpuuuvf  8344862428     ZeeTVHD     ZeeTVHD : Program1   Kannada   \n",
            "2  lc98xucko80l7z8t  8756205690    ZeeAnmol    ZeeAnmol : Program1  Assamese   \n",
            "3  a7jcoulv2gvvj3vu  4836944596   ZeeTelugu   ZeeTelugu : Program1  Assamese   \n",
            "4  xdmeawznl6f61q8n  7412863037    ZeeAnmol    ZeeAnmol : Program2     Hindi   \n",
            "\n",
            "   ep    cg     opr                      pn   keywords     genres  \\\n",
            "0  76  News  Jio 4G          Pavitra+Rishta   [\"News\"]   [\"News\"]   \n",
            "1  90  News  Jio 4G  Mithai+Kottu+Chittemma  [\"Drama\"]  [\"Drama\"]   \n",
            "2  35  News  Jio 4G       Afternoon+Express   [\"News\"]  [\"Drama\"]   \n",
            "3  80  News  Jio 4G            Punar+Vivaah   [\"News\"]   [\"News\"]   \n",
            "4  76  News  Jio 4G  Mithai+Kottu+Chittemma   [\"News\"]  [\"Drama\"]   \n",
            "\n",
            "  watch_time_portrait               program_date  \\\n",
            "0                 732  2021-06-02T00:00:00+05:30   \n",
            "1                 802  2021-06-02T00:00:00+05:30   \n",
            "2                 304  2021-06-02T00:00:00+05:30   \n",
            "3                 821  2021-06-02T00:00:00+05:30   \n",
            "4                 767  2021-06-02T00:00:00+05:30   \n",
            "\n",
            "                            timestamp            dateflink  \n",
            "0  Mon Jun 03 10:34:05 GMT+05:30 2024  2024-06-03 10:34:05  \n",
            "1  Tue Jun 04 16:47:22 GMT+05:30 2024  2024-06-04 16:47:22  \n",
            "2  Fri May 31 19:03:27 GMT+05:30 2024  2024-05-31 19:03:27  \n",
            "3  Thu May 30 13:48:40 GMT+05:30 2024  2024-05-30 13:48:40  \n",
            "4  Tue Jun 04 13:34:48 GMT+05:30 2024  2024-06-04 13:34:48  \n"
          ]
        }
      ],
      "source": [
        "\n",
        "rows = df_features.collect()\n",
        "\n",
        "data = [row.asDict() for row in rows]\n",
        "\n",
        "pandas_df = pd.DataFrame(data)\n",
        "\n",
        "print(pandas_df.head())\n"
      ]
    },
    {
      "cell_type": "code",
      "execution_count": null,
      "metadata": {
        "colab": {
          "base_uri": "https://localhost:8080/"
        },
        "id": "IfVJAzf6vyQo",
        "outputId": "60f8a0bb-2700-4b79-9b7c-727930378750"
      },
      "outputs": [
        {
          "output_type": "stream",
          "name": "stdout",
          "text": [
            "Error: An error occurred while calling o825.pandasStructHandlingMode. Trace:\n",
            "py4j.Py4JException: Method pandasStructHandlingMode([]) does not exist\n",
            "\tat py4j.reflection.ReflectionEngine.getMethod(ReflectionEngine.java:321)\n",
            "\tat py4j.reflection.ReflectionEngine.getMethod(ReflectionEngine.java:329)\n",
            "\tat py4j.Gateway.invoke(Gateway.java:274)\n",
            "\tat py4j.commands.AbstractCommand.invokeMethod(AbstractCommand.java:132)\n",
            "\tat py4j.commands.CallCommand.execute(CallCommand.java:79)\n",
            "\tat py4j.ClientServerConnection.waitForCommands(ClientServerConnection.java:182)\n",
            "\tat py4j.ClientServerConnection.run(ClientServerConnection.java:106)\n",
            "\tat java.lang.Thread.run(Thread.java:750)\n",
            "\n",
            "\n"
          ]
        },
        {
          "output_type": "stream",
          "name": "stderr",
          "text": [
            "/usr/local/lib/python3.10/dist-packages/pyspark/sql/pandas/conversion.py:198: UserWarning: toPandas attempted Arrow optimization because 'spark.sql.execution.arrow.pyspark.enabled' is set to true, but has reached the error below and can not continue. Note that 'spark.sql.execution.arrow.pyspark.fallback.enabled' does not have an effect on failures in the middle of computation.\n",
            "  An error occurred while calling o825.pandasStructHandlingMode. Trace:\n",
            "py4j.Py4JException: Method pandasStructHandlingMode([]) does not exist\n",
            "\tat py4j.reflection.ReflectionEngine.getMethod(ReflectionEngine.java:321)\n",
            "\tat py4j.reflection.ReflectionEngine.getMethod(ReflectionEngine.java:329)\n",
            "\tat py4j.Gateway.invoke(Gateway.java:274)\n",
            "\tat py4j.commands.AbstractCommand.invokeMethod(AbstractCommand.java:132)\n",
            "\tat py4j.commands.CallCommand.execute(CallCommand.java:79)\n",
            "\tat py4j.ClientServerConnection.waitForCommands(ClientServerConnection.java:182)\n",
            "\tat py4j.ClientServerConnection.run(ClientServerConnection.java:106)\n",
            "\tat java.lang.Thread.run(Thread.java:750)\n",
            "\n",
            "\n",
            "  warn(msg)\n"
          ]
        }
      ],
      "source": [
        "try:\n",
        "    pandas_df = df.toPandas()\n",
        "    print(pandas_df.head())\n",
        "except Exception as e:\n",
        "    print(\"Error:\", e)"
      ]
    },
    {
      "cell_type": "markdown",
      "metadata": {
        "id": "O2ubuTpJwRyK"
      },
      "source": [
        "Building the Recommendation Model"
      ]
    },
    {
      "cell_type": "markdown",
      "metadata": {
        "id": "qtlApY0ZwS58"
      },
      "source": [
        "Convert Categorical Features to Numeric:"
      ]
    },
    {
      "cell_type": "code",
      "execution_count": null,
      "metadata": {
        "id": "o7-VM730wppK"
      },
      "outputs": [],
      "source": [
        "from pyspark.ml.feature import StringIndexer, OneHotEncoder, VectorAssembler\n"
      ]
    },
    {
      "cell_type": "code",
      "execution_count": null,
      "metadata": {
        "id": "CUWwR2mbuxuv"
      },
      "outputs": [],
      "source": [
        "\n",
        "indexer = StringIndexer(inputCol=\"genres\", outputCol=\"genres_index\")\n",
        "df_features = indexer.fit(df_features).transform(df_features)\n"
      ]
    },
    {
      "cell_type": "code",
      "execution_count": null,
      "metadata": {
        "id": "8A7IBf6-wrbl"
      },
      "outputs": [],
      "source": [
        "\n",
        "encoder = OneHotEncoder(inputCols=[\"genres_index\"], outputCols=[\"genres_vec\"])\n",
        "df_features = encoder.fit(df_features).transform(df_features)\n"
      ]
    },
    {
      "cell_type": "markdown",
      "metadata": {
        "id": "Vkco2M81bGlk"
      },
      "source": [
        "**SQL QUERIES**"
      ]
    },
    {
      "cell_type": "code",
      "execution_count": null,
      "metadata": {
        "id": "A7phsfFebs3J"
      },
      "outputs": [],
      "source": [
        "import pandas as pd"
      ]
    },
    {
      "cell_type": "code",
      "execution_count": null,
      "metadata": {
        "id": "k6Gm4yo3wspT"
      },
      "outputs": [],
      "source": [
        "spark_df = spark.createDataFrame(pandas_df)"
      ]
    },
    {
      "cell_type": "code",
      "execution_count": null,
      "metadata": {
        "colab": {
          "base_uri": "https://localhost:8080/"
        },
        "id": "Zmn8cRP3fTIq",
        "outputId": "a34e9e51-5bc2-48f4-86ca-343439007adb"
      },
      "outputs": [
        {
          "output_type": "stream",
          "name": "stdout",
          "text": [
            "root\n",
            " |-- uid: string (nullable = true)\n",
            " |-- crmid: string (nullable = true)\n",
            " |-- ch: string (nullable = true)\n",
            " |-- n: string (nullable = true)\n",
            " |-- cl: string (nullable = true)\n",
            " |-- ep: string (nullable = true)\n",
            " |-- cg: string (nullable = true)\n",
            " |-- opr: string (nullable = true)\n",
            " |-- pn: string (nullable = true)\n",
            " |-- keywords: string (nullable = true)\n",
            " |-- genres: string (nullable = true)\n",
            " |-- watch_time_portrait: string (nullable = true)\n",
            " |-- program_date: string (nullable = true)\n",
            " |-- timestamp: string (nullable = true)\n",
            " |-- dateflink: string (nullable = true)\n",
            "\n"
          ]
        }
      ],
      "source": [
        "spark_df.printSchema()\n"
      ]
    },
    {
      "cell_type": "code",
      "execution_count": null,
      "metadata": {
        "colab": {
          "base_uri": "https://localhost:8080/"
        },
        "id": "NKmjnOSPfFb-",
        "outputId": "b03837da-9f47-4040-c1e1-da7bf5dd1875"
      },
      "outputs": [
        {
          "output_type": "stream",
          "name": "stdout",
          "text": [
            "+----------------+----------+-----------+--------------------+--------+---+-------------+------+--------------------+------------+---------+-------------------+--------------------+--------------------+-------------------+------------+-------------+\n",
            "|             uid|     crmid|         ch|                   n|      cl| ep|           cg|   opr|                  pn|    keywords|   genres|watch_time_portrait|        program_date|           timestamp|          dateflink|genres_index|   genres_vec|\n",
            "+----------------+----------+-----------+--------------------+--------+---+-------------+------+--------------------+------------+---------+-------------------+--------------------+--------------------+-------------------+------------+-------------+\n",
            "|00llfqkde3hfiweh|5280814033| ZeeKannada|ZeeKannada : Prog...| Kannada| 76|         News|Jio 4G|      Pavitra+Rishta|    [\"News\"]| [\"News\"]|                732|2021-06-02T00:00:...|Mon Jun 03 10:34:...|2024-06-03 10:34:05|         1.0|    (1,[],[])|\n",
            "|q9mz1q83scpuuuvf|8344862428|    ZeeTVHD|  ZeeTVHD : Program1| Kannada| 90|         News|Jio 4G|Mithai+Kottu+Chit...|   [\"Drama\"]|[\"Drama\"]|                802|2021-06-02T00:00:...|Tue Jun 04 16:47:...|2024-06-04 16:47:22|         0.0|(1,[0],[1.0])|\n",
            "|a7jcoulv2gvvj3vu|4836944596|  ZeeTelugu|ZeeTelugu : Program1|Assamese| 80|         News|Jio 4G|        Punar+Vivaah|    [\"News\"]| [\"News\"]|                821|2021-06-02T00:00:...|Thu May 30 13:48:...|2024-05-30 13:48:40|         1.0|    (1,[],[])|\n",
            "|xdmeawznl6f61q8n|7412863037|   ZeeAnmol| ZeeAnmol : Program2|   Hindi| 76|         News|Jio 4G|Mithai+Kottu+Chit...|    [\"News\"]|[\"Drama\"]|                767|2021-06-02T00:00:...|Tue Jun 04 13:34:...|2024-06-04 13:34:48|         0.0|(1,[0],[1.0])|\n",
            "|11gz136ylk30jw7s|7926247692|    ZeeTVHD|  ZeeTVHD : Program3|   Hindi| 98|         News|Jio 4G|      Pavitra+Rishta|    [\"News\"]|[\"Drama\"]|                678|2021-06-02T00:00:...|Thu May 30 22:47:...|2024-05-30 22:47:24|         0.0|(1,[0],[1.0])|\n",
            "|thg8qusdyret754f|4154998109|     AajTak|   AajTak : Program2|   Hindi| 52|Entertainment|Jio 4G|                News|[\"Politics\"]| [\"News\"]|                837|2021-06-02T00:00:...|Fri May 31 11:15:...|2024-05-31 11:15:55|         1.0|    (1,[],[])|\n",
            "|9v9at5u9itcr1i0k|7286994583|    ZeeTVHD|  ZeeTVHD : Program1|   Hindi| 31|         News|Jio 4G|           Trinayani|[\"Politics\"]|[\"Drama\"]|                544|2021-06-02T00:00:...|Sat Jun 01 18:57:...|2024-06-01 18:57:53|         0.0|(1,[0],[1.0])|\n",
            "|xqumjemadhh5cckq|2872167342|  ZeeTelugu|ZeeTelugu : Program3|Assamese| 32|         News|Jio 4G|Mithai+Kottu+Chit...|   [\"Drama\"]| [\"News\"]|                480|2021-06-02T00:00:...|Wed Jun 05 06:09:...|2024-06-05 06:09:41|         1.0|    (1,[],[])|\n",
            "|f7mwj1r2qxso8kt1|4523108202|  ZeeTelugu|ZeeTelugu : Program2|   Hindi|  3|Entertainment|Jio 4G|   Afternoon+Express|   [\"Drama\"]|[\"Drama\"]|                970|2021-06-02T00:00:...|Thu May 30 05:05:...|2024-05-30 05:05:43|         0.0|(1,[0],[1.0])|\n",
            "|qqwh1e8a89mrxkov|4368321043| ZeeKannada|ZeeKannada : Prog...|Assamese|100|Entertainment|Jio 4G|                News|    [\"News\"]|[\"Drama\"]|                625|2021-06-02T00:00:...|Fri May 31 07:32:...|2024-05-31 07:32:51|         0.0|(1,[0],[1.0])|\n",
            "|bnr691hj223t7uoy|1904538675| ZeeKannada|ZeeKannada : Prog...| Kannada| 95|         News|Jio 4G|                News|[\"Politics\"]|[\"Drama\"]|                527|2021-06-02T00:00:...|Tue Jun 04 19:52:...|2024-06-04 19:52:32|         0.0|(1,[0],[1.0])|\n",
            "|fyfyzpwytmnafjo1|3503787101|   ZeeAnmol| ZeeAnmol : Program1| Kannada| 13|         News|Jio 4G|           Trinayani|[\"Politics\"]| [\"News\"]|                639|2021-06-02T00:00:...|Mon Jun 03 21:22:...|2024-06-03 21:22:13|         1.0|    (1,[],[])|\n",
            "|czpgtqyr3ei1xlp3|5158778211|News18Assam|News18Assam : Pro...|  Telugu| 25|         News|Jio 4G|Mithai+Kottu+Chit...|   [\"Drama\"]|[\"Drama\"]|                565|2021-06-02T00:00:...|Sat Jun 01 22:40:...|2024-06-01 22:40:28|         0.0|(1,[0],[1.0])|\n",
            "|0msin17x05sp2bkz|1359518931|   ZeeAnmol| ZeeAnmol : Program3|   Hindi| 38|         News|Jio 4G|        Punar+Vivaah|   [\"Drama\"]| [\"News\"]|                798|2021-06-02T00:00:...|Fri May 31 07:31:...|2024-05-31 07:31:04|         1.0|    (1,[],[])|\n",
            "|0yvy3rorb3tgfpzg|2903364574|    ZeeTVHD|  ZeeTVHD : Program1| Kannada|  2|         News|Jio 4G|   Afternoon+Express|    [\"News\"]|[\"Drama\"]|                908|2021-06-02T00:00:...|Sat Jun 01 03:46:...|2024-06-01 03:46:24|         0.0|(1,[0],[1.0])|\n",
            "|57inft07kcr63j68|1498677070|    ZeeTVHD|  ZeeTVHD : Program1|   Hindi| 60|Entertainment|Jio 4G|           Trinayani|[\"Politics\"]|[\"Drama\"]|                810|2021-06-02T00:00:...|Mon Jun 03 06:59:...|2024-06-03 06:59:23|         0.0|(1,[0],[1.0])|\n",
            "|t55qmcjhfoj2f147|3762874168| ZeeKannada|ZeeKannada : Prog...|  Telugu| 50|         News|Jio 4G|                News|[\"Politics\"]| [\"News\"]|                800|2021-06-02T00:00:...|Wed Jun 05 19:43:...|2024-06-05 19:43:00|         1.0|    (1,[],[])|\n",
            "|kxftsd95aze0phyx|4717051038|News18Assam|News18Assam : Pro...|  Telugu| 36|         News|Jio 4G|        Punar+Vivaah|   [\"Drama\"]|[\"Drama\"]|                749|2021-06-02T00:00:...|Sat Jun 01 22:47:...|2024-06-01 22:47:41|         0.0|(1,[0],[1.0])|\n",
            "|5yieqg1146u11m9q|1279119948|    ZeeTVHD|  ZeeTVHD : Program3|   Hindi| 62|         News|Jio 4G|                News|[\"Politics\"]|[\"Drama\"]|                571|2021-06-02T00:00:...|Tue Jun 04 21:06:...|2024-06-04 21:06:44|         0.0|(1,[0],[1.0])|\n",
            "|4lvuglr1eelrkkzd|2356036703|     AajTak|   AajTak : Program3|  Telugu| 45|         News|Jio 4G|Mithai+Kottu+Chit...|[\"Politics\"]|[\"Drama\"]|                558|2021-06-02T00:00:...|Thu May 30 07:58:...|2024-05-30 07:58:01|         0.0|(1,[0],[1.0])|\n",
            "+----------------+----------+-----------+--------------------+--------+---+-------------+------+--------------------+------------+---------+-------------------+--------------------+--------------------+-------------------+------------+-------------+\n",
            "only showing top 20 rows\n",
            "\n"
          ]
        }
      ],
      "source": [
        "import pyspark.sql.functions as F\n",
        "from pyspark.sql import SparkSession\n",
        "high_logno_users = df_features.filter(df_features[\"watch_time_portrait\"] > 400)\n",
        "high_logno_users.show()"
      ]
    },
    {
      "cell_type": "code",
      "execution_count": null,
      "metadata": {
        "colab": {
          "base_uri": "https://localhost:8080/"
        },
        "id": "rNjNjp10fjOe",
        "outputId": "5c29cd27-b866-4b99-e3b4-1f0d15c52234"
      },
      "outputs": [
        {
          "output_type": "stream",
          "name": "stdout",
          "text": [
            "+--------------------+----------+-----------+--------------------+--------+---+-------------+------+--------------------+------------+---------+-------------------+--------------------+--------------------+-------------------+------------+-------------+\n",
            "|                 uid|     crmid|         ch|                   n|      cl| ep|           cg|   opr|                  pn|    keywords|   genres|watch_time_portrait|        program_date|           timestamp|          dateflink|genres_index|   genres_vec|\n",
            "+--------------------+----------+-----------+--------------------+--------+---+-------------+------+--------------------+------------+---------+-------------------+--------------------+--------------------+-------------------+------------+-------------+\n",
            "|00llfqkde3hfiweh_...|5280814033| ZeeKannada|ZeeKannada : Prog...| Kannada| 76|         News|Jio 4G|      Pavitra+Rishta|    [\"News\"]| [\"News\"]|                732|2021-06-02T00:00:...|Mon Jun 03 10:34:...|2024-06-03 10:34:05|         1.0|    (1,[],[])|\n",
            "|q9mz1q83scpuuuvf_...|8344862428|    ZeeTVHD|  ZeeTVHD : Program1| Kannada| 90|         News|Jio 4G|Mithai+Kottu+Chit...|   [\"Drama\"]|[\"Drama\"]|                802|2021-06-02T00:00:...|Tue Jun 04 16:47:...|2024-06-04 16:47:22|         0.0|(1,[0],[1.0])|\n",
            "|lc98xucko80l7z8t_...|8756205690|   ZeeAnmol| ZeeAnmol : Program1|Assamese| 35|         News|Jio 4G|   Afternoon+Express|    [\"News\"]|[\"Drama\"]|                304|2021-06-02T00:00:...|Fri May 31 19:03:...|2024-05-31 19:03:27|         0.0|(1,[0],[1.0])|\n",
            "|a7jcoulv2gvvj3vu_...|4836944596|  ZeeTelugu|ZeeTelugu : Program1|Assamese| 80|         News|Jio 4G|        Punar+Vivaah|    [\"News\"]| [\"News\"]|                821|2021-06-02T00:00:...|Thu May 30 13:48:...|2024-05-30 13:48:40|         1.0|    (1,[],[])|\n",
            "|xdmeawznl6f61q8n_...|7412863037|   ZeeAnmol| ZeeAnmol : Program2|   Hindi| 76|         News|Jio 4G|Mithai+Kottu+Chit...|    [\"News\"]|[\"Drama\"]|                767|2021-06-02T00:00:...|Tue Jun 04 13:34:...|2024-06-04 13:34:48|         0.0|(1,[0],[1.0])|\n",
            "|gahhs6z9omzwjd2q_...|6397330561| ZeeKannada|ZeeKannada : Prog...|  Telugu| 84|         News|Jio 4G|Mithai+Kottu+Chit...|[\"Politics\"]| [\"News\"]|                 99|2021-06-02T00:00:...|Fri May 31 14:59:...|2024-05-31 14:59:57|         1.0|    (1,[],[])|\n",
            "|al3xhyechbsjnnfk_...|6815437274| ZeeKannada|ZeeKannada : Prog...| Kannada| 25|Entertainment|Jio 4G|        Punar+Vivaah|[\"Politics\"]| [\"News\"]|                179|2021-06-02T00:00:...|Thu May 30 08:52:...|2024-05-30 08:52:11|         1.0|    (1,[],[])|\n",
            "|qnkclm839qgcfl67_...|5707084375|    ZeeTVHD|  ZeeTVHD : Program1|Assamese| 18|Entertainment|Jio 4G|           Trinayani|[\"Politics\"]| [\"News\"]|                147|2021-06-02T00:00:...|Wed Jun 05 00:44:...|2024-06-05 00:44:56|         1.0|    (1,[],[])|\n",
            "|11gz136ylk30jw7s_...|7926247692|    ZeeTVHD|  ZeeTVHD : Program3|   Hindi| 98|         News|Jio 4G|      Pavitra+Rishta|    [\"News\"]|[\"Drama\"]|                678|2021-06-02T00:00:...|Thu May 30 22:47:...|2024-05-30 22:47:24|         0.0|(1,[0],[1.0])|\n",
            "|thg8qusdyret754f_...|4154998109|     AajTak|   AajTak : Program2|   Hindi| 52|Entertainment|Jio 4G|                News|[\"Politics\"]| [\"News\"]|                837|2021-06-02T00:00:...|Fri May 31 11:15:...|2024-05-31 11:15:55|         1.0|    (1,[],[])|\n",
            "|bi5z2vp70mbsozau_...|9497383869|News18Assam|News18Assam : Pro...|   Hindi| 99|         News|Jio 4G|   Afternoon+Express|    [\"News\"]|[\"Drama\"]|                 88|2021-06-02T00:00:...|Sun Jun 02 09:50:...|2024-06-02 09:50:52|         0.0|(1,[0],[1.0])|\n",
            "|j0xjlgtnku1tn493_...|7362514332|     AajTak|   AajTak : Program3|Assamese| 77|Entertainment|Jio 4G|   Afternoon+Express|   [\"Drama\"]| [\"News\"]|                 37|2021-06-02T00:00:...|Sun Jun 02 23:49:...|2024-06-02 23:49:15|         1.0|    (1,[],[])|\n",
            "|bfu7w9bj2dfub6n9_...|2384690764| ZeeKannada|ZeeKannada : Prog...| Kannada| 14|         News|Jio 4G|           Trinayani|[\"Politics\"]|[\"Drama\"]|                 20|2021-06-02T00:00:...|Thu May 30 05:24:...|2024-05-30 05:24:39|         0.0|(1,[0],[1.0])|\n",
            "|gqmkphlbnx13h4o1_...|3191315730|News18Assam|News18Assam : Pro...|  Telugu| 96|Entertainment|Jio 4G|Mithai+Kottu+Chit...|[\"Politics\"]| [\"News\"]|                 40|2021-06-02T00:00:...|Wed Jun 05 10:14:...|2024-06-05 10:14:27|         1.0|    (1,[],[])|\n",
            "|9v9at5u9itcr1i0k_...|7286994583|    ZeeTVHD|  ZeeTVHD : Program1|   Hindi| 31|         News|Jio 4G|           Trinayani|[\"Politics\"]|[\"Drama\"]|                544|2021-06-02T00:00:...|Sat Jun 01 18:57:...|2024-06-01 18:57:53|         0.0|(1,[0],[1.0])|\n",
            "|xqumjemadhh5cckq_...|2872167342|  ZeeTelugu|ZeeTelugu : Program3|Assamese| 32|         News|Jio 4G|Mithai+Kottu+Chit...|   [\"Drama\"]| [\"News\"]|                480|2021-06-02T00:00:...|Wed Jun 05 06:09:...|2024-06-05 06:09:41|         1.0|    (1,[],[])|\n",
            "|f7mwj1r2qxso8kt1_...|4523108202|  ZeeTelugu|ZeeTelugu : Program2|   Hindi|  3|Entertainment|Jio 4G|   Afternoon+Express|   [\"Drama\"]|[\"Drama\"]|                970|2021-06-02T00:00:...|Thu May 30 05:05:...|2024-05-30 05:05:43|         0.0|(1,[0],[1.0])|\n",
            "|qqwh1e8a89mrxkov_...|4368321043| ZeeKannada|ZeeKannada : Prog...|Assamese|100|Entertainment|Jio 4G|                News|    [\"News\"]|[\"Drama\"]|                625|2021-06-02T00:00:...|Fri May 31 07:32:...|2024-05-31 07:32:51|         0.0|(1,[0],[1.0])|\n",
            "|bnr691hj223t7uoy_...|1904538675| ZeeKannada|ZeeKannada : Prog...| Kannada| 95|         News|Jio 4G|                News|[\"Politics\"]|[\"Drama\"]|                527|2021-06-02T00:00:...|Tue Jun 04 19:52:...|2024-06-04 19:52:32|         0.0|(1,[0],[1.0])|\n",
            "|oynmyuvitaur7y0c_...|7431393489|  ZeeTelugu|ZeeTelugu : Program2| Kannada| 64|Entertainment|Jio 4G|      Pavitra+Rishta|    [\"News\"]|[\"Drama\"]|                 39|2021-06-02T00:00:...|Tue Jun 04 03:29:...|2024-06-04 03:29:37|         0.0|(1,[0],[1.0])|\n",
            "+--------------------+----------+-----------+--------------------+--------+---+-------------+------+--------------------+------------+---------+-------------------+--------------------+--------------------+-------------------+------------+-------------+\n",
            "only showing top 20 rows\n",
            "\n"
          ]
        }
      ],
      "source": [
        "from pyspark.sql.functions import concat, col, lit\n",
        "\n",
        "formatted_df = df_features.withColumn(\"uid\", concat(col(\"uid\"), lit(\"_suffix\")))\n",
        "\n",
        "formatted_df.show()\n",
        "\n"
      ]
    },
    {
      "cell_type": "code",
      "execution_count": null,
      "metadata": {
        "colab": {
          "base_uri": "https://localhost:8080/"
        },
        "id": "p5n6_dEIzR_C",
        "outputId": "efe2894c-134a-4e9c-94f9-1d99bb5d32e8"
      },
      "outputs": [
        {
          "output_type": "stream",
          "name": "stdout",
          "text": [
            "<pyspark.sql.session.SparkSession object at 0x7cc688366e00>\n"
          ]
        }
      ],
      "source": [
        "from pyspark.sql import SparkSession\n",
        "\n",
        "spark = SparkSession.builder \\\n",
        "    .appName(\"Spark SQL Example\") \\\n",
        "    .getOrCreate()\n",
        "\n",
        "print(spark)\n",
        "\n",
        "\n"
      ]
    },
    {
      "cell_type": "code",
      "execution_count": null,
      "metadata": {
        "id": "k0ItXpuod571"
      },
      "outputs": [],
      "source": [
        "df_features.createOrReplaceTempView(\"user_profiles\")\n"
      ]
    },
    {
      "cell_type": "code",
      "execution_count": null,
      "metadata": {
        "colab": {
          "base_uri": "https://localhost:8080/"
        },
        "id": "DX_TI3hChrdR",
        "outputId": "236b8261-c9df-45a3-e361-71ecf836c31b"
      },
      "outputs": [
        {
          "output_type": "stream",
          "name": "stdout",
          "text": [
            "root\n",
            " |-- uid: string (nullable = true)\n",
            " |-- crmid: string (nullable = true)\n",
            " |-- ch: string (nullable = true)\n",
            " |-- n: string (nullable = true)\n",
            " |-- cl: string (nullable = true)\n",
            " |-- ep: string (nullable = true)\n",
            " |-- cg: string (nullable = true)\n",
            " |-- opr: string (nullable = true)\n",
            " |-- pn: string (nullable = true)\n",
            " |-- keywords: string (nullable = true)\n",
            " |-- genres: string (nullable = false)\n",
            " |-- watch_time_portrait: string (nullable = true)\n",
            " |-- program_date: string (nullable = true)\n",
            " |-- timestamp: string (nullable = true)\n",
            " |-- dateflink: string (nullable = true)\n",
            " |-- genres_index: double (nullable = false)\n",
            " |-- genres_vec: vector (nullable = true)\n",
            "\n",
            "+----------------+----------+-----------+--------------------+--------+---+-------------+------+--------------------+------------+---------+-------------------+--------------------+--------------------+-------------------+------------+-------------+\n",
            "|             uid|     crmid|         ch|                   n|      cl| ep|           cg|   opr|                  pn|    keywords|   genres|watch_time_portrait|        program_date|           timestamp|          dateflink|genres_index|   genres_vec|\n",
            "+----------------+----------+-----------+--------------------+--------+---+-------------+------+--------------------+------------+---------+-------------------+--------------------+--------------------+-------------------+------------+-------------+\n",
            "|00llfqkde3hfiweh|5280814033| ZeeKannada|ZeeKannada : Prog...| Kannada| 76|         News|Jio 4G|      Pavitra+Rishta|    [\"News\"]| [\"News\"]|                732|2021-06-02T00:00:...|Mon Jun 03 10:34:...|2024-06-03 10:34:05|         1.0|    (1,[],[])|\n",
            "|q9mz1q83scpuuuvf|8344862428|    ZeeTVHD|  ZeeTVHD : Program1| Kannada| 90|         News|Jio 4G|Mithai+Kottu+Chit...|   [\"Drama\"]|[\"Drama\"]|                802|2021-06-02T00:00:...|Tue Jun 04 16:47:...|2024-06-04 16:47:22|         0.0|(1,[0],[1.0])|\n",
            "|lc98xucko80l7z8t|8756205690|   ZeeAnmol| ZeeAnmol : Program1|Assamese| 35|         News|Jio 4G|   Afternoon+Express|    [\"News\"]|[\"Drama\"]|                304|2021-06-02T00:00:...|Fri May 31 19:03:...|2024-05-31 19:03:27|         0.0|(1,[0],[1.0])|\n",
            "|a7jcoulv2gvvj3vu|4836944596|  ZeeTelugu|ZeeTelugu : Program1|Assamese| 80|         News|Jio 4G|        Punar+Vivaah|    [\"News\"]| [\"News\"]|                821|2021-06-02T00:00:...|Thu May 30 13:48:...|2024-05-30 13:48:40|         1.0|    (1,[],[])|\n",
            "|xdmeawznl6f61q8n|7412863037|   ZeeAnmol| ZeeAnmol : Program2|   Hindi| 76|         News|Jio 4G|Mithai+Kottu+Chit...|    [\"News\"]|[\"Drama\"]|                767|2021-06-02T00:00:...|Tue Jun 04 13:34:...|2024-06-04 13:34:48|         0.0|(1,[0],[1.0])|\n",
            "|gahhs6z9omzwjd2q|6397330561| ZeeKannada|ZeeKannada : Prog...|  Telugu| 84|         News|Jio 4G|Mithai+Kottu+Chit...|[\"Politics\"]| [\"News\"]|                 99|2021-06-02T00:00:...|Fri May 31 14:59:...|2024-05-31 14:59:57|         1.0|    (1,[],[])|\n",
            "|al3xhyechbsjnnfk|6815437274| ZeeKannada|ZeeKannada : Prog...| Kannada| 25|Entertainment|Jio 4G|        Punar+Vivaah|[\"Politics\"]| [\"News\"]|                179|2021-06-02T00:00:...|Thu May 30 08:52:...|2024-05-30 08:52:11|         1.0|    (1,[],[])|\n",
            "|qnkclm839qgcfl67|5707084375|    ZeeTVHD|  ZeeTVHD : Program1|Assamese| 18|Entertainment|Jio 4G|           Trinayani|[\"Politics\"]| [\"News\"]|                147|2021-06-02T00:00:...|Wed Jun 05 00:44:...|2024-06-05 00:44:56|         1.0|    (1,[],[])|\n",
            "|11gz136ylk30jw7s|7926247692|    ZeeTVHD|  ZeeTVHD : Program3|   Hindi| 98|         News|Jio 4G|      Pavitra+Rishta|    [\"News\"]|[\"Drama\"]|                678|2021-06-02T00:00:...|Thu May 30 22:47:...|2024-05-30 22:47:24|         0.0|(1,[0],[1.0])|\n",
            "|thg8qusdyret754f|4154998109|     AajTak|   AajTak : Program2|   Hindi| 52|Entertainment|Jio 4G|                News|[\"Politics\"]| [\"News\"]|                837|2021-06-02T00:00:...|Fri May 31 11:15:...|2024-05-31 11:15:55|         1.0|    (1,[],[])|\n",
            "|bi5z2vp70mbsozau|9497383869|News18Assam|News18Assam : Pro...|   Hindi| 99|         News|Jio 4G|   Afternoon+Express|    [\"News\"]|[\"Drama\"]|                 88|2021-06-02T00:00:...|Sun Jun 02 09:50:...|2024-06-02 09:50:52|         0.0|(1,[0],[1.0])|\n",
            "|j0xjlgtnku1tn493|7362514332|     AajTak|   AajTak : Program3|Assamese| 77|Entertainment|Jio 4G|   Afternoon+Express|   [\"Drama\"]| [\"News\"]|                 37|2021-06-02T00:00:...|Sun Jun 02 23:49:...|2024-06-02 23:49:15|         1.0|    (1,[],[])|\n",
            "|bfu7w9bj2dfub6n9|2384690764| ZeeKannada|ZeeKannada : Prog...| Kannada| 14|         News|Jio 4G|           Trinayani|[\"Politics\"]|[\"Drama\"]|                 20|2021-06-02T00:00:...|Thu May 30 05:24:...|2024-05-30 05:24:39|         0.0|(1,[0],[1.0])|\n",
            "|gqmkphlbnx13h4o1|3191315730|News18Assam|News18Assam : Pro...|  Telugu| 96|Entertainment|Jio 4G|Mithai+Kottu+Chit...|[\"Politics\"]| [\"News\"]|                 40|2021-06-02T00:00:...|Wed Jun 05 10:14:...|2024-06-05 10:14:27|         1.0|    (1,[],[])|\n",
            "|9v9at5u9itcr1i0k|7286994583|    ZeeTVHD|  ZeeTVHD : Program1|   Hindi| 31|         News|Jio 4G|           Trinayani|[\"Politics\"]|[\"Drama\"]|                544|2021-06-02T00:00:...|Sat Jun 01 18:57:...|2024-06-01 18:57:53|         0.0|(1,[0],[1.0])|\n",
            "|xqumjemadhh5cckq|2872167342|  ZeeTelugu|ZeeTelugu : Program3|Assamese| 32|         News|Jio 4G|Mithai+Kottu+Chit...|   [\"Drama\"]| [\"News\"]|                480|2021-06-02T00:00:...|Wed Jun 05 06:09:...|2024-06-05 06:09:41|         1.0|    (1,[],[])|\n",
            "|f7mwj1r2qxso8kt1|4523108202|  ZeeTelugu|ZeeTelugu : Program2|   Hindi|  3|Entertainment|Jio 4G|   Afternoon+Express|   [\"Drama\"]|[\"Drama\"]|                970|2021-06-02T00:00:...|Thu May 30 05:05:...|2024-05-30 05:05:43|         0.0|(1,[0],[1.0])|\n",
            "|qqwh1e8a89mrxkov|4368321043| ZeeKannada|ZeeKannada : Prog...|Assamese|100|Entertainment|Jio 4G|                News|    [\"News\"]|[\"Drama\"]|                625|2021-06-02T00:00:...|Fri May 31 07:32:...|2024-05-31 07:32:51|         0.0|(1,[0],[1.0])|\n",
            "|bnr691hj223t7uoy|1904538675| ZeeKannada|ZeeKannada : Prog...| Kannada| 95|         News|Jio 4G|                News|[\"Politics\"]|[\"Drama\"]|                527|2021-06-02T00:00:...|Tue Jun 04 19:52:...|2024-06-04 19:52:32|         0.0|(1,[0],[1.0])|\n",
            "|oynmyuvitaur7y0c|7431393489|  ZeeTelugu|ZeeTelugu : Program2| Kannada| 64|Entertainment|Jio 4G|      Pavitra+Rishta|    [\"News\"]|[\"Drama\"]|                 39|2021-06-02T00:00:...|Tue Jun 04 03:29:...|2024-06-04 03:29:37|         0.0|(1,[0],[1.0])|\n",
            "+----------------+----------+-----------+--------------------+--------+---+-------------+------+--------------------+------------+---------+-------------------+--------------------+--------------------+-------------------+------------+-------------+\n",
            "only showing top 20 rows\n",
            "\n"
          ]
        }
      ],
      "source": [
        "df_features.printSchema()\n",
        "df_features.show()"
      ]
    },
    {
      "cell_type": "code",
      "execution_count": null,
      "metadata": {
        "colab": {
          "base_uri": "https://localhost:8080/"
        },
        "id": "TtLZUE8Ais7d",
        "outputId": "e343bd4f-adce-4be4-be8e-957d68619142"
      },
      "outputs": [
        {
          "output_type": "stream",
          "name": "stdout",
          "text": [
            "+----------+-------------------+\n",
            "|     crmid|watch_time_portrait|\n",
            "+----------+-------------------+\n",
            "|5280814033|                732|\n",
            "|8344862428|                802|\n",
            "|8756205690|                304|\n",
            "|4836944596|                821|\n",
            "|7412863037|                767|\n",
            "+----------+-------------------+\n",
            "only showing top 5 rows\n",
            "\n"
          ]
        }
      ],
      "source": [
        "\n",
        "df_features.select(\"crmid\", \"watch_time_portrait\").show(5)"
      ]
    },
    {
      "cell_type": "markdown",
      "metadata": {
        "id": "i_tNy7I6jwJL"
      },
      "source": [
        "# Performing the sql queries using DataFrame API"
      ]
    },
    {
      "cell_type": "code",
      "execution_count": null,
      "metadata": {
        "colab": {
          "base_uri": "https://localhost:8080/"
        },
        "id": "-y0AUvlRjByR",
        "outputId": "f34ee89f-bcfb-4598-be46-f70c993949b0"
      },
      "outputs": [
        {
          "output_type": "stream",
          "name": "stdout",
          "text": [
            "+----------+-------------------+\n",
            "|     crmid|watch_time_portrait|\n",
            "+----------+-------------------+\n",
            "|5280814033|                732|\n",
            "|8344862428|                802|\n",
            "|8756205690|                304|\n",
            "|4836944596|                821|\n",
            "|7412863037|                767|\n",
            "+----------+-------------------+\n",
            "only showing top 5 rows\n",
            "\n"
          ]
        }
      ],
      "source": [
        "from pyspark.sql import SQLContext\n",
        "\n",
        "from pyspark.sql import SparkSession\n",
        "\n",
        "\n",
        "spark = SparkSession.builder \\\n",
        "    .appName(\"SQL on JSON Data\") \\\n",
        "    .getOrCreate()\n",
        "\n",
        "\n",
        "df_features.select(\"crmid\", \"watch_time_portrait\").show(5)\n",
        "\n",
        "df_features.createOrReplaceTempView(\"user_profiles\")\n",
        "\n",
        "\n",
        "top_users = df_features.select(\"crmid\", \"watch_time_portrait\") \\\n",
        "    .orderBy(df_features[\"watch_time_portrait\"].desc()) \\\n",
        "    .limit(10)\n"
      ]
    },
    {
      "cell_type": "markdown",
      "metadata": {
        "id": "uG_KNUAxmHh-"
      },
      "source": [
        "Users with crmid starting with 'ABC'"
      ]
    },
    {
      "cell_type": "code",
      "execution_count": null,
      "metadata": {
        "colab": {
          "base_uri": "https://localhost:8080/"
        },
        "id": "RNq5yZsdhO5j",
        "outputId": "f0666d30-d17f-45fa-d0a3-36aafcb8b866"
      },
      "outputs": [
        {
          "output_type": "stream",
          "name": "stdout",
          "text": [
            "+---+-----+---+---+---+---+---+---+---+--------+------+-------------------+------------+---------+---------+------------+----------+\n",
            "|uid|crmid| ch|  n| cl| ep| cg|opr| pn|keywords|genres|watch_time_portrait|program_date|timestamp|dateflink|genres_index|genres_vec|\n",
            "+---+-----+---+---+---+---+---+---+---+--------+------+-------------------+------------+---------+---------+------------+----------+\n",
            "+---+-----+---+---+---+---+---+---+---+--------+------+-------------------+------------+---------+---------+------------+----------+\n",
            "\n"
          ]
        }
      ],
      "source": [
        "specific_users = df_features.filter(df_features.crmid.like('ABC%'))\n",
        "specific_users.show()"
      ]
    },
    {
      "cell_type": "markdown",
      "metadata": {
        "id": "CmGuOyOJmM2u"
      },
      "source": [
        "Users with watch_time_portrait within a specific range"
      ]
    },
    {
      "cell_type": "code",
      "execution_count": null,
      "metadata": {
        "colab": {
          "base_uri": "https://localhost:8080/"
        },
        "id": "fhqEVDM7hS4p",
        "outputId": "435ffbd4-427b-4628-b9e4-e2dbf6351983"
      },
      "outputs": [
        {
          "output_type": "stream",
          "name": "stdout",
          "text": [
            "+----------------+----------+-----------+--------------------+--------+---+-------------+------+--------------------+------------+---------+-------------------+--------------------+--------------------+-------------------+------------+-------------+\n",
            "|             uid|     crmid|         ch|                   n|      cl| ep|           cg|   opr|                  pn|    keywords|   genres|watch_time_portrait|        program_date|           timestamp|          dateflink|genres_index|   genres_vec|\n",
            "+----------------+----------+-----------+--------------------+--------+---+-------------+------+--------------------+------------+---------+-------------------+--------------------+--------------------+-------------------+------------+-------------+\n",
            "|lc98xucko80l7z8t|8756205690|   ZeeAnmol| ZeeAnmol : Program1|Assamese| 35|         News|Jio 4G|   Afternoon+Express|    [\"News\"]|[\"Drama\"]|                304|2021-06-02T00:00:...|Fri May 31 19:03:...|2024-05-31 19:03:27|         0.0|(1,[0],[1.0])|\n",
            "|al3xhyechbsjnnfk|6815437274| ZeeKannada|ZeeKannada : Prog...| Kannada| 25|Entertainment|Jio 4G|        Punar+Vivaah|[\"Politics\"]| [\"News\"]|                179|2021-06-02T00:00:...|Thu May 30 08:52:...|2024-05-30 08:52:11|         1.0|    (1,[],[])|\n",
            "|qnkclm839qgcfl67|5707084375|    ZeeTVHD|  ZeeTVHD : Program1|Assamese| 18|Entertainment|Jio 4G|           Trinayani|[\"Politics\"]| [\"News\"]|                147|2021-06-02T00:00:...|Wed Jun 05 00:44:...|2024-06-05 00:44:56|         1.0|    (1,[],[])|\n",
            "|xqumjemadhh5cckq|2872167342|  ZeeTelugu|ZeeTelugu : Program3|Assamese| 32|         News|Jio 4G|Mithai+Kottu+Chit...|   [\"Drama\"]| [\"News\"]|                480|2021-06-02T00:00:...|Wed Jun 05 06:09:...|2024-06-05 06:09:41|         1.0|    (1,[],[])|\n",
            "|kerrhim3wux90ho2|8363471057|   ZeeAnmol| ZeeAnmol : Program2|  Telugu| 44|         News|Jio 4G|      Pavitra+Rishta|   [\"Drama\"]| [\"News\"]|                284|2021-06-02T00:00:...|Thu May 30 04:17:...|2024-05-30 04:17:50|         1.0|    (1,[],[])|\n",
            "|nj1sp7lrxs1wfig6|5568487212|    ZeeTVHD|  ZeeTVHD : Program3|Assamese| 94|Entertainment|Jio 4G|      Pavitra+Rishta|[\"Politics\"]|[\"Drama\"]|                166|2021-06-02T00:00:...|Tue Jun 04 23:36:...|2024-06-04 23:36:17|         0.0|(1,[0],[1.0])|\n",
            "|rnpt4qjzcx5o0gdw|4012737199| ZeeKannada|ZeeKannada : Prog...| Kannada| 24|         News|Jio 4G|      Pavitra+Rishta|   [\"Drama\"]| [\"News\"]|                237|2021-06-02T00:00:...|Wed Jun 05 01:45:...|2024-06-05 01:45:52|         1.0|    (1,[],[])|\n",
            "|j0yigue4xm42hekn|1566423795|   ZeeAnmol| ZeeAnmol : Program2|   Hindi|  8|         News|Jio 4G|                News|   [\"Drama\"]|[\"Drama\"]|                398|2021-06-02T00:00:...|Wed Jun 05 14:21:...|2024-06-05 14:21:23|         0.0|(1,[0],[1.0])|\n",
            "|wl9sqd6ehta8824x|9724041886|News18Assam|News18Assam : Pro...|  Telugu| 51|Entertainment|Jio 4G|        Punar+Vivaah|    [\"News\"]| [\"News\"]|                253|2021-06-02T00:00:...|Sun Jun 02 09:57:...|2024-06-02 09:57:24|         1.0|    (1,[],[])|\n",
            "|5977kecgp0spfo1k|2568029736|    ZeeTVHD|  ZeeTVHD : Program1| Kannada| 32|Entertainment|Jio 4G|      Pavitra+Rishta|    [\"News\"]|[\"Drama\"]|                282|2021-06-02T00:00:...|Mon Jun 03 12:45:...|2024-06-03 12:45:00|         0.0|(1,[0],[1.0])|\n",
            "|a95134xzkhzviljc|7190651836|   ZeeAnmol| ZeeAnmol : Program1|Assamese| 96|Entertainment|Jio 4G|                News|    [\"News\"]| [\"News\"]|                340|2021-06-02T00:00:...|Fri May 31 03:09:...|2024-05-31 03:09:03|         1.0|    (1,[],[])|\n",
            "|cn7xp9d45gtqsclq|3888657681|     AajTak|   AajTak : Program1|   Hindi| 29|         News|Jio 4G|                News|   [\"Drama\"]|[\"Drama\"]|                333|2021-06-02T00:00:...|Wed Jun 05 13:10:...|2024-06-05 13:10:06|         0.0|(1,[0],[1.0])|\n",
            "|jxurwa13frevwi2l|6068769886|     AajTak|   AajTak : Program3| Kannada| 41|Entertainment|Jio 4G|   Afternoon+Express|    [\"News\"]| [\"News\"]|                379|2021-06-02T00:00:...|Thu May 30 02:33:...|2024-05-30 02:33:19|         1.0|    (1,[],[])|\n",
            "|clani07wlx5j5729|7866336313|News18Assam|News18Assam : Pro...|   Hindi| 91|         News|Jio 4G|        Punar+Vivaah|[\"Politics\"]|[\"Drama\"]|                358|2021-06-02T00:00:...|Wed Jun 05 13:49:...|2024-06-05 13:49:28|         0.0|(1,[0],[1.0])|\n",
            "|bbk4ul9vi29e0amn|1247844211| ZeeKannada|ZeeKannada : Prog...| Kannada|  5|Entertainment|Jio 4G|Mithai+Kottu+Chit...|    [\"News\"]| [\"News\"]|                176|2021-06-02T00:00:...|Mon Jun 03 19:51:...|2024-06-03 19:51:42|         1.0|    (1,[],[])|\n",
            "|f80zr4ebkl3szc49|8810902246|     AajTak|   AajTak : Program1|Assamese| 68|Entertainment|Jio 4G|        Punar+Vivaah|[\"Politics\"]| [\"News\"]|                427|2021-06-02T00:00:...|Sat Jun 01 23:21:...|2024-06-01 23:21:49|         1.0|    (1,[],[])|\n",
            "|k9kqqfnk8oei62pf|2240346658|  ZeeTelugu|ZeeTelugu : Program1|Assamese| 89|         News|Jio 4G|        Punar+Vivaah|[\"Politics\"]|[\"Drama\"]|                112|2021-06-02T00:00:...|Thu May 30 08:03:...|2024-05-30 08:03:29|         0.0|(1,[0],[1.0])|\n",
            "|rmypq2ph7flxybpu|6492748313|     AajTak|   AajTak : Program1| Kannada| 75|         News|Jio 4G|      Pavitra+Rishta|    [\"News\"]|[\"Drama\"]|                147|2021-06-02T00:00:...|Wed Jun 05 02:08:...|2024-06-05 02:08:04|         0.0|(1,[0],[1.0])|\n",
            "|6szf54fk6yrbp949|2521513394|  ZeeTelugu|ZeeTelugu : Program3|  Telugu|  3|Entertainment|Jio 4G|      Pavitra+Rishta|   [\"Drama\"]|[\"Drama\"]|                236|2021-06-02T00:00:...|Sun Jun 02 14:39:...|2024-06-02 14:39:50|         0.0|(1,[0],[1.0])|\n",
            "|a00yyx4nvk9mzs15|3488860379|     AajTak|   AajTak : Program2|Assamese| 32|         News|Jio 4G|   Afternoon+Express|   [\"Drama\"]|[\"Drama\"]|                262|2021-06-02T00:00:...|Tue Jun 04 09:59:...|2024-06-04 09:59:22|         0.0|(1,[0],[1.0])|\n",
            "+----------------+----------+-----------+--------------------+--------+---+-------------+------+--------------------+------------+---------+-------------------+--------------------+--------------------+-------------------+------------+-------------+\n",
            "only showing top 20 rows\n",
            "\n"
          ]
        }
      ],
      "source": [
        "users_in_range = df_features.filter(\n",
        "    (df_features.watch_time_portrait.between(100, 500))\n",
        ")\n",
        "users_in_range.show()"
      ]
    },
    {
      "cell_type": "code",
      "execution_count": null,
      "metadata": {
        "colab": {
          "base_uri": "https://localhost:8080/"
        },
        "id": "2RjGq-jRk--n",
        "outputId": "7a8193df-4888-41fc-eff6-21bdab0d39f5"
      },
      "outputs": [
        {
          "output_type": "stream",
          "name": "stdout",
          "text": [
            "+----------+-----+\n",
            "|     crmid|count|\n",
            "+----------+-----+\n",
            "|6252317283|    1|\n",
            "|5023330161|    1|\n",
            "|5935711814|    1|\n",
            "|2023168699|    1|\n",
            "|7349071583|    1|\n",
            "|2757546562|    1|\n",
            "|1068291271|    1|\n",
            "|3431054331|    1|\n",
            "|4175059349|    1|\n",
            "|1973358517|    1|\n",
            "|4006434982|    1|\n",
            "|5344367326|    1|\n",
            "|8485716296|    1|\n",
            "|3381503546|    1|\n",
            "|7916610618|    1|\n",
            "|8836097134|    1|\n",
            "|6351937769|    1|\n",
            "|7710013797|    1|\n",
            "|8809668146|    1|\n",
            "|2105786383|    1|\n",
            "+----------+-----+\n",
            "only showing top 20 rows\n",
            "\n"
          ]
        }
      ],
      "source": [
        "user_genre_pref = df_features.groupBy(\"crmid\").count().alias(\"view_count\")\n",
        "user_genre_pref.show()"
      ]
    },
    {
      "cell_type": "code",
      "execution_count": null,
      "metadata": {
        "id": "NiKTaKlE5veI"
      },
      "outputs": [],
      "source": [
        "from pyspark.sql.functions import split, col\n",
        "\n",
        "df_features = df_features.withColumn(\"genres_array\", split(col(\"genres\"), \",\"))\n",
        "\n"
      ]
    },
    {
      "cell_type": "code",
      "execution_count": null,
      "metadata": {
        "colab": {
          "base_uri": "https://localhost:8080/"
        },
        "id": "bbbY4a419uhv",
        "outputId": "d5ce5d2a-3da4-4718-a2cc-0c1d538dbee5"
      },
      "outputs": [
        {
          "output_type": "stream",
          "name": "stdout",
          "text": [
            "+------------+\n",
            "|genres_array|\n",
            "+------------+\n",
            "|[[\"News\"]]  |\n",
            "|[[\"Drama\"]] |\n",
            "|[[\"Drama\"]] |\n",
            "|[[\"News\"]]  |\n",
            "|[[\"Drama\"]] |\n",
            "|[[\"News\"]]  |\n",
            "|[[\"News\"]]  |\n",
            "|[[\"News\"]]  |\n",
            "|[[\"Drama\"]] |\n",
            "|[[\"News\"]]  |\n",
            "|[[\"Drama\"]] |\n",
            "|[[\"News\"]]  |\n",
            "|[[\"Drama\"]] |\n",
            "|[[\"News\"]]  |\n",
            "|[[\"Drama\"]] |\n",
            "|[[\"News\"]]  |\n",
            "|[[\"Drama\"]] |\n",
            "|[[\"Drama\"]] |\n",
            "|[[\"Drama\"]] |\n",
            "|[[\"Drama\"]] |\n",
            "+------------+\n",
            "only showing top 20 rows\n",
            "\n"
          ]
        }
      ],
      "source": [
        "df_features.select(\"genres_array\").show(truncate=False)\n"
      ]
    },
    {
      "cell_type": "code",
      "execution_count": null,
      "metadata": {
        "colab": {
          "base_uri": "https://localhost:8080/"
        },
        "id": "DlyesS6g-rQl",
        "outputId": "f93f251a-6047-48d8-8a81-7cbe73eae8b7"
      },
      "outputs": [
        {
          "output_type": "stream",
          "name": "stdout",
          "text": [
            "+---+-----+---+---+---+---+---+---+---+--------+------+-------------------+------------+---------+---------+------------+----------+------------+----------------+-----+\n",
            "|uid|crmid| ch|  n| cl| ep| cg|opr| pn|keywords|genres|watch_time_portrait|program_date|timestamp|dateflink|genres_index|genres_vec|genres_array|genres_flattened|genre|\n",
            "+---+-----+---+---+---+---+---+---+---+--------+------+-------------------+------------+---------+---------+------------+----------+------------+----------------+-----+\n",
            "+---+-----+---+---+---+---+---+---+---+--------+------+-------------------+------------+---------+---------+------------+----------+------------+----------------+-----+\n",
            "\n"
          ]
        }
      ],
      "source": [
        "from pyspark.sql.functions import explode, col, udf\n",
        "from pyspark.sql.types import ArrayType, StringType\n",
        "\n",
        "\n",
        "def flatten_genres(genres):\n",
        "    if isinstance(genres, list) and len(genres) > 0:\n",
        "        inner_genres = genres[0]\n",
        "        if isinstance(inner_genres, list):\n",
        "            return inner_genres\n",
        "    return []\n",
        "\n",
        "flatten_genres_udf = udf(flatten_genres, ArrayType(StringType()))\n",
        "\n",
        "df_flattened = df_features.withColumn(\"genres_flattened\", flatten_genres_udf(col(\"genres_array\")))\n",
        "\n",
        "df_exploded = df_flattened.withColumn(\"genre\", explode(col(\"genres_flattened\")))\n",
        "\n",
        "df_exploded.show()"
      ]
    },
    {
      "cell_type": "code",
      "execution_count": null,
      "metadata": {
        "id": "7tmxMReD-4qO"
      },
      "outputs": [],
      "source": [
        "user_viewing_df = df_exploded.select(\n",
        "    col(\"uid\").alias(\"user_id\"),\n",
        "    col(\"genre\"),\n",
        "    col(\"watch_time_portrait\").alias(\"view_time\")\n",
        ")"
      ]
    },
    {
      "cell_type": "code",
      "execution_count": null,
      "metadata": {
        "colab": {
          "base_uri": "https://localhost:8080/"
        },
        "id": "Ako2V5wp_XJb",
        "outputId": "e50738fd-74b4-4fc9-89d5-f35281833fc9"
      },
      "outputs": [
        {
          "output_type": "stream",
          "name": "stdout",
          "text": [
            "+-------+-----+---------+\n",
            "|user_id|genre|view_time|\n",
            "+-------+-----+---------+\n",
            "+-------+-----+---------+\n",
            "\n"
          ]
        }
      ],
      "source": [
        "\n",
        "user_viewing_df.show(truncate=False)"
      ]
    },
    {
      "cell_type": "code",
      "execution_count": null,
      "metadata": {
        "colab": {
          "base_uri": "https://localhost:8080/"
        },
        "id": "ElXlmOmm_Zgd",
        "outputId": "1e07e46e-b262-4267-a827-c39e91ba0aac"
      },
      "outputs": [
        {
          "output_type": "stream",
          "name": "stdout",
          "text": [
            "+------------+\n",
            "|genres_array|\n",
            "+------------+\n",
            "|[[\"News\"]]  |\n",
            "|[[\"Drama\"]] |\n",
            "|[[\"Drama\"]] |\n",
            "|[[\"News\"]]  |\n",
            "|[[\"Drama\"]] |\n",
            "|[[\"News\"]]  |\n",
            "|[[\"News\"]]  |\n",
            "|[[\"News\"]]  |\n",
            "|[[\"Drama\"]] |\n",
            "|[[\"News\"]]  |\n",
            "|[[\"Drama\"]] |\n",
            "|[[\"News\"]]  |\n",
            "|[[\"Drama\"]] |\n",
            "|[[\"News\"]]  |\n",
            "|[[\"Drama\"]] |\n",
            "|[[\"News\"]]  |\n",
            "|[[\"Drama\"]] |\n",
            "|[[\"Drama\"]] |\n",
            "|[[\"Drama\"]] |\n",
            "|[[\"Drama\"]] |\n",
            "+------------+\n",
            "only showing top 20 rows\n",
            "\n",
            "+----------------+\n",
            "|genres_flattened|\n",
            "+----------------+\n",
            "|[]              |\n",
            "|[]              |\n",
            "|[]              |\n",
            "|[]              |\n",
            "|[]              |\n",
            "|[]              |\n",
            "|[]              |\n",
            "|[]              |\n",
            "|[]              |\n",
            "|[]              |\n",
            "|[]              |\n",
            "|[]              |\n",
            "|[]              |\n",
            "|[]              |\n",
            "|[]              |\n",
            "|[]              |\n",
            "|[]              |\n",
            "|[]              |\n",
            "|[]              |\n",
            "|[]              |\n",
            "+----------------+\n",
            "only showing top 20 rows\n",
            "\n"
          ]
        }
      ],
      "source": [
        "df_features.select(\"genres_array\").show(truncate=False)\n",
        "df_flattened.select(\"genres_flattened\").show(truncate=False)\n"
      ]
    },
    {
      "cell_type": "code",
      "execution_count": null,
      "metadata": {
        "colab": {
          "base_uri": "https://localhost:8080/"
        },
        "id": "jSCEFSDy_lCY",
        "outputId": "e43dc0c9-e456-4514-8771-3238251dae83"
      },
      "outputs": [
        {
          "output_type": "stream",
          "name": "stdout",
          "text": [
            "+----------------+\n",
            "|genres_flattened|\n",
            "+----------------+\n",
            "|[\"News\"]        |\n",
            "|[\"Drama\"]       |\n",
            "|[\"Drama\"]       |\n",
            "|[\"News\"]        |\n",
            "|[\"Drama\"]       |\n",
            "|[\"News\"]        |\n",
            "|[\"News\"]        |\n",
            "|[\"News\"]        |\n",
            "|[\"Drama\"]       |\n",
            "|[\"News\"]        |\n",
            "|[\"Drama\"]       |\n",
            "|[\"News\"]        |\n",
            "|[\"Drama\"]       |\n",
            "|[\"News\"]        |\n",
            "|[\"Drama\"]       |\n",
            "|[\"News\"]        |\n",
            "|[\"Drama\"]       |\n",
            "|[\"Drama\"]       |\n",
            "|[\"Drama\"]       |\n",
            "|[\"Drama\"]       |\n",
            "+----------------+\n",
            "only showing top 20 rows\n",
            "\n"
          ]
        }
      ],
      "source": [
        "from pyspark.sql.functions import explode, col\n",
        "\n",
        "df_flattened = df_features.withColumn(\"genres_flattened\", explode(col(\"genres_array\")))\n",
        "\n",
        "df_flattened.select(\"genres_flattened\").show(truncate=False)\n"
      ]
    },
    {
      "cell_type": "markdown",
      "metadata": {
        "id": "81iu0tgwhbZO"
      },
      "source": [
        "# Convert genres_flattened to ARRAY Type"
      ]
    },
    {
      "cell_type": "code",
      "execution_count": null,
      "metadata": {
        "colab": {
          "base_uri": "https://localhost:8080/"
        },
        "id": "NSaYczBaADM8",
        "outputId": "2867df95-79aa-4706-e347-3c5ae2131ec1"
      },
      "outputs": [
        {
          "output_type": "stream",
          "name": "stdout",
          "text": [
            "+----------------+----------+-----------+--------------------+--------+---+-------------+------+--------------------+------------+---------+-------------------+--------------------+--------------------+-------------------+------------+-------------+------------+----------------+\n",
            "|             uid|     crmid|         ch|                   n|      cl| ep|           cg|   opr|                  pn|    keywords|   genres|watch_time_portrait|        program_date|           timestamp|          dateflink|genres_index|   genres_vec|genres_array|genres_flattened|\n",
            "+----------------+----------+-----------+--------------------+--------+---+-------------+------+--------------------+------------+---------+-------------------+--------------------+--------------------+-------------------+------------+-------------+------------+----------------+\n",
            "|00llfqkde3hfiweh|5280814033| ZeeKannada|ZeeKannada : Prog...| Kannada| 76|         News|Jio 4G|      Pavitra+Rishta|    [\"News\"]| [\"News\"]|                732|2021-06-02T00:00:...|Mon Jun 03 10:34:...|2024-06-03 10:34:05|         1.0|    (1,[],[])|  [[\"News\"]]|        [\"News\"]|\n",
            "|q9mz1q83scpuuuvf|8344862428|    ZeeTVHD|  ZeeTVHD : Program1| Kannada| 90|         News|Jio 4G|Mithai+Kottu+Chit...|   [\"Drama\"]|[\"Drama\"]|                802|2021-06-02T00:00:...|Tue Jun 04 16:47:...|2024-06-04 16:47:22|         0.0|(1,[0],[1.0])| [[\"Drama\"]]|       [\"Drama\"]|\n",
            "|lc98xucko80l7z8t|8756205690|   ZeeAnmol| ZeeAnmol : Program1|Assamese| 35|         News|Jio 4G|   Afternoon+Express|    [\"News\"]|[\"Drama\"]|                304|2021-06-02T00:00:...|Fri May 31 19:03:...|2024-05-31 19:03:27|         0.0|(1,[0],[1.0])| [[\"Drama\"]]|       [\"Drama\"]|\n",
            "|a7jcoulv2gvvj3vu|4836944596|  ZeeTelugu|ZeeTelugu : Program1|Assamese| 80|         News|Jio 4G|        Punar+Vivaah|    [\"News\"]| [\"News\"]|                821|2021-06-02T00:00:...|Thu May 30 13:48:...|2024-05-30 13:48:40|         1.0|    (1,[],[])|  [[\"News\"]]|        [\"News\"]|\n",
            "|xdmeawznl6f61q8n|7412863037|   ZeeAnmol| ZeeAnmol : Program2|   Hindi| 76|         News|Jio 4G|Mithai+Kottu+Chit...|    [\"News\"]|[\"Drama\"]|                767|2021-06-02T00:00:...|Tue Jun 04 13:34:...|2024-06-04 13:34:48|         0.0|(1,[0],[1.0])| [[\"Drama\"]]|       [\"Drama\"]|\n",
            "|gahhs6z9omzwjd2q|6397330561| ZeeKannada|ZeeKannada : Prog...|  Telugu| 84|         News|Jio 4G|Mithai+Kottu+Chit...|[\"Politics\"]| [\"News\"]|                 99|2021-06-02T00:00:...|Fri May 31 14:59:...|2024-05-31 14:59:57|         1.0|    (1,[],[])|  [[\"News\"]]|        [\"News\"]|\n",
            "|al3xhyechbsjnnfk|6815437274| ZeeKannada|ZeeKannada : Prog...| Kannada| 25|Entertainment|Jio 4G|        Punar+Vivaah|[\"Politics\"]| [\"News\"]|                179|2021-06-02T00:00:...|Thu May 30 08:52:...|2024-05-30 08:52:11|         1.0|    (1,[],[])|  [[\"News\"]]|        [\"News\"]|\n",
            "|qnkclm839qgcfl67|5707084375|    ZeeTVHD|  ZeeTVHD : Program1|Assamese| 18|Entertainment|Jio 4G|           Trinayani|[\"Politics\"]| [\"News\"]|                147|2021-06-02T00:00:...|Wed Jun 05 00:44:...|2024-06-05 00:44:56|         1.0|    (1,[],[])|  [[\"News\"]]|        [\"News\"]|\n",
            "|11gz136ylk30jw7s|7926247692|    ZeeTVHD|  ZeeTVHD : Program3|   Hindi| 98|         News|Jio 4G|      Pavitra+Rishta|    [\"News\"]|[\"Drama\"]|                678|2021-06-02T00:00:...|Thu May 30 22:47:...|2024-05-30 22:47:24|         0.0|(1,[0],[1.0])| [[\"Drama\"]]|       [\"Drama\"]|\n",
            "|thg8qusdyret754f|4154998109|     AajTak|   AajTak : Program2|   Hindi| 52|Entertainment|Jio 4G|                News|[\"Politics\"]| [\"News\"]|                837|2021-06-02T00:00:...|Fri May 31 11:15:...|2024-05-31 11:15:55|         1.0|    (1,[],[])|  [[\"News\"]]|        [\"News\"]|\n",
            "|bi5z2vp70mbsozau|9497383869|News18Assam|News18Assam : Pro...|   Hindi| 99|         News|Jio 4G|   Afternoon+Express|    [\"News\"]|[\"Drama\"]|                 88|2021-06-02T00:00:...|Sun Jun 02 09:50:...|2024-06-02 09:50:52|         0.0|(1,[0],[1.0])| [[\"Drama\"]]|       [\"Drama\"]|\n",
            "|j0xjlgtnku1tn493|7362514332|     AajTak|   AajTak : Program3|Assamese| 77|Entertainment|Jio 4G|   Afternoon+Express|   [\"Drama\"]| [\"News\"]|                 37|2021-06-02T00:00:...|Sun Jun 02 23:49:...|2024-06-02 23:49:15|         1.0|    (1,[],[])|  [[\"News\"]]|        [\"News\"]|\n",
            "|bfu7w9bj2dfub6n9|2384690764| ZeeKannada|ZeeKannada : Prog...| Kannada| 14|         News|Jio 4G|           Trinayani|[\"Politics\"]|[\"Drama\"]|                 20|2021-06-02T00:00:...|Thu May 30 05:24:...|2024-05-30 05:24:39|         0.0|(1,[0],[1.0])| [[\"Drama\"]]|       [\"Drama\"]|\n",
            "|gqmkphlbnx13h4o1|3191315730|News18Assam|News18Assam : Pro...|  Telugu| 96|Entertainment|Jio 4G|Mithai+Kottu+Chit...|[\"Politics\"]| [\"News\"]|                 40|2021-06-02T00:00:...|Wed Jun 05 10:14:...|2024-06-05 10:14:27|         1.0|    (1,[],[])|  [[\"News\"]]|        [\"News\"]|\n",
            "|9v9at5u9itcr1i0k|7286994583|    ZeeTVHD|  ZeeTVHD : Program1|   Hindi| 31|         News|Jio 4G|           Trinayani|[\"Politics\"]|[\"Drama\"]|                544|2021-06-02T00:00:...|Sat Jun 01 18:57:...|2024-06-01 18:57:53|         0.0|(1,[0],[1.0])| [[\"Drama\"]]|       [\"Drama\"]|\n",
            "|xqumjemadhh5cckq|2872167342|  ZeeTelugu|ZeeTelugu : Program3|Assamese| 32|         News|Jio 4G|Mithai+Kottu+Chit...|   [\"Drama\"]| [\"News\"]|                480|2021-06-02T00:00:...|Wed Jun 05 06:09:...|2024-06-05 06:09:41|         1.0|    (1,[],[])|  [[\"News\"]]|        [\"News\"]|\n",
            "|f7mwj1r2qxso8kt1|4523108202|  ZeeTelugu|ZeeTelugu : Program2|   Hindi|  3|Entertainment|Jio 4G|   Afternoon+Express|   [\"Drama\"]|[\"Drama\"]|                970|2021-06-02T00:00:...|Thu May 30 05:05:...|2024-05-30 05:05:43|         0.0|(1,[0],[1.0])| [[\"Drama\"]]|       [\"Drama\"]|\n",
            "|qqwh1e8a89mrxkov|4368321043| ZeeKannada|ZeeKannada : Prog...|Assamese|100|Entertainment|Jio 4G|                News|    [\"News\"]|[\"Drama\"]|                625|2021-06-02T00:00:...|Fri May 31 07:32:...|2024-05-31 07:32:51|         0.0|(1,[0],[1.0])| [[\"Drama\"]]|       [\"Drama\"]|\n",
            "|bnr691hj223t7uoy|1904538675| ZeeKannada|ZeeKannada : Prog...| Kannada| 95|         News|Jio 4G|                News|[\"Politics\"]|[\"Drama\"]|                527|2021-06-02T00:00:...|Tue Jun 04 19:52:...|2024-06-04 19:52:32|         0.0|(1,[0],[1.0])| [[\"Drama\"]]|       [\"Drama\"]|\n",
            "|oynmyuvitaur7y0c|7431393489|  ZeeTelugu|ZeeTelugu : Program2| Kannada| 64|Entertainment|Jio 4G|      Pavitra+Rishta|    [\"News\"]|[\"Drama\"]|                 39|2021-06-02T00:00:...|Tue Jun 04 03:29:...|2024-06-04 03:29:37|         0.0|(1,[0],[1.0])| [[\"Drama\"]]|       [\"Drama\"]|\n",
            "+----------------+----------+-----------+--------------------+--------+---+-------------+------+--------------------+------------+---------+-------------------+--------------------+--------------------+-------------------+------------+-------------+------------+----------------+\n",
            "only showing top 20 rows\n",
            "\n",
            "+----------------+----------+-----------+----------------------+--------+---+-------------+------+----------------------+------------+---------+-------------------+-------------------------+----------------------------------+-------------------+------------+-------------+------------+----------------+----------------------+\n",
            "|uid             |crmid     |ch         |n                     |cl      |ep |cg           |opr   |pn                    |keywords    |genres   |watch_time_portrait|program_date             |timestamp                         |dateflink          |genres_index|genres_vec   |genres_array|genres_flattened|genres_array_converted|\n",
            "+----------------+----------+-----------+----------------------+--------+---+-------------+------+----------------------+------------+---------+-------------------+-------------------------+----------------------------------+-------------------+------------+-------------+------------+----------------+----------------------+\n",
            "|00llfqkde3hfiweh|5280814033|ZeeKannada |ZeeKannada : Program2 |Kannada |76 |News         |Jio 4G|Pavitra+Rishta        |[\"News\"]    |[\"News\"] |732                |2021-06-02T00:00:00+05:30|Mon Jun 03 10:34:05 GMT+05:30 2024|2024-06-03 10:34:05|1.0         |(1,[],[])    |[[\"News\"]]  |[\"News\"]        |[[\"News\"]]            |\n",
            "|q9mz1q83scpuuuvf|8344862428|ZeeTVHD    |ZeeTVHD : Program1    |Kannada |90 |News         |Jio 4G|Mithai+Kottu+Chittemma|[\"Drama\"]   |[\"Drama\"]|802                |2021-06-02T00:00:00+05:30|Tue Jun 04 16:47:22 GMT+05:30 2024|2024-06-04 16:47:22|0.0         |(1,[0],[1.0])|[[\"Drama\"]] |[\"Drama\"]       |[[\"Drama\"]]           |\n",
            "|lc98xucko80l7z8t|8756205690|ZeeAnmol   |ZeeAnmol : Program1   |Assamese|35 |News         |Jio 4G|Afternoon+Express     |[\"News\"]    |[\"Drama\"]|304                |2021-06-02T00:00:00+05:30|Fri May 31 19:03:27 GMT+05:30 2024|2024-05-31 19:03:27|0.0         |(1,[0],[1.0])|[[\"Drama\"]] |[\"Drama\"]       |[[\"Drama\"]]           |\n",
            "|a7jcoulv2gvvj3vu|4836944596|ZeeTelugu  |ZeeTelugu : Program1  |Assamese|80 |News         |Jio 4G|Punar+Vivaah          |[\"News\"]    |[\"News\"] |821                |2021-06-02T00:00:00+05:30|Thu May 30 13:48:40 GMT+05:30 2024|2024-05-30 13:48:40|1.0         |(1,[],[])    |[[\"News\"]]  |[\"News\"]        |[[\"News\"]]            |\n",
            "|xdmeawznl6f61q8n|7412863037|ZeeAnmol   |ZeeAnmol : Program2   |Hindi   |76 |News         |Jio 4G|Mithai+Kottu+Chittemma|[\"News\"]    |[\"Drama\"]|767                |2021-06-02T00:00:00+05:30|Tue Jun 04 13:34:48 GMT+05:30 2024|2024-06-04 13:34:48|0.0         |(1,[0],[1.0])|[[\"Drama\"]] |[\"Drama\"]       |[[\"Drama\"]]           |\n",
            "|gahhs6z9omzwjd2q|6397330561|ZeeKannada |ZeeKannada : Program3 |Telugu  |84 |News         |Jio 4G|Mithai+Kottu+Chittemma|[\"Politics\"]|[\"News\"] |99                 |2021-06-02T00:00:00+05:30|Fri May 31 14:59:57 GMT+05:30 2024|2024-05-31 14:59:57|1.0         |(1,[],[])    |[[\"News\"]]  |[\"News\"]        |[[\"News\"]]            |\n",
            "|al3xhyechbsjnnfk|6815437274|ZeeKannada |ZeeKannada : Program2 |Kannada |25 |Entertainment|Jio 4G|Punar+Vivaah          |[\"Politics\"]|[\"News\"] |179                |2021-06-02T00:00:00+05:30|Thu May 30 08:52:11 GMT+05:30 2024|2024-05-30 08:52:11|1.0         |(1,[],[])    |[[\"News\"]]  |[\"News\"]        |[[\"News\"]]            |\n",
            "|qnkclm839qgcfl67|5707084375|ZeeTVHD    |ZeeTVHD : Program1    |Assamese|18 |Entertainment|Jio 4G|Trinayani             |[\"Politics\"]|[\"News\"] |147                |2021-06-02T00:00:00+05:30|Wed Jun 05 00:44:56 GMT+05:30 2024|2024-06-05 00:44:56|1.0         |(1,[],[])    |[[\"News\"]]  |[\"News\"]        |[[\"News\"]]            |\n",
            "|11gz136ylk30jw7s|7926247692|ZeeTVHD    |ZeeTVHD : Program3    |Hindi   |98 |News         |Jio 4G|Pavitra+Rishta        |[\"News\"]    |[\"Drama\"]|678                |2021-06-02T00:00:00+05:30|Thu May 30 22:47:24 GMT+05:30 2024|2024-05-30 22:47:24|0.0         |(1,[0],[1.0])|[[\"Drama\"]] |[\"Drama\"]       |[[\"Drama\"]]           |\n",
            "|thg8qusdyret754f|4154998109|AajTak     |AajTak : Program2     |Hindi   |52 |Entertainment|Jio 4G|News                  |[\"Politics\"]|[\"News\"] |837                |2021-06-02T00:00:00+05:30|Fri May 31 11:15:55 GMT+05:30 2024|2024-05-31 11:15:55|1.0         |(1,[],[])    |[[\"News\"]]  |[\"News\"]        |[[\"News\"]]            |\n",
            "|bi5z2vp70mbsozau|9497383869|News18Assam|News18Assam : Program2|Hindi   |99 |News         |Jio 4G|Afternoon+Express     |[\"News\"]    |[\"Drama\"]|88                 |2021-06-02T00:00:00+05:30|Sun Jun 02 09:50:52 GMT+05:30 2024|2024-06-02 09:50:52|0.0         |(1,[0],[1.0])|[[\"Drama\"]] |[\"Drama\"]       |[[\"Drama\"]]           |\n",
            "|j0xjlgtnku1tn493|7362514332|AajTak     |AajTak : Program3     |Assamese|77 |Entertainment|Jio 4G|Afternoon+Express     |[\"Drama\"]   |[\"News\"] |37                 |2021-06-02T00:00:00+05:30|Sun Jun 02 23:49:15 GMT+05:30 2024|2024-06-02 23:49:15|1.0         |(1,[],[])    |[[\"News\"]]  |[\"News\"]        |[[\"News\"]]            |\n",
            "|bfu7w9bj2dfub6n9|2384690764|ZeeKannada |ZeeKannada : Program1 |Kannada |14 |News         |Jio 4G|Trinayani             |[\"Politics\"]|[\"Drama\"]|20                 |2021-06-02T00:00:00+05:30|Thu May 30 05:24:39 GMT+05:30 2024|2024-05-30 05:24:39|0.0         |(1,[0],[1.0])|[[\"Drama\"]] |[\"Drama\"]       |[[\"Drama\"]]           |\n",
            "|gqmkphlbnx13h4o1|3191315730|News18Assam|News18Assam : Program2|Telugu  |96 |Entertainment|Jio 4G|Mithai+Kottu+Chittemma|[\"Politics\"]|[\"News\"] |40                 |2021-06-02T00:00:00+05:30|Wed Jun 05 10:14:27 GMT+05:30 2024|2024-06-05 10:14:27|1.0         |(1,[],[])    |[[\"News\"]]  |[\"News\"]        |[[\"News\"]]            |\n",
            "|9v9at5u9itcr1i0k|7286994583|ZeeTVHD    |ZeeTVHD : Program1    |Hindi   |31 |News         |Jio 4G|Trinayani             |[\"Politics\"]|[\"Drama\"]|544                |2021-06-02T00:00:00+05:30|Sat Jun 01 18:57:53 GMT+05:30 2024|2024-06-01 18:57:53|0.0         |(1,[0],[1.0])|[[\"Drama\"]] |[\"Drama\"]       |[[\"Drama\"]]           |\n",
            "|xqumjemadhh5cckq|2872167342|ZeeTelugu  |ZeeTelugu : Program3  |Assamese|32 |News         |Jio 4G|Mithai+Kottu+Chittemma|[\"Drama\"]   |[\"News\"] |480                |2021-06-02T00:00:00+05:30|Wed Jun 05 06:09:41 GMT+05:30 2024|2024-06-05 06:09:41|1.0         |(1,[],[])    |[[\"News\"]]  |[\"News\"]        |[[\"News\"]]            |\n",
            "|f7mwj1r2qxso8kt1|4523108202|ZeeTelugu  |ZeeTelugu : Program2  |Hindi   |3  |Entertainment|Jio 4G|Afternoon+Express     |[\"Drama\"]   |[\"Drama\"]|970                |2021-06-02T00:00:00+05:30|Thu May 30 05:05:43 GMT+05:30 2024|2024-05-30 05:05:43|0.0         |(1,[0],[1.0])|[[\"Drama\"]] |[\"Drama\"]       |[[\"Drama\"]]           |\n",
            "|qqwh1e8a89mrxkov|4368321043|ZeeKannada |ZeeKannada : Program1 |Assamese|100|Entertainment|Jio 4G|News                  |[\"News\"]    |[\"Drama\"]|625                |2021-06-02T00:00:00+05:30|Fri May 31 07:32:51 GMT+05:30 2024|2024-05-31 07:32:51|0.0         |(1,[0],[1.0])|[[\"Drama\"]] |[\"Drama\"]       |[[\"Drama\"]]           |\n",
            "|bnr691hj223t7uoy|1904538675|ZeeKannada |ZeeKannada : Program1 |Kannada |95 |News         |Jio 4G|News                  |[\"Politics\"]|[\"Drama\"]|527                |2021-06-02T00:00:00+05:30|Tue Jun 04 19:52:32 GMT+05:30 2024|2024-06-04 19:52:32|0.0         |(1,[0],[1.0])|[[\"Drama\"]] |[\"Drama\"]       |[[\"Drama\"]]           |\n",
            "|oynmyuvitaur7y0c|7431393489|ZeeTelugu  |ZeeTelugu : Program2  |Kannada |64 |Entertainment|Jio 4G|Pavitra+Rishta        |[\"News\"]    |[\"Drama\"]|39                 |2021-06-02T00:00:00+05:30|Tue Jun 04 03:29:37 GMT+05:30 2024|2024-06-04 03:29:37|0.0         |(1,[0],[1.0])|[[\"Drama\"]] |[\"Drama\"]       |[[\"Drama\"]]           |\n",
            "+----------------+----------+-----------+----------------------+--------+---+-------------+------+----------------------+------------+---------+-------------------+-------------------------+----------------------------------+-------------------+------------+-------------+------------+----------------+----------------------+\n",
            "only showing top 20 rows\n",
            "\n"
          ]
        }
      ],
      "source": [
        "from pyspark.sql.functions import col, split\n",
        "\n",
        "df_flattened = df_features.withColumn(\"genres_flattened\", explode(split(col(\"genres\"), \",\")))\n",
        "\n",
        "df_flattened.show()\n",
        "df_array_conversion = df_flattened.withColumn(\n",
        "    \"genres_array_converted\",\n",
        "    split(col(\"genres_flattened\"), \",\")\n",
        ")\n",
        "\n",
        "df_array_conversion.show(truncate=False)\n"
      ]
    },
    {
      "cell_type": "markdown",
      "metadata": {
        "id": "8OHNAMVNheiT"
      },
      "source": [
        "# Flatten the Converted Array\n",
        "\n",
        "After converting the genres_flattened to an ARRAY, we then proceed to extract the genre."
      ]
    },
    {
      "cell_type": "code",
      "execution_count": null,
      "metadata": {
        "colab": {
          "base_uri": "https://localhost:8080/"
        },
        "id": "XVjueRu6AR3l",
        "outputId": "7f0cd756-7ac5-417a-da5b-8adac1b44829"
      },
      "outputs": [
        {
          "output_type": "stream",
          "name": "stdout",
          "text": [
            "+----------------+----------+-----------+--------------------+--------+---+-------------+------+--------------------+------------+---------+-------------------+--------------------+--------------------+-------------------+------------+-------------+------------+----------------+----------------------+---------+\n",
            "|             uid|     crmid|         ch|                   n|      cl| ep|           cg|   opr|                  pn|    keywords|   genres|watch_time_portrait|        program_date|           timestamp|          dateflink|genres_index|   genres_vec|genres_array|genres_flattened|genres_array_converted|    genre|\n",
            "+----------------+----------+-----------+--------------------+--------+---+-------------+------+--------------------+------------+---------+-------------------+--------------------+--------------------+-------------------+------------+-------------+------------+----------------+----------------------+---------+\n",
            "|00llfqkde3hfiweh|5280814033| ZeeKannada|ZeeKannada : Prog...| Kannada| 76|         News|Jio 4G|      Pavitra+Rishta|    [\"News\"]| [\"News\"]|                732|2021-06-02T00:00:...|Mon Jun 03 10:34:...|2024-06-03 10:34:05|         1.0|    (1,[],[])|  [[\"News\"]]|        [\"News\"]|            [[\"News\"]]| [\"News\"]|\n",
            "|q9mz1q83scpuuuvf|8344862428|    ZeeTVHD|  ZeeTVHD : Program1| Kannada| 90|         News|Jio 4G|Mithai+Kottu+Chit...|   [\"Drama\"]|[\"Drama\"]|                802|2021-06-02T00:00:...|Tue Jun 04 16:47:...|2024-06-04 16:47:22|         0.0|(1,[0],[1.0])| [[\"Drama\"]]|       [\"Drama\"]|           [[\"Drama\"]]|[\"Drama\"]|\n",
            "|lc98xucko80l7z8t|8756205690|   ZeeAnmol| ZeeAnmol : Program1|Assamese| 35|         News|Jio 4G|   Afternoon+Express|    [\"News\"]|[\"Drama\"]|                304|2021-06-02T00:00:...|Fri May 31 19:03:...|2024-05-31 19:03:27|         0.0|(1,[0],[1.0])| [[\"Drama\"]]|       [\"Drama\"]|           [[\"Drama\"]]|[\"Drama\"]|\n",
            "|a7jcoulv2gvvj3vu|4836944596|  ZeeTelugu|ZeeTelugu : Program1|Assamese| 80|         News|Jio 4G|        Punar+Vivaah|    [\"News\"]| [\"News\"]|                821|2021-06-02T00:00:...|Thu May 30 13:48:...|2024-05-30 13:48:40|         1.0|    (1,[],[])|  [[\"News\"]]|        [\"News\"]|            [[\"News\"]]| [\"News\"]|\n",
            "|xdmeawznl6f61q8n|7412863037|   ZeeAnmol| ZeeAnmol : Program2|   Hindi| 76|         News|Jio 4G|Mithai+Kottu+Chit...|    [\"News\"]|[\"Drama\"]|                767|2021-06-02T00:00:...|Tue Jun 04 13:34:...|2024-06-04 13:34:48|         0.0|(1,[0],[1.0])| [[\"Drama\"]]|       [\"Drama\"]|           [[\"Drama\"]]|[\"Drama\"]|\n",
            "|gahhs6z9omzwjd2q|6397330561| ZeeKannada|ZeeKannada : Prog...|  Telugu| 84|         News|Jio 4G|Mithai+Kottu+Chit...|[\"Politics\"]| [\"News\"]|                 99|2021-06-02T00:00:...|Fri May 31 14:59:...|2024-05-31 14:59:57|         1.0|    (1,[],[])|  [[\"News\"]]|        [\"News\"]|            [[\"News\"]]| [\"News\"]|\n",
            "|al3xhyechbsjnnfk|6815437274| ZeeKannada|ZeeKannada : Prog...| Kannada| 25|Entertainment|Jio 4G|        Punar+Vivaah|[\"Politics\"]| [\"News\"]|                179|2021-06-02T00:00:...|Thu May 30 08:52:...|2024-05-30 08:52:11|         1.0|    (1,[],[])|  [[\"News\"]]|        [\"News\"]|            [[\"News\"]]| [\"News\"]|\n",
            "|qnkclm839qgcfl67|5707084375|    ZeeTVHD|  ZeeTVHD : Program1|Assamese| 18|Entertainment|Jio 4G|           Trinayani|[\"Politics\"]| [\"News\"]|                147|2021-06-02T00:00:...|Wed Jun 05 00:44:...|2024-06-05 00:44:56|         1.0|    (1,[],[])|  [[\"News\"]]|        [\"News\"]|            [[\"News\"]]| [\"News\"]|\n",
            "|11gz136ylk30jw7s|7926247692|    ZeeTVHD|  ZeeTVHD : Program3|   Hindi| 98|         News|Jio 4G|      Pavitra+Rishta|    [\"News\"]|[\"Drama\"]|                678|2021-06-02T00:00:...|Thu May 30 22:47:...|2024-05-30 22:47:24|         0.0|(1,[0],[1.0])| [[\"Drama\"]]|       [\"Drama\"]|           [[\"Drama\"]]|[\"Drama\"]|\n",
            "|thg8qusdyret754f|4154998109|     AajTak|   AajTak : Program2|   Hindi| 52|Entertainment|Jio 4G|                News|[\"Politics\"]| [\"News\"]|                837|2021-06-02T00:00:...|Fri May 31 11:15:...|2024-05-31 11:15:55|         1.0|    (1,[],[])|  [[\"News\"]]|        [\"News\"]|            [[\"News\"]]| [\"News\"]|\n",
            "|bi5z2vp70mbsozau|9497383869|News18Assam|News18Assam : Pro...|   Hindi| 99|         News|Jio 4G|   Afternoon+Express|    [\"News\"]|[\"Drama\"]|                 88|2021-06-02T00:00:...|Sun Jun 02 09:50:...|2024-06-02 09:50:52|         0.0|(1,[0],[1.0])| [[\"Drama\"]]|       [\"Drama\"]|           [[\"Drama\"]]|[\"Drama\"]|\n",
            "|j0xjlgtnku1tn493|7362514332|     AajTak|   AajTak : Program3|Assamese| 77|Entertainment|Jio 4G|   Afternoon+Express|   [\"Drama\"]| [\"News\"]|                 37|2021-06-02T00:00:...|Sun Jun 02 23:49:...|2024-06-02 23:49:15|         1.0|    (1,[],[])|  [[\"News\"]]|        [\"News\"]|            [[\"News\"]]| [\"News\"]|\n",
            "|bfu7w9bj2dfub6n9|2384690764| ZeeKannada|ZeeKannada : Prog...| Kannada| 14|         News|Jio 4G|           Trinayani|[\"Politics\"]|[\"Drama\"]|                 20|2021-06-02T00:00:...|Thu May 30 05:24:...|2024-05-30 05:24:39|         0.0|(1,[0],[1.0])| [[\"Drama\"]]|       [\"Drama\"]|           [[\"Drama\"]]|[\"Drama\"]|\n",
            "|gqmkphlbnx13h4o1|3191315730|News18Assam|News18Assam : Pro...|  Telugu| 96|Entertainment|Jio 4G|Mithai+Kottu+Chit...|[\"Politics\"]| [\"News\"]|                 40|2021-06-02T00:00:...|Wed Jun 05 10:14:...|2024-06-05 10:14:27|         1.0|    (1,[],[])|  [[\"News\"]]|        [\"News\"]|            [[\"News\"]]| [\"News\"]|\n",
            "|9v9at5u9itcr1i0k|7286994583|    ZeeTVHD|  ZeeTVHD : Program1|   Hindi| 31|         News|Jio 4G|           Trinayani|[\"Politics\"]|[\"Drama\"]|                544|2021-06-02T00:00:...|Sat Jun 01 18:57:...|2024-06-01 18:57:53|         0.0|(1,[0],[1.0])| [[\"Drama\"]]|       [\"Drama\"]|           [[\"Drama\"]]|[\"Drama\"]|\n",
            "|xqumjemadhh5cckq|2872167342|  ZeeTelugu|ZeeTelugu : Program3|Assamese| 32|         News|Jio 4G|Mithai+Kottu+Chit...|   [\"Drama\"]| [\"News\"]|                480|2021-06-02T00:00:...|Wed Jun 05 06:09:...|2024-06-05 06:09:41|         1.0|    (1,[],[])|  [[\"News\"]]|        [\"News\"]|            [[\"News\"]]| [\"News\"]|\n",
            "|f7mwj1r2qxso8kt1|4523108202|  ZeeTelugu|ZeeTelugu : Program2|   Hindi|  3|Entertainment|Jio 4G|   Afternoon+Express|   [\"Drama\"]|[\"Drama\"]|                970|2021-06-02T00:00:...|Thu May 30 05:05:...|2024-05-30 05:05:43|         0.0|(1,[0],[1.0])| [[\"Drama\"]]|       [\"Drama\"]|           [[\"Drama\"]]|[\"Drama\"]|\n",
            "|qqwh1e8a89mrxkov|4368321043| ZeeKannada|ZeeKannada : Prog...|Assamese|100|Entertainment|Jio 4G|                News|    [\"News\"]|[\"Drama\"]|                625|2021-06-02T00:00:...|Fri May 31 07:32:...|2024-05-31 07:32:51|         0.0|(1,[0],[1.0])| [[\"Drama\"]]|       [\"Drama\"]|           [[\"Drama\"]]|[\"Drama\"]|\n",
            "|bnr691hj223t7uoy|1904538675| ZeeKannada|ZeeKannada : Prog...| Kannada| 95|         News|Jio 4G|                News|[\"Politics\"]|[\"Drama\"]|                527|2021-06-02T00:00:...|Tue Jun 04 19:52:...|2024-06-04 19:52:32|         0.0|(1,[0],[1.0])| [[\"Drama\"]]|       [\"Drama\"]|           [[\"Drama\"]]|[\"Drama\"]|\n",
            "|oynmyuvitaur7y0c|7431393489|  ZeeTelugu|ZeeTelugu : Program2| Kannada| 64|Entertainment|Jio 4G|      Pavitra+Rishta|    [\"News\"]|[\"Drama\"]|                 39|2021-06-02T00:00:...|Tue Jun 04 03:29:...|2024-06-04 03:29:37|         0.0|(1,[0],[1.0])| [[\"Drama\"]]|       [\"Drama\"]|           [[\"Drama\"]]|[\"Drama\"]|\n",
            "+----------------+----------+-----------+--------------------+--------+---+-------------+------+--------------------+------------+---------+-------------------+--------------------+--------------------+-------------------+------------+-------------+------------+----------------+----------------------+---------+\n",
            "only showing top 20 rows\n",
            "\n"
          ]
        }
      ],
      "source": [
        "df_genres_extracted = df_array_conversion.withColumn(\n",
        "    \"genre\",\n",
        "    col(\"genres_array_converted\")[0]\n",
        ")\n",
        "df_genres_extracted.show()"
      ]
    },
    {
      "cell_type": "code",
      "execution_count": null,
      "metadata": {
        "colab": {
          "base_uri": "https://localhost:8080/"
        },
        "id": "Q2ajzhsXiy0l",
        "outputId": "68afbd38-ec52-4932-a02e-a34b11bcf8af"
      },
      "outputs": [
        {
          "output_type": "stream",
          "name": "stdout",
          "text": [
            "+----------------+---------+---------+\n",
            "|user_id         |genre    |view_time|\n",
            "+----------------+---------+---------+\n",
            "|00llfqkde3hfiweh|[\"News\"] |732      |\n",
            "|q9mz1q83scpuuuvf|[\"Drama\"]|802      |\n",
            "|lc98xucko80l7z8t|[\"Drama\"]|304      |\n",
            "|a7jcoulv2gvvj3vu|[\"News\"] |821      |\n",
            "|xdmeawznl6f61q8n|[\"Drama\"]|767      |\n",
            "|gahhs6z9omzwjd2q|[\"News\"] |99       |\n",
            "|al3xhyechbsjnnfk|[\"News\"] |179      |\n",
            "|qnkclm839qgcfl67|[\"News\"] |147      |\n",
            "|11gz136ylk30jw7s|[\"Drama\"]|678      |\n",
            "|thg8qusdyret754f|[\"News\"] |837      |\n",
            "|bi5z2vp70mbsozau|[\"Drama\"]|88       |\n",
            "|j0xjlgtnku1tn493|[\"News\"] |37       |\n",
            "|bfu7w9bj2dfub6n9|[\"Drama\"]|20       |\n",
            "|gqmkphlbnx13h4o1|[\"News\"] |40       |\n",
            "|9v9at5u9itcr1i0k|[\"Drama\"]|544      |\n",
            "|xqumjemadhh5cckq|[\"News\"] |480      |\n",
            "|f7mwj1r2qxso8kt1|[\"Drama\"]|970      |\n",
            "|qqwh1e8a89mrxkov|[\"Drama\"]|625      |\n",
            "|bnr691hj223t7uoy|[\"Drama\"]|527      |\n",
            "|oynmyuvitaur7y0c|[\"Drama\"]|39       |\n",
            "+----------------+---------+---------+\n",
            "only showing top 20 rows\n",
            "\n"
          ]
        }
      ],
      "source": [
        "user_viewing_df = df_genres_extracted.select(\n",
        "    col(\"uid\").alias(\"user_id\"),\n",
        "    col(\"genre\"),\n",
        "    col(\"watch_time_portrait\").alias(\"view_time\")\n",
        ")\n",
        "user_viewing_df.show(truncate=False)"
      ]
    },
    {
      "cell_type": "code",
      "execution_count": null,
      "metadata": {
        "colab": {
          "base_uri": "https://localhost:8080/"
        },
        "id": "t6Jl01QWoTg_",
        "outputId": "e27eaf5c-d4c6-4c5c-e8f2-3a1045785a89"
      },
      "outputs": [
        {
          "output_type": "stream",
          "name": "stdout",
          "text": [
            "+----------------+----------+-----------+----------------------+--------+---+-------------+------+----------------------+------------+---------+-------------------+-------------------------+----------------------------------+-------------------+------------+-------------+------------+----------------+----------------------+\n",
            "|uid             |crmid     |ch         |n                     |cl      |ep |cg           |opr   |pn                    |keywords    |genres   |watch_time_portrait|program_date             |timestamp                         |dateflink          |genres_index|genres_vec   |genres_array|genres_flattened|genres_array_converted|\n",
            "+----------------+----------+-----------+----------------------+--------+---+-------------+------+----------------------+------------+---------+-------------------+-------------------------+----------------------------------+-------------------+------------+-------------+------------+----------------+----------------------+\n",
            "|00llfqkde3hfiweh|5280814033|ZeeKannada |ZeeKannada : Program2 |Kannada |76 |News         |Jio 4G|Pavitra+Rishta        |[\"News\"]    |[\"News\"] |732                |2021-06-02T00:00:00+05:30|Mon Jun 03 10:34:05 GMT+05:30 2024|2024-06-03 10:34:05|1.0         |(1,[],[])    |[[\"News\"]]  |[\"News\"]        |[News]                |\n",
            "|q9mz1q83scpuuuvf|8344862428|ZeeTVHD    |ZeeTVHD : Program1    |Kannada |90 |News         |Jio 4G|Mithai+Kottu+Chittemma|[\"Drama\"]   |[\"Drama\"]|802                |2021-06-02T00:00:00+05:30|Tue Jun 04 16:47:22 GMT+05:30 2024|2024-06-04 16:47:22|0.0         |(1,[0],[1.0])|[[\"Drama\"]] |[\"Drama\"]       |[Drama]               |\n",
            "|lc98xucko80l7z8t|8756205690|ZeeAnmol   |ZeeAnmol : Program1   |Assamese|35 |News         |Jio 4G|Afternoon+Express     |[\"News\"]    |[\"Drama\"]|304                |2021-06-02T00:00:00+05:30|Fri May 31 19:03:27 GMT+05:30 2024|2024-05-31 19:03:27|0.0         |(1,[0],[1.0])|[[\"Drama\"]] |[\"Drama\"]       |[Drama]               |\n",
            "|a7jcoulv2gvvj3vu|4836944596|ZeeTelugu  |ZeeTelugu : Program1  |Assamese|80 |News         |Jio 4G|Punar+Vivaah          |[\"News\"]    |[\"News\"] |821                |2021-06-02T00:00:00+05:30|Thu May 30 13:48:40 GMT+05:30 2024|2024-05-30 13:48:40|1.0         |(1,[],[])    |[[\"News\"]]  |[\"News\"]        |[News]                |\n",
            "|xdmeawznl6f61q8n|7412863037|ZeeAnmol   |ZeeAnmol : Program2   |Hindi   |76 |News         |Jio 4G|Mithai+Kottu+Chittemma|[\"News\"]    |[\"Drama\"]|767                |2021-06-02T00:00:00+05:30|Tue Jun 04 13:34:48 GMT+05:30 2024|2024-06-04 13:34:48|0.0         |(1,[0],[1.0])|[[\"Drama\"]] |[\"Drama\"]       |[Drama]               |\n",
            "|gahhs6z9omzwjd2q|6397330561|ZeeKannada |ZeeKannada : Program3 |Telugu  |84 |News         |Jio 4G|Mithai+Kottu+Chittemma|[\"Politics\"]|[\"News\"] |99                 |2021-06-02T00:00:00+05:30|Fri May 31 14:59:57 GMT+05:30 2024|2024-05-31 14:59:57|1.0         |(1,[],[])    |[[\"News\"]]  |[\"News\"]        |[News]                |\n",
            "|al3xhyechbsjnnfk|6815437274|ZeeKannada |ZeeKannada : Program2 |Kannada |25 |Entertainment|Jio 4G|Punar+Vivaah          |[\"Politics\"]|[\"News\"] |179                |2021-06-02T00:00:00+05:30|Thu May 30 08:52:11 GMT+05:30 2024|2024-05-30 08:52:11|1.0         |(1,[],[])    |[[\"News\"]]  |[\"News\"]        |[News]                |\n",
            "|qnkclm839qgcfl67|5707084375|ZeeTVHD    |ZeeTVHD : Program1    |Assamese|18 |Entertainment|Jio 4G|Trinayani             |[\"Politics\"]|[\"News\"] |147                |2021-06-02T00:00:00+05:30|Wed Jun 05 00:44:56 GMT+05:30 2024|2024-06-05 00:44:56|1.0         |(1,[],[])    |[[\"News\"]]  |[\"News\"]        |[News]                |\n",
            "|11gz136ylk30jw7s|7926247692|ZeeTVHD    |ZeeTVHD : Program3    |Hindi   |98 |News         |Jio 4G|Pavitra+Rishta        |[\"News\"]    |[\"Drama\"]|678                |2021-06-02T00:00:00+05:30|Thu May 30 22:47:24 GMT+05:30 2024|2024-05-30 22:47:24|0.0         |(1,[0],[1.0])|[[\"Drama\"]] |[\"Drama\"]       |[Drama]               |\n",
            "|thg8qusdyret754f|4154998109|AajTak     |AajTak : Program2     |Hindi   |52 |Entertainment|Jio 4G|News                  |[\"Politics\"]|[\"News\"] |837                |2021-06-02T00:00:00+05:30|Fri May 31 11:15:55 GMT+05:30 2024|2024-05-31 11:15:55|1.0         |(1,[],[])    |[[\"News\"]]  |[\"News\"]        |[News]                |\n",
            "|bi5z2vp70mbsozau|9497383869|News18Assam|News18Assam : Program2|Hindi   |99 |News         |Jio 4G|Afternoon+Express     |[\"News\"]    |[\"Drama\"]|88                 |2021-06-02T00:00:00+05:30|Sun Jun 02 09:50:52 GMT+05:30 2024|2024-06-02 09:50:52|0.0         |(1,[0],[1.0])|[[\"Drama\"]] |[\"Drama\"]       |[Drama]               |\n",
            "|j0xjlgtnku1tn493|7362514332|AajTak     |AajTak : Program3     |Assamese|77 |Entertainment|Jio 4G|Afternoon+Express     |[\"Drama\"]   |[\"News\"] |37                 |2021-06-02T00:00:00+05:30|Sun Jun 02 23:49:15 GMT+05:30 2024|2024-06-02 23:49:15|1.0         |(1,[],[])    |[[\"News\"]]  |[\"News\"]        |[News]                |\n",
            "|bfu7w9bj2dfub6n9|2384690764|ZeeKannada |ZeeKannada : Program1 |Kannada |14 |News         |Jio 4G|Trinayani             |[\"Politics\"]|[\"Drama\"]|20                 |2021-06-02T00:00:00+05:30|Thu May 30 05:24:39 GMT+05:30 2024|2024-05-30 05:24:39|0.0         |(1,[0],[1.0])|[[\"Drama\"]] |[\"Drama\"]       |[Drama]               |\n",
            "|gqmkphlbnx13h4o1|3191315730|News18Assam|News18Assam : Program2|Telugu  |96 |Entertainment|Jio 4G|Mithai+Kottu+Chittemma|[\"Politics\"]|[\"News\"] |40                 |2021-06-02T00:00:00+05:30|Wed Jun 05 10:14:27 GMT+05:30 2024|2024-06-05 10:14:27|1.0         |(1,[],[])    |[[\"News\"]]  |[\"News\"]        |[News]                |\n",
            "|9v9at5u9itcr1i0k|7286994583|ZeeTVHD    |ZeeTVHD : Program1    |Hindi   |31 |News         |Jio 4G|Trinayani             |[\"Politics\"]|[\"Drama\"]|544                |2021-06-02T00:00:00+05:30|Sat Jun 01 18:57:53 GMT+05:30 2024|2024-06-01 18:57:53|0.0         |(1,[0],[1.0])|[[\"Drama\"]] |[\"Drama\"]       |[Drama]               |\n",
            "|xqumjemadhh5cckq|2872167342|ZeeTelugu  |ZeeTelugu : Program3  |Assamese|32 |News         |Jio 4G|Mithai+Kottu+Chittemma|[\"Drama\"]   |[\"News\"] |480                |2021-06-02T00:00:00+05:30|Wed Jun 05 06:09:41 GMT+05:30 2024|2024-06-05 06:09:41|1.0         |(1,[],[])    |[[\"News\"]]  |[\"News\"]        |[News]                |\n",
            "|f7mwj1r2qxso8kt1|4523108202|ZeeTelugu  |ZeeTelugu : Program2  |Hindi   |3  |Entertainment|Jio 4G|Afternoon+Express     |[\"Drama\"]   |[\"Drama\"]|970                |2021-06-02T00:00:00+05:30|Thu May 30 05:05:43 GMT+05:30 2024|2024-05-30 05:05:43|0.0         |(1,[0],[1.0])|[[\"Drama\"]] |[\"Drama\"]       |[Drama]               |\n",
            "|qqwh1e8a89mrxkov|4368321043|ZeeKannada |ZeeKannada : Program1 |Assamese|100|Entertainment|Jio 4G|News                  |[\"News\"]    |[\"Drama\"]|625                |2021-06-02T00:00:00+05:30|Fri May 31 07:32:51 GMT+05:30 2024|2024-05-31 07:32:51|0.0         |(1,[0],[1.0])|[[\"Drama\"]] |[\"Drama\"]       |[Drama]               |\n",
            "|bnr691hj223t7uoy|1904538675|ZeeKannada |ZeeKannada : Program1 |Kannada |95 |News         |Jio 4G|News                  |[\"Politics\"]|[\"Drama\"]|527                |2021-06-02T00:00:00+05:30|Tue Jun 04 19:52:32 GMT+05:30 2024|2024-06-04 19:52:32|0.0         |(1,[0],[1.0])|[[\"Drama\"]] |[\"Drama\"]       |[Drama]               |\n",
            "|oynmyuvitaur7y0c|7431393489|ZeeTelugu  |ZeeTelugu : Program2  |Kannada |64 |Entertainment|Jio 4G|Pavitra+Rishta        |[\"News\"]    |[\"Drama\"]|39                 |2021-06-02T00:00:00+05:30|Tue Jun 04 03:29:37 GMT+05:30 2024|2024-06-04 03:29:37|0.0         |(1,[0],[1.0])|[[\"Drama\"]] |[\"Drama\"]       |[Drama]               |\n",
            "+----------------+----------+-----------+----------------------+--------+---+-------------+------+----------------------+------------+---------+-------------------+-------------------------+----------------------------------+-------------------+------------+-------------+------------+----------------+----------------------+\n",
            "only showing top 20 rows\n",
            "\n"
          ]
        }
      ],
      "source": [
        "from pyspark.sql.functions import col, split, regexp_replace\n",
        "\n",
        "df_array_conversion = df_flattened.withColumn(\n",
        "    \"genres_array_converted\",\n",
        "    split(regexp_replace(col(\"genres_flattened\"), r'[\\[\\]\"]', ''), ',')\n",
        ")\n",
        "\n",
        "df_array_conversion.show(truncate=False)\n"
      ]
    },
    {
      "cell_type": "code",
      "execution_count": null,
      "metadata": {
        "id": "ACM4lC4XhuNJ"
      },
      "outputs": [],
      "source": [
        "from pyspark.sql import SparkSession, functions as F\n",
        "from pyspark.sql.functions import col, split, regexp_replace\n",
        "from pyspark.ml.feature import StringIndexer\n",
        "from pyspark.ml.recommendation import ALS\n"
      ]
    },
    {
      "cell_type": "code",
      "execution_count": null,
      "metadata": {
        "id": "N7_IOZ8UhvBm"
      },
      "outputs": [],
      "source": [
        "spark = SparkSession.builder \\\n",
        "    .appName(\"RecommendationModel\") \\\n",
        "    .getOrCreate()\n"
      ]
    },
    {
      "cell_type": "code",
      "execution_count": null,
      "metadata": {
        "colab": {
          "base_uri": "https://localhost:8080/"
        },
        "id": "5NYmqJHhhxov",
        "outputId": "dd3c326b-ab27-47c9-bbc6-3dc349d37952"
      },
      "outputs": [
        {
          "output_type": "stream",
          "name": "stdout",
          "text": [
            "+----------------+----------+-----------+--------------------+--------+---+-------------+------+--------------------+------------+---------+-------------------+--------------------+--------------------+-------------------+------------+-------------+------------+----------------+----------------------+\n",
            "|             uid|     crmid|         ch|                   n|      cl| ep|           cg|   opr|                  pn|    keywords|   genres|watch_time_portrait|        program_date|           timestamp|          dateflink|genres_index|   genres_vec|genres_array|genres_flattened|genres_array_converted|\n",
            "+----------------+----------+-----------+--------------------+--------+---+-------------+------+--------------------+------------+---------+-------------------+--------------------+--------------------+-------------------+------------+-------------+------------+----------------+----------------------+\n",
            "|00llfqkde3hfiweh|5280814033| ZeeKannada|ZeeKannada : Prog...| Kannada| 76|         News|Jio 4G|      Pavitra+Rishta|    [\"News\"]| [\"News\"]|                732|2021-06-02T00:00:...|Mon Jun 03 10:34:...|2024-06-03 10:34:05|         1.0|    (1,[],[])|  [[\"News\"]]|        [\"News\"]|                [News]|\n",
            "|q9mz1q83scpuuuvf|8344862428|    ZeeTVHD|  ZeeTVHD : Program1| Kannada| 90|         News|Jio 4G|Mithai+Kottu+Chit...|   [\"Drama\"]|[\"Drama\"]|                802|2021-06-02T00:00:...|Tue Jun 04 16:47:...|2024-06-04 16:47:22|         0.0|(1,[0],[1.0])| [[\"Drama\"]]|       [\"Drama\"]|               [Drama]|\n",
            "|lc98xucko80l7z8t|8756205690|   ZeeAnmol| ZeeAnmol : Program1|Assamese| 35|         News|Jio 4G|   Afternoon+Express|    [\"News\"]|[\"Drama\"]|                304|2021-06-02T00:00:...|Fri May 31 19:03:...|2024-05-31 19:03:27|         0.0|(1,[0],[1.0])| [[\"Drama\"]]|       [\"Drama\"]|               [Drama]|\n",
            "|a7jcoulv2gvvj3vu|4836944596|  ZeeTelugu|ZeeTelugu : Program1|Assamese| 80|         News|Jio 4G|        Punar+Vivaah|    [\"News\"]| [\"News\"]|                821|2021-06-02T00:00:...|Thu May 30 13:48:...|2024-05-30 13:48:40|         1.0|    (1,[],[])|  [[\"News\"]]|        [\"News\"]|                [News]|\n",
            "|xdmeawznl6f61q8n|7412863037|   ZeeAnmol| ZeeAnmol : Program2|   Hindi| 76|         News|Jio 4G|Mithai+Kottu+Chit...|    [\"News\"]|[\"Drama\"]|                767|2021-06-02T00:00:...|Tue Jun 04 13:34:...|2024-06-04 13:34:48|         0.0|(1,[0],[1.0])| [[\"Drama\"]]|       [\"Drama\"]|               [Drama]|\n",
            "|gahhs6z9omzwjd2q|6397330561| ZeeKannada|ZeeKannada : Prog...|  Telugu| 84|         News|Jio 4G|Mithai+Kottu+Chit...|[\"Politics\"]| [\"News\"]|                 99|2021-06-02T00:00:...|Fri May 31 14:59:...|2024-05-31 14:59:57|         1.0|    (1,[],[])|  [[\"News\"]]|        [\"News\"]|                [News]|\n",
            "|al3xhyechbsjnnfk|6815437274| ZeeKannada|ZeeKannada : Prog...| Kannada| 25|Entertainment|Jio 4G|        Punar+Vivaah|[\"Politics\"]| [\"News\"]|                179|2021-06-02T00:00:...|Thu May 30 08:52:...|2024-05-30 08:52:11|         1.0|    (1,[],[])|  [[\"News\"]]|        [\"News\"]|                [News]|\n",
            "|qnkclm839qgcfl67|5707084375|    ZeeTVHD|  ZeeTVHD : Program1|Assamese| 18|Entertainment|Jio 4G|           Trinayani|[\"Politics\"]| [\"News\"]|                147|2021-06-02T00:00:...|Wed Jun 05 00:44:...|2024-06-05 00:44:56|         1.0|    (1,[],[])|  [[\"News\"]]|        [\"News\"]|                [News]|\n",
            "|11gz136ylk30jw7s|7926247692|    ZeeTVHD|  ZeeTVHD : Program3|   Hindi| 98|         News|Jio 4G|      Pavitra+Rishta|    [\"News\"]|[\"Drama\"]|                678|2021-06-02T00:00:...|Thu May 30 22:47:...|2024-05-30 22:47:24|         0.0|(1,[0],[1.0])| [[\"Drama\"]]|       [\"Drama\"]|               [Drama]|\n",
            "|thg8qusdyret754f|4154998109|     AajTak|   AajTak : Program2|   Hindi| 52|Entertainment|Jio 4G|                News|[\"Politics\"]| [\"News\"]|                837|2021-06-02T00:00:...|Fri May 31 11:15:...|2024-05-31 11:15:55|         1.0|    (1,[],[])|  [[\"News\"]]|        [\"News\"]|                [News]|\n",
            "|bi5z2vp70mbsozau|9497383869|News18Assam|News18Assam : Pro...|   Hindi| 99|         News|Jio 4G|   Afternoon+Express|    [\"News\"]|[\"Drama\"]|                 88|2021-06-02T00:00:...|Sun Jun 02 09:50:...|2024-06-02 09:50:52|         0.0|(1,[0],[1.0])| [[\"Drama\"]]|       [\"Drama\"]|               [Drama]|\n",
            "|j0xjlgtnku1tn493|7362514332|     AajTak|   AajTak : Program3|Assamese| 77|Entertainment|Jio 4G|   Afternoon+Express|   [\"Drama\"]| [\"News\"]|                 37|2021-06-02T00:00:...|Sun Jun 02 23:49:...|2024-06-02 23:49:15|         1.0|    (1,[],[])|  [[\"News\"]]|        [\"News\"]|                [News]|\n",
            "|bfu7w9bj2dfub6n9|2384690764| ZeeKannada|ZeeKannada : Prog...| Kannada| 14|         News|Jio 4G|           Trinayani|[\"Politics\"]|[\"Drama\"]|                 20|2021-06-02T00:00:...|Thu May 30 05:24:...|2024-05-30 05:24:39|         0.0|(1,[0],[1.0])| [[\"Drama\"]]|       [\"Drama\"]|               [Drama]|\n",
            "|gqmkphlbnx13h4o1|3191315730|News18Assam|News18Assam : Pro...|  Telugu| 96|Entertainment|Jio 4G|Mithai+Kottu+Chit...|[\"Politics\"]| [\"News\"]|                 40|2021-06-02T00:00:...|Wed Jun 05 10:14:...|2024-06-05 10:14:27|         1.0|    (1,[],[])|  [[\"News\"]]|        [\"News\"]|                [News]|\n",
            "|9v9at5u9itcr1i0k|7286994583|    ZeeTVHD|  ZeeTVHD : Program1|   Hindi| 31|         News|Jio 4G|           Trinayani|[\"Politics\"]|[\"Drama\"]|                544|2021-06-02T00:00:...|Sat Jun 01 18:57:...|2024-06-01 18:57:53|         0.0|(1,[0],[1.0])| [[\"Drama\"]]|       [\"Drama\"]|               [Drama]|\n",
            "|xqumjemadhh5cckq|2872167342|  ZeeTelugu|ZeeTelugu : Program3|Assamese| 32|         News|Jio 4G|Mithai+Kottu+Chit...|   [\"Drama\"]| [\"News\"]|                480|2021-06-02T00:00:...|Wed Jun 05 06:09:...|2024-06-05 06:09:41|         1.0|    (1,[],[])|  [[\"News\"]]|        [\"News\"]|                [News]|\n",
            "|f7mwj1r2qxso8kt1|4523108202|  ZeeTelugu|ZeeTelugu : Program2|   Hindi|  3|Entertainment|Jio 4G|   Afternoon+Express|   [\"Drama\"]|[\"Drama\"]|                970|2021-06-02T00:00:...|Thu May 30 05:05:...|2024-05-30 05:05:43|         0.0|(1,[0],[1.0])| [[\"Drama\"]]|       [\"Drama\"]|               [Drama]|\n",
            "|qqwh1e8a89mrxkov|4368321043| ZeeKannada|ZeeKannada : Prog...|Assamese|100|Entertainment|Jio 4G|                News|    [\"News\"]|[\"Drama\"]|                625|2021-06-02T00:00:...|Fri May 31 07:32:...|2024-05-31 07:32:51|         0.0|(1,[0],[1.0])| [[\"Drama\"]]|       [\"Drama\"]|               [Drama]|\n",
            "|bnr691hj223t7uoy|1904538675| ZeeKannada|ZeeKannada : Prog...| Kannada| 95|         News|Jio 4G|                News|[\"Politics\"]|[\"Drama\"]|                527|2021-06-02T00:00:...|Tue Jun 04 19:52:...|2024-06-04 19:52:32|         0.0|(1,[0],[1.0])| [[\"Drama\"]]|       [\"Drama\"]|               [Drama]|\n",
            "|oynmyuvitaur7y0c|7431393489|  ZeeTelugu|ZeeTelugu : Program2| Kannada| 64|Entertainment|Jio 4G|      Pavitra+Rishta|    [\"News\"]|[\"Drama\"]|                 39|2021-06-02T00:00:...|Tue Jun 04 03:29:...|2024-06-04 03:29:37|         0.0|(1,[0],[1.0])| [[\"Drama\"]]|       [\"Drama\"]|               [Drama]|\n",
            "+----------------+----------+-----------+--------------------+--------+---+-------------+------+--------------------+------------+---------+-------------------+--------------------+--------------------+-------------------+------------+-------------+------------+----------------+----------------------+\n",
            "only showing top 20 rows\n",
            "\n"
          ]
        }
      ],
      "source": [
        "df_array_conversion = df_flattened.withColumn(\n",
        "    \"genres_array_converted\",\n",
        "    split(regexp_replace(col(\"genres_flattened\"), r'[\\[\\]\"]', ''), ',')\n",
        ")\n",
        "df_array_conversion.show()"
      ]
    },
    {
      "cell_type": "code",
      "execution_count": null,
      "metadata": {
        "colab": {
          "base_uri": "https://localhost:8080/"
        },
        "id": "X8MbP8Zmhxls",
        "outputId": "172e5bc4-e322-4ad8-9389-18ed41e789ac"
      },
      "outputs": [
        {
          "output_type": "stream",
          "name": "stdout",
          "text": [
            "+----------+-----+---------+\n",
            "|user_id   |genre|view_time|\n",
            "+----------+-----+---------+\n",
            "|5280814033|News |732      |\n",
            "|8344862428|Drama|802      |\n",
            "|8756205690|Drama|304      |\n",
            "|4836944596|News |821      |\n",
            "|7412863037|Drama|767      |\n",
            "|6397330561|News |99       |\n",
            "|6815437274|News |179      |\n",
            "|5707084375|News |147      |\n",
            "|7926247692|Drama|678      |\n",
            "|4154998109|News |837      |\n",
            "|9497383869|Drama|88       |\n",
            "|7362514332|News |37       |\n",
            "|2384690764|Drama|20       |\n",
            "|3191315730|News |40       |\n",
            "|7286994583|Drama|544      |\n",
            "|2872167342|News |480      |\n",
            "|4523108202|Drama|970      |\n",
            "|4368321043|Drama|625      |\n",
            "|1904538675|Drama|527      |\n",
            "|7431393489|Drama|39       |\n",
            "+----------+-----+---------+\n",
            "only showing top 20 rows\n",
            "\n"
          ]
        }
      ],
      "source": [
        "from pyspark.sql.functions import col, split, regexp_replace, explode\n",
        "from pyspark.sql.types import DoubleType\n",
        "\n",
        "# Example DataFrame `df_flattened` with `genres_flattened`\n",
        "df_array_conversion = df_flattened.withColumn(\n",
        "    \"genres_array_converted\",\n",
        "    split(regexp_replace(col(\"genres_flattened\"), r'[\\[\\]\"]', ''), ',')\n",
        ")\n",
        "\n",
        "# Extract the first genre from the array for simplicity\n",
        "df_genres_extracted = df_array_conversion.withColumn(\n",
        "    \"genre\",\n",
        "    col(\"genres_array_converted\")[0]\n",
        ")\n",
        "\n",
        "# Create a DataFrame with user viewing data\n",
        "user_viewing_df = df_genres_extracted.select(\n",
        "    col(\"crmid\").alias(\"user_id\"),\n",
        "    col(\"genre\"),\n",
        "    col(\"watch_time_portrait\").alias(\"view_time\")\n",
        ")\n",
        "\n",
        "user_viewing_df.show(truncate=False)"
      ]
    },
    {
      "cell_type": "code",
      "execution_count": null,
      "metadata": {
        "id": "KdiOb-XghxjN"
      },
      "outputs": [],
      "source": [
        "from pyspark.sql import functions as F\n",
        "\n",
        "\n",
        "user_genre_pref = user_viewing_df.groupBy(\"user_id\", \"genre\").agg(F.sum(\"view_time\").alias(\"total_view_time\"))\n",
        "\n",
        "\n",
        "user_genre_matrix = user_genre_pref.groupBy(\"user_id\").pivot(\"genre\").sum(\"total_view_time\").na.fill(0)\n"
      ]
    },
    {
      "cell_type": "code",
      "execution_count": null,
      "metadata": {
        "id": "isWVqCNJhxgY"
      },
      "outputs": [],
      "source": [
        "def create_long_format(df):\n",
        "    rows = []\n",
        "    for row in df.collect():\n",
        "        user_id = row['user_id']\n",
        "        for genre in df.columns:\n",
        "            if genre != 'user_id':\n",
        "                rows.append((user_id, genre, row[genre]))\n",
        "    return rows\n",
        "\n",
        "ratings_data = create_long_format(user_genre_matrix)\n",
        "ratings = spark.createDataFrame(ratings_data, [\"user_id\", \"genre\", \"rating\"])\n"
      ]
    },
    {
      "cell_type": "code",
      "execution_count": null,
      "metadata": {
        "id": "1rrEveWmhxdU"
      },
      "outputs": [],
      "source": [
        "from pyspark.ml.feature import StringIndexer\n",
        "\n",
        "user_indexer = StringIndexer(inputCol=\"user_id\", outputCol=\"user_index\").fit(ratings)\n",
        "genre_indexer = StringIndexer(inputCol=\"genre\", outputCol=\"genre_index\").fit(ratings)\n",
        "\n",
        "ratings_indexed = user_indexer.transform(ratings)\n",
        "ratings_indexed = genre_indexer.transform(ratings_indexed)\n"
      ]
    },
    {
      "cell_type": "code",
      "execution_count": null,
      "metadata": {
        "colab": {
          "base_uri": "https://localhost:8080/"
        },
        "id": "s4mzXkOIiJCy",
        "outputId": "9370b5e8-1049-4ead-8faf-fe876617624f"
      },
      "outputs": [
        {
          "output_type": "stream",
          "name": "stdout",
          "text": [
            "+----------+-----------------------------------+\n",
            "|user_index|recommendations                    |\n",
            "+----------+-----------------------------------+\n",
            "|1         |[{1, 895.34534}, {0, -0.4999237}]  |\n",
            "|3         |[{1, 436.21942}, {0, -0.24356079}] |\n",
            "|5         |[{0, 123.748886}, {1, -0.06895447}]|\n",
            "|6         |[{1, 927.21533}, {0, -0.5177002}]  |\n",
            "|9         |[{0, 351.28717}, {1, -0.19574356}] |\n",
            "|12        |[{1, 516.89014}, {0, -0.28862}]    |\n",
            "|13        |[{1, 311.72757}, {0, -0.17406464}] |\n",
            "|15        |[{1, 96.60568}, {0, -0.053941727}] |\n",
            "|16        |[{0, 533.9166}, {1, -0.29750443}]  |\n",
            "|17        |[{1, 534.81696}, {0, -0.2986145}]  |\n",
            "|19        |[{1, 18.92276}, {0, -0.010565281}] |\n",
            "|20        |[{1, 879.4104}, {0, -0.49101257}]  |\n",
            "|22        |[{1, 585.6096}, {0, -0.3269806}]   |\n",
            "|26        |[{1, 703.12994}, {0, -0.39259338}] |\n",
            "|27        |[{0, 744.4893}, {1, -0.41484833}]  |\n",
            "|28        |[{1, 763.88196}, {0, -0.42652893}] |\n",
            "|31        |[{1, 798.7397}, {0, -0.44596863}]  |\n",
            "|34        |[{1, 802.7234}, {0, -0.44821167}]  |\n",
            "|35        |[{0, 494.99554}, {1, -0.27581787}] |\n",
            "|37        |[{0, 242.50789}, {1, -0.13512993}] |\n",
            "+----------+-----------------------------------+\n",
            "only showing top 20 rows\n",
            "\n"
          ]
        }
      ],
      "source": [
        "from pyspark.ml.recommendation import ALS\n",
        "\n",
        "\n",
        "als = ALS(\n",
        "    userCol=\"user_index\",\n",
        "    itemCol=\"genre_index\",\n",
        "    ratingCol=\"rating\",\n",
        "    coldStartStrategy=\"drop\",\n",
        "    rank=10,\n",
        "    maxIter=10,\n",
        "    regParam=0.1\n",
        ")\n",
        "\n",
        "model = als.fit(ratings_indexed)\n",
        "\n",
        "\n",
        "user_recommendations = model.recommendForAllUsers(numItems=5)\n",
        "user_recommendations.show(truncate=False)\n"
      ]
    },
    {
      "cell_type": "code",
      "execution_count": null,
      "metadata": {
        "colab": {
          "base_uri": "https://localhost:8080/"
        },
        "id": "hhAXh3pxi6IB",
        "outputId": "64ee4728-ca33-49e8-c447-a456b0c70212"
      },
      "outputs": [
        {
          "output_type": "stream",
          "name": "stdout",
          "text": [
            "Number of Users: 100000\n"
          ]
        }
      ],
      "source": [
        "num_users = user_viewing_df.select(\"user_id\").distinct().count()\n",
        "print(f\"Number of Users: {num_users}\")\n"
      ]
    },
    {
      "cell_type": "code",
      "execution_count": null,
      "metadata": {
        "colab": {
          "base_uri": "https://localhost:8080/"
        },
        "id": "JzwrRQQFiI_S",
        "outputId": "e57f577c-a7f3-4066-89d6-e5397def180f"
      },
      "outputs": [
        {
          "output_type": "stream",
          "name": "stdout",
          "text": [
            "+----------+-----------------------------------+\n",
            "|user_index|recommendations                    |\n",
            "+----------+-----------------------------------+\n",
            "|1         |[{1, 895.34534}, {0, -0.4999237}]  |\n",
            "|3         |[{1, 436.21942}, {0, -0.24356079}] |\n",
            "|5         |[{0, 123.748886}, {1, -0.06895447}]|\n",
            "|6         |[{1, 927.21533}, {0, -0.5177002}]  |\n",
            "|9         |[{0, 351.28717}, {1, -0.19574356}] |\n",
            "|12        |[{1, 516.89014}, {0, -0.28862}]    |\n",
            "|13        |[{1, 311.72757}, {0, -0.17406464}] |\n",
            "|15        |[{1, 96.60568}, {0, -0.053941727}] |\n",
            "|16        |[{0, 533.9166}, {1, -0.29750443}]  |\n",
            "|17        |[{1, 534.81696}, {0, -0.2986145}]  |\n",
            "|19        |[{1, 18.92276}, {0, -0.010565281}] |\n",
            "|20        |[{1, 879.4104}, {0, -0.49101257}]  |\n",
            "|22        |[{1, 585.6096}, {0, -0.3269806}]   |\n",
            "|26        |[{1, 703.12994}, {0, -0.39259338}] |\n",
            "|27        |[{0, 744.4893}, {1, -0.41484833}]  |\n",
            "|28        |[{1, 763.88196}, {0, -0.42652893}] |\n",
            "|31        |[{1, 798.7397}, {0, -0.44596863}]  |\n",
            "|34        |[{1, 802.7234}, {0, -0.44821167}]  |\n",
            "|35        |[{0, 494.99554}, {1, -0.27581787}] |\n",
            "|37        |[{0, 242.50789}, {1, -0.13512993}] |\n",
            "+----------+-----------------------------------+\n",
            "only showing top 20 rows\n",
            "\n"
          ]
        }
      ],
      "source": [
        "num_recommendations = 2  # Number of items to recommend for each user\n",
        "\n",
        "# Generate recommendations for all users\n",
        "user_recommendations = model.recommendForAllUsers(numItems=num_recommendations)\n",
        "user_recommendations.show(truncate=False)\n"
      ]
    },
    {
      "cell_type": "markdown",
      "source": [
        "Creating genre mappping"
      ],
      "metadata": {
        "id": "fIrgcPjBCOLr"
      }
    },
    {
      "cell_type": "code",
      "execution_count": null,
      "metadata": {
        "id": "czJYPCo7iI7u"
      },
      "outputs": [],
      "source": [
        "from pyspark.sql import functions as F\n",
        "\n",
        "channels_df = spark.createDataFrame([\n",
        "    (\"ZeeKannada\", 3),\n",
        "    (\"ZeeAnmol\", 2),\n",
        "    (\"ZeeTelugu\", 5),\n",
        "    (\"ZeeTVHD\", 4),\n",
        "    (\"AajTak\", 0),\n",
        "    (\"News18Assam\", 1)\n",
        "], [\"channel\", \"channel_index\"])\n",
        "\n",
        "serials_df = spark.createDataFrame([\n",
        "    (\"Punar+Vivaah\", 4),\n",
        "    (\"Mithai+Kottu+Chithra\", 1),\n",
        "    (\"Trinayani\", 5),\n",
        "    (\"Pavitra+Rishta\", 3),\n",
        "    (\"Afternoon+Express\", 0),\n",
        "    (\"News\", 2)\n",
        "], [\"serial\", \"serial_index\"])\n",
        "\n",
        "genre_to_channels = {\n",
        "    \"News\": [\"News18Assam\", \"AajTak\"],\n",
        "    \"Drama\": [\"ZeeKannada\", \"ZeeAnmol\"],\n",
        "    \"Entertainment\": [\"ZeeTelugu\", \"ZeeTVHD\"]\n",
        "}\n",
        "\n",
        "genre_to_serials = {\n",
        "    \"News\": [\"News\"],\n",
        "    \"Drama\": [\"Pavitra Rishta\", \"Mithai Kottu Chittemma\"],\n",
        "    \"Entertainment\": [\"Trinayani\", \"Punar Vivaah\"]\n",
        "}\n",
        "\n"
      ]
    },
    {
      "cell_type": "markdown",
      "source": [
        "Creating mapping dictionaries"
      ],
      "metadata": {
        "id": "wuqJvnCpCR5y"
      }
    },
    {
      "cell_type": "code",
      "execution_count": null,
      "metadata": {
        "id": "OqrHOMA-097m"
      },
      "outputs": [],
      "source": [
        "\n",
        "\n",
        "\n",
        "channel_mapping = dict(channels_df.select(\"channel_index\", \"channel\").rdd.map(lambda row: (row[\"channel_index\"], row[\"channel\"])).collect())\n",
        "serial_mapping = dict(serials_df.select(\"serial_index\", \"serial\").rdd.map(lambda row: (row[\"serial_index\"], row[\"serial\"])).collect())"
      ]
    },
    {
      "cell_type": "code",
      "execution_count": null,
      "metadata": {
        "colab": {
          "base_uri": "https://localhost:8080/"
        },
        "id": "zaMnnnuj1LPD",
        "outputId": "205cd142-955b-409b-c590-9ab96638519a"
      },
      "outputs": [
        {
          "output_type": "stream",
          "name": "stdout",
          "text": [
            "root\n",
            " |-- user_index: integer (nullable = false)\n",
            " |-- recommendations: array (nullable = true)\n",
            " |    |-- element: struct (containsNull = true)\n",
            " |    |    |-- genre_index: integer (nullable = true)\n",
            " |    |    |-- rating: float (nullable = true)\n",
            "\n",
            "+----------+-----------------------------------+\n",
            "|user_index|recommendations                    |\n",
            "+----------+-----------------------------------+\n",
            "|1         |[{1, 895.34534}, {0, -0.4999237}]  |\n",
            "|3         |[{1, 436.21942}, {0, -0.24356079}] |\n",
            "|5         |[{0, 123.748886}, {1, -0.06895447}]|\n",
            "|6         |[{1, 927.21533}, {0, -0.5177002}]  |\n",
            "|9         |[{0, 351.28717}, {1, -0.19574356}] |\n",
            "|12        |[{1, 516.89014}, {0, -0.28862}]    |\n",
            "|13        |[{1, 311.72757}, {0, -0.17406464}] |\n",
            "|15        |[{1, 96.60568}, {0, -0.053941727}] |\n",
            "|16        |[{0, 533.9166}, {1, -0.29750443}]  |\n",
            "|17        |[{1, 534.81696}, {0, -0.2986145}]  |\n",
            "|19        |[{1, 18.92276}, {0, -0.010565281}] |\n",
            "|20        |[{1, 879.4104}, {0, -0.49101257}]  |\n",
            "|22        |[{1, 585.6096}, {0, -0.3269806}]   |\n",
            "|26        |[{1, 703.12994}, {0, -0.39259338}] |\n",
            "|27        |[{0, 744.4893}, {1, -0.41484833}]  |\n",
            "|28        |[{1, 763.88196}, {0, -0.42652893}] |\n",
            "|31        |[{1, 798.7397}, {0, -0.44596863}]  |\n",
            "|34        |[{1, 802.7234}, {0, -0.44821167}]  |\n",
            "|35        |[{0, 494.99554}, {1, -0.27581787}] |\n",
            "|37        |[{0, 242.50789}, {1, -0.13512993}] |\n",
            "+----------+-----------------------------------+\n",
            "only showing top 20 rows\n",
            "\n"
          ]
        }
      ],
      "source": [
        "\n",
        "user_recommendations.printSchema()\n",
        "\n",
        "user_recommendations.show(truncate=False)\n",
        "\n"
      ]
    },
    {
      "cell_type": "markdown",
      "source": [
        "UDF to get channels and serials based on genre and then registering those udfs"
      ],
      "metadata": {
        "id": "Jly9N7d5CZHH"
      }
    },
    {
      "cell_type": "code",
      "execution_count": null,
      "metadata": {
        "id": "qBZJ2EG-uowV"
      },
      "outputs": [],
      "source": [
        "\n",
        "def get_channels(genre):\n",
        "    return genre_to_channels.get(genre, [])\n",
        "\n",
        "def get_serials(genre):\n",
        "    return genre_to_serials.get(genre, [])\n",
        "\n",
        "get_channels_udf = udf(get_channels, ArrayType(StringType()))\n",
        "get_serials_udf = udf(get_serials, ArrayType(StringType()))"
      ]
    },
    {
      "cell_type": "code",
      "execution_count": null,
      "metadata": {
        "colab": {
          "base_uri": "https://localhost:8080/"
        },
        "id": "ZUAAyJCWuvuo",
        "outputId": "1f2ee9d6-9bc2-477c-e89c-f01c23d95735"
      },
      "outputs": [
        {
          "output_type": "stream",
          "name": "stdout",
          "text": [
            "+----------+-----+---------+----------------------+----------------------------------------+\n",
            "|user_id   |genre|view_time|channels              |serials                                 |\n",
            "+----------+-----+---------+----------------------+----------------------------------------+\n",
            "|5280814033|News |732      |[News18Assam, AajTak] |[News]                                  |\n",
            "|8344862428|Drama|802      |[ZeeKannada, ZeeAnmol]|[Pavitra Rishta, Mithai Kottu Chittemma]|\n",
            "|8756205690|Drama|304      |[ZeeKannada, ZeeAnmol]|[Pavitra Rishta, Mithai Kottu Chittemma]|\n",
            "|4836944596|News |821      |[News18Assam, AajTak] |[News]                                  |\n",
            "|7412863037|Drama|767      |[ZeeKannada, ZeeAnmol]|[Pavitra Rishta, Mithai Kottu Chittemma]|\n",
            "|6397330561|News |99       |[News18Assam, AajTak] |[News]                                  |\n",
            "|6815437274|News |179      |[News18Assam, AajTak] |[News]                                  |\n",
            "|5707084375|News |147      |[News18Assam, AajTak] |[News]                                  |\n",
            "|7926247692|Drama|678      |[ZeeKannada, ZeeAnmol]|[Pavitra Rishta, Mithai Kottu Chittemma]|\n",
            "|4154998109|News |837      |[News18Assam, AajTak] |[News]                                  |\n",
            "|9497383869|Drama|88       |[ZeeKannada, ZeeAnmol]|[Pavitra Rishta, Mithai Kottu Chittemma]|\n",
            "|7362514332|News |37       |[News18Assam, AajTak] |[News]                                  |\n",
            "|2384690764|Drama|20       |[ZeeKannada, ZeeAnmol]|[Pavitra Rishta, Mithai Kottu Chittemma]|\n",
            "|3191315730|News |40       |[News18Assam, AajTak] |[News]                                  |\n",
            "|7286994583|Drama|544      |[ZeeKannada, ZeeAnmol]|[Pavitra Rishta, Mithai Kottu Chittemma]|\n",
            "|2872167342|News |480      |[News18Assam, AajTak] |[News]                                  |\n",
            "|4523108202|Drama|970      |[ZeeKannada, ZeeAnmol]|[Pavitra Rishta, Mithai Kottu Chittemma]|\n",
            "|4368321043|Drama|625      |[ZeeKannada, ZeeAnmol]|[Pavitra Rishta, Mithai Kottu Chittemma]|\n",
            "|1904538675|Drama|527      |[ZeeKannada, ZeeAnmol]|[Pavitra Rishta, Mithai Kottu Chittemma]|\n",
            "|7431393489|Drama|39       |[ZeeKannada, ZeeAnmol]|[Pavitra Rishta, Mithai Kottu Chittemma]|\n",
            "+----------+-----+---------+----------------------+----------------------------------------+\n",
            "only showing top 20 rows\n",
            "\n"
          ]
        }
      ],
      "source": [
        "from pyspark.sql.functions import col\n",
        "\n",
        "user_viewing_df = df_genres_extracted.select(\n",
        "    col(\"crmid\").alias(\"user_id\"),\n",
        "    col(\"genre\"),\n",
        "    col(\"watch_time_portrait\").alias(\"view_time\")\n",
        ")\n",
        "\n",
        "user_viewing_df = user_viewing_df.withColumn(\n",
        "    \"channels\",\n",
        "    get_channels_udf(col(\"genre\"))\n",
        ").withColumn(\n",
        "    \"serials\",\n",
        "    get_serials_udf(col(\"genre\"))\n",
        ")\n",
        "\n",
        "user_viewing_df.show(truncate=False)"
      ]
    },
    {
      "cell_type": "code",
      "execution_count": null,
      "metadata": {
        "colab": {
          "base_uri": "https://localhost:8080/"
        },
        "id": "nnG5HX-Lu5nl",
        "outputId": "2a8d4f60-1b1f-4905-a1a7-4f1a7f698bac"
      },
      "outputs": [
        {
          "output_type": "stream",
          "name": "stdout",
          "text": [
            "+----------+-----------+-------------+------------+---------+\n",
            "|user_index|genre_index|channel_index|serial_index|view_time|\n",
            "+----------+-----------+-------------+------------+---------+\n",
            "|73926.0   |1.0        |3.0          |2.0         |732.0    |\n",
            "|73926.0   |1.0        |2.0          |2.0         |732.0    |\n",
            "|40947.0   |0.0        |1.0          |1.0         |802.0    |\n",
            "|40947.0   |0.0        |1.0          |0.0         |802.0    |\n",
            "|40947.0   |0.0        |0.0          |1.0         |802.0    |\n",
            "|40947.0   |0.0        |0.0          |0.0         |802.0    |\n",
            "|43253.0   |0.0        |1.0          |1.0         |304.0    |\n",
            "|43253.0   |0.0        |1.0          |0.0         |304.0    |\n",
            "|43253.0   |0.0        |0.0          |1.0         |304.0    |\n",
            "|43253.0   |0.0        |0.0          |0.0         |304.0    |\n",
            "|71393.0   |1.0        |3.0          |2.0         |821.0    |\n",
            "|71393.0   |1.0        |2.0          |2.0         |821.0    |\n",
            "|35763.0   |0.0        |1.0          |1.0         |767.0    |\n",
            "|35763.0   |0.0        |1.0          |0.0         |767.0    |\n",
            "|35763.0   |0.0        |0.0          |1.0         |767.0    |\n",
            "|35763.0   |0.0        |0.0          |0.0         |767.0    |\n",
            "|80164.0   |1.0        |3.0          |2.0         |99.0     |\n",
            "|80164.0   |1.0        |2.0          |2.0         |99.0     |\n",
            "|82479.0   |1.0        |3.0          |2.0         |179.0    |\n",
            "|82479.0   |1.0        |2.0          |2.0         |179.0    |\n",
            "+----------+-----------+-------------+------------+---------+\n",
            "only showing top 20 rows\n",
            "\n"
          ]
        }
      ],
      "source": [
        "from pyspark.sql.functions import explode\n",
        "from pyspark.ml.feature import StringIndexer\n",
        "from pyspark.sql.types import DoubleType\n",
        "\n",
        "\n",
        "exploded_df = user_viewing_df.withColumn(\"channel\", explode(col(\"channels\"))) \\\n",
        "    .withColumn(\"serial\", explode(col(\"serials\")))\n",
        "\n",
        "exploded_df = exploded_df.withColumn(\"view_time\", col(\"view_time\").cast(DoubleType()))\n",
        "\n",
        "\n",
        "user_indexer = StringIndexer(inputCol=\"user_id\", outputCol=\"user_index\")\n",
        "genre_indexer = StringIndexer(inputCol=\"genre\", outputCol=\"genre_index\")\n",
        "channel_indexer = StringIndexer(inputCol=\"channel\", outputCol=\"channel_index\")\n",
        "serial_indexer = StringIndexer(inputCol=\"serial\", outputCol=\"serial_index\")\n",
        "\n",
        "user_indexer_model = user_indexer.fit(exploded_df)\n",
        "genre_indexer_model = genre_indexer.fit(exploded_df)\n",
        "channel_indexer_model = channel_indexer.fit(exploded_df)\n",
        "serial_indexer_model = serial_indexer.fit(exploded_df)\n",
        "\n",
        "indexed_df = user_indexer_model.transform(exploded_df)\n",
        "indexed_df = genre_indexer_model.transform(indexed_df)\n",
        "indexed_df = channel_indexer_model.transform(indexed_df)\n",
        "indexed_df = serial_indexer_model.transform(indexed_df)\n",
        "\n",
        "model_df = indexed_df.select(\"user_index\", \"genre_index\", \"channel_index\", \"serial_index\", \"view_time\")\n",
        "\n",
        "model_df.show(truncate=False)\n"
      ]
    },
    {
      "cell_type": "code",
      "execution_count": null,
      "metadata": {
        "colab": {
          "base_uri": "https://localhost:8080/"
        },
        "id": "xwC-555jvFt7",
        "outputId": "c40656e5-3901-4e31-d9b3-3d3c758d5e50"
      },
      "outputs": [
        {
          "output_type": "stream",
          "name": "stdout",
          "text": [
            "+----------+-----------+-------------+------------+---------+----------+\n",
            "|user_index|genre_index|channel_index|serial_index|view_time|prediction|\n",
            "+----------+-----------+-------------+------------+---------+----------+\n",
            "|65408.0   |1.0        |3.0          |2.0         |984.0    |983.63116 |\n",
            "|65408.0   |1.0        |2.0          |2.0         |984.0    |983.63116 |\n",
            "|82529.0   |1.0        |3.0          |2.0         |807.0    |806.6975  |\n",
            "|82529.0   |1.0        |2.0          |2.0         |807.0    |806.6975  |\n",
            "|77422.0   |1.0        |3.0          |2.0         |686.0    |685.7428  |\n",
            "|77422.0   |1.0        |2.0          |2.0         |686.0    |685.7428  |\n",
            "|78120.0   |1.0        |3.0          |2.0         |660.0    |659.75256 |\n",
            "|78120.0   |1.0        |2.0          |2.0         |660.0    |659.75256 |\n",
            "|54264.0   |1.0        |3.0          |2.0         |525.0    |524.80316 |\n",
            "|54264.0   |1.0        |2.0          |2.0         |525.0    |524.80316 |\n",
            "|65867.0   |1.0        |3.0          |2.0         |535.0    |534.79944 |\n",
            "|65867.0   |1.0        |2.0          |2.0         |535.0    |534.79944 |\n",
            "|2366.0    |0.0        |1.0          |1.0         |287.0    |286.84534 |\n",
            "|2366.0    |0.0        |1.0          |0.0         |287.0    |286.84534 |\n",
            "|2366.0    |0.0        |0.0          |1.0         |287.0    |286.84534 |\n",
            "|2366.0    |0.0        |0.0          |0.0         |287.0    |286.84534 |\n",
            "|15790.0   |0.0        |1.0          |1.0         |89.0     |88.95204  |\n",
            "|15790.0   |0.0        |1.0          |0.0         |89.0     |88.95204  |\n",
            "|15790.0   |0.0        |0.0          |1.0         |89.0     |88.95204  |\n",
            "|15790.0   |0.0        |0.0          |0.0         |89.0     |88.95204  |\n",
            "+----------+-----------+-------------+------------+---------+----------+\n",
            "only showing top 20 rows\n",
            "\n"
          ]
        }
      ],
      "source": [
        "from pyspark.ml.recommendation import ALS\n",
        "\n",
        "\n",
        "als = ALS(\n",
        "    userCol=\"user_index\",\n",
        "    itemCol=\"channel_index\",\n",
        "    ratingCol=\"view_time\",\n",
        "    coldStartStrategy=\"drop\",\n",
        "    rank=10,\n",
        "    maxIter=10,\n",
        "    regParam=0.1\n",
        ")\n",
        "\n",
        "model = als.fit(model_df)\n",
        "\n",
        "\n",
        "predictions = model.transform(model_df)\n",
        "predictions.show(truncate=False)\n"
      ]
    },
    {
      "cell_type": "code",
      "execution_count": null,
      "metadata": {
        "colab": {
          "base_uri": "https://localhost:8080/"
        },
        "id": "EM5g5eoXvJ8W",
        "outputId": "175d3b32-4185-4bc0-b163-337b46706aea"
      },
      "outputs": [
        {
          "output_type": "stream",
          "name": "stdout",
          "text": [
            "+----------+------------------------------------------------------------------+\n",
            "|user_index|recommendations                                                   |\n",
            "+----------+------------------------------------------------------------------+\n",
            "|1         |[{1, 318.82816}, {0, 318.82816}, {3, -150.16376}, {2, -150.16376}]|\n",
            "|3         |[{1, 472.74515}, {0, 472.74515}, {3, -222.65662}, {2, -222.65662}]|\n",
            "|5         |[{1, 9.994612}, {0, 9.994612}, {3, -4.707328}, {2, -4.707328}]    |\n",
            "|6         |[{1, 312.83136}, {0, 312.83136}, {3, -147.33937}, {2, -147.33937}]|\n",
            "|9         |[{1, 745.59814}, {0, 745.59814}, {3, -351.1667}, {2, -351.1667}]  |\n",
            "|12        |[{1, 495.73276}, {0, 495.73276}, {3, -233.48346}, {2, -233.48346}]|\n",
            "|13        |[{1, 242.8691}, {0, 242.8691}, {3, -114.38808}, {2, -114.38808}]  |\n",
            "|15        |[{1, 994.464}, {0, 994.464}, {3, -468.3791}, {2, -468.3791}]      |\n",
            "|16        |[{1, 63.96552}, {0, 63.96552}, {3, -30.126896}, {2, -30.126896}]  |\n",
            "|17        |[{1, 305.83514}, {0, 305.83514}, {3, -144.04425}, {2, -144.04425}]|\n",
            "|19        |[{1, 365.8028}, {0, 365.8028}, {3, -172.28821}, {2, -172.28821}]  |\n",
            "|20        |[{1, 494.73334}, {0, 494.73334}, {3, -233.01276}, {2, -233.01276}]|\n",
            "|22        |[{1, 386.7915}, {0, 386.7915}, {3, -182.17361}, {2, -182.17361}]  |\n",
            "|26        |[{1, 989.4667}, {0, 989.4667}, {3, -466.0255}, {2, -466.0255}]    |\n",
            "|27        |[{1, 878.5264}, {0, 878.5264}, {3, -413.77414}, {2, -413.77414}]  |\n",
            "|28        |[{1, 663.6423}, {0, 663.6423}, {3, -312.5666}, {2, -312.5666}]    |\n",
            "|31        |[{1, 347.81247}, {0, 347.81247}, {3, -163.81502}, {2, -163.81502}]|\n",
            "|34        |[{1, 961.4816}, {0, 961.4816}, {3, -452.84497}, {2, -452.84497}]  |\n",
            "|35        |[{1, 579.6875}, {0, 579.6875}, {3, -273.02502}, {2, -273.02502}]  |\n",
            "|37        |[{1, 162.91217}, {0, 162.91217}, {3, -76.72945}, {2, -76.72945}]  |\n",
            "+----------+------------------------------------------------------------------+\n",
            "only showing top 20 rows\n",
            "\n"
          ]
        }
      ],
      "source": [
        "\n",
        "user_recommendations = model.recommendForAllUsers(numItems=10)\n",
        "\n",
        "\n",
        "user_recommendations.show(truncate=False)\n"
      ]
    },
    {
      "cell_type": "code",
      "execution_count": null,
      "metadata": {
        "colab": {
          "base_uri": "https://localhost:8080/"
        },
        "id": "jSYRVnEW2DPi",
        "outputId": "be9830d4-a7e1-44bd-bc83-5f586b9d7d9b"
      },
      "outputs": [
        {
          "output_type": "stream",
          "name": "stdout",
          "text": [
            "+----------+---------------------------------+\n",
            "|user_index|recommendations                  |\n",
            "+----------+---------------------------------+\n",
            "|1         |[{0, 318.82816}, {1, -150.16376}]|\n",
            "|3         |[{0, 472.74515}, {1, -222.65662}]|\n",
            "|5         |[{0, 9.994612}, {1, -4.707328}]  |\n",
            "|6         |[{0, 312.83136}, {1, -147.33937}]|\n",
            "|9         |[{0, 745.59814}, {1, -351.1667}] |\n",
            "|12        |[{0, 495.73276}, {1, -233.48346}]|\n",
            "|13        |[{0, 242.8691}, {1, -114.38807}] |\n",
            "|15        |[{0, 994.464}, {1, -468.3791}]   |\n",
            "|16        |[{0, 63.96552}, {1, -30.126896}] |\n",
            "|17        |[{0, 305.83514}, {1, -144.04424}]|\n",
            "|19        |[{0, 365.8028}, {1, -172.28821}] |\n",
            "|20        |[{0, 494.73334}, {1, -233.01276}]|\n",
            "|22        |[{0, 386.7915}, {1, -182.17361}] |\n",
            "|26        |[{0, 989.4667}, {1, -466.0255}]  |\n",
            "|27        |[{0, 878.52637}, {1, -413.77414}]|\n",
            "|28        |[{0, 663.6423}, {1, -312.5666}]  |\n",
            "|31        |[{0, 347.81247}, {1, -163.81502}]|\n",
            "|34        |[{0, 961.4816}, {1, -452.84494}] |\n",
            "|35        |[{0, 579.6875}, {1, -273.02502}] |\n",
            "|37        |[{0, 162.91217}, {1, -76.72945}] |\n",
            "+----------+---------------------------------+\n",
            "only showing top 20 rows\n",
            "\n"
          ]
        }
      ],
      "source": [
        "\n",
        "    userCol=\"user_index\",\n",
        "    itemCol=\"genre_index\",\n",
        "    ratingCol=\"view_time\",\n",
        "    coldStartStrategy=\"drop\",\n",
        "    rank=10,\n",
        "    maxIter=10,\n",
        "    regParam=0.1\n",
        ")\n",
        "\n",
        "model = als.fit(model_df)\n",
        "\n",
        "user_recommendations = model.recommendForAllUsers(numItems=10)\n",
        "\n",
        "user_recommendations.show(truncate=False)\n",
        "\n",
        "\n",
        "\n",
        "def create_long_format(df):\n",
        "    rows = []\n",
        "    for row in df.toLocalIterator():\n",
        "        user_id = row['user_id']\n",
        "        for genre in df.columns:\n",
        "            if genre != 'user_id':\n",
        "                rows.append((user_id, genre, row[genre]))\n",
        "    return rows\n",
        "def get_recommendations_for_user(crmid, model, user_indexer_model, genre_indexer_model,\n",
        "                                channel_indexer_model, serial_indexer_model, user_viewing_df,\n",
        "                                genre_to_channels, genre_to_serials):\n",
        "\n",
        "    user_genre_df = user_viewing_df.filter(col(\"user_id\") == crmid).select(\"genre\").distinct()\n",
        "    if user_genre_df.count() == 0:\n",
        "        return {\"error\": \"No viewing history found for this user.\"}\n",
        "    user_genre = user_genre_df.collect()[0].genre\n",
        "\n",
        "    associated_channels = genre_to_channels.get(user_genre, [])\n",
        "    associated_serials = genre_to_serials.get(user_genre, [])\n",
        "\n",
        "    user_index_df = user_indexer_model.transform(spark.createDataFrame([(crmid,)], [\"user_id\"]))\n",
        "    if user_index_df.count() == 0:\n",
        "        return {\"error\": \"User not found in the index.\"}\n",
        "    user_index = user_index_df.collect()[0][\"user_index\"]\n",
        "\n",
        "    user_recommendations_df = model.recommendForAllUsers(numItems=10).filter(col(\"user_index\") == user_index)\n",
        "    if user_recommendations_df.count() == 0:\n",
        "        return {\"error\": \"No recommendations found for this user.\"}\n",
        "    recommendations = user_recommendations_df.collect()[0][\"recommendations\"]\n",
        "\n",
        "    recommended_channel = None\n",
        "    recommended_serial = None\n",
        "    for recommendation in recommendations:\n",
        "      genre_index = recommendation[\"genre_index\"]\n",
        "\n",
        "      genre_mapping = {i: g for g, i in enumerate(genre_indexer_model.labels)}\n",
        "      genre = genre_mapping.get(genre_index, \"Unknown\")\n",
        "\n",
        "      recommended_channels = genre_to_channels.get(genre, [])\n",
        "      recommended_serials = genre_to_serials.get(genre, [])\n",
        "\n",
        "      for channel in recommended_channels:\n",
        "          if channel not in associated_channels:\n",
        "              recommended_channel = channel\n",
        "              break\n",
        "\n",
        "      for serial in recommended_serials:\n",
        "          if serial not in associated_serials:\n",
        "              recommended_serial = serial\n",
        "              break\n",
        "\n",
        "      if recommended_channel and recommended_serial:\n",
        "          break\n",
        "\n",
        "\n",
        "    result = {\n",
        "        \"crmid\": crmid,\n",
        "        \"preferred_genre\": user_genre,\n",
        "        \"associated_channels\": associated_channels,\n",
        "        \"associated_serials\": associated_serials,\n",
        "    }\n",
        "\n",
        "    return result"
      ]
    },
    {
      "cell_type": "code",
      "execution_count": null,
      "metadata": {
        "colab": {
          "base_uri": "https://localhost:8080/"
        },
        "id": "nHdPUrge2pDm",
        "outputId": "2e67a5a9-2e7b-41f2-f4b7-aab6ca808608"
      },
      "outputs": [
        {
          "output_type": "stream",
          "name": "stdout",
          "text": [
            "Preferred Genre: News\n",
            "Associated Channels: ['News18Assam', 'AajTak']\n",
            "Associated Serials: ['News']\n"
          ]
        }
      ],
      "source": [
        "crmid_to_recommend = \"5280814033\"\n",
        "recommendations = get_recommendations_for_user(\n",
        "    crmid_to_recommend,\n",
        "    model,\n",
        "    user_indexer_model,\n",
        "    genre_indexer_model,\n",
        "    channel_indexer_model,\n",
        "    serial_indexer_model,\n",
        "    user_viewing_df,\n",
        "    genre_to_channels,\n",
        "    genre_to_serials\n",
        ")\n",
        "\n",
        "if \"error\" in recommendations:\n",
        "    print(\"Error:\", recommendations[\"error\"])\n",
        "else:\n",
        "    print(\"Preferred Genre:\", recommendations[\"preferred_genre\"])\n",
        "    print(\"Associated Channels:\", recommendations[\"associated_channels\"])\n",
        "    print(\"Associated Serials:\", recommendations[\"associated_serials\"])"
      ]
    },
    {
      "cell_type": "code",
      "source": [
        "crmid_to_recommend = \"9497383869\" D\n",
        "recommendations = get_recommendations_for_user(\n",
        "    crmid_to_recommend,\n",
        "    model,\n",
        "    user_indexer_model,\n",
        "    genre_indexer_model,\n",
        "    channel_indexer_model,\n",
        "    serial_indexer_model,\n",
        "    user_viewing_df,\n",
        "    genre_to_channels,\n",
        "    genre_to_serials\n",
        ")\n",
        "\n",
        "if \"error\" in recommendations:\n",
        "    print(\"Error:\", recommendations[\"error\"])\n",
        "else:\n",
        "    print(\"Preferred Genre:\", recommendations[\"preferred_genre\"])\n",
        "    print(\"Associated Channels:\", recommendations[\"associated_channels\"])\n",
        "    print(\"Associated Serials:\", recommendations[\"associated_serials\"])"
      ],
      "metadata": {
        "colab": {
          "base_uri": "https://localhost:8080/"
        },
        "id": "Z9U7kVxPfO8t",
        "outputId": "f84c092e-992d-445c-d3bb-d39afcabcec7"
      },
      "execution_count": null,
      "outputs": [
        {
          "output_type": "stream",
          "name": "stdout",
          "text": [
            "Preferred Genre: Drama\n",
            "Associated Channels: ['ZeeKannada', 'ZeeAnmol']\n",
            "Associated Serials: ['Pavitra Rishta', 'Mithai Kottu Chittemma']\n"
          ]
        }
      ]
    },
    {
      "cell_type": "code",
      "execution_count": null,
      "metadata": {
        "colab": {
          "base_uri": "https://localhost:8080/"
        },
        "id": "wD4cTPKcEKEp",
        "outputId": "5b8bc0fa-3be7-46d2-f856-92e5cc1b24f7"
      },
      "outputs": [
        {
          "output_type": "stream",
          "name": "stdout",
          "text": [
            "Preferred Genre: Drama\n",
            "Associated Channels: ['ZeeKannada', 'ZeeAnmol']\n",
            "Associated Serials: ['Pavitra Rishta', 'Mithai Kottu Chittemma']\n"
          ]
        }
      ],
      "source": [
        "crmid_to_recommend = \"8756205690\"\n",
        "recommendations = get_recommendations_for_user(\n",
        "    crmid_to_recommend,\n",
        "    model,\n",
        "    user_indexer_model,\n",
        "    genre_indexer_model,\n",
        "    channel_indexer_model,\n",
        "    serial_indexer_model,\n",
        "    user_viewing_df,\n",
        "    genre_to_channels,\n",
        "    genre_to_serials\n",
        ")\n",
        "\n",
        "\n",
        "if \"error\" in recommendations:\n",
        "    print(\"Error:\", recommendations[\"error\"])\n",
        "else:\n",
        "    print(\"Preferred Genre:\", recommendations[\"preferred_genre\"])\n",
        "    print(\"Associated Channels:\", recommendations[\"associated_channels\"])\n",
        "    print(\"Associated Serials:\", recommendations[\"associated_serials\"])"
      ]
    },
    {
      "cell_type": "code",
      "execution_count": null,
      "metadata": {
        "colab": {
          "base_uri": "https://localhost:8080/"
        },
        "id": "iGw0sDSzv-PG",
        "outputId": "1afdfacd-129f-4b44-d270-8a7c0e777132"
      },
      "outputs": [
        {
          "output_type": "stream",
          "name": "stdout",
          "text": [
            "root\n",
            " |-- user_index: integer (nullable = false)\n",
            " |-- recommendations: array (nullable = true)\n",
            " |    |-- element: struct (containsNull = true)\n",
            " |    |    |-- genre_index: integer (nullable = true)\n",
            " |    |    |-- rating: float (nullable = true)\n",
            "\n"
          ]
        }
      ],
      "source": [
        "user_recommendations.printSchema()\n"
      ]
    }
  ],
  "metadata": {
    "accelerator": "GPU",
    "colab": {
      "gpuType": "T4",
      "provenance": []
    },
    "kernelspec": {
      "display_name": "Python 3",
      "name": "python3"
    },
    "language_info": {
      "name": "python"
    }
  },
  "nbformat": 4,
  "nbformat_minor": 0
}